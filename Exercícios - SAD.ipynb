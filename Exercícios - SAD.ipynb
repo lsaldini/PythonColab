{
 "cells": [
  {
   "cell_type": "markdown",
   "metadata": {},
   "source": [
    "<p style=\"font-size:2.5em;color:red;\"> Estruturas Condicionais </p>"
   ]
  },
  {
   "cell_type": "markdown",
   "metadata": {},
   "source": [
    "# Exercício 1\n",
    "\n",
    "Faça um programa que faça 5 perguntas para uma pessoa sobre um crime. As perguntas são:\n",
    "\n",
    "    a. \"Telefonou para a vítima?\"\n",
    "    b. \"Esteve no local do crime?\"\n",
    "    c. \"Mora perto da vítima?\"\n",
    "    d. \"Devia para a vítima?\"\n",
    "    e. \"Já trabalhou com a vítima?\"\n",
    "    \n",
    "O programa deve no final emitir uma classificação sobre a participação da pessoa no crime. Se a pessoa responder positivamente a 2 questões ela deve ser classificada como \"Suspeita\", entre 3 e 4 como \"Cúmplice\" e 5 como \"Assassino\". Caso contrário, ele será classificado como \"Inocente\"."
   ]
  },
  {
   "cell_type": "code",
   "execution_count": null,
   "metadata": {},
   "outputs": [],
   "source": [
    "print('Para todas as perguntas a seguir, responda sim ou não\\n=======================================================')\n",
    "\n",
    "lista_perguntas = [input(\"Telefonou para a vítima? \").upper(),input(\"Esteve no local do crime? \").upper(),\n",
    "                   input(\"Esteve no local do crime?\").upper(),input(\"Devia para a vítima? \").upper(),\n",
    "                   input(\"Já trabalhou com a vítima? \").upper()]\n",
    "print('\\n=======================================================')\n",
    "\n",
    "cont_sim = 0\n",
    "for item in lista_perguntas:\n",
    "    if item == 'SIM':\n",
    "        cont_sim += 1\n",
    "\n",
    "\n",
    "# Printando as respostas\n",
    "if cont_sim == 2:\n",
    "    print('Pessoa suspeita!')\n",
    "elif (cont_sim == 2) or (cont_sim == 3):\n",
    "    print('Possível cúmplice!')\n",
    "elif cont_sim == 5:\n",
    "    print('Pessoa culpada!')\n",
    "else:\n",
    "    print('Inocente')"
   ]
  },
  {
   "cell_type": "markdown",
   "metadata": {},
   "source": [
    "# Exercício 2\n",
    "\n",
    "Um posto está vendendo combustíveis com a seguinte tabela de descontos:\n",
    "\n",
    "    a. Álcool:\n",
    "        1. até 20 litros, desconto de 3% por litro\n",
    "        2. acima de 20 litros, desconto de 5% por litro\n",
    "    b. Gasolina:\n",
    "        1. até 20 litros, desconto de 4% por litro\n",
    "        2. acima de 20 litros, desconto de 6% por litro \n",
    "        \n",
    "Escreva um algoritmo que leia o número de litros vendidos, o tipo de combustível (codificado da seguinte forma: A-álcool, G-gasolina), calcule e imprima o valor a ser pago pelo cliente sabendo-se que o preço do litro da gasolina é 2.50 o preço do litro do álcool é 1.90."
   ]
  },
  {
   "cell_type": "markdown",
   "metadata": {},
   "source": [
    "## Passo a passo da solução\n",
    "\n",
    "Passo 1: Entender o problema e como a gente pode organizar ele lógicamente\n",
    "\n",
    "Observação: Programação é lidar com dados, sejam eles do tipo que forem. Portanto, conhecer os tipos de dados é extremamente importante. Se você conhecer bem os tipos de dados:\n",
    "     - Sabe o que pode e o que não pode fazer com cada um deles\n",
    "     - Tem conhecimento sobre as funções atreladas a cada um, ou seja, você tem funções pré-prontas que te permitem pegar informações sobre esses dados ou até mesmo alterar levando em conta alguma característica específica\n",
    "\n",
    "Em qualquer problema a gente tem que começar pensando no objetivo final dele, no nosso caso aqui seria calcular o valor final de uma compra de combustível com base em duas informações:\n",
    "    1. Tipo de combustível\n",
    "    2. Quantidade de litros a serem abastecidos\n",
    "\n",
    "Além disso, no enunciado fala que o cálculo do valor final depende da quantidade de litros abastecidos pois existe um desconto de acordo com a quantidade de litros. Então quando a gente tem condições assim já nos indica que temos que usar uma estrutura condicional no nosso problema.\n",
    "\n",
    "Passo 2: Começar a montara solução com o que a gente já pensou a priori. Começando pelas informações que a gente vai precisar para solucionar o problema. Temos que fornecer as informações necessárias para o problema (tipos de combustíveis, descontos, quantidades de litros). Como esses dados vão ser forneceidos? input? vou ter que guardar em alguma variável?\n",
    "    2.1.1: Dados fixos: porcentagens de descontos e valor dos combustíveis (salvar em variáveis apropriadas)\n",
    "    2.1.2: Dados que variam: quantidade de litros e tipo de combustivel a ser abastecido (seria um input de usuário no problema)\n",
    "\n",
    "Passo 3: Com as informações necessárias em mãos e armazenadas em variáveis que podemos utilizar livremente vamos contruir a lógica de soluçção do problema:\n",
    "    3.1: sabemos que temos duas condições atreladas ao problema:\n",
    "        - desconto por quantidade de litros\n",
    "        - desconto por tipo de combustivel\n",
    "    3.2: essas duas condições estão atreladas\n",
    "    3.3: vamos escolher uma para começar (vou escolher tipo de combustível)\n",
    "    3.4: usamos uma condição pois é questão de escolha entre uma opção ou outra\n",
    "    3.5: dentro de cada condição temos um novo teste de condição (agora em relação a  quantidade de litros a ser abastecido)\n",
    "\n",
    "Passo 4: testar o código para verificar se está funcionando como o desejado (no jupyter temos a vantagem de poder ir testando ao longo da criação o que facilita o seu entendimento e aprendizado)\n"
   ]
  },
  {
   "cell_type": "code",
   "execution_count": null,
   "metadata": {},
   "outputs": [],
   "source": [
    "# Variáveis fixas - não mudam independente do cliente que chegue no posto)\n",
    "preco_litro_g = 2.5\n",
    "preco_litro_a = 1.9\n",
    "desconto_g_until_20 = 4/100\n",
    "desconto_g_after_20 = 5/100\n",
    "desconto_a_until_20 = 3/100\n",
    "desconto_a_after_20 = 5/100\n",
    "\n",
    "# Variáveis que mudam para cada cliente novo\n",
    "tipo_de_combustivel = input('Qual o tipo de combustivel? Digite A para Alcool ou G para gasolina: ')\n",
    "quant_litros = int(input('Quantos litros de combustível: '))\n",
    "\n",
    "# Usamos o input e para dados numéricos alteramos o tipo da variável para uma variável numérica\n",
    "# Quando usamos if e else. No if testamos uma condição se ela não for Verdadeira lógicamente será falsa então n~~ao é necessário testar condições no else\n",
    "\n",
    "# outras formas que poderiamos escrever a lógica desse primeiro if\n",
    "# if tipo_de_combustivel in ['A','a']:\n",
    "#if tipo_de_combustivel.upper() == 'A':\n",
    "\n",
    "if tipo_de_combustivel == 'A' or tipo_de_combustivel == 'a': # verifica se o tipo de combustível escolhido pelo cliente é alcool\n",
    "    # Se o código passa por esse if, ou seja considera a condição verdadeira, temos um novo teste de condição relacionado a quantidade de litros agora\n",
    "    if quant_litros <= 20: #verifica se a quantidade de litros fornecida pelo cliente é menor ou igual a 20\n",
    "        preco = preco_litro_a*(1-desconto_a_until_20)*quant_litros\n",
    "    else: # a condição cai no else se a quantidade de litros for maior que 20\n",
    "        preco = preco_litro_a*(1-desconto_a_after_20)*quant_litros\n",
    "\n",
    "else: #Nesse caso estamos considerando o primeiro teste de condição que fizemos sobre o tipo de combustível. Acima testamos se o tipo fornecido pelo usuário era alcool, se cail no else então significa que não foi alcool e sim gasolina\n",
    "    # Mias uma vez temos que testar em relação a quantidade de litros\n",
    "    if quant_litros <= 20: #verifica se a quantidade de litros fornecida pelo cliente é menor ou igual a 20\n",
    "        preco = preco_litro_g*(1-desconto_g_until_20)*quant_litros\n",
    "    else: # a condição cai no else se a quantidade de litros for maior que 20\n",
    "        preco = preco_litro_g*(1-desconto_g_after_20)*quant_litros\n",
    "\n",
    "print(f'O preço a ser pago pelo cliente é: R${round(preco,2)}')        \n"
   ]
  },
  {
   "cell_type": "markdown",
   "metadata": {},
   "source": [
    "# Exercício 3\n",
    "\n",
    "Faça um programa que calcule as raízes de uma equação do segundo grau, na forma ax2 + bx + c. O programa deverá pedir os valores de a, b e c e fazer as consistências, informando ao usuário nas seguintes situações:\n",
    "\n",
    "\n",
    "Formula de Bhaskara:  $x =\\frac{-b\\mp\\sqrt{\\Delta}}{2a}$\n",
    "\n",
    "\n",
    "$\\Delta = b^2-4ac$\n",
    "\n",
    "    a. Se o usuário informar o valor de A igual a zero, a equação não é do segundo grau e o programa não deve fazer pedir os demais valores, sendo encerrado;\n",
    "    b. Se o delta calculado for negativo, a equação não possui raizes reais. Informe ao usuário e encerre o programa;\n",
    "    c. Se o delta calculado for igual a zero a equação possui apenas uma raiz real; informe-a ao usuário;\n",
    "    d. Se o delta for positivo, a equação possui duas raiz reais; informe-as ao usuário;"
   ]
  },
  {
   "cell_type": "code",
   "execution_count": null,
   "metadata": {},
   "outputs": [],
   "source": [
    "import math\n",
    "a = float(input('Qual o valor de a da equação de segundo grau? '))\n",
    "\n",
    "if a == 0:\n",
    "    print('Valor inválido!')\n",
    "\n",
    "else:    \n",
    "    b = float(input('Qual o valor de b da equação de segundo grau? '))\n",
    "    c = float(input('Qual o valor de c da equação de segundo grau? '))\n",
    "    delta = ((b**2)-(4*a*c))\n",
    "    \n",
    "    \n",
    "    if delta < 0:\n",
    "        print('\\nA equação não possui raizes reais!')\n",
    "    elif delta == 0:\n",
    "        x = -b/(2*a)\n",
    "        print('A equação possui uma rai real igual a ',x)\n",
    "    else:\n",
    "        print('A equação possui duas raizes reais!')\n",
    "        print('x_1 = ',(-b+math.sqrt(delta))/(2*a))\n",
    "        print('x_2 = ',(-b-math.sqrt(delta))/(2*a))\n",
    "    "
   ]
  },
  {
   "cell_type": "markdown",
   "metadata": {},
   "source": [
    "<p style=\"font-size:2.5em;color:red;\"> Estruturas de Repetição </p>"
   ]
  },
  {
   "cell_type": "markdown",
   "metadata": {},
   "source": [
    "# Exercício 1\n",
    "\n",
    "Faça um programa que imprima na tela os números de 1 a 20, um abaixo do outro. Depois modifique o programa para que ele mostre os números um ao lado do outro.\n",
    "\n",
    "### Parte 1"
   ]
  },
  {
   "cell_type": "code",
   "execution_count": null,
   "metadata": {},
   "outputs": [],
   "source": [
    "for i in list(range(1,21)):\n",
    "    print (i)"
   ]
  },
  {
   "cell_type": "markdown",
   "metadata": {},
   "source": [
    "### Parte 2"
   ]
  },
  {
   "cell_type": "code",
   "execution_count": null,
   "metadata": {},
   "outputs": [],
   "source": [
    "# Criando uma string\n",
    "final = ''\n",
    "for i in list(range(1,21)):\n",
    "    final += (f'{i} ')\n",
    "print(final)  "
   ]
  },
  {
   "cell_type": "markdown",
   "metadata": {},
   "source": [
    "#### Variação (Parte 2)"
   ]
  },
  {
   "cell_type": "code",
   "execution_count": null,
   "metadata": {},
   "outputs": [],
   "source": [
    "# usando o print mudando o parâmetro end\n",
    "for i in list(range(1,21)):\n",
    "    print(i,end=' ')"
   ]
  },
  {
   "cell_type": "markdown",
   "metadata": {},
   "source": [
    "# Exercício 2\n",
    "\n",
    "Faça um programa que imprima na tela apenas os números ímpares entre 1 e um valor n informado pelo usuário."
   ]
  },
  {
   "cell_type": "code",
   "execution_count": null,
   "metadata": {},
   "outputs": [],
   "source": [
    "n = int(input(\"Entre com um numero inteiro? \"))\n",
    "\n",
    "for num in range(1,n+1):\n",
    "    if num%2==1:\n",
    "        print(num)"
   ]
  },
  {
   "cell_type": "markdown",
   "metadata": {},
   "source": [
    "# Exercício 3\n",
    "\n",
    "Faça um programa que receba dois números quaisquer (inteiros ou reais) e imprima na tela os números inteiros que estão no intervalo compreendido por eles."
   ]
  },
  {
   "cell_type": "code",
   "execution_count": null,
   "metadata": {},
   "outputs": [],
   "source": [
    "num_1 = float(input('Informe o número inicial: '))\n",
    "num_2 = float(input('Informe o número final: '))\n",
    "\n",
    "# Aqui eu vou transformar o float em inteiro e verificar se o número é ou não igual,\n",
    "# se for igual significa que não tem a possibilidade de existir um número inteiro entre eles \n",
    "# Exemplo num_1=3.2 | num_2=3.7 (não existe nenhum numero inteiro entre eles e \n",
    "# se a gente faz int(num_1)==int(num_2) vai ser igual a True)\n",
    "\n",
    "if int(num_1) == int(num_2): \n",
    "    print('Os números informados são iguais ou não tem nenhum número inteiro entre eles!')\n",
    "# Só vamos continuar se tiver numeros inteiros entre os dois valores então \n",
    "# todo o resto vai ser dentro o else\n",
    "else:\n",
    "\n",
    "  # Aqui vou testar qual é o maior número e qual o menor!\n",
    "    if num_1 > num_2:\n",
    "        inicio = num_2\n",
    "        fim = num_1\n",
    "    else:\n",
    "        inicio = num_1\n",
    "        fim = num_2\n",
    "\n",
    "  # Aqui a gente veririfica se o valor final tem casas decimais, se tiver \n",
    "  # significa que o valor inteiro desse número também tem que está na solução \n",
    "  # faço a divisão do numero por seu valor inteiro (se forem iguais vai ser igual a 1)\n",
    "    if (fim/int(fim)) != 1.0:\n",
    "        fim += 1\n",
    "\n",
    "# nesse caso acho mais fácil usar o for  com o range(i,f). \n",
    "# O range cria uma sequencia de valores inteiros que vai de i até f-1.\n",
    "    for num in range(int(inicio)+1,int(fim)):\n",
    "        print(num)\n"
   ]
  },
  {
   "cell_type": "markdown",
   "metadata": {},
   "source": [
    "# Exercício 4\n",
    "\n",
    "Igual ao exercício 1."
   ]
  },
  {
   "cell_type": "markdown",
   "metadata": {},
   "source": [
    "# Exercício 5\n",
    "\n",
    "Faça um programa que leia uma quantidade indeterminada de números positivos e conte quantos deles estão nos seguintes intervalos: [0-25], [26-50], [51-75] e [76-100]. A entrada de dados deverá terminar quando for lido um número negativo."
   ]
  },
  {
   "cell_type": "code",
   "execution_count": null,
   "metadata": {},
   "outputs": [],
   "source": [
    "a = 0\n",
    "b = 0\n",
    "c = 0\n",
    "d = 0\n",
    "num = 0\n",
    "while num >= 0 :\n",
    "    num = float(input(\"Digite um número: \"))\n",
    "    if num < 0: \n",
    "        break\n",
    "    if num>=0 and num<=25:\n",
    "        a = a + 1\n",
    "    if num>=25 and num<=50:\n",
    "        b = b + 1\n",
    "    if num>50 and num<=75:\n",
    "        c = c + 1\n",
    "    if num>=75 and num<=100:\n",
    "        d = d + 1\n",
    "print (\"\\n\")\n",
    "print(f\"Haviam {d} números no intervalo [0,25]\")\n",
    "print(f\"Haviam {d} números no intervalo [25,50]\")\n",
    "print(f\"Haviam {d} números no intervalo [50,75]\")\n",
    "print(f\"Haviam {d} números no intervalo [75,100]\")"
   ]
  },
  {
   "cell_type": "markdown",
   "metadata": {},
   "source": [
    "### Variação (utilizando a biblioteca numpy)"
   ]
  },
  {
   "cell_type": "code",
   "execution_count": null,
   "metadata": {},
   "outputs": [],
   "source": [
    "import numpy as np\n",
    "\n",
    "num = 0\n",
    "lista_valores = []\n",
    "while num >= 0 :\n",
    "    num = float(input(\"Digite um número: \"))\n",
    "    lista_valores.append(num)\n",
    "    \n",
    "lista_valores = np.array(lista_valores)\n",
    "\n",
    "print (\"\\n\")\n",
    "print(f\"Haviam {lista_valores[lista_valores<=25].shape[0]} números no intervalo [0,25]\")\n",
    "print(f\"Haviam {lista_valores[lista_valores<=50].shape[0] - lista_valores[lista_valores<=25].shape[0]} números no intervalo [25,50]\")\n",
    "print(f\"Haviam {lista_valores[lista_valores<=75].shape[0] - lista_valores[lista_valores<=50].shape[0]} números no intervalo [50,75]\")\n",
    "print(f\"Haviam {lista_valores[lista_valores<=100].shape[0] - lista_valores[lista_valores<=75].shape[0]} números no intervalo [50,75]\")\n",
    "print(f\"Haviam {lista_valores[lista_valores>100].shape[0]} números no intervalo [75,100]\")\n"
   ]
  },
  {
   "cell_type": "markdown",
   "metadata": {},
   "source": [
    "Desenvolver um programa para verificar a nota do aluno em uma prova com 10 questões, o programa deve perguntar ao aluno a resposta de cada questão e ao final comparar com o gabarito da prova e assim calcular o total de acertos e a nota (atribuir 1 ponto por resposta certa). Após cada aluno utilizar o sistema deve ser feita uma pergunta se outro aluno vai utilizar o sistema. Após todos os alunos terem respondido informar:\n",
    "\n",
    "    a. Maior e Menor Acerto;\n",
    "    b. Total de Alunos que utilizaram o sistema;\n",
    "    c. A Média das Notas da Turma.\n",
    "\n",
    " - **Exemplo de gabarito**\n",
    " \n",
    "|Questão|Gabarito|\n",
    "|-------|--------|\n",
    "|01|D|\n",
    "|02|B|\n",
    "|03|A|\n",
    "|04|C|\n",
    "|05|E|\n",
    "|06|A|\n",
    "|07|B|\n",
    "|08|D|\n",
    "|09|C|\n",
    "|10|E|"
   ]
  },
  {
   "cell_type": "markdown",
   "metadata": {},
   "source": [
    "### 1ª alternativa"
   ]
  },
  {
   "cell_type": "code",
   "execution_count": null,
   "metadata": {},
   "outputs": [],
   "source": [
    "aluno = 1\n",
    "respostas = {}\n",
    "gabarito = ['D','B','A','C','E','A','B','D','C','E']\n",
    "respostasValidas = ['A','B','C','D','E']\n",
    "\n",
    "while (True):\n",
    "    questoes = []\n",
    "    for i in range(1,11):\n",
    "        questao = input(str(i) + ') Informe a alternativa correta? (A, B, C, D ou E)')\n",
    "        while (questao.upper() not in respostasValidas):\n",
    "            questao = input(str(i) + ') Resposta inválida. Informe a alternativa correta? (A, B, C, D ou E)')\n",
    "        questoes.append(questao.upper()) \n",
    "    respostas[aluno] = questoes\n",
    "\n",
    "    novoaluno = input('Novo aluno deseja responder a prova? ')\n",
    "    if novoaluno.upper() == 'SIM':\n",
    "        aluno += 1\n",
    "    else:\n",
    "        break\n",
    "\n",
    "\n",
    "resultado = []\n",
    "for aluno, questions in respostas.items():\n",
    "    resultado.append(sum([1 for resp_aluno, resp_gab in zip(questions,gabarito) if resp_aluno == resp_gab]))\n",
    "\n",
    "# Alternativa 1 \n",
    "resultado = []\n",
    "for aluno, questions in respostas.items():\n",
    "    acertos = 0\n",
    "    for resp_aluno, resp_gab in zip(questions,gabarito):\n",
    "        if resp_aluno == resp_gab:\n",
    "            acertos += 1\n",
    "    resultado.append(acertos)\n",
    "    \n",
    "\n",
    "print(f'Maior nota: {max(resultado)}')\n",
    "print(f'Menor nota: {min(resultado)}')\n",
    "print(f'Total de Alunos que utilizaram o sistema: {len(respostas)}')\n",
    "print(f'A Média das Notas da Turma: {sum(resultado)/len(respostas)}')"
   ]
  },
  {
   "cell_type": "markdown",
   "metadata": {},
   "source": [
    "### 2ª alternativa"
   ]
  },
  {
   "cell_type": "code",
   "execution_count": null,
   "metadata": {},
   "outputs": [],
   "source": [
    "aluno = 1\n",
    "respostas = {}\n",
    "gabarito = ['D','B','A','C','E','A','B','D','C','E']\n",
    "respostasValidas = ['A','B','C','D','E']\n",
    "\n",
    "while (True):\n",
    "    questoes = []\n",
    "    for i in range(1,11):\n",
    "        questao = input(str(i) + ') Informe a alternativa correta? (A, B, C, D ou E)')\n",
    "        while (questao.upper() not in respostasValidas):\n",
    "            questao = input(str(i) + ') Resposta inválida. Informe a alternativa correta? (A, B, C, D ou E)')\n",
    "        questoes.append(questao.upper()) \n",
    "    respostas[aluno] = questoes\n",
    "\n",
    "    novoaluno = input('Novo aluno deseja responder a prova? ')\n",
    "    if novoaluno.upper() == 'SIM':\n",
    "        aluno += 1\n",
    "    else:\n",
    "        break\n",
    "\n",
    "\n",
    "resultado = []\n",
    "for aluno, questions in respostas.items():\n",
    "    resultado.append(sum([1 for resp_aluno, resp_gab in zip(questions,gabarito) if resp_aluno == resp_gab]))\n",
    "    \n",
    "# Alternativa 2 - usando list compression\n",
    "resultado = []\n",
    "for aluno, questions in respostas.items():\n",
    "    resultado.append(sum([1 for resp_aluno, resp_gab in zip(questions,gabarito) if resp_aluno == resp_gab])\n",
    "    \n",
    "print(f'Maior nota: {max(resultado)}')\n",
    "print(f'Menor nota: {min(resultado)}')\n",
    "print(f'Total de Alunos que utilizaram o sistema: {len(respostas)}')\n",
    "print(f'A Média das Notas da Turma: {sum(resultado)/len(respostas)}')"
   ]
  }
 ],
 "metadata": {
  "kernelspec": {
   "display_name": "Python 3",
   "language": "python",
   "name": "python3"
  },
  "language_info": {
   "codemirror_mode": {
    "name": "ipython",
    "version": 3
   },
   "file_extension": ".py",
   "mimetype": "text/x-python",
   "name": "python",
   "nbconvert_exporter": "python",
   "pygments_lexer": "ipython3",
   "version": "3.7.0"
  }
 },
 "nbformat": 4,
 "nbformat_minor": 2
}
