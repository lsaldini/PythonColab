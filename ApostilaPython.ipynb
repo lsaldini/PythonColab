{
  "nbformat": 4,
  "nbformat_minor": 0,
  "metadata": {
    "kernelspec": {
      "display_name": "Python 3",
      "language": "python",
      "name": "python3"
    },
    "language_info": {
      "codemirror_mode": {
        "name": "ipython",
        "version": 3
      },
      "file_extension": ".py",
      "mimetype": "text/x-python",
      "name": "python",
      "nbconvert_exporter": "python",
      "pygments_lexer": "ipython3",
      "version": "3.7.6"
    },
    "toc": {
      "base_numbering": 1,
      "nav_menu": {},
      "number_sections": true,
      "sideBar": true,
      "skip_h1_title": false,
      "title_cell": "Table of Contents",
      "title_sidebar": "Contents",
      "toc_cell": false,
      "toc_position": {},
      "toc_section_display": true,
      "toc_window_display": true
    },
    "colab": {
      "name": "ApostilaPython.ipynb",
      "provenance": [],
      "collapsed_sections": [
        "a-tczivsxThQ",
        "ZfwHcN6h0n-s",
        "BH1YSTolxThW",
        "6xNnfbhnxTh6",
        "1Lu-0i8MxTh8",
        "-aHXpQw7xTh8",
        "6SIRFRlpxTh_",
        "NEZIAPE7xTiA",
        "FDyFSGQZxTiA",
        "NL8jjVuxxTiE",
        "WFOddRjmxTiE",
        "sM_ISeXJxTiF",
        "Hvd9hynMxTiG",
        "UW2GpSuMxTiG",
        "ur3VqCgoxTiH",
        "xxO2UsQ43yJq",
        "-a50MjkE3yJq",
        "WkipT7lV3yJr",
        "mic76RXc3yJr"
      ],
      "toc_visible": true
    }
  },
  "cells": [
    {
      "cell_type": "markdown",
      "metadata": {
        "id": "eKcBIH3-xThG"
      },
      "source": [
        "# Revisão do que vimos até agora nas aulas de Python"
      ]
    },
    {
      "cell_type": "markdown",
      "metadata": {
        "id": "VZKOLmJtxThJ"
      },
      "source": [
        "## Montagem do Drive no Google Colaboratory"
      ]
    },
    {
      "cell_type": "markdown",
      "metadata": {
        "id": "RfekTiChxThK"
      },
      "source": [
        "Ao escrevermos o código no *Google Colaboratory*, temos a grande vantagem de não precisamos instalar o Python no nosso computador pessoal, pois programamos tudo no servidor do próprio Google. Contudo, para que isso seja possível, é necessário que nossa internet seja estável. "
      ]
    },
    {
      "cell_type": "markdown",
      "metadata": {
        "id": "n43StqKwxThK"
      },
      "source": [
        "Quando começamos a usar o *Google Colaboratory*, precisamos fazer o login na nossa conta Google e, automaticamente, uma pasta de nome **Colab Notebooks** aparece no nosso Google Drive. \n",
        "\n",
        "Para facilitar a nossa vida, podemos deixar armazenado nessa pasta todos os códigos que programamos no *Google Colaboratory*. Além do notebook em si, muitas vezes precisamos salvar uma figura ou outro formato de arquivo, como csv, por exemplo. "
      ]
    },
    {
      "cell_type": "markdown",
      "metadata": {
        "id": "aDIYYdxZxThL"
      },
      "source": [
        "Para que você consiga acessar ou salvar qualquer tipo de arquivo na pasta **Colab Notebooks**, você precisa **antes** fazer a montagem do drive. Com esse procedimento, você consegue acessar a sua pasta **Colab Notebooks** pelo notebook que você está programando dentro do *Google Colaboratory*. "
      ]
    },
    {
      "cell_type": "markdown",
      "metadata": {
        "id": "30XwhID6xThL"
      },
      "source": [
        "Vamos ver agora como se faz esse procedimento."
      ]
    },
    {
      "cell_type": "markdown",
      "metadata": {
        "id": "2tqokLR9xThM"
      },
      "source": [
        "**1. Fazer a importação da biblioteca google.colab.**"
      ]
    },
    {
      "cell_type": "code",
      "metadata": {
        "id": "jAldxA3nxThM"
      },
      "source": [
        "from google.colab import drive "
      ],
      "execution_count": null,
      "outputs": []
    },
    {
      "cell_type": "markdown",
      "metadata": {
        "id": "ly3TkLN-xThN"
      },
      "source": [
        "Se você estiver rodando o notebook no Jupyter Notebook, pule essa seção, pois resultará em erro ao rodar a célula acima. \n",
        "\n",
        "Repare que o código da importação está um pouco diferente do código que escrevemos para importar as bibliotecas em aula. Geralmente fazemos:\n",
        "- import *nome_da_biblioteca* as *abreviação_da_biblioteca*\n",
        "\n",
        "O que houve agora é que não queremos importar todo o conteúdo da biblioteca *google.colab*, mas apenas a função *drive* que está contida dentro dessa biblioteca, por isso o código foi escrito como:\n",
        "- from *nome_da_biblioteca* import *funcao_da_biblioteca*"
      ]
    },
    {
      "cell_type": "markdown",
      "metadata": {
        "id": "xf4Cf9jYxThN"
      },
      "source": [
        "**2. Solicitar a montagem do drive.**"
      ]
    },
    {
      "cell_type": "code",
      "metadata": {
        "id": "goNsWGjwxThO"
      },
      "source": [
        "drive.mount('/content/drive')"
      ],
      "execution_count": null,
      "outputs": []
    },
    {
      "cell_type": "markdown",
      "metadata": {
        "id": "LFu48KXJxThO"
      },
      "source": [
        "Ao rodar a célula acima, irá aparecer a mensagem para você acessar um link, você deve clicar no link e será redirecionado para outra aba do seu navegador. \n",
        "\n",
        "Nesse momento, possivelmente você precisará confirmar o seu login do Google a autorizar o Google a acessar o seu drive. Ao fazer isso, um código aparecerá para você copiar, você o copia clicando no \"quadradinho\" que aparece ao lado do código. \n",
        "\n",
        "Como último passo, você retorna a sua aba principal e cola esse código no espaço em branco que apareceu para você e aperte o ENTER do teclado. Pronto, a montagem do seu Drive será iniciada e você precisa aguardar. "
      ]
    },
    {
      "cell_type": "markdown",
      "metadata": {
        "id": "tJVnmVOoxThO"
      },
      "source": [
        "**3. Direcionar o Google Colaboratory para a sua pasta Colab Notebooks.**"
      ]
    },
    {
      "cell_type": "code",
      "metadata": {
        "id": "Dq7nTMd9xThP"
      },
      "source": [
        "import os"
      ],
      "execution_count": null,
      "outputs": []
    },
    {
      "cell_type": "code",
      "metadata": {
        "id": "Cnby1FO6xThP"
      },
      "source": [
        "os.chdir('drive/MyDrive/Colab Notebooks')"
      ],
      "execution_count": null,
      "outputs": []
    },
    {
      "cell_type": "code",
      "metadata": {
        "id": "eRUysy2PLmJj"
      },
      "source": [
        "!ls # serve para mostrar os arquivos da pasta atual"
      ],
      "execution_count": null,
      "outputs": []
    },
    {
      "cell_type": "markdown",
      "metadata": {
        "id": "aHR325pTxThP"
      },
      "source": [
        "Nesse momento, o *Google Colaboratory* já está com acesso ao seu Drive, porém ao salvar alguma figura no seu notebook, a figura será sala na raíz do seu Drive. Para uma melhor organização, sugerimos que você direcione o *Google Colaboratory* para acessar a pasta *Colab Notebooks*. \n",
        "\n",
        "Para fazer isso, primeiro, é necessário importar a biblioteca *os*. Essa biblioteca é utilizada para lidar com informações e manipulação de diretórios e arquivos. Para mais informações, sobre essa biblioteca, ver o link https://docs.python.org/3/library/os.html.\n",
        "\n",
        "Como passo seguinte, utilizamos a função *chdir* da biblioteca *os* e o endereço da pasta *Colab Notebooks*. \n",
        "\n",
        "A função *chdir* é empregada para mudar o diretório de trabalho atual para outro. Basicamente, você vai mudar a execução do código da raiz do seu drive para uma pasta específica facilitando o acesso a documentos e localização de informações como gráficos que vão ser gerados.\n",
        "\n",
        "E pronto! =) ! Agora, você já consegue salvar e abrir arquivos que estão armazenados dentro da pasta *Colab Notebooks* do seu Google Drive. "
      ]
    },
    {
      "cell_type": "markdown",
      "metadata": {
        "id": "g6OTtb2rxThQ"
      },
      "source": [
        "Para mais informações sobre o *Google Colaboratory* veja o artigo:\n",
        "- https://bit.ly/2TErYr5"
      ]
    },
    {
      "cell_type": "markdown",
      "metadata": {
        "id": "a-tczivsxThQ"
      },
      "source": [
        "## Testando velocidade de processamento com GPU e sem GPU"
      ]
    },
    {
      "cell_type": "markdown",
      "metadata": {
        "id": "A0At_86_xThQ"
      },
      "source": [
        "Uma outra grande vantagem ao usarmos o Google Colaboratory é que ele permite que possamos usar o recurso de GPU para executar o seu programa, o que faz com que seu programa seja executado de modo muito mais rápido do que se estivesse usando o modo default. Para ativar essa opção, você precisa seguir o caminho:\n",
        "\n",
        "- Edit > Notebook settings > Modifique a opção Hardware accelerator para GPU\n",
        "\n",
        "Vamos testar se isso mesmo é verdade?"
      ]
    },
    {
      "cell_type": "markdown",
      "metadata": {
        "id": "21GzdvUXxThQ"
      },
      "source": [
        "Para comparar a execução do código, vamos utilizar a biblioteca *time*. Essa biblioteca provê o tempo de execução de certa célula."
      ]
    },
    {
      "cell_type": "code",
      "metadata": {
        "id": "MghEflocxThQ"
      },
      "source": [
        "import time "
      ],
      "execution_count": null,
      "outputs": []
    },
    {
      "cell_type": "markdown",
      "metadata": {
        "id": "bpv8YnXjxThR"
      },
      "source": [
        "Para o teste, podemos usar um loop definido que vai de 0 até 1000. Para isso, vamos fazer uso do *for*. "
      ]
    },
    {
      "cell_type": "markdown",
      "metadata": {
        "id": "VzMBL6e0xThR"
      },
      "source": [
        "- Sem ativar o GPU:"
      ]
    },
    {
      "cell_type": "code",
      "metadata": {
        "id": "6r6KeUqdxThR",
        "scrolled": true
      },
      "source": [
        "nn = 1000\n",
        "start = time.time() # inicializar o tempo inicial a ser levado em consideracao\n",
        "j = 0\n",
        "for i in range(nn):\n",
        "    j = j + 1\n",
        "end = time.time() # marca o tempo final a ser contabilizado\n",
        "print(end - start) # aqui o print ira fornecer o tempo total executado da linha do start ate a linha do end"
      ],
      "execution_count": null,
      "outputs": []
    },
    {
      "cell_type": "markdown",
      "metadata": {
        "id": "sNDaLqySxThR"
      },
      "source": [
        "Na célula acima, primeio criamos a variável *nn* que recebe o valor de 1000. \n",
        "Na linha abaixo, criamos a variável *start* que irá armazenar o valor do tempo atual. Depois, a variável *j* foi declarada recebendo o valor 0. Finalmente, chegamos no loop definido com o *for* no qual tem o contador *i* que irá variar de 0 até *nn*. A cada iteração, o *j* é atualizado em 1 unidade pelo código: *j = j + 1*.\n",
        "\n",
        "Saindo do loop, ahhh como eu eu sei saímos do loop?\n",
        "\n",
        "Sabemos que esse loop tem apenas uma única linha, pois após a linha onde tem a atualização de *j* (*j=j+1*), a identação não existe mais, ou seja, a variável *end* é declarada no início da célula, alinhado com o *for*, não fazendo, então, parte do loop.  O *end* recebe o tempo atual e a contabilização do tempo é interrompida nesse momento. Por fim, o *print* irá imprimir para o usuário a duração total da execução do código desde a declaração do *start* até o *end*. "
      ]
    },
    {
      "cell_type": "markdown",
      "metadata": {
        "id": "04te-Os_xThS"
      },
      "source": [
        "Antes de ativar o GPU, vamos aumentar o *nn* para 100000000:"
      ]
    },
    {
      "cell_type": "code",
      "metadata": {
        "id": "JCDAzW_4xThS",
        "scrolled": true
      },
      "source": [
        "nn = 100000000\n",
        "start = time.time() # inicializar o tempo inicial a ser levado em consideracao\n",
        "j = 0\n",
        "for i in range(nn):\n",
        "    j = j + 1\n",
        "end = time.time() # marca o tempo final a ser contabilizado\n",
        "print(end - start) # aqui o print ira fornecer o tempo total executado da linha do start ate a linha do end"
      ],
      "execution_count": null,
      "outputs": []
    },
    {
      "cell_type": "markdown",
      "metadata": {
        "id": "DqT5UqzoxThS"
      },
      "source": [
        "- Com o GPU ativado (Edit > Notebook settings > Modifique a opção Hardware accelerator para GPU):"
      ]
    },
    {
      "cell_type": "code",
      "metadata": {
        "id": "xUVoTNYuxThT",
        "scrolled": true
      },
      "source": [
        "nn = 1000\n",
        "start = time.time() # inicializar o tempo inicial a ser levado em consideracao\n",
        "j = 0\n",
        "for i in range(nn):\n",
        "    j = j + 1\n",
        "end = time.time() # marca o tempo final a ser contabilizado\n",
        "print(end - start) # aqui o print ira fornecer o tempo total executado da linha do start ate a linha do end"
      ],
      "execution_count": null,
      "outputs": []
    },
    {
      "cell_type": "markdown",
      "metadata": {
        "id": "xn5HSOHMxThT"
      },
      "source": [
        "Antes de ativar o GPU, vamos aumentar o *nn* para 100000000:"
      ]
    },
    {
      "cell_type": "code",
      "metadata": {
        "id": "N_vhraDnxThT",
        "scrolled": true
      },
      "source": [
        "nn = 100000000\n",
        "start = time.time() # inicializar o tempo inicial a ser levado em consideracao\n",
        "j = 0\n",
        "for i in range(nn):\n",
        "    j = j + 1\n",
        "end = time.time() # marca o tempo final a ser contabilizado\n",
        "print(end - start) # aqui o print ira fornecer o tempo total executado da linha do start ate a linha do end"
      ],
      "execution_count": null,
      "outputs": []
    },
    {
      "cell_type": "markdown",
      "metadata": {
        "id": "ZfwHcN6h0n-s"
      },
      "source": [
        "## Observação\n",
        "\n",
        "- No exemplo abordado conseguimos averiguar o ganho em termo de tempo de execução de uma aplicação simples. Porém sendo um código simples o ganho de performance não é tão evidente. Esse ganho é muito expressivo quando temos problemas mais complexos, sobretudo no treinamento de redes neurais que envolvem muitas operações. Nesses casos o processamento paralelo de uma GPU supera em proporções muito extraordinárias um processamento em série de uma CPU. "
      ]
    },
    {
      "cell_type": "markdown",
      "metadata": {
        "id": "DzgmDLiWxThU"
      },
      "source": [
        "# Declaração de variáveis"
      ]
    },
    {
      "cell_type": "markdown",
      "metadata": {
        "id": "_DGL5cWtxThU"
      },
      "source": [
        "Em Python, assim como em toda linguagem de programação, a declaração de variáveis se faz:\n",
        "\n",
        "- var = valor ou conjunto de valores\n",
        "\n",
        "onde *var* é o nome da variável que o usuário escolheu. "
      ]
    },
    {
      "cell_type": "markdown",
      "metadata": {
        "id": "w6RyooN5xThU"
      },
      "source": [
        "**1. Na célula a seguir, criamos a variável com nome *a* que recebe o número 10.**"
      ]
    },
    {
      "cell_type": "code",
      "metadata": {
        "id": "RjRHN1lHxThV"
      },
      "source": [
        "a = 10"
      ],
      "execution_count": null,
      "outputs": []
    },
    {
      "cell_type": "code",
      "metadata": {
        "id": "9HXzf07RPyad"
      },
      "source": [
        "a"
      ],
      "execution_count": null,
      "outputs": []
    },
    {
      "cell_type": "markdown",
      "metadata": {
        "id": "ALMDe8C4xThV"
      },
      "source": [
        "Conseguimos saber que *a* é do tipo inteiro, pela função do Python *type*."
      ]
    },
    {
      "cell_type": "code",
      "metadata": {
        "id": "L6-fQtBAxThV"
      },
      "source": [
        "type(a)"
      ],
      "execution_count": null,
      "outputs": []
    },
    {
      "cell_type": "markdown",
      "metadata": {
        "id": "xtn9Aw5rxThV"
      },
      "source": [
        "**2. Crie, agora uma variável do tipo real, chamada *b*, que irá receber o valor 5.2.**"
      ]
    },
    {
      "cell_type": "code",
      "metadata": {
        "id": "YtsVRzyUxThV"
      },
      "source": [
        "b = 5.2"
      ],
      "execution_count": null,
      "outputs": []
    },
    {
      "cell_type": "markdown",
      "metadata": {
        "id": "JW9xy5_sxThW"
      },
      "source": [
        "**3. Confirme o tipo de *b*.**"
      ]
    },
    {
      "cell_type": "code",
      "metadata": {
        "id": "AejfgB14xThW"
      },
      "source": [
        "type(b),b"
      ],
      "execution_count": null,
      "outputs": []
    },
    {
      "cell_type": "markdown",
      "metadata": {
        "id": "BH1YSTolxThW"
      },
      "source": [
        "## Tipos de variáveis"
      ]
    },
    {
      "cell_type": "markdown",
      "metadata": {
        "id": "k0CX7HKMxThW"
      },
      "source": [
        "Com a Júlia, vocês foram apresentados aos diversos tipos que as variáveis em Python podem ser: \n",
        "- string --> *str*\n",
        "- inteiro --> *int*\n",
        "- real --> *float*\n",
        "- booleano --> *bool*\n",
        "- tupla --> *tuple*\n",
        "- lista --> *list*\n",
        "- vetor --> *array*\n",
        "- dicionário --> *dic*"
      ]
    },
    {
      "cell_type": "markdown",
      "metadata": {
        "id": "XW_YEBNGCxPr"
      },
      "source": [
        "Vamos, agora, criar uma variável chamada *a* e fazer *a* receber *'2'*, no qual  *'2'* é do tipo *string*:"
      ]
    },
    {
      "cell_type": "code",
      "metadata": {
        "id": "pmdyKadkQ8pv"
      },
      "source": [
        "a = '2'"
      ],
      "execution_count": null,
      "outputs": []
    },
    {
      "cell_type": "markdown",
      "metadata": {
        "id": "TtawqVNpCxPr"
      },
      "source": [
        "Ao multiplicar *a* por 2, obtemos como resultado uma string *'22'*, pois o Python não entende que essa é uma operação matemática, mas sim uma concatenação de strings. "
      ]
    },
    {
      "cell_type": "code",
      "metadata": {
        "id": "wtV4jC1xQ_md"
      },
      "source": [
        "a*2"
      ],
      "execution_count": null,
      "outputs": []
    },
    {
      "cell_type": "markdown",
      "metadata": {
        "id": "rkM9B0zhCxPr"
      },
      "source": [
        "Variáveis booleanas são, por exemplo, *False* e *True*."
      ]
    },
    {
      "cell_type": "code",
      "metadata": {
        "id": "BSxrQjLExThW"
      },
      "source": [
        "type(True)"
      ],
      "execution_count": null,
      "outputs": []
    },
    {
      "cell_type": "markdown",
      "metadata": {
        "id": "efk1TNaNxThW"
      },
      "source": [
        "As variáveis do tipo *string* são variáveis que contém caracteres alfa-numéricos. Toda variável *string* que contém números, ela aparece entre aspas quando você a imprime na tela. Por exemplo:"
      ]
    },
    {
      "cell_type": "code",
      "metadata": {
        "id": "D4QHU_9RxThX"
      },
      "source": [
        "var = '5'"
      ],
      "execution_count": null,
      "outputs": []
    },
    {
      "cell_type": "code",
      "metadata": {
        "id": "ZLsr79TbxThX"
      },
      "source": [
        "var"
      ],
      "execution_count": null,
      "outputs": []
    },
    {
      "cell_type": "code",
      "metadata": {
        "id": "UW9TCeWrxThX"
      },
      "source": [
        "type(var)"
      ],
      "execution_count": null,
      "outputs": []
    },
    {
      "cell_type": "markdown",
      "metadata": {
        "id": "j8XOwLasxThX"
      },
      "source": [
        "A variável *var* apesar de ser um número, ela é classificada como *string*. Como podemos fazer para convertê-la para uma variável do tipo *int*?"
      ]
    },
    {
      "cell_type": "code",
      "metadata": {
        "id": "4Eep7YUbxThX"
      },
      "source": [
        "var = int(var)"
      ],
      "execution_count": null,
      "outputs": []
    },
    {
      "cell_type": "code",
      "metadata": {
        "id": "mg7iVGHdRrxO"
      },
      "source": [
        "var,type(var)"
      ],
      "execution_count": null,
      "outputs": []
    },
    {
      "cell_type": "code",
      "metadata": {
        "id": "w4ZakNSPRv5M"
      },
      "source": [
        "var*4"
      ],
      "execution_count": null,
      "outputs": []
    },
    {
      "cell_type": "markdown",
      "metadata": {
        "id": "Ki8ooOj2xThY"
      },
      "source": [
        "Dica, para converter variáveis para inteiro, utiliza-se a função *int*. \n",
        "\n",
        "Já para converter variáveis para string, utiliza-se a função *str* e para converter para real, emprega-se a função *float*."
      ]
    },
    {
      "cell_type": "code",
      "metadata": {
        "id": "N6bS3I6SxThY"
      },
      "source": [
        "c = str(5)\n",
        "c, type(c)"
      ],
      "execution_count": null,
      "outputs": []
    },
    {
      "cell_type": "code",
      "metadata": {
        "id": "dupDfFlOxThY"
      },
      "source": [
        "nn = 4\n",
        "print(nn, type(nn))\n",
        "nn = float(nn)\n",
        "nn,type(nn)"
      ],
      "execution_count": null,
      "outputs": []
    },
    {
      "cell_type": "markdown",
      "metadata": {
        "id": "KkMM1yp3xThZ"
      },
      "source": [
        "Na célula acima, utilizei o comando *print*, pois se não tivesse usado o mesmo, só seria impresso na tela a última linha da célula. \n",
        "\n",
        "Faça o teste."
      ]
    },
    {
      "cell_type": "code",
      "metadata": {
        "id": "3rMN-TK5xThZ"
      },
      "source": [
        "nn = 4\n",
        "nn, type(nn)\n",
        "nn = float(nn)\n",
        "nn,type(nn)"
      ],
      "execution_count": null,
      "outputs": []
    },
    {
      "cell_type": "markdown",
      "metadata": {
        "id": "CD5tV_17xThZ"
      },
      "source": [
        "***"
      ]
    },
    {
      "cell_type": "markdown",
      "metadata": {
        "id": "BueUnUOHxTha"
      },
      "source": [
        "As listas são variáveis muito úteis em Python e que nos fornecem uma liberdade incrível, pois elas permitem que a gente armazene em uma única estrutura tipos diferentes de variáveis, vamos ver alguns exemplos. "
      ]
    },
    {
      "cell_type": "markdown",
      "metadata": {
        "id": "8U4hiMO6xTha"
      },
      "source": [
        "1. Lista de números inteiros"
      ]
    },
    {
      "cell_type": "code",
      "metadata": {
        "id": "EBMdI5kExTha"
      },
      "source": [
        "impares = [1,3,5,7,9,11,13,15,17,19,21]"
      ],
      "execution_count": null,
      "outputs": []
    },
    {
      "cell_type": "code",
      "metadata": {
        "id": "bw0rKJQRxThb"
      },
      "source": [
        "impares"
      ],
      "execution_count": null,
      "outputs": []
    },
    {
      "cell_type": "code",
      "metadata": {
        "id": "I4jeLTwdxThb"
      },
      "source": [
        "type(impares)"
      ],
      "execution_count": null,
      "outputs": []
    },
    {
      "cell_type": "markdown",
      "metadata": {
        "id": "b372UuFHxThb"
      },
      "source": [
        "1.1. Imprima o número 17 da lista impares."
      ]
    },
    {
      "cell_type": "code",
      "metadata": {
        "id": "b_IRdRc6xThb"
      },
      "source": [
        "impares[-3],impares[8], impares[impares.index(17)]"
      ],
      "execution_count": null,
      "outputs": []
    },
    {
      "cell_type": "code",
      "metadata": {
        "id": "C2_v8p8TTwS9"
      },
      "source": [
        "impares.index(17)"
      ],
      "execution_count": null,
      "outputs": []
    },
    {
      "cell_type": "markdown",
      "metadata": {
        "id": "EshZDYfSxThc"
      },
      "source": [
        "1.2. Imprima a posição do número 19 na lista impares."
      ]
    },
    {
      "cell_type": "code",
      "metadata": {
        "id": "u6LpJ2pDxThc"
      },
      "source": [
        "impares.index(19)"
      ],
      "execution_count": null,
      "outputs": []
    },
    {
      "cell_type": "markdown",
      "metadata": {
        "id": "PvtpsmxRxThc"
      },
      "source": [
        "2. Lista de strings"
      ]
    },
    {
      "cell_type": "code",
      "metadata": {
        "id": "eLg4I2k7xThc"
      },
      "source": [
        "frutas = ['maca','pera','banana','abacaxi','goiaba','melao']"
      ],
      "execution_count": null,
      "outputs": []
    },
    {
      "cell_type": "code",
      "metadata": {
        "id": "dWAdUqdqxThc"
      },
      "source": [
        "frutas"
      ],
      "execution_count": null,
      "outputs": []
    },
    {
      "cell_type": "code",
      "metadata": {
        "id": "nN2us_TWxThd",
        "scrolled": true
      },
      "source": [
        "type(frutas)"
      ],
      "execution_count": null,
      "outputs": []
    },
    {
      "cell_type": "markdown",
      "metadata": {
        "id": "5D9LqqJYxThd"
      },
      "source": [
        "2.1. Imprima os elementos 'pera' e 'banana' da lista."
      ]
    },
    {
      "cell_type": "code",
      "metadata": {
        "id": "kmg4zzH1xThd"
      },
      "source": [
        "frutas[1:3]"
      ],
      "execution_count": null,
      "outputs": []
    },
    {
      "cell_type": "code",
      "metadata": {
        "id": "gSRcaUCnUqHN"
      },
      "source": [
        "frutas[1:2]"
      ],
      "execution_count": null,
      "outputs": []
    },
    {
      "cell_type": "code",
      "metadata": {
        "id": "QgyOzADdU-vQ"
      },
      "source": [
        "print(f'{frutas[1]},{frutas[2]}')"
      ],
      "execution_count": null,
      "outputs": []
    },
    {
      "cell_type": "markdown",
      "metadata": {
        "id": "2ctpq8hdxThd"
      },
      "source": [
        "2.2. Imprima todos os elementos de frutas com exceção do primeiro."
      ]
    },
    {
      "cell_type": "code",
      "metadata": {
        "id": "hTRtAWsuVRSg"
      },
      "source": [
        "frutas"
      ],
      "execution_count": null,
      "outputs": []
    },
    {
      "cell_type": "code",
      "metadata": {
        "id": "zVnFBrTkxThd"
      },
      "source": [
        "frutas[1::],frutas[1:]"
      ],
      "execution_count": null,
      "outputs": []
    },
    {
      "cell_type": "markdown",
      "metadata": {
        "id": "49CLPe9LxThd"
      },
      "source": [
        "2.3. Imprima todos os elementos de frutas com exceção do primeiro e do último."
      ]
    },
    {
      "cell_type": "code",
      "metadata": {
        "id": "UByk_G9SxThe"
      },
      "source": [
        "frutas[1:-1],frutas[1:5], frutas[1:len(frutas)-1]"
      ],
      "execution_count": null,
      "outputs": []
    },
    {
      "cell_type": "markdown",
      "metadata": {
        "id": "iARd47TLxThe"
      },
      "source": [
        "3. Tudo misturado..."
      ]
    },
    {
      "cell_type": "code",
      "metadata": {
        "id": "pYeG5nnsxThe"
      },
      "source": [
        "mistura = [1,2,'Python',[3.4,5,'a'],True]"
      ],
      "execution_count": null,
      "outputs": []
    },
    {
      "cell_type": "code",
      "metadata": {
        "id": "U4PK273AxThf"
      },
      "source": [
        "mistura"
      ],
      "execution_count": null,
      "outputs": []
    },
    {
      "cell_type": "markdown",
      "metadata": {
        "id": "Iw4qtJaUxThf"
      },
      "source": [
        "3.1. Imprima o elemento 'a' de mistura"
      ]
    },
    {
      "cell_type": "code",
      "metadata": {
        "id": "lZW2NtA8xThf"
      },
      "source": [
        "mistura[3][2], mistura[3][-1],mistura[-2][2],mistura[-2][-1]"
      ],
      "execution_count": null,
      "outputs": []
    },
    {
      "cell_type": "code",
      "metadata": {
        "id": "YpZBSPrUW7eP"
      },
      "source": [
        "mistura[2][1]"
      ],
      "execution_count": null,
      "outputs": []
    },
    {
      "cell_type": "markdown",
      "metadata": {
        "id": "jElyV9BoxThf"
      },
      "source": [
        "3.2. Troque *True* por *False* em mistura."
      ]
    },
    {
      "cell_type": "code",
      "metadata": {
        "id": "3bOkDoV0xThg"
      },
      "source": [
        "mistura[4] = False\n",
        "mistura"
      ],
      "execution_count": null,
      "outputs": []
    },
    {
      "cell_type": "markdown",
      "metadata": {
        "id": "Or2YswlBxThg"
      },
      "source": [
        "## Funções aplicadas a listas"
      ]
    },
    {
      "cell_type": "markdown",
      "metadata": {
        "id": "YBjqHwHtxThg"
      },
      "source": [
        "### len"
      ]
    },
    {
      "cell_type": "markdown",
      "metadata": {
        "id": "XO6i2-fjxThh"
      },
      "source": [
        "Se eu quiser saber o tamanho total de uma lista, ou seja, quantos elementos a lista possui, eu uso a função *len*."
      ]
    },
    {
      "cell_type": "code",
      "metadata": {
        "id": "uCE478mtxThh"
      },
      "source": [
        "len(mistura)"
      ],
      "execution_count": null,
      "outputs": []
    },
    {
      "cell_type": "code",
      "metadata": {
        "id": "Lo_NL6V4xThh"
      },
      "source": [
        "len(frutas)"
      ],
      "execution_count": null,
      "outputs": []
    },
    {
      "cell_type": "code",
      "metadata": {
        "id": "5mdiWglXX-M4"
      },
      "source": [
        "lista = [1,2,3,4,5,6]"
      ],
      "execution_count": null,
      "outputs": []
    },
    {
      "cell_type": "code",
      "metadata": {
        "id": "6O_OIkAtYDpn"
      },
      "source": [
        "len(lista)"
      ],
      "execution_count": null,
      "outputs": []
    },
    {
      "cell_type": "markdown",
      "metadata": {
        "id": "LnFAfT0YCxP0"
      },
      "source": [
        "#### Outras formas de determinar o comprimento de listas sem utilizar *len*"
      ]
    },
    {
      "cell_type": "markdown",
      "metadata": {
        "id": "hC7m1zG0CxP0"
      },
      "source": [
        "1. Solução proposta 1"
      ]
    },
    {
      "cell_type": "code",
      "metadata": {
        "id": "QjB2t023YURy"
      },
      "source": [
        "tamanho = 0\n",
        "for i in lista:\n",
        "  #print(i)\n",
        "  tamanho = tamanho+1\n",
        "tamanho"
      ],
      "execution_count": null,
      "outputs": []
    },
    {
      "cell_type": "markdown",
      "metadata": {
        "id": "clYCj5RDCxP1"
      },
      "source": [
        "Na solução 1, iniciamos a variável *tamanho* com o valor *0*. Depois empregamos um loop definido, pelo uso do *for*, onde o contador *i* a cada iteração recebe o valor do elemento armazenado em *listas*. \n",
        "\n",
        "Para ficar mais claro, rode a célula anterior, mas com o *print(i)* dentro do *for*. "
      ]
    },
    {
      "cell_type": "markdown",
      "metadata": {
        "id": "XetrBsK0CxP1"
      },
      "source": [
        "2. Solução proposta 2"
      ]
    },
    {
      "cell_type": "code",
      "metadata": {
        "id": "Azuaj9XpY-hZ"
      },
      "source": [
        "for i,j in enumerate(lista):\n",
        "    print(i,j)\n",
        "'''\n",
        "i --> posição dos elementos na lista\n",
        "j --> elementos da lista\n",
        "'''\n",
        "tamanho = i + 1\n",
        "tamanho "
      ],
      "execution_count": null,
      "outputs": []
    },
    {
      "cell_type": "code",
      "metadata": {
        "id": "YfW873_oZb7Y"
      },
      "source": [
        "for a in enumerate(lista):\n",
        "    print(a)"
      ],
      "execution_count": null,
      "outputs": []
    },
    {
      "cell_type": "markdown",
      "metadata": {
        "id": "TuSSlMDTCxP2"
      },
      "source": [
        "Na solução proposta 2, também foi utilizado um loop definido, porém o *j* recebe, a cada iteração, o valor do elemento da lista, e o *i* recebe a posição do elemento na lista. \n",
        "\n",
        "Na célula acima, vemos como o enumerate funciona, como só foi \"dado\" o *a*, essa variável recebe uma tupla (i,j) a cada iteracão, onde o primeiro elemento da tupla é referente à posição do elemento da lista e o segundo elemento da tupla refere-se ao valor armazenado na lista. "
      ]
    },
    {
      "cell_type": "markdown",
      "metadata": {
        "id": "fnfjJnCRxThh"
      },
      "source": [
        "### sum"
      ]
    },
    {
      "cell_type": "markdown",
      "metadata": {
        "id": "EHvzZ9CPxThh"
      },
      "source": [
        "A função *sum* soma todos os elementos da lista, vamos testar?"
      ]
    },
    {
      "cell_type": "code",
      "metadata": {
        "id": "nAUiyNnHxThh"
      },
      "source": [
        "sum(frutas)"
      ],
      "execution_count": null,
      "outputs": []
    },
    {
      "cell_type": "markdown",
      "metadata": {
        "id": "g5DKM0MMxThi"
      },
      "source": [
        "Sum somente pode ser aplicado a uma lista de números inteiros ou reais, se não, resultará em erro."
      ]
    },
    {
      "cell_type": "code",
      "metadata": {
        "id": "uTEeZpTqxThi"
      },
      "source": [
        "sum(impares)"
      ],
      "execution_count": null,
      "outputs": []
    },
    {
      "cell_type": "code",
      "metadata": {
        "id": "QeWLhHR7xThi"
      },
      "source": [
        "sum([2.,3.,4,5,6,7])"
      ],
      "execution_count": null,
      "outputs": []
    },
    {
      "cell_type": "code",
      "metadata": {
        "id": "ZzWFtsWYbIK6"
      },
      "source": [
        "lista"
      ],
      "execution_count": null,
      "outputs": []
    },
    {
      "cell_type": "code",
      "metadata": {
        "id": "r5iqYhUEb-xB"
      },
      "source": [
        "sum(lista)"
      ],
      "execution_count": null,
      "outputs": []
    },
    {
      "cell_type": "markdown",
      "metadata": {
        "id": "wF9xGfqCCxP3"
      },
      "source": [
        "#### Outras formas de fazer o somatório da lista sem usar o *sum*"
      ]
    },
    {
      "cell_type": "markdown",
      "metadata": {
        "id": "gX2FBN2JCxP4"
      },
      "source": [
        "1. Modo 1"
      ]
    },
    {
      "cell_type": "code",
      "metadata": {
        "id": "T1PpdwlybK-P"
      },
      "source": [
        "soma = 0\n",
        "for i in lista:\n",
        "    soma = soma + i\n",
        "    print(i,soma)\n",
        "print(f'Somatório da lista:{soma}')"
      ],
      "execution_count": null,
      "outputs": []
    },
    {
      "cell_type": "code",
      "metadata": {
        "id": "Tj4vVTfgdWpi"
      },
      "source": [
        "lista"
      ],
      "execution_count": null,
      "outputs": []
    },
    {
      "cell_type": "markdown",
      "metadata": {
        "id": "wz8ez0g5CxP6"
      },
      "source": [
        "2. Modo 2"
      ]
    },
    {
      "cell_type": "markdown",
      "metadata": {
        "id": "csH467CpCxP6"
      },
      "source": [
        "Para testar o modo 2, vamos criar uma nova lista chamada *lista2*. Essa nova lista será a cópia da lista original, porém o primeiro elemento dela será atualizado para *6*. "
      ]
    },
    {
      "cell_type": "code",
      "metadata": {
        "id": "H1-QQdHpezaC"
      },
      "source": [
        "lista2 = lista.copy()\n",
        "lista2[0] = 6\n",
        "lista2"
      ],
      "execution_count": null,
      "outputs": []
    },
    {
      "cell_type": "code",
      "metadata": {
        "id": "Qtoi5smIfRA6"
      },
      "source": [
        "lista3 = lista\n",
        "lista3"
      ],
      "execution_count": null,
      "outputs": []
    },
    {
      "cell_type": "code",
      "metadata": {
        "id": "dYd_Sg81fUYw"
      },
      "source": [
        "lista3[1] = 10\n",
        "lista3"
      ],
      "execution_count": null,
      "outputs": []
    },
    {
      "cell_type": "code",
      "metadata": {
        "id": "zxxqaBv6fX64"
      },
      "source": [
        "lista"
      ],
      "execution_count": null,
      "outputs": []
    },
    {
      "cell_type": "code",
      "metadata": {
        "id": "gifjdeEPcA9Y"
      },
      "source": [
        "soma = 0\n",
        "i = 0\n",
        "while i != len(lista2):\n",
        "    soma = soma + lista2[i]\n",
        "    i = i + 1\n",
        "print(f'Somatório da lista2:{soma}')"
      ],
      "execution_count": null,
      "outputs": []
    },
    {
      "cell_type": "markdown",
      "metadata": {
        "id": "2qBfmvj1CxP7"
      },
      "source": [
        "Foi utilizado o loop *while*, no qual para ele ser interrompido a condição entre ( ) tem que passar a ser *FALSA*. A condição dada no exemplo acima foi que o loop acontece enquanto *i* é diferente *(!=)* do comprimento da *lista2*. "
      ]
    },
    {
      "cell_type": "markdown",
      "metadata": {
        "id": "AGPDO3wBxThi"
      },
      "source": [
        "### max, min"
      ]
    },
    {
      "cell_type": "markdown",
      "metadata": {
        "id": "jcxxrxQMxThi"
      },
      "source": [
        "As funções *max* e *min* são aplicadas para identificarmos os elementos máximo e mínimo de uma lista. "
      ]
    },
    {
      "cell_type": "code",
      "metadata": {
        "id": "DiXn_V_fxThj"
      },
      "source": [
        "max(impares)"
      ],
      "execution_count": null,
      "outputs": []
    },
    {
      "cell_type": "code",
      "metadata": {
        "id": "bLjPBdg3xThj"
      },
      "source": [
        "min(impares)"
      ],
      "execution_count": null,
      "outputs": []
    },
    {
      "cell_type": "code",
      "metadata": {
        "id": "r1OrexO7kbGx"
      },
      "source": [
        "impares"
      ],
      "execution_count": null,
      "outputs": []
    },
    {
      "cell_type": "markdown",
      "metadata": {
        "id": "oB47sr13CxP8"
      },
      "source": [
        "#### Outras formas de encontrar os valores máximo e mínimo da lista sem usar o *max* & *min*"
      ]
    },
    {
      "cell_type": "markdown",
      "metadata": {
        "id": "QkBY0dQ0CxP8"
      },
      "source": [
        "1. Modo 1"
      ]
    },
    {
      "cell_type": "code",
      "metadata": {
        "id": "R1ux0xoIkZDT"
      },
      "source": [
        "maior_val = impares[0]\n",
        "for i in range(1,len(impares)):\n",
        "    if maior_val < impares[i]:\n",
        "        maior_val = impares[i]\n",
        "    print(i,maior_val)"
      ],
      "execution_count": null,
      "outputs": []
    },
    {
      "cell_type": "markdown",
      "metadata": {
        "id": "eqL8uAArCxP9"
      },
      "source": [
        "2. Modo 2"
      ]
    },
    {
      "cell_type": "code",
      "metadata": {
        "id": "oFs6ST70lbBM"
      },
      "source": [
        "maior_val = impares[0]\n",
        "for i in impares:\n",
        "    if i > maior_val:\n",
        "        maior_val = i\n",
        "print(f'maior valor:{maior_val}')"
      ],
      "execution_count": null,
      "outputs": []
    },
    {
      "cell_type": "markdown",
      "metadata": {
        "id": "8706U3hjCxP9"
      },
      "source": [
        "3. Modo 3"
      ]
    },
    {
      "cell_type": "code",
      "metadata": {
        "id": "BxpwrULrmIyO"
      },
      "source": [
        "menor = impares[0]\n",
        "maior = impares[0]\n",
        "\n",
        "for i in impares:\n",
        "    if i < menor:\n",
        "        menor = i\n",
        "    if i > maior:\n",
        "        maior = i\n",
        "print(f'maior valor:{maior}')\n",
        "print(f'menor valor:{menor}')"
      ],
      "execution_count": null,
      "outputs": []
    },
    {
      "cell_type": "markdown",
      "metadata": {
        "id": "SYSlOALlCxP9"
      },
      "source": [
        "4. Modo 4"
      ]
    },
    {
      "cell_type": "code",
      "metadata": {
        "id": "ARicEuXDmtGt"
      },
      "source": [
        "menor = impares[0]\n",
        "maior = impares[0]\n",
        "\n",
        "for j,i in enumerate(impares):\n",
        "    if i < menor:\n",
        "        menor = i\n",
        "    if i > maior:\n",
        "        maior = i\n",
        "print(f'maior valor:{maior}')\n",
        "print(f'menor valor:{menor}')"
      ],
      "execution_count": null,
      "outputs": []
    },
    {
      "cell_type": "markdown",
      "metadata": {
        "id": "5H_DvhiICxP-"
      },
      "source": [
        "5. Modo 5"
      ]
    },
    {
      "cell_type": "markdown",
      "metadata": {
        "id": "KbQGzF_n4UHr"
      },
      "source": [
        "O modo 5 foi proposto como alternativa para não atribuirmos às variáveis *maior* e *menor* o elemento armazenado em *impares[0]*. \n",
        "\n",
        "Para usar esse modo 5 de solução, precisamos fazer a importação da biblioteca *sys*. "
      ]
    },
    {
      "cell_type": "code",
      "metadata": {
        "id": "_05mqA9znEC9"
      },
      "source": [
        "import sys"
      ],
      "execution_count": null,
      "outputs": []
    },
    {
      "cell_type": "code",
      "metadata": {
        "id": "xgBXXBqmn9Bd"
      },
      "source": [
        "lista2 = [-10,-300,-20,-5]\n",
        "lista2"
      ],
      "execution_count": null,
      "outputs": []
    },
    {
      "cell_type": "markdown",
      "metadata": {
        "id": "89WisBhn4nLn"
      },
      "source": [
        "Na próxima célula, a variável\n",
        "- *maior* recebe o **MENOR** valor **possível** em Python que pode existir nesse servidor que estamos usando o *Google Colaboratory*.\n",
        "\n",
        "Como descobrimos esse **MENOR** valor **possível**?\n",
        "\n",
        "Bom, fazemos isso pela função *float_info.max* da biblioteca *sys*. O **MENOR** valor **possível** será o **MAIOR** valor **possível** multiplicado por *-1*. \n",
        "\n",
        "Por isso, *maior* recebe *-sys.float_info.max*.\n",
        "\n",
        "De modo similar, a variável\n",
        "- *menor* recebe o **MAIOR** valor **possível** em Python que pode existir nesse servidor que estamos usando o *Google Colaboratory*.\n",
        "\n",
        "Por isso, *menor* recebe *sys.float_info.max*.\n",
        "\n",
        "Por que *menor* e *maior* recebem o **MAIOR** e o **MENOR** valor respectivamente?\n",
        "\n",
        "Para garantir que eles serão já na **primeira** verificação ser substituídos por um elemento que está armazenado em *lista2*. Assim, garantimos que a seleção do maior e do menor valor em *lista2* resulta em elementos pertencentes à essa lista. "
      ]
    },
    {
      "cell_type": "code",
      "metadata": {
        "id": "EwPTTmxMnezd"
      },
      "source": [
        "menor = sys.float_info.max\n",
        "maior = -sys.float_info.max\n",
        "\n",
        "for j,i in enumerate(lista2):\n",
        "    if i < menor:\n",
        "        print('loop1',i,menor)\n",
        "        menor = i\n",
        "        print('loop1',i,menor)\n",
        "    if i > maior:\n",
        "        print('loop2',i,maior)\n",
        "        maior = i\n",
        "        print('loop2',i,maior)\n",
        "    input() # esse input esta aqui para pausar a execucao do codigo. Para continuar pressione enter\n",
        "print(f'maior valor:{maior}')\n",
        "print(f'menor valor:{menor}')"
      ],
      "execution_count": null,
      "outputs": []
    },
    {
      "cell_type": "markdown",
      "metadata": {
        "id": "BDzqC1bTxThj"
      },
      "source": [
        "## Métodos aplicados a listas"
      ]
    },
    {
      "cell_type": "markdown",
      "metadata": {
        "id": "MlfQnklpxThj"
      },
      "source": [
        "Bom, temos as funções aplicadas a listas (que acabamos de ver) e temos os métodos aplicados a listas.\n",
        "\n",
        "**Qual é a diferença entre métodos e listas?**\n",
        "\n",
        "Na função, usamos o nome da função e entre ( ) escrevemos a lista na qual queremos que a função seja aplicada. Já em métodos, escrevemos o nome da lista ponto o método que queremos aplicar nessa lista. Vamos ver um exemplo:\n",
        "\n"
      ]
    },
    {
      "cell_type": "markdown",
      "metadata": {
        "id": "IuDKpQ4NxThj"
      },
      "source": [
        "### append"
      ]
    },
    {
      "cell_type": "markdown",
      "metadata": {
        "id": "ypqdwn39xThk"
      },
      "source": [
        "O *append* é um método usado para adicionar elementos na última posição da lista. Vamos adicionar a palavra \"melancia\" na lista frutas."
      ]
    },
    {
      "cell_type": "code",
      "metadata": {
        "id": "jnl6f78sxThk"
      },
      "source": [
        "frutas"
      ],
      "execution_count": null,
      "outputs": []
    },
    {
      "cell_type": "code",
      "metadata": {
        "id": "ZJzbK5IMxThk"
      },
      "source": [
        "frutas.append('melancia')"
      ],
      "execution_count": null,
      "outputs": []
    },
    {
      "cell_type": "code",
      "metadata": {
        "id": "MelKR24MxThk",
        "scrolled": true
      },
      "source": [
        "frutas"
      ],
      "execution_count": null,
      "outputs": []
    },
    {
      "cell_type": "markdown",
      "metadata": {
        "id": "CKNLuvGkxThk"
      },
      "source": [
        "Contudo, não podemos fazer a adição de mais de um elemento de modo simultâneo usando o *append*."
      ]
    },
    {
      "cell_type": "code",
      "metadata": {
        "id": "7Ejv9xwhrbDO"
      },
      "source": [
        "frutas.append(['morango','abacate'])"
      ],
      "execution_count": null,
      "outputs": []
    },
    {
      "cell_type": "code",
      "metadata": {
        "id": "I_AEajrrrhk1"
      },
      "source": [
        "frutas"
      ],
      "execution_count": null,
      "outputs": []
    },
    {
      "cell_type": "code",
      "metadata": {
        "id": "kiFN6Y8srlQg"
      },
      "source": [
        "frutas[-1]"
      ],
      "execution_count": null,
      "outputs": []
    },
    {
      "cell_type": "markdown",
      "metadata": {
        "id": "TL4VRSnbxThl"
      },
      "source": [
        "### extend"
      ]
    },
    {
      "cell_type": "markdown",
      "metadata": {
        "id": "SLBXXnD7xThl"
      },
      "source": [
        "Para adicionar mais de um elemento de modo simultâneo dentro de uma lista, podemos usar o *extend*."
      ]
    },
    {
      "cell_type": "markdown",
      "metadata": {
        "id": "-GvDlCjuxThl"
      },
      "source": [
        "Adicionando 'morango' e 'limao' com um único comando na lista *frutas*:"
      ]
    },
    {
      "cell_type": "code",
      "metadata": {
        "id": "TRTj_8nsrQma"
      },
      "source": [
        "frutas"
      ],
      "execution_count": null,
      "outputs": []
    },
    {
      "cell_type": "code",
      "metadata": {
        "id": "3KcchdI1xThl"
      },
      "source": [
        "frutas.extend(['morango','limao'])"
      ],
      "execution_count": null,
      "outputs": []
    },
    {
      "cell_type": "code",
      "metadata": {
        "id": "UeI9wZNuxThl"
      },
      "source": [
        "frutas"
      ],
      "execution_count": null,
      "outputs": []
    },
    {
      "cell_type": "code",
      "metadata": {
        "id": "2AHoMedFr-mE"
      },
      "source": [
        "frutas = frutas + ['morango','limao']\n",
        "frutas"
      ],
      "execution_count": null,
      "outputs": []
    },
    {
      "cell_type": "markdown",
      "metadata": {
        "id": "8loTFEDSxThm"
      },
      "source": [
        "### pop"
      ]
    },
    {
      "cell_type": "markdown",
      "metadata": {
        "id": "kDB5zuzlxThm"
      },
      "source": [
        "lista.pop(idx) remove e retorna o elemento de index igual a idx da lista:"
      ]
    },
    {
      "cell_type": "code",
      "metadata": {
        "id": "G4btF9SmtXLH"
      },
      "source": [
        "frutas"
      ],
      "execution_count": null,
      "outputs": []
    },
    {
      "cell_type": "code",
      "metadata": {
        "id": "816oZrHOthjd"
      },
      "source": [
        "frutas.pop(-5)"
      ],
      "execution_count": null,
      "outputs": []
    },
    {
      "cell_type": "code",
      "metadata": {
        "id": "O2J_DL-btlk_"
      },
      "source": [
        "frutas "
      ],
      "execution_count": null,
      "outputs": []
    },
    {
      "cell_type": "code",
      "metadata": {
        "id": "ai-K5lGBxThm"
      },
      "source": [
        "frutas.pop(2)"
      ],
      "execution_count": null,
      "outputs": []
    },
    {
      "cell_type": "markdown",
      "metadata": {
        "id": "sE3Z3aE5xThm"
      },
      "source": [
        "Repare que a célula anterior imprimiu a palavra 'banana', indicando que esse elemento foi eliminado da lista *frutas*. Banana foi eliminada pois ocupava o index 2 da lista *frutas*."
      ]
    },
    {
      "cell_type": "code",
      "metadata": {
        "id": "_ADQU8kHxThm"
      },
      "source": [
        "frutas"
      ],
      "execution_count": null,
      "outputs": []
    },
    {
      "cell_type": "code",
      "metadata": {
        "id": "qNoFLrJJt5C3"
      },
      "source": [
        "elem_eliminado = frutas.pop(-1)\n",
        "elem_eliminado "
      ],
      "execution_count": null,
      "outputs": []
    },
    {
      "cell_type": "markdown",
      "metadata": {
        "id": "b3LPh8JnxThm"
      },
      "source": [
        "## Identificação de elementos pertencentes a lista"
      ]
    },
    {
      "cell_type": "markdown",
      "metadata": {
        "id": "Va4iGN5TxThn"
      },
      "source": [
        "Para checarmos se um elemento pertence ou não a uma lista, podemos fazer uso da palavra *in*. Por exemplo, na lista *frutas* vamos perguntar se 'goiaba' está presente:"
      ]
    },
    {
      "cell_type": "code",
      "metadata": {
        "id": "2LkTUNoJuOsY"
      },
      "source": [
        "frutas"
      ],
      "execution_count": null,
      "outputs": []
    },
    {
      "cell_type": "code",
      "metadata": {
        "id": "hvB0mk18xThn"
      },
      "source": [
        "'goiaba' in frutas"
      ],
      "execution_count": null,
      "outputs": []
    },
    {
      "cell_type": "markdown",
      "metadata": {
        "id": "-9xnf6oXxThn"
      },
      "source": [
        "E uva?"
      ]
    },
    {
      "cell_type": "code",
      "metadata": {
        "id": "JvDnaTpYxThn"
      },
      "source": [
        "'uva' in frutas"
      ],
      "execution_count": null,
      "outputs": []
    },
    {
      "cell_type": "code",
      "metadata": {
        "id": "sEIHF337uoT9"
      },
      "source": [
        "elemento = 'uva'\n",
        "if elemento in frutas:\n",
        "    print(elemento,frutas.index(elemento))\n",
        "else:\n",
        "    print(f'{elemento} nao pertence a frutas')"
      ],
      "execution_count": null,
      "outputs": []
    },
    {
      "cell_type": "markdown",
      "metadata": {
        "id": "xLLBYXL7xThn"
      },
      "source": [
        "## Exercício"
      ]
    },
    {
      "cell_type": "markdown",
      "metadata": {
        "id": "Mr8lLz8GxThn"
      },
      "source": [
        "Quais são os comprimentos das seguintes listas?\n",
        "\n",
        "Preencha na variável *comp* as suas respostas. Tente fazer a previsão do comprimento de cada lista sem utilizar a função *len*."
      ]
    },
    {
      "cell_type": "code",
      "metadata": {
        "id": "JucLJ9eyxTho"
      },
      "source": [
        "a = [1, 2, 3]\n",
        "b = [1, [2, 3]]\n",
        "c = []\n",
        "d = [1, 2, 3][1:]"
      ],
      "execution_count": null,
      "outputs": []
    },
    {
      "cell_type": "markdown",
      "metadata": {
        "id": "JzNdNZy6CxQF"
      },
      "source": [
        "1. Resolução proposta 1"
      ]
    },
    {
      "cell_type": "code",
      "metadata": {
        "id": "M-vkJz4pvx1Z"
      },
      "source": [
        " def compr(x):\n",
        "    if x == []:\n",
        "        compr = 0\n",
        "    else:\n",
        "        compr = x.index(x[-1])+1\n",
        "    return compr"
      ],
      "execution_count": null,
      "outputs": []
    },
    {
      "cell_type": "code",
      "metadata": {
        "id": "VEqO0001xTho",
        "scrolled": true
      },
      "source": [
        "comp = [compr(a),compr(b),compr(c),compr(d)]\n",
        "comp "
      ],
      "execution_count": null,
      "outputs": []
    },
    {
      "cell_type": "markdown",
      "metadata": {
        "id": "ZOVLWDG8CxQF"
      },
      "source": [
        "2. Resolução proposta 2"
      ]
    },
    {
      "cell_type": "code",
      "metadata": {
        "id": "TuxdkTm4w81f"
      },
      "source": [
        "def compr2(x):\n",
        "    if x == []:\n",
        "        return 0\n",
        "    else:\n",
        "        for i,j in enumerate(x):\n",
        "            pass\n",
        "    return i+1"
      ],
      "execution_count": null,
      "outputs": []
    },
    {
      "cell_type": "code",
      "metadata": {
        "id": "1J2gvEe1xMUZ"
      },
      "source": [
        "comp = [compr2(a),compr2(b),compr2(c),compr2(d)]\n",
        "comp "
      ],
      "execution_count": null,
      "outputs": []
    },
    {
      "cell_type": "markdown",
      "metadata": {
        "id": "4WTDX21vCxQG"
      },
      "source": [
        "3. Resolução proposta 3"
      ]
    },
    {
      "cell_type": "code",
      "metadata": {
        "id": "yZms3myqxsha"
      },
      "source": [
        "def tamanho(lista):\n",
        "    x = 0\n",
        "    for i in lista:\n",
        "        x += 1 # x = x + 1\n",
        "    return x"
      ],
      "execution_count": null,
      "outputs": []
    },
    {
      "cell_type": "code",
      "metadata": {
        "id": "0ZeKqpTyxyWJ"
      },
      "source": [
        "comp = [tamanho(a),tamanho(b),tamanho(c),tamanho(d)]\n",
        "comp "
      ],
      "execution_count": null,
      "outputs": []
    },
    {
      "cell_type": "markdown",
      "metadata": {
        "id": "2pe4xxOlxTho"
      },
      "source": [
        "***"
      ]
    },
    {
      "cell_type": "markdown",
      "metadata": {
        "id": "5z8uGpMKxTho"
      },
      "source": [
        "## Dicionários"
      ]
    },
    {
      "cell_type": "markdown",
      "metadata": {
        "id": "0d_I9jQ-xTho"
      },
      "source": [
        "Os dicionários são uma estrutura de dados em Python integrada para mapear chaves para valores."
      ]
    },
    {
      "cell_type": "code",
      "metadata": {
        "id": "FJ9TaYqSxThp"
      },
      "source": [
        "numeros = {'um':1, 'dois':2, 'tres':3}"
      ],
      "execution_count": null,
      "outputs": []
    },
    {
      "cell_type": "code",
      "metadata": {
        "id": "8OW9JwXAxThp"
      },
      "source": [
        "numeros"
      ],
      "execution_count": null,
      "outputs": []
    },
    {
      "cell_type": "code",
      "metadata": {
        "id": "-ZgH3h3QxThp"
      },
      "source": [
        "type(numeros)"
      ],
      "execution_count": null,
      "outputs": []
    },
    {
      "cell_type": "markdown",
      "metadata": {
        "id": "21-yhA6NxThp"
      },
      "source": [
        "Nesse caso, 'um', 'dois' e 'tres' são as chaves e 1, 2 e 3 são seus valores correspondentes. "
      ]
    },
    {
      "cell_type": "code",
      "metadata": {
        "id": "krSIsxfAxThp"
      },
      "source": [
        "numeros.keys()"
      ],
      "execution_count": null,
      "outputs": []
    },
    {
      "cell_type": "code",
      "metadata": {
        "id": "N3mUl4p7xThp"
      },
      "source": [
        "numeros.values()"
      ],
      "execution_count": null,
      "outputs": []
    },
    {
      "cell_type": "markdown",
      "metadata": {
        "id": "Hw3A4Oz_xThq"
      },
      "source": [
        "Os valores são acessados por meio de uma sintaxe de colchetes semelhante à indexação em listas. Outra forma é utilizar o método .get()"
      ]
    },
    {
      "cell_type": "markdown",
      "metadata": {
        "id": "NkBiWuj9xThq"
      },
      "source": [
        "Imprimindo o número 3:"
      ]
    },
    {
      "cell_type": "code",
      "metadata": {
        "id": "zU2xQKD8xThq"
      },
      "source": [
        "numeros['tres']"
      ],
      "execution_count": null,
      "outputs": []
    },
    {
      "cell_type": "code",
      "metadata": {
        "id": "w4spTGo-0csW"
      },
      "source": [
        "numeros.get('tres')"
      ],
      "execution_count": null,
      "outputs": []
    },
    {
      "cell_type": "code",
      "metadata": {
        "id": "Du7a5bMQGkvs"
      },
      "source": [
        "dicionario = {23:1,'a':2,'z':3}"
      ],
      "execution_count": null,
      "outputs": []
    },
    {
      "cell_type": "code",
      "metadata": {
        "id": "RaHXXP86GqwB"
      },
      "source": [
        "dicionario.keys()"
      ],
      "execution_count": null,
      "outputs": []
    },
    {
      "cell_type": "code",
      "metadata": {
        "id": "0KgE-LIVG2Ap"
      },
      "source": [
        "dicionario[23]"
      ],
      "execution_count": null,
      "outputs": []
    },
    {
      "cell_type": "markdown",
      "metadata": {
        "id": "-ir6X52qxThq"
      },
      "source": [
        "Podemos usar a mesma sintaxe para adicionar outra chave e valor:"
      ]
    },
    {
      "cell_type": "code",
      "metadata": {
        "id": "12TjJQ43xThq"
      },
      "source": [
        "numeros['quatro'] = 4"
      ],
      "execution_count": null,
      "outputs": []
    },
    {
      "cell_type": "code",
      "metadata": {
        "id": "NA3vXwdexThq"
      },
      "source": [
        "numeros"
      ],
      "execution_count": null,
      "outputs": []
    },
    {
      "cell_type": "markdown",
      "metadata": {
        "id": "hdLioHbkxThr"
      },
      "source": [
        "Ou para alterar o valor associado a uma chave existente"
      ]
    },
    {
      "cell_type": "code",
      "metadata": {
        "id": "-3FpkS3XxThr"
      },
      "source": [
        "numeros['dois'] = 'Marte'"
      ],
      "execution_count": null,
      "outputs": []
    },
    {
      "cell_type": "code",
      "metadata": {
        "id": "9feEEoBCxThr"
      },
      "source": [
        "numeros"
      ],
      "execution_count": null,
      "outputs": []
    },
    {
      "cell_type": "markdown",
      "metadata": {
        "id": "txQ6c-LIxThr"
      },
      "source": [
        "***"
      ]
    },
    {
      "cell_type": "markdown",
      "metadata": {
        "id": "_hOfwkaaxThr"
      },
      "source": [
        "## Vetores"
      ]
    },
    {
      "cell_type": "markdown",
      "metadata": {
        "id": "Bp8t9W12xThs"
      },
      "source": [
        "Vetores em Python são declarados com a biblioteca Numpy. Então, para trabalharmos com eles, precisamos fazer a importação dessa biblioteca."
      ]
    },
    {
      "cell_type": "markdown",
      "metadata": {
        "id": "P7NrZT8exThs"
      },
      "source": [
        "Diferente das listas, os vetores só são capazes de armazenar números e do mesmo tipo. Você nunca terá um vetor com elementos inteiros e reais. Todos os elementos do vetor serão inteiros ou todos serão reais. "
      ]
    },
    {
      "cell_type": "code",
      "metadata": {
        "id": "xm5yvjgJxThs"
      },
      "source": [
        "import numpy as np"
      ],
      "execution_count": null,
      "outputs": []
    },
    {
      "cell_type": "markdown",
      "metadata": {
        "id": "vPvY3HJSxThs"
      },
      "source": [
        "Geralmente, a biblioteca *numpy* leva a abreviação *np*. Mas isso é uma convenção, você pode, se quiser, colocar qualquer abreviação. "
      ]
    },
    {
      "cell_type": "markdown",
      "metadata": {
        "id": "mGUtVmOfxThs"
      },
      "source": [
        "### Declaração de vetores"
      ]
    },
    {
      "cell_type": "code",
      "metadata": {
        "id": "abR3F1VFxThs"
      },
      "source": [
        "pares = [0,2,4,6,8,10,12,14,16,18]"
      ],
      "execution_count": null,
      "outputs": []
    },
    {
      "cell_type": "code",
      "metadata": {
        "id": "jvaGWap0ILoR"
      },
      "source": [
        "pares"
      ],
      "execution_count": null,
      "outputs": []
    },
    {
      "cell_type": "code",
      "metadata": {
        "id": "uWef59klIBBQ"
      },
      "source": [
        "type(pares)"
      ],
      "execution_count": null,
      "outputs": []
    },
    {
      "cell_type": "code",
      "metadata": {
        "id": "jp2xLKatxTht"
      },
      "source": [
        "vet0 = np.array(pares)"
      ],
      "execution_count": null,
      "outputs": []
    },
    {
      "cell_type": "code",
      "metadata": {
        "id": "gsnTtZ0GxTht"
      },
      "source": [
        "vet0"
      ],
      "execution_count": null,
      "outputs": []
    },
    {
      "cell_type": "code",
      "metadata": {
        "id": "ycTO5JwBxTht"
      },
      "source": [
        "type(vet0)"
      ],
      "execution_count": null,
      "outputs": []
    },
    {
      "cell_type": "markdown",
      "metadata": {
        "id": "9yp6MdJ7xTht"
      },
      "source": [
        "Acabamos de criar um vetor chamado *vet0* que contém números pares de 0 até 18. Na hora de criamos esse vetor, utilizamos a função *array* da biblioteca *numpy* e dentro dos ( ) incluímos uma lista chamada *pares*. "
      ]
    },
    {
      "cell_type": "markdown",
      "metadata": {
        "id": "OfFGsDw5xTht"
      },
      "source": [
        "Outro modo de criar um vetor do zero..."
      ]
    },
    {
      "cell_type": "code",
      "metadata": {
        "id": "jNalKTNjxTht"
      },
      "source": [
        "vet1 = np.random.randint(0,20,10)"
      ],
      "execution_count": null,
      "outputs": []
    },
    {
      "cell_type": "code",
      "metadata": {
        "id": "2uHnWecnIm90"
      },
      "source": [
        "help(np.random.randint)"
      ],
      "execution_count": null,
      "outputs": []
    },
    {
      "cell_type": "code",
      "metadata": {
        "id": "-R2EgqATxThu"
      },
      "source": [
        "vet1"
      ],
      "execution_count": null,
      "outputs": []
    },
    {
      "cell_type": "markdown",
      "metadata": {
        "id": "kSfDk0dNxThu"
      },
      "source": [
        "Acabamos de criar um vetor chamado *vet1* de números inteiros que foi criado a partir da função random.randint. Essa função recebe como variáveis de entrada **obrigatórias**: \n",
        "\n",
        "- limite inferior (incluído), \n",
        "- limite superior (não incluído),\n",
        "- tamanho do vetor. \n",
        "\n",
        "os elementos desse vetor podem ser iguais ao limite inferior, porém não podem ser iguais ao limite superior. "
      ]
    },
    {
      "cell_type": "markdown",
      "metadata": {
        "id": "hskdsCCfxThu"
      },
      "source": [
        "Um outro modo semelhante de criar um vetor através de números aleatórios, porém reais é:"
      ]
    },
    {
      "cell_type": "code",
      "metadata": {
        "id": "v754ANI7xThu"
      },
      "source": [
        "vet2 = np.random.uniform(0,20,10)"
      ],
      "execution_count": null,
      "outputs": []
    },
    {
      "cell_type": "code",
      "metadata": {
        "id": "2MelzvyIxThu"
      },
      "source": [
        "vet2"
      ],
      "execution_count": null,
      "outputs": []
    },
    {
      "cell_type": "markdown",
      "metadata": {
        "id": "bL9uur-YxThv"
      },
      "source": [
        "A função *random.uniform* funciona de modo bem similar à função *random.randint*, porém a *random.uniform* gera números reais. Ambas as funções geram números aleatórios que seguem a distribuição uniforme, ou seja, cada valor dentro do intervalo especificado tem a mesma probabilidade de ser sorteado. "
      ]
    },
    {
      "cell_type": "markdown",
      "metadata": {
        "id": "JPbDb1cW6Obw"
      },
      "source": [
        "Para mais informações a respeito da geração de números aleatórios, que seguem outros tipos de distribuições, utilizando *numpy*, assista o vídeo:\n",
        "\n",
        "[Distribuições de Probabilidades](https://youtu.be/ld_CP_0H46k)"
      ]
    },
    {
      "cell_type": "markdown",
      "metadata": {
        "id": "VeK--gBWxThv"
      },
      "source": [
        "### Funções aplicadas a vetores"
      ]
    },
    {
      "cell_type": "markdown",
      "metadata": {
        "id": "Y42Wi9tJxThv"
      },
      "source": [
        "Existem funções prontas para:\n",
        "\n",
        "- somatório: **np.sum( )**\n",
        "- média: **np.mean( )**\n",
        "- desvio padrão: **np.std( )**\n",
        "- variância: **np.var( )**"
      ]
    },
    {
      "cell_type": "markdown",
      "metadata": {
        "id": "5UIwj70lxThw"
      },
      "source": [
        "#### Exercício: Aplique as 4 funções mostradas acima no vetor *vet2*."
      ]
    },
    {
      "cell_type": "code",
      "metadata": {
        "id": "wi-NkwjpMrOQ"
      },
      "source": [
        "np.sum(vet2)"
      ],
      "execution_count": null,
      "outputs": []
    },
    {
      "cell_type": "code",
      "metadata": {
        "id": "ufeqieYBMrZS"
      },
      "source": [
        "np.mean(vet2)"
      ],
      "execution_count": null,
      "outputs": []
    },
    {
      "cell_type": "code",
      "metadata": {
        "id": "K5lXblsMMxYX"
      },
      "source": [
        "np.std(vet2)"
      ],
      "execution_count": null,
      "outputs": []
    },
    {
      "cell_type": "code",
      "metadata": {
        "id": "59iY7C38Mzrx"
      },
      "source": [
        "np.var(vet2)"
      ],
      "execution_count": null,
      "outputs": []
    },
    {
      "cell_type": "code",
      "metadata": {
        "id": "pTP8sUTpxThw"
      },
      "source": [
        "vet2"
      ],
      "execution_count": null,
      "outputs": []
    },
    {
      "cell_type": "markdown",
      "metadata": {
        "id": "znEYqU0l61rd"
      },
      "source": [
        "E como podemos calcular a moda de um vetor? "
      ]
    },
    {
      "cell_type": "code",
      "metadata": {
        "id": "MhcJw_hwxThw"
      },
      "source": [
        "vet0  = np.random.randint(0,20,100)"
      ],
      "execution_count": null,
      "outputs": []
    },
    {
      "cell_type": "code",
      "metadata": {
        "id": "59p68-t-xThw"
      },
      "source": [
        "vet0"
      ],
      "execution_count": null,
      "outputs": []
    },
    {
      "cell_type": "markdown",
      "metadata": {
        "id": "cZ-6E4oQ66RG"
      },
      "source": [
        "- Utilizando *numpy*:"
      ]
    },
    {
      "cell_type": "markdown",
      "metadata": {
        "id": "PIm9DBh-7C73"
      },
      "source": [
        "Podemos usar a função *unique* que mostra para a gente os elementos únicos armazenados em um vetor e também quantas vezes cada elemento único é repetido dentro desse conjunto de dados. \n",
        "\n",
        "*unic* --> recebe elementos únicos\n",
        "\n",
        "*rep* --> recebe números de repetições de cada elemento único\n",
        "\n",
        "O elemento único que mais se repete é a *moda* do conjunto de dados. "
      ]
    },
    {
      "cell_type": "code",
      "metadata": {
        "id": "3BbJgHO3xThw"
      },
      "source": [
        "unic, rep = np.unique(vet0,return_counts=True) "
      ],
      "execution_count": null,
      "outputs": []
    },
    {
      "cell_type": "code",
      "metadata": {
        "id": "fdi1XI0eLyCZ"
      },
      "source": [
        "unic"
      ],
      "execution_count": null,
      "outputs": []
    },
    {
      "cell_type": "code",
      "metadata": {
        "id": "_Jlz7A2SL09g"
      },
      "source": [
        "rep"
      ],
      "execution_count": null,
      "outputs": []
    },
    {
      "cell_type": "markdown",
      "metadata": {
        "id": "5vvDNWjd72IZ"
      },
      "source": [
        "Valor máximo de *rep*:"
      ]
    },
    {
      "cell_type": "code",
      "metadata": {
        "id": "gDBK1QXV75CF"
      },
      "source": [
        "np.max(rep)"
      ],
      "execution_count": null,
      "outputs": []
    },
    {
      "cell_type": "markdown",
      "metadata": {
        "id": "NC4htmCT7Y2g"
      },
      "source": [
        "Agora, usando o método *argmax* conseguimos saber a posição do elemento máximo do vetor *rep*:"
      ]
    },
    {
      "cell_type": "code",
      "metadata": {
        "id": "vbeoIVsEL6in"
      },
      "source": [
        "np.argmax(rep)"
      ],
      "execution_count": null,
      "outputs": []
    },
    {
      "cell_type": "markdown",
      "metadata": {
        "id": "aVSwGjuf7fsp"
      },
      "source": [
        "Para descobrir a moda, utilizamos a posição *np.argmax(rep)* no vetor *unic*."
      ]
    },
    {
      "cell_type": "code",
      "metadata": {
        "id": "ZtbxC2q0L_q7"
      },
      "source": [
        "unic[np.argmax(rep)]  "
      ],
      "execution_count": null,
      "outputs": []
    },
    {
      "cell_type": "code",
      "metadata": {
        "id": "7OvxFeTG8jwE"
      },
      "source": [
        "print(f'Moda de vet0: {unic[np.argmax(rep)]}')"
      ],
      "execution_count": null,
      "outputs": []
    },
    {
      "cell_type": "markdown",
      "metadata": {
        "id": "mGspMuqk8Lq1"
      },
      "source": [
        "- utilizando *stats* de *scipy*:"
      ]
    },
    {
      "cell_type": "code",
      "metadata": {
        "id": "dA7l7dHEMDSC"
      },
      "source": [
        "from scipy import stats"
      ],
      "execution_count": null,
      "outputs": []
    },
    {
      "cell_type": "code",
      "metadata": {
        "id": "NkaCSoDsMTu5"
      },
      "source": [
        "stats.mode(vet0)"
      ],
      "execution_count": null,
      "outputs": []
    },
    {
      "cell_type": "code",
      "metadata": {
        "id": "UAOiQ0AlMZ0k"
      },
      "source": [
        "print(f'Moda de vet0: {stats.mode(vet0)[0]}')"
      ],
      "execution_count": null,
      "outputs": []
    },
    {
      "cell_type": "markdown",
      "metadata": {
        "id": "msBO3Q238qm6"
      },
      "source": [
        "- utilizando statistics:"
      ]
    },
    {
      "cell_type": "code",
      "metadata": {
        "id": "K9S6WaEw8uso"
      },
      "source": [
        "import statistics"
      ],
      "execution_count": null,
      "outputs": []
    },
    {
      "cell_type": "code",
      "metadata": {
        "id": "U01bYvRq81iU"
      },
      "source": [
        "print(f'Moda de vet0: {statistics.mode(vet0)}')"
      ],
      "execution_count": null,
      "outputs": []
    },
    {
      "cell_type": "markdown",
      "metadata": {
        "id": "AoGUxh7u87bn"
      },
      "source": [
        "Documentação da biblioteca *statistics*:\n",
        "\n",
        "[Biblioteca Statistics](https://docs.python.org/3/library/statistics.html)"
      ]
    },
    {
      "cell_type": "markdown",
      "metadata": {
        "id": "ZoJuSL-bxThw"
      },
      "source": [
        "# Funções"
      ]
    },
    {
      "cell_type": "markdown",
      "metadata": {
        "id": "CTyXtvzyxThw"
      },
      "source": [
        "Bom, nós já vimos várias funções que existem em Python e que, para usá-las, não precisamos fazer a importação de nenhuma biblioteca. Porém, nós, como usuários, muitas vezes sentimos a necessidade de criarmos funções para facilitar nossa vida. "
      ]
    },
    {
      "cell_type": "markdown",
      "metadata": {
        "id": "dEURxuBmxThx"
      },
      "source": [
        "O Python reconhece funções pela palavra **def**. \n",
        "\n",
        "A sintaxe da função é:\n",
        "```bash\n",
        "def nome_função(variáveis de entrada): --> Não esquecer os dois pontos ao final. \n",
        "    - código aqui linha 1\n",
        "    - código aqui linha 2\n",
        "    - código aqui linha 3\n",
        "    return (variáveis de saída)\n",
        "```\n",
        "Depois de você pressionar o *ENTER* ao final dos :, todo código que estiver com ao menos 4 espaços afastados do *def* fará parte da função declarada. 4 espaços do teclado equivale a 1 TAB (1 identação). \n",
        "\n",
        "A função, se precisar retornar variáveis para o programa principal, termina com o *return* e ao lado do return as variáveis de saída. "
      ]
    },
    {
      "cell_type": "markdown",
      "metadata": {
        "id": "K7eD65XrxThx"
      },
      "source": [
        "Vamos ver alguns exemplos de funções."
      ]
    },
    {
      "cell_type": "markdown",
      "metadata": {
        "id": "OrlyHNAUxThx"
      },
      "source": [
        "## Função menor_dif"
      ]
    },
    {
      "cell_type": "code",
      "metadata": {
        "id": "ix5JLzRjxThx"
      },
      "source": [
        "def menor_dif(a, b, c):\n",
        "    dif1 = abs(a - b)\n",
        "    dif2 = abs(b - c)\n",
        "    dif3 = abs(a - c)\n",
        "    return min(dif1, dif2, dif3)"
      ],
      "execution_count": null,
      "outputs": []
    },
    {
      "cell_type": "markdown",
      "metadata": {
        "id": "HV7jgesCxThx"
      },
      "source": [
        "Criamos uma função chamada *menor_dif* que recebe três argumentos, *a*, *b* e *c*.\n",
        "\n",
        "Pode-se notar que a função começou com o cabeçalho introduzido pela palavra-chave *def*. O bloco recuado de código após: é executado quando a função é chamada.\n",
        "\n",
        "*return* é outra palavra-chave associada exclusivamente a funções. Quando o Python encontra uma instrução de retorno, ele sai da função imediatamente e passa o valor do lado direito para o contexto de chamada.\n",
        "\n",
        "Está claro o que *menor_dif()* faz? Se não tivermos certeza, podemos sempre experimentar com alguns exemplos:"
      ]
    },
    {
      "cell_type": "code",
      "metadata": {
        "id": "5x2o_ZtaxThx"
      },
      "source": [
        "menor_dif(1, 10, 100)"
      ],
      "execution_count": null,
      "outputs": []
    },
    {
      "cell_type": "code",
      "metadata": {
        "id": "48yI8hRExThy"
      },
      "source": [
        "menor_dif(1, 10, 10)"
      ],
      "execution_count": null,
      "outputs": []
    },
    {
      "cell_type": "code",
      "metadata": {
        "id": "cTqIXZl6xThy"
      },
      "source": [
        "menor_dif(5, 6, 7)"
      ],
      "execution_count": null,
      "outputs": []
    },
    {
      "cell_type": "code",
      "metadata": {
        "id": "usVbTldTxThy"
      },
      "source": [
        "help(menor_dif)"
      ],
      "execution_count": null,
      "outputs": []
    },
    {
      "cell_type": "markdown",
      "metadata": {
        "id": "5qzascB4xThy"
      },
      "source": [
        "Infelizmente o Python não é inteligente o suficiente para ler o meu código e transformá-lo em uma boa descrição em inglês. \n",
        "\n",
        "No entanto, quando escrevo uma função, posso fornecer uma descrição que é chamada de *docstring*. Nada mais é do que a documentação da função (descrição dos argumentos, exemplos de resultados, etc)."
      ]
    },
    {
      "cell_type": "code",
      "metadata": {
        "id": "bk2eQMjlxThy"
      },
      "source": [
        "def menor_dif(a, b, c):\n",
        "    '''\n",
        "    Retorna a menor diferença entre dois números quaisquer entre três números a, b e c.\n",
        "    exemplo: \n",
        "    >>> menor_dif(1,10,100):\n",
        "    9\n",
        "    '''\n",
        "    dif1 = abs(a - b)\n",
        "    dif2 = abs(b - c)\n",
        "    dif3 = abs(a - c)\n",
        "    return min(dif1, dif2, dif3)"
      ],
      "execution_count": null,
      "outputs": []
    },
    {
      "cell_type": "code",
      "metadata": {
        "id": "4n2MZ6ThxThy"
      },
      "source": [
        "help(menor_dif)"
      ],
      "execution_count": null,
      "outputs": []
    },
    {
      "cell_type": "markdown",
      "metadata": {
        "id": "pvxWKqC4xThz"
      },
      "source": [
        "O *help* pode sempre ser usado:"
      ]
    },
    {
      "cell_type": "code",
      "metadata": {
        "id": "LEFeRZmhxThz"
      },
      "source": [
        "help(np.random.randint)"
      ],
      "execution_count": null,
      "outputs": []
    },
    {
      "cell_type": "markdown",
      "metadata": {
        "id": "nivAJTaqxThz"
      },
      "source": [
        "## Exercício"
      ]
    },
    {
      "cell_type": "markdown",
      "metadata": {
        "id": "ZdzvzsQbxThz"
      },
      "source": [
        "### Crie uma função chamada arredonda2 que recebe um número real e retorna esse número com apenas 2 casas decimais"
      ]
    },
    {
      "cell_type": "code",
      "metadata": {
        "id": "Z6yDf13YxThz"
      },
      "source": [
        "def arredonda2(num):\n",
        "    '''\n",
        "    Funcao arredonda2 recebe um numero real e retorna esse numero com apenas 2 casas decimais\n",
        "    exemplo:\n",
        "    >> arredonda2(9.32432)\n",
        "    >> 9.32\n",
        "    ''' \n",
        "    #num = int(num*100)/100\n",
        "    num = round(num,2)\n",
        "    return num\n"
      ],
      "execution_count": null,
      "outputs": []
    },
    {
      "cell_type": "code",
      "metadata": {
        "id": "_DRZsB2GSf-P"
      },
      "source": [
        "def arredonda3(num):\n",
        "  numero = str(num)\n",
        "  a = numero.split(\".\")[0]\n",
        "  b = numero.split(\".\")[1]\n",
        "  print('b',b,b[:2])\n",
        "  print(f'{a}.{b[:2]}')"
      ],
      "execution_count": null,
      "outputs": []
    },
    {
      "cell_type": "code",
      "metadata": {
        "id": "ZREdhF0qRGVT"
      },
      "source": [
        "arredonda3(8.56463)"
      ],
      "execution_count": null,
      "outputs": []
    },
    {
      "cell_type": "code",
      "metadata": {
        "id": "iS8zPXbeQDiH"
      },
      "source": [
        "int(10.3249*1000)/1000"
      ],
      "execution_count": null,
      "outputs": []
    },
    {
      "cell_type": "code",
      "metadata": {
        "id": "PEoCHjnLPyfO"
      },
      "source": [
        "round(9.2445,2)"
      ],
      "execution_count": null,
      "outputs": []
    },
    {
      "cell_type": "markdown",
      "metadata": {
        "id": "EqTsjqm4xThz"
      },
      "source": [
        "Para essa função estamos assumindo que *num* é um número real. "
      ]
    },
    {
      "cell_type": "markdown",
      "metadata": {
        "id": "p8WwqGPWxTh0"
      },
      "source": [
        "### Crie uma função que receba uma lista de números e retorne somente os números pares contidos na lista. "
      ]
    },
    {
      "cell_type": "markdown",
      "metadata": {
        "id": "-gydTxutxTh0"
      },
      "source": [
        "Vamos assumir que a lista tem ao menos 10 elementos."
      ]
    },
    {
      "cell_type": "markdown",
      "metadata": {
        "id": "yOXL3FXr9ddq"
      },
      "source": [
        "1. Solução proposta 1:"
      ]
    },
    {
      "cell_type": "code",
      "metadata": {
        "id": "iE1AHDvzxTh0"
      },
      "source": [
        "def retorna_par(lista):\n",
        "    '''\n",
        "    A funcao ira receber lista e retornara somente os numeros pares de lista\n",
        "    exemplo:\n",
        "    >> retorna_par([1,2,3,4,5,6,7])\n",
        "    >> [2,4,6]\n",
        "    '''\n",
        "    lista2 = []\n",
        "    for i in range(len(lista)): \n",
        "      if lista[i]%2 == 0:\n",
        "        lista2.append(lista[i])\n",
        "    return lista2"
      ],
      "execution_count": null,
      "outputs": []
    },
    {
      "cell_type": "markdown",
      "metadata": {
        "id": "LcNPrOpt9gtx"
      },
      "source": [
        "2. Solução proposta 2:"
      ]
    },
    {
      "cell_type": "code",
      "metadata": {
        "id": "cL4BB1tPUHuz"
      },
      "source": [
        "def retorna_par2(lista):\n",
        "    lista2 = []\n",
        "    for i in lista: \n",
        "      if i%2 == 0:\n",
        "        lista2.append(i)\n",
        "    return lista2"
      ],
      "execution_count": null,
      "outputs": []
    },
    {
      "cell_type": "markdown",
      "metadata": {
        "id": "ABzY3pG_9m20"
      },
      "source": [
        "3. Solução proposta 3:"
      ]
    },
    {
      "cell_type": "code",
      "metadata": {
        "id": "poh783yRUo-o"
      },
      "source": [
        "def retorna_par3(lista):\n",
        "  listaPares = [i for i in lista if i%2 == 0]\n",
        "  return listaPares"
      ],
      "execution_count": null,
      "outputs": []
    },
    {
      "cell_type": "code",
      "metadata": {
        "id": "cXH5KJ55a442"
      },
      "source": [
        "lista = [1,2,3,4]"
      ],
      "execution_count": null,
      "outputs": []
    },
    {
      "cell_type": "code",
      "metadata": {
        "id": "g4bg75-da024"
      },
      "source": [
        "[i for i in lista if i%2 == 0]"
      ],
      "execution_count": null,
      "outputs": []
    },
    {
      "cell_type": "code",
      "metadata": {
        "id": "alT4styLTvQN"
      },
      "source": [
        "retorna_par3([1,2,3,4,5,6,7,8,9])"
      ],
      "execution_count": null,
      "outputs": []
    },
    {
      "cell_type": "markdown",
      "metadata": {
        "id": "OHK8ChPCxTh0"
      },
      "source": [
        "# DataFrame"
      ]
    },
    {
      "cell_type": "markdown",
      "metadata": {
        "id": "3FAMVharxTh0"
      },
      "source": [
        "Chegou a vez de falarmos da biblioteca **pandas**, que é a biblioteca mais popular para análise de dados. "
      ]
    },
    {
      "cell_type": "markdown",
      "metadata": {
        "id": "_8f90wtrxTh0"
      },
      "source": [
        "Para começarmos a usar *pandas*, primeiro precisamos importar essa biblioteca. Geralmente, a abreviação dada a *pandas* é *pd*. Contudo, como disse para a biblioteca *numpy*, as abreviações podem ser outras, somente convencionaram-se esses nomes e todo mundo sempre respeita isso. "
      ]
    },
    {
      "cell_type": "code",
      "metadata": {
        "id": "3GyEh6sNxTh1"
      },
      "source": [
        "import pandas as pd "
      ],
      "execution_count": null,
      "outputs": []
    },
    {
      "cell_type": "markdown",
      "metadata": {
        "id": "hNV6szimxTh1"
      },
      "source": [
        "Existem dois tipos de objetos em *pandas*:\n",
        "- Dataframe\n",
        "- Series"
      ]
    },
    {
      "cell_type": "markdown",
      "metadata": {
        "id": "-hSasBlcxTh1"
      },
      "source": [
        "Um DataFrame é uma tabela. Ele contém uma matriz de entradas individuais, cada uma com um determinado valor. Cada entrada corresponde a uma linha (ou registro) e uma coluna.\n",
        "\n",
        "Por exemplo, considere o seguinte DataFrame:"
      ]
    },
    {
      "cell_type": "code",
      "metadata": {
        "id": "KJbDq3QWxTh1"
      },
      "source": [
        "pd.DataFrame({'Sim': [50, 21,12], 'Nao': [131, 2,5]})"
      ],
      "execution_count": null,
      "outputs": []
    },
    {
      "cell_type": "markdown",
      "metadata": {
        "id": "KA7-qkktxTh1"
      },
      "source": [
        "Neste exemplo, a entrada \"0, Não\" tem o valor 131. A entrada \"0, Sim\" tem o valor 50 e assim por diante.\n",
        "\n",
        "As entradas de DataFrame não são limitadas a inteiros. Por exemplo, aqui está um DataFrame cujos valores são strings:"
      ]
    },
    {
      "cell_type": "code",
      "metadata": {
        "id": "oLPW9V-QxTh1"
      },
      "source": [
        "pd.DataFrame({'Bruno': ['Eu gostei.', 'Foi terrível.'], 'Suzana': ['Maravilhoso.', 'Sem graça.']})"
      ],
      "execution_count": null,
      "outputs": []
    },
    {
      "cell_type": "markdown",
      "metadata": {
        "id": "OGzQ9oGBxTh2"
      },
      "source": [
        "Estamos usando o construtor *pd.DataFrame( )* para gerar esses objetos *DataFrame*. \n",
        "\n",
        "A sintaxe para declarar um novo é um dicionário cujas chaves são os nomes das colunas (Buno e Suzana neste exemplo) e cujos valores são uma lista de entradas. Essa é a maneira padrão de construir um novo DataFrame."
      ]
    },
    {
      "cell_type": "markdown",
      "metadata": {
        "id": "gwJWvjE0xTh2"
      },
      "source": [
        "O construtor de lista de dicionário atribui valores aos rótulos de coluna, mas usa apenas uma contagem crescente de 0 (0, 1, 2, 3, ...) para os rótulos de linha. Às vezes, isso é normal, mas muitas vezes queremos atribuir esses rótulos nós mesmos.\n",
        "\n",
        "A lista de rótulos de linha usada em um *DataFrame* é conhecida como **índice**. Podemos atribuir valores a ele usando um parâmetro de índice em nosso construtor:"
      ]
    },
    {
      "cell_type": "code",
      "metadata": {
        "id": "LStA87B8xTh2"
      },
      "source": [
        "pd.DataFrame({'Bruno': ['Eu gostei.', 'Foi terrível.'], 'Suzana': ['Maravilhoso.', 'Sem graça.']}, \n",
        "             index=['Produto A', 'Produto B'] )"
      ],
      "execution_count": null,
      "outputs": []
    },
    {
      "cell_type": "code",
      "metadata": {
        "id": "nS5TeCpMdcA5"
      },
      "source": [
        "type(pd.DataFrame({'Bruno': ['Eu gostei.', 'Foi terrível.'], 'Suzana': ['Maravilhoso.', 'Sem graça.']}, \n",
        "             index=['Produto A', 'Produto B'] ))"
      ],
      "execution_count": null,
      "outputs": []
    },
    {
      "cell_type": "markdown",
      "metadata": {
        "id": "PWd27uDgxTh2"
      },
      "source": [
        "Em contraste, uma série é uma sequência de valores de dados. Se um *DataFrame* for uma tabela, *Series* é uma lista. E, na verdade, você pode criar uma série com nada mais do que uma lista:"
      ]
    },
    {
      "cell_type": "code",
      "metadata": {
        "id": "iDcwFr7hxTh2"
      },
      "source": [
        "pd.Series([1.3, 2.0, 3.2, 4, 5])"
      ],
      "execution_count": null,
      "outputs": []
    },
    {
      "cell_type": "code",
      "metadata": {
        "id": "yyIIryNWxTh2"
      },
      "source": [
        "type(pd.Series([1, 2, 3, 4, 5]))"
      ],
      "execution_count": null,
      "outputs": []
    },
    {
      "cell_type": "markdown",
      "metadata": {
        "id": "Cs7uDgxOxTh3"
      },
      "source": [
        "Uma série é, em essência, uma única coluna de um *DataFrame*. \n",
        "\n",
        "Portanto, você pode atribuir valores de coluna à série da mesma maneira que antes, usando um parâmetro de índice. No entanto, uma série não tem um nome de coluna: "
      ]
    },
    {
      "cell_type": "code",
      "metadata": {
        "id": "5I5yN-RaxTh3"
      },
      "source": [
        "pd.Series([30, 35, 40], index=['2021 vendas', '2020 vendas', '2019 vendas'])"
      ],
      "execution_count": null,
      "outputs": []
    },
    {
      "cell_type": "markdown",
      "metadata": {
        "id": "f9MICRyIxTh3"
      },
      "source": [
        "A série e o DataFrame estão intimamente relacionados. É útil pensar em um DataFrame como sendo apenas um monte de Séries \"coladas\"."
      ]
    },
    {
      "cell_type": "markdown",
      "metadata": {
        "id": "M6RrpXDBxTh4"
      },
      "source": [
        "Vamos revisitar o *DataFrame* que criamos na aula passada..."
      ]
    },
    {
      "cell_type": "code",
      "metadata": {
        "id": "s8DVZf8bxTh5"
      },
      "source": [
        "dfsono = pd.DataFrame({'Nome':['Amanda Lemette','Julia Potratz','Cezar Augusto','Patrick G.','Renan','Daiana Sicuro',\n",
        "                     'Denis Nascimento','Igor Rocha','Graziela Machado','Filipe Faria','Daniel Werneck',\n",
        "                     'Hudson Diniz','Jorge Junior','Marcos Silva','Gustavo Araujo','Daniel Galdino'],              \n",
        "              'horas':[7,5.5,6,7,8,8,7,7,6.5,7,7.5,6,8,7,7.5,5]})"
      ],
      "execution_count": null,
      "outputs": []
    },
    {
      "cell_type": "code",
      "metadata": {
        "id": "s8-u3O9BxTh5"
      },
      "source": [
        "dfsono"
      ],
      "execution_count": null,
      "outputs": []
    },
    {
      "cell_type": "markdown",
      "metadata": {
        "id": "6xNnfbhnxTh6"
      },
      "source": [
        "## Visualização das primeiras 5 linhas do DataFrame"
      ]
    },
    {
      "cell_type": "code",
      "metadata": {
        "id": "jcLH1p4bxTh6"
      },
      "source": [
        "dfsono.head()"
      ],
      "execution_count": null,
      "outputs": []
    },
    {
      "cell_type": "markdown",
      "metadata": {
        "id": "phqIPYEvxTh7"
      },
      "source": [
        "- E se quisermos visualizar somente 3 linhas, como fazer?"
      ]
    },
    {
      "cell_type": "code",
      "metadata": {
        "id": "Ed5ghwoxxTh7"
      },
      "source": [
        "dfsono.head(3)"
      ],
      "execution_count": null,
      "outputs": []
    },
    {
      "cell_type": "code",
      "metadata": {
        "id": "9l0LKJROeNnO"
      },
      "source": [
        "dfsono.head(10)"
      ],
      "execution_count": null,
      "outputs": []
    },
    {
      "cell_type": "markdown",
      "metadata": {
        "id": "1Lu-0i8MxTh8"
      },
      "source": [
        "## Visualização das últimas 5 linhas do DataFrame"
      ]
    },
    {
      "cell_type": "code",
      "metadata": {
        "id": "ZVW_Y-ajxTh8"
      },
      "source": [
        "dfsono.tail()"
      ],
      "execution_count": null,
      "outputs": []
    },
    {
      "cell_type": "code",
      "metadata": {
        "id": "a4oWKcV4eYL-"
      },
      "source": [
        "dfsono.tail(2)"
      ],
      "execution_count": null,
      "outputs": []
    },
    {
      "cell_type": "markdown",
      "metadata": {
        "id": "7MdMDS74xTh8"
      },
      "source": [
        "## Adição de novas entradas no DataFrame"
      ]
    },
    {
      "cell_type": "markdown",
      "metadata": {
        "id": "-aHXpQw7xTh8"
      },
      "source": [
        "### Adição de registro único: append"
      ]
    },
    {
      "cell_type": "code",
      "metadata": {
        "id": "oM7KT52hfgh4"
      },
      "source": [
        "df = {'Nome':['Ana Maria'],'horas':[5]}\n",
        "df"
      ],
      "execution_count": null,
      "outputs": []
    },
    {
      "cell_type": "code",
      "metadata": {
        "id": "5OVHB1b5fnNo"
      },
      "source": [
        "df = pd.DataFrame(df)\n",
        "df"
      ],
      "execution_count": null,
      "outputs": []
    },
    {
      "cell_type": "code",
      "metadata": {
        "id": "vnOKSouIfVsh"
      },
      "source": [
        "dfsono.append(df,ignore_index = True)"
      ],
      "execution_count": null,
      "outputs": []
    },
    {
      "cell_type": "code",
      "metadata": {
        "id": "9dDuSNZZxTh9"
      },
      "source": [
        "dfsono = dfsono.append({'Nome':'Ana Maria','horas':5},ignore_index = True)"
      ],
      "execution_count": null,
      "outputs": []
    },
    {
      "cell_type": "code",
      "metadata": {
        "id": "myukUn3MgW7b"
      },
      "source": [
        "dfsono "
      ],
      "execution_count": null,
      "outputs": []
    },
    {
      "cell_type": "markdown",
      "metadata": {
        "id": "sPM7iXGixTh-"
      },
      "source": [
        "Repare que foi preciso escrever o comando *ignore_index = True*. Se ele for removido, ao rodar a célula, dá erro. O *ignore_index = True* irá permitir com que o novo registro receba como índice o número seguinte ao último índice do DataFrame dfsono. \n",
        "\n",
        "Se o *ignore_index = True* não for usado, ele resulta em erro, pois o registro que estamos adicionando nesse caso não tem índice nenhum associado a ele, o que faz com que o Python fique perdido aqui. \n",
        "\n",
        "Contudo, se formos fazer a adição de um outro DataFrame, o *ignore_index = True* já não se faz mais obrigatório, vamos testar. "
      ]
    },
    {
      "cell_type": "markdown",
      "metadata": {
        "id": "6SIRFRlpxTh_"
      },
      "source": [
        "### Adição de registros de modo simultâneo: "
      ]
    },
    {
      "cell_type": "code",
      "metadata": {
        "id": "on1by6JexTh_"
      },
      "source": [
        "dic = {'Nome':['Pedro Humberto','Leonardo Dantas'], 'horas':[4.5,7.5]}"
      ],
      "execution_count": null,
      "outputs": []
    },
    {
      "cell_type": "code",
      "metadata": {
        "id": "9-JG8E1XxTh_"
      },
      "source": [
        "dic "
      ],
      "execution_count": null,
      "outputs": []
    },
    {
      "cell_type": "markdown",
      "metadata": {
        "id": "46XoiwUXxTh_"
      },
      "source": [
        "Criado o dicionário com nome *dic*, agora, precisamos converter esse dicionário em um novo *DataFrame*:"
      ]
    },
    {
      "cell_type": "code",
      "metadata": {
        "id": "SG-42C27xTh_"
      },
      "source": [
        "df_dic = pd.DataFrame(dic)\n",
        "df_dic"
      ],
      "execution_count": null,
      "outputs": []
    },
    {
      "cell_type": "markdown",
      "metadata": {
        "id": "1bTae4cKxTh_"
      },
      "source": [
        "Agora, podemos adicionar o *DataFrame* *df_dic* em *dfsono*:"
      ]
    },
    {
      "cell_type": "code",
      "metadata": {
        "id": "SaTMAuwOxTiA"
      },
      "source": [
        "dfsono = dfsono.append(df_dic)\n",
        "dfsono.tail(3)"
      ],
      "execution_count": null,
      "outputs": []
    },
    {
      "cell_type": "markdown",
      "metadata": {
        "id": "VucXWvIVxTiA"
      },
      "source": [
        "Como o *ignore_index = True* não foi usado, os novos registros adicionados reinicializaram a numeração dos índices de *dfsono*."
      ]
    },
    {
      "cell_type": "markdown",
      "metadata": {
        "id": "NEZIAPE7xTiA"
      },
      "source": [
        "### Reinicialização dos índices de um DataFrame"
      ]
    },
    {
      "cell_type": "markdown",
      "metadata": {
        "id": "pUiZglqvxTiA"
      },
      "source": [
        "Para reincializar os índices do DataFrame, fazemos uso de: .reset_index(drop = True). \n",
        "\n",
        "O *drop=True* não é obrigatório, porém ao não incluí-lo, os índices antigos passarão a compor a primeira coluna do *DataFrame* atualizado. "
      ]
    },
    {
      "cell_type": "code",
      "metadata": {
        "id": "4UxC3--CxTiA"
      },
      "source": [
        "dfsono = dfsono.reset_index(drop = True)\n",
        "dfsono"
      ],
      "execution_count": null,
      "outputs": []
    },
    {
      "cell_type": "code",
      "metadata": {
        "id": "1HteBaOOxTiA"
      },
      "source": [
        ""
      ],
      "execution_count": null,
      "outputs": []
    },
    {
      "cell_type": "markdown",
      "metadata": {
        "id": "FDyFSGQZxTiA"
      },
      "source": [
        "### Uso do LOC & ILOC"
      ]
    },
    {
      "cell_type": "markdown",
      "metadata": {
        "id": "sCkk6wCFxTiB"
      },
      "source": [
        "Os comandos *loc* e *iloc* se diferenciam quando os índices do DataFrame são diferentes das posições. Por exemplo:"
      ]
    },
    {
      "cell_type": "code",
      "metadata": {
        "id": "IEllmW5oxTiB"
      },
      "source": [
        "df = pd.DataFrame({'a':[23,24,25],'b':[54,53,52],'c':[65,64,67]})"
      ],
      "execution_count": null,
      "outputs": []
    },
    {
      "cell_type": "code",
      "metadata": {
        "id": "g0G9oTGPxTiB"
      },
      "source": [
        "df"
      ],
      "execution_count": null,
      "outputs": []
    },
    {
      "cell_type": "markdown",
      "metadata": {
        "id": "7zcHIeKFxTiB"
      },
      "source": [
        "Nesse caso, se quisermos imprimir o número 64 da coluna c, fazemos:"
      ]
    },
    {
      "cell_type": "code",
      "metadata": {
        "id": "MQ-sdIM-xTiB"
      },
      "source": [
        "df['c'].loc[1]"
      ],
      "execution_count": null,
      "outputs": []
    },
    {
      "cell_type": "code",
      "metadata": {
        "id": "zUE56GxOxTiC"
      },
      "source": [
        "df['c'].iloc[1]"
      ],
      "execution_count": null,
      "outputs": []
    },
    {
      "cell_type": "code",
      "metadata": {
        "id": "_z1ce3aKxTiC"
      },
      "source": [
        "df['c'][1] "
      ],
      "execution_count": null,
      "outputs": []
    },
    {
      "cell_type": "code",
      "metadata": {
        "id": "mAqqElIYxTiC"
      },
      "source": [
        "df.iloc[1][2] # [1] = linha e [2] = posição da coluna "
      ],
      "execution_count": null,
      "outputs": []
    },
    {
      "cell_type": "code",
      "metadata": {
        "id": "SDdKuFjaxTiC",
        "scrolled": true
      },
      "source": [
        "df.loc[1][2] # [1] = linha e [2] = posição da coluna "
      ],
      "execution_count": null,
      "outputs": []
    },
    {
      "cell_type": "markdown",
      "metadata": {
        "id": "_blghsCUxTiC"
      },
      "source": [
        "Como você pôde ver, não houve diferença entre o *loc* e *iloc. Agora, vamos modificar o *DataFrame* df:"
      ]
    },
    {
      "cell_type": "code",
      "metadata": {
        "id": "M9g4p8oExTiC"
      },
      "source": [
        "df = pd.DataFrame({'a':[23,24,25],'b':[54,53,52],'c':[65,64,67]}, \n",
        "                  index = ['A','B','C'])"
      ],
      "execution_count": null,
      "outputs": []
    },
    {
      "cell_type": "code",
      "metadata": {
        "id": "b3EqXuXExTiC"
      },
      "source": [
        "df"
      ],
      "execution_count": null,
      "outputs": []
    },
    {
      "cell_type": "markdown",
      "metadata": {
        "id": "BZI_ZLJ3xTiD"
      },
      "source": [
        "Como imprimimos o valor 64 da coluna c?"
      ]
    },
    {
      "cell_type": "code",
      "metadata": {
        "id": "ScXLvHzPxTiD"
      },
      "source": [
        "df['c'].loc['B']"
      ],
      "execution_count": null,
      "outputs": []
    },
    {
      "cell_type": "code",
      "metadata": {
        "id": "1m1e9a1njyKD"
      },
      "source": [
        "df['c'].loc[1]"
      ],
      "execution_count": null,
      "outputs": []
    },
    {
      "cell_type": "code",
      "metadata": {
        "id": "l9Q7S9SPxTiD"
      },
      "source": [
        "df['c'].iloc[1]"
      ],
      "execution_count": null,
      "outputs": []
    },
    {
      "cell_type": "code",
      "metadata": {
        "id": "Ls-kI7UJxTiD"
      },
      "source": [
        "df['c'][1] "
      ],
      "execution_count": null,
      "outputs": []
    },
    {
      "cell_type": "code",
      "metadata": {
        "id": "Phf0R-YBxTiD"
      },
      "source": [
        "df.iloc[1][2] # [1] = linha e [2] = posição da coluna "
      ],
      "execution_count": null,
      "outputs": []
    },
    {
      "cell_type": "code",
      "metadata": {
        "id": "hRMvvlyoxTiD",
        "scrolled": true
      },
      "source": [
        "df.loc['B'][2] # [1] = linha e [2] = posição da coluna "
      ],
      "execution_count": null,
      "outputs": []
    },
    {
      "cell_type": "markdown",
      "metadata": {
        "id": "xcUo6xBtxTiE"
      },
      "source": [
        "O comando **loc** exige que você forneça o nome do índice, já o comando **iloc** pede a posição do índice daquele elemento que você procura. No caso, 64 se encontra na linha com índice 'B' que está na posição **1**. "
      ]
    },
    {
      "cell_type": "code",
      "metadata": {
        "id": "pBgwQ26hkYOH"
      },
      "source": [
        "df['b']"
      ],
      "execution_count": null,
      "outputs": []
    },
    {
      "cell_type": "code",
      "metadata": {
        "id": "9LyUSpxrkd5r"
      },
      "source": [
        "df.b"
      ],
      "execution_count": null,
      "outputs": []
    },
    {
      "cell_type": "code",
      "metadata": {
        "id": "GXIDzECOkv8a"
      },
      "source": [
        "df"
      ],
      "execution_count": null,
      "outputs": []
    },
    {
      "cell_type": "code",
      "metadata": {
        "id": "A2E_9Tlgkp_I"
      },
      "source": [
        "df.loc['B']"
      ],
      "execution_count": null,
      "outputs": []
    },
    {
      "cell_type": "code",
      "metadata": {
        "id": "HXdqPXr8k0in"
      },
      "source": [
        "df.loc[:,'b']"
      ],
      "execution_count": null,
      "outputs": []
    },
    {
      "cell_type": "code",
      "metadata": {
        "id": "46eXGXrFk7xy"
      },
      "source": [
        "df"
      ],
      "execution_count": null,
      "outputs": []
    },
    {
      "cell_type": "code",
      "metadata": {
        "id": "7UcBHh4AlDus"
      },
      "source": [
        "df2 = pd.DataFrame({'A':[23,24,25],'B':[54,53,52],'C':[65,64,67]}, \n",
        "                  index = ['A','B','C'])"
      ],
      "execution_count": null,
      "outputs": []
    },
    {
      "cell_type": "code",
      "metadata": {
        "id": "FCaMIuuqlKJ3"
      },
      "source": [
        "df2"
      ],
      "execution_count": null,
      "outputs": []
    },
    {
      "cell_type": "code",
      "metadata": {
        "id": "gcbjQWiYlLMK"
      },
      "source": [
        "df2['B'].loc['C']"
      ],
      "execution_count": null,
      "outputs": []
    },
    {
      "cell_type": "markdown",
      "metadata": {
        "id": "NL8jjVuxxTiE"
      },
      "source": [
        "#### Exercício: Usando o loc e o iloc também imprima o número 52 que está na coluna b."
      ]
    },
    {
      "cell_type": "code",
      "metadata": {
        "id": "PKZp9S7NxTiE"
      },
      "source": [
        "df['b'].loc['C']"
      ],
      "execution_count": null,
      "outputs": []
    },
    {
      "cell_type": "code",
      "metadata": {
        "id": "lx5bOL8ixTiE"
      },
      "source": [
        "df['b'].iloc[2]"
      ],
      "execution_count": null,
      "outputs": []
    },
    {
      "cell_type": "markdown",
      "metadata": {
        "id": "WFOddRjmxTiE"
      },
      "source": [
        "### Mudança de algum elemento dentro de um DataFrame"
      ]
    },
    {
      "cell_type": "markdown",
      "metadata": {
        "id": "B5WsalqgxTiE"
      },
      "source": [
        "Vamos, agora, retornar ao DataFrame *dfsono*:"
      ]
    },
    {
      "cell_type": "code",
      "metadata": {
        "id": "BUwQX4D0xTiE"
      },
      "source": [
        "dfsono"
      ],
      "execution_count": null,
      "outputs": []
    },
    {
      "cell_type": "markdown",
      "metadata": {
        "id": "IfwDSB6NxTiF"
      },
      "source": [
        "Vamos alterar o nome Julia para João Neto:"
      ]
    },
    {
      "cell_type": "code",
      "metadata": {
        "id": "l51oEAcmxTiF"
      },
      "source": [
        "dfsono['Nome'].iloc[1] = 'João Neto'"
      ],
      "execution_count": null,
      "outputs": []
    },
    {
      "cell_type": "code",
      "metadata": {
        "id": "7IPRHq7kxTiF"
      },
      "source": [
        "dfsono.head()"
      ],
      "execution_count": null,
      "outputs": []
    },
    {
      "cell_type": "markdown",
      "metadata": {
        "id": "sM_ISeXJxTiF"
      },
      "source": [
        "### Ordenação do DataFrame"
      ]
    },
    {
      "cell_type": "markdown",
      "metadata": {
        "id": "z8oaEmq3xTiF"
      },
      "source": [
        "Para ordenar o *DataFrame* fazemos uso de *sort_values*.\n",
        "\n",
        "https://bit.ly/3i490U6"
      ]
    },
    {
      "cell_type": "code",
      "metadata": {
        "id": "MEBnzEVVxTiG"
      },
      "source": [
        "dfsono.head()"
      ],
      "execution_count": null,
      "outputs": []
    },
    {
      "cell_type": "code",
      "metadata": {
        "id": "Mk4atIkZmdGN"
      },
      "source": [
        "dfsono.sort_values('Nome',ascending = False)"
      ],
      "execution_count": null,
      "outputs": []
    },
    {
      "cell_type": "markdown",
      "metadata": {
        "id": "9nwGbHjyoFFI"
      },
      "source": [
        "1. Ordenação primeiro pelas horas e depois pelos nomes, seguindo ordem crescente e alfabética."
      ]
    },
    {
      "cell_type": "code",
      "metadata": {
        "id": "gk8-XBqcoC6-"
      },
      "source": [
        "dfsono.sort_values(by = ['horas','Nome'])"
      ],
      "execution_count": null,
      "outputs": []
    },
    {
      "cell_type": "markdown",
      "metadata": {
        "id": "xlqJsTHQoMOw"
      },
      "source": [
        "2. Ordenação primeiro pelas horas (crescente) e depois pelos nomes (não alfabetica)"
      ]
    },
    {
      "cell_type": "code",
      "metadata": {
        "id": "aYOaA6wPnH_e"
      },
      "source": [
        "dfsono.sort_values(by = ['horas','Nome'],ascending = [True,False])"
      ],
      "execution_count": null,
      "outputs": []
    },
    {
      "cell_type": "code",
      "metadata": {
        "id": "0JOcccBmmwWI"
      },
      "source": [
        "dfsono.sort_values('horas')"
      ],
      "execution_count": null,
      "outputs": []
    },
    {
      "cell_type": "markdown",
      "metadata": {
        "id": "Hvd9hynMxTiG"
      },
      "source": [
        "### Remover linha do DataFrame"
      ]
    },
    {
      "cell_type": "markdown",
      "metadata": {
        "id": "IWjS_NMcxTiG"
      },
      "source": [
        "Geralmente, para a exclusão de uma linha do DataFrame, utilizamos o comando *drop* (https://bit.ly/3i5GiCj).\n",
        "\n",
        "Vamos excluir a linha de índice 4 do DataFrame *dfsono*."
      ]
    },
    {
      "cell_type": "code",
      "metadata": {
        "id": "V5nXyI95xTiG"
      },
      "source": [
        "dfsono.head()"
      ],
      "execution_count": null,
      "outputs": []
    },
    {
      "cell_type": "code",
      "metadata": {
        "id": "RynwTp7WrfoO"
      },
      "source": [
        "dfsono.head()"
      ],
      "execution_count": null,
      "outputs": []
    },
    {
      "cell_type": "code",
      "metadata": {
        "id": "Sm0RTCm9rOHs"
      },
      "source": [
        "dfsono.drop(1).reset_index(drop = True)"
      ],
      "execution_count": null,
      "outputs": []
    },
    {
      "cell_type": "code",
      "metadata": {
        "id": "bZNM_DhDpJYi"
      },
      "source": [
        "dfsono.drop([3,4]) #. drop([linha ou linhas que queremos excluir])"
      ],
      "execution_count": null,
      "outputs": []
    },
    {
      "cell_type": "code",
      "metadata": {
        "id": "yl0A7q8PxTiG"
      },
      "source": [
        ""
      ],
      "execution_count": null,
      "outputs": []
    },
    {
      "cell_type": "markdown",
      "metadata": {
        "id": "UW2GpSuMxTiG"
      },
      "source": [
        "### Adicionar nova coluna no DataFrame"
      ]
    },
    {
      "cell_type": "markdown",
      "metadata": {
        "id": "x-_gwznMxTiG"
      },
      "source": [
        "A adição de colunas no *DataFrame* é bem simples, na verdade, para isso basta escrevermos o nome do DataFrame e entre [ ], escrevemos o nome da nova coluna, vamos ver um exemplo."
      ]
    },
    {
      "cell_type": "code",
      "metadata": {
        "id": "ARRiZO_WqblF"
      },
      "source": [
        "dfsono.tail(2)"
      ],
      "execution_count": null,
      "outputs": []
    },
    {
      "cell_type": "code",
      "metadata": {
        "id": "GhujltMfxTiH"
      },
      "source": [
        "dfsono['ansiedade'] = ['alta','baixa','normal','alta','alta',\n",
        "                       'baixa','normal','alta','alta','baixa',\n",
        "                       'normal','alta','alta','baixa','normal','alta'\n",
        "                       ,'baixa','normal','alta']"
      ],
      "execution_count": null,
      "outputs": []
    },
    {
      "cell_type": "code",
      "metadata": {
        "id": "tL9s4ukAxTiH"
      },
      "source": [
        "dfsono.head(2)"
      ],
      "execution_count": null,
      "outputs": []
    },
    {
      "cell_type": "code",
      "metadata": {
        "id": "7XMB_S7xxTiH"
      },
      "source": [
        "dfsono.tail(2)"
      ],
      "execution_count": null,
      "outputs": []
    },
    {
      "cell_type": "markdown",
      "metadata": {
        "id": "ur3VqCgoxTiH"
      },
      "source": [
        "### Remover coluna no DataFrame"
      ]
    },
    {
      "cell_type": "markdown",
      "metadata": {
        "id": "3QuLu1zqxTiH"
      },
      "source": [
        "Agora, remova a coluna *ansiedade* do DataFrame *dfsono* utilizando *drop*. \n",
        "\n",
        "Lembrando que *drop* como default elimina a linha do *DataFrame*, para eliminar a coluna precisamos informar isso ao Python pelo comando **axis = 1**."
      ]
    },
    {
      "cell_type": "code",
      "metadata": {
        "id": "uhBTuRSkxTiH"
      },
      "source": [
        "dfsono.drop('ansiedade',axis = 1)"
      ],
      "execution_count": null,
      "outputs": []
    },
    {
      "cell_type": "code",
      "metadata": {
        "id": "9j83ChGxp7MP"
      },
      "source": [
        "dfsono.drop(columns = {'ansiedade'})"
      ],
      "execution_count": null,
      "outputs": []
    },
    {
      "cell_type": "code",
      "metadata": {
        "id": "qoMnlKoDqGKt"
      },
      "source": [
        "dfsono['nova_coluna'] = np.nan"
      ],
      "execution_count": null,
      "outputs": []
    },
    {
      "cell_type": "code",
      "metadata": {
        "id": "6YbVtS0mqPf1"
      },
      "source": [
        "dfsono.head()"
      ],
      "execution_count": null,
      "outputs": []
    },
    {
      "cell_type": "markdown",
      "metadata": {
        "id": "sj_zUtYmxTiH"
      },
      "source": [
        "### Segmentar os dados de um DataFrame dentro de intervalos"
      ]
    },
    {
      "cell_type": "markdown",
      "metadata": {
        "id": "8A6ikU2wxTiI"
      },
      "source": [
        "Na última aula, conhecemos o comando .cut (https://bit.ly/3BKDdPQ).\n",
        "\n",
        "O que ele faz?\n",
        "\n",
        "Ele classifica determinada coluna (que contém dados numéricos) do DataFrame dentro de intervalos de números. Por exemplo:"
      ]
    },
    {
      "cell_type": "markdown",
      "metadata": {
        "id": "eMgeWWKCxTiI"
      },
      "source": [
        "Vamos criar uma lista, chamada *intervalos*, que contém os seguintes intervalos:"
      ]
    },
    {
      "cell_type": "code",
      "metadata": {
        "id": "6dVSdj_HxTiI"
      },
      "source": [
        "intervalos = ['0-5.5','5.5-6.5','6.5-7.5','> 7.5']\n",
        "intervalos"
      ],
      "execution_count": null,
      "outputs": []
    },
    {
      "cell_type": "markdown",
      "metadata": {
        "id": "ljD5FZyLxTiI"
      },
      "source": [
        "Contudo, essa lista é uma lista de strings e o Python não consegue entender que '0-5.5' significa números que são iguais ou maiores do que 0 e menores do que 5.5. Para que o Python faça essa interpretação corretamente, precisamos criar outra lista, mas que seja de números:"
      ]
    },
    {
      "cell_type": "code",
      "metadata": {
        "id": "3TDVuEbLxTiI"
      },
      "source": [
        "intervalos_num = [-1,5.5,6.5,7.5,24]\n",
        "intervalos_num"
      ],
      "execution_count": null,
      "outputs": []
    },
    {
      "cell_type": "markdown",
      "metadata": {
        "id": "4CA6EQcBxTiI"
      },
      "source": [
        "Agora sim, com a lista *intervalos_num*, o Python interpreta do seguinte modo:\n",
        "\n",
        "- O primeiro intervalo será entre 0 e 5.5, incluindo o 0 e excluindo o 5.5.\n",
        "- O segundo intervalo será entre 5.5 e 6.5, incluindo o 5.5 e excluindo o 6.5.\n",
        "- O terceiro intervalo será entre 6.5 e 7.5, incluindo o 6.5 e excluindo o 7.5.\n",
        "- O quarto intervalo será entre 7.5 e 24, incluindo o 7.5 e excluindo o 24.\n",
        "\n",
        "Matematicamente, os intervalos são: \n",
        "- intervalo 1: [0,5.5[\n",
        "- intervalo 2: [5.5,6.5[\n",
        "- intervalo 3: [6.5,7.5[\n",
        "- intervalo 7: [7.5,24["
      ]
    },
    {
      "cell_type": "markdown",
      "metadata": {
        "id": "peCSAg-2xTiJ"
      },
      "source": [
        "E a lista *intervalos* é a lista *label* que dá nome aos intervalos. \n",
        "Assim, temos:\n",
        "\n",
        "- intervalo 1: [0,5.5[ ; label: '0-5.5'\n",
        "- intervalo 2: [5.5,6.5[ ; label: '5.5-6.5'\n",
        "- intervalo 3: [6.5,7.5[ ; label: '6.5-7.5'\n",
        "- intervalo 7: [7.5,24[ ; label: '> 7.5\n"
      ]
    },
    {
      "cell_type": "markdown",
      "metadata": {
        "id": "RJLbvrC1xTiJ"
      },
      "source": [
        "O comando *cut* irá então receber como entrada:\n",
        "\n",
        "- coluna do DataFrame que irá ser classificada\n",
        "- lista intervalos_num\n",
        "- lista intervalos"
      ]
    },
    {
      "cell_type": "markdown",
      "metadata": {
        "id": "Pt-RD8isxTiJ"
      },
      "source": [
        "Vamos aplicar o cut na coluna *horas* do DataFrame *dfsono* para que as horas de sono de cada pessoas seja classificada dentro dos intervalos especificados na lista *intervalos_num*. O método *cut* irá identificar a qual intervalo aquela hora pertence e como resposta irá imprimir o label daquele intervalo. O resultado dessa classificação será salvo em uma nova coluna no DataFrame *dfsono* que iremos chamas de *duracao*."
      ]
    },
    {
      "cell_type": "code",
      "metadata": {
        "id": "zVAp9hwJ940Q"
      },
      "source": [
        "dfsono = pd.DataFrame({'Nome':['Amanda Lemette','Julia Potratz','Cezar Augusto','Patrick G.','Renan','Daiana Sicuro',\n",
        "                     'Denis Nascimento','Igor Rocha','Graziela Machado','Filipe Faria','Daniel Werneck',\n",
        "                     'Hudson Diniz','Jorge Junior','Marcos Silva','Gustavo Araujo','Daniel Galdino'],              \n",
        "              'horas':[7,5.5,6,7,8,8,7,7,6.5,7,7.5,6,8,7,7.5,5]})"
      ],
      "execution_count": null,
      "outputs": []
    },
    {
      "cell_type": "code",
      "metadata": {
        "id": "veAhVn2TxTiJ"
      },
      "source": [
        "dfsono['duracao'] = pd.cut(dfsono['horas'],intervalos_num,labels = intervalos) "
      ],
      "execution_count": null,
      "outputs": []
    },
    {
      "cell_type": "code",
      "metadata": {
        "id": "kqhixVWUxTiJ"
      },
      "source": [
        "dfsono"
      ],
      "execution_count": null,
      "outputs": []
    },
    {
      "cell_type": "markdown",
      "metadata": {
        "id": "_KLwCXQb3yJh"
      },
      "source": [
        "# Leitura de Arquivos em Python"
      ]
    },
    {
      "cell_type": "markdown",
      "metadata": {
        "id": "kNe2nwQn3yJh"
      },
      "source": [
        "## Leitura de arquivo de excel"
      ]
    },
    {
      "cell_type": "markdown",
      "metadata": {
        "id": "clcsunIb3yJh"
      },
      "source": [
        "Vamos ler a base de dados que se encontra no seguinte link do Kaggle: https://bit.ly/3l5ejEE"
      ]
    },
    {
      "cell_type": "markdown",
      "metadata": {
        "id": "Ojfr4ATw3yJi"
      },
      "source": [
        "Faça o download da base de dados e salve o arquivo *all-euro-data-2019-2020.xlsx* na pasta do seu Google Drive *Colab Notebooks*."
      ]
    },
    {
      "cell_type": "markdown",
      "metadata": {
        "id": "1AJ-27NS3yJi"
      },
      "source": [
        "Para fazer a leitura de um arquivo com extensão .xlsx vamos precisar primeiro importar a biblioteca *pandas*. "
      ]
    },
    {
      "cell_type": "code",
      "metadata": {
        "id": "TCZGEZa93yJi"
      },
      "source": [
        "import pandas as pd "
      ],
      "execution_count": null,
      "outputs": []
    },
    {
      "cell_type": "markdown",
      "metadata": {
        "id": "ka0ESwyY3yJi"
      },
      "source": [
        "Depois, vamos utilizar a função *read_excel* da biblioteca *pandas*. Essa função recebe como variável de entrada o nome do arquivo que você tem interesse em fazer a leitura, nesse caso, *all-euro-data-2019-2020.xlsx*. "
      ]
    },
    {
      "cell_type": "code",
      "metadata": {
        "id": "2230UsFv_mcU"
      },
      "source": [
        "!ls"
      ],
      "execution_count": null,
      "outputs": []
    },
    {
      "cell_type": "code",
      "metadata": {
        "id": "uAkrIqus3yJi"
      },
      "source": [
        "df = pd.read_excel('all-euro-data-2019-2020.xlsx')  "
      ],
      "execution_count": null,
      "outputs": []
    },
    {
      "cell_type": "markdown",
      "metadata": {
        "id": "w47HH8zy3yJi"
      },
      "source": [
        "Na célula acima, fizemos a leitura do arquivo *all-euro-data-2019-2020.xlsx* e a variável *df* recebeu esse arquivo. "
      ]
    },
    {
      "cell_type": "code",
      "metadata": {
        "id": "RyuQsEZX3yJi"
      },
      "source": [
        "df "
      ],
      "execution_count": null,
      "outputs": []
    },
    {
      "cell_type": "markdown",
      "metadata": {
        "id": "LazfXdN43yJi"
      },
      "source": [
        "Podemos ver que a leitura foi feita do modo correto, já que conseguimos ver que as colunas foram identificadas como deveriam e as linhas também. "
      ]
    },
    {
      "cell_type": "markdown",
      "metadata": {
        "id": "i39LF84n3yJi"
      },
      "source": [
        "De acordo com a descrição fornecida no site da base de dados, as colunas significam:\n",
        "\n",
        "- Div = League Division\n",
        "- Date = Match Date (dd/mm/yy)\n",
        "- Time = Time of match kick off\n",
        "- HomeTeam = Home Team\n",
        "- AwayTeam = Away Team\n",
        "- FTHG and HG = Full Time Home Team Goals\n",
        "- FTAG and AG = Full Time Away Team Goals\n",
        "- FTR and Res = Full Time Result (H=Home Win, D=Draw, A=Away Win)\n",
        "- HTHG = Half Time Home Team Goals\n",
        "- HTAG = Half Time Away Team Goals\n",
        "- HTR = Half Time Result (H=Home Win, D=Draw, A=Away Win)\n",
        "\n",
        "Estatísticas de cada partida (se disponíveis):\n",
        "\n",
        "- Attendance = Crowd Attendance\n",
        "- Referee = Match Referee\n",
        "- HS = Home Team Shots\n",
        "- AS = Away Team Shots\n",
        "- HST = Home Team Shots on Target\n",
        "- AST = Away Team Shots on Target\n",
        "- HHW = Home Team Hit Woodwork\n",
        "- AHW = Away Team Hit Woodwork\n",
        "- HC = Home Team Corners\n",
        "- AC = Away Team Corners\n",
        "- HF = Home Team Fouls Committed\n",
        "- AF = Away Team Fouls Committed\n",
        "- HFKC = Home Team Free Kicks Conceded\n",
        "- AFKC = Away Team Free Kicks Conceded\n",
        "- HO = Home Team Offsides\n",
        "- AO = Away Team Offsides\n",
        "- HY = Home Team Yellow Cards\n",
        "- AY = Away Team Yellow Cards\n",
        "- HR = Home Team Red Cards\n",
        "- AR = Away Team Red Cards\n",
        "- HBP = Home Team Bookings Points (10 = yellow, 25 = red)\n",
        "- ABP = Away Team Bookings Points (10 = yellow, 25 = red)\n"
      ]
    },
    {
      "cell_type": "markdown",
      "metadata": {
        "id": "iQzRnV7o3yJj"
      },
      "source": [
        "Vamos analisar as primeiras 5 linhas de *df*:"
      ]
    },
    {
      "cell_type": "code",
      "metadata": {
        "id": "RqmFQwH63yJj"
      },
      "source": [
        "df.head()"
      ],
      "execution_count": null,
      "outputs": []
    },
    {
      "cell_type": "markdown",
      "metadata": {
        "id": "fE2uiu-U3yJj"
      },
      "source": [
        "Vamos agora visualizar as últimas 5 linhas de *df*."
      ]
    },
    {
      "cell_type": "code",
      "metadata": {
        "id": "5uxPFGVT3yJj"
      },
      "source": [
        "df.tail()"
      ],
      "execution_count": null,
      "outputs": []
    },
    {
      "cell_type": "markdown",
      "metadata": {
        "id": "QJ6HmhHw3yJj"
      },
      "source": [
        "Bom, esse *DataFrame* possui no total 320 linhas e 106 colunas. "
      ]
    },
    {
      "cell_type": "markdown",
      "metadata": {
        "id": "nAyalWR53yJj"
      },
      "source": [
        "Ao abrir o arquivo no computador, vemos que *all-euro-data-2019-2020.xlsx* possui várias planilhas. De acordo com a informação no site, cada planilha refere-se a uma liga diferente. \n",
        "\n",
        "Contudo, pelo procedimento feito aqui, somente fizemos a leitura da primeira planilha, identificada no Excel como *E0*. \n",
        "\n",
        "Como podemos, então, proceder para conseguirmos ler **TODAS** as planilhas desse arquivo?"
      ]
    },
    {
      "cell_type": "markdown",
      "metadata": {
        "id": "2-XZs_R33yJj"
      },
      "source": [
        "### Leitura de todas as planilhas de um mesmo arquivo de Excel"
      ]
    },
    {
      "cell_type": "code",
      "metadata": {
        "id": "4aXN90LT3yJj"
      },
      "source": [
        "dic = pd.read_excel('all-euro-data-2019-2020.xlsx',sheet_name=None)  "
      ],
      "execution_count": null,
      "outputs": []
    },
    {
      "cell_type": "code",
      "metadata": {
        "id": "NtMrLzX43yJk"
      },
      "source": [
        "dic"
      ],
      "execution_count": null,
      "outputs": []
    },
    {
      "cell_type": "markdown",
      "metadata": {
        "id": "9PrqTbUA3yJk"
      },
      "source": [
        "Ao acrescentar *sheet_name = None* dentro de *read_excel*, eu informei ao Python que quero fazer a leitura de **todas** as planilhas de modo simultâneo. E foi o que o Python fez.\n",
        "\n",
        "Contudo, em vez de termos como variável de saída um *DataFrame*, recebemos um dicionário, que nomeamos de *dic*."
      ]
    },
    {
      "cell_type": "code",
      "metadata": {
        "id": "KbT16ycx3yJk"
      },
      "source": [
        "type(dic)"
      ],
      "execution_count": null,
      "outputs": []
    },
    {
      "cell_type": "markdown",
      "metadata": {
        "id": "OqtOoU653yJk"
      },
      "source": [
        "Se eu quiser recuperar as informações armazenadas na primeira planilha, faço:"
      ]
    },
    {
      "cell_type": "code",
      "metadata": {
        "id": "YRgI9aWa3yJk"
      },
      "source": [
        "dic['E0']"
      ],
      "execution_count": null,
      "outputs": []
    },
    {
      "cell_type": "markdown",
      "metadata": {
        "id": "kgPgfiRT3yJl"
      },
      "source": [
        "Ou seja, temos um dicionário *dic* e cada chave de *dic* tem o nome do título da planilha e o valor correspondente a cada chave é um *DataFrame*. \n",
        "\n",
        "- Vamos simplificar isso!!!!"
      ]
    },
    {
      "cell_type": "markdown",
      "metadata": {
        "id": "fT8UPShL3yJl"
      },
      "source": [
        "Vamos ver quais chaves *dic* armazena:"
      ]
    },
    {
      "cell_type": "code",
      "metadata": {
        "id": "b1ttZJnJ3yJl"
      },
      "source": [
        "dic.keys()"
      ],
      "execution_count": null,
      "outputs": []
    },
    {
      "cell_type": "markdown",
      "metadata": {
        "id": "Sxgx3OtN3yJl"
      },
      "source": [
        "Vamos criar uma lista com todas as chaves de *dic*:"
      ]
    },
    {
      "cell_type": "code",
      "metadata": {
        "id": "PBHBvbzg3yJl"
      },
      "source": [
        "chaves = list(dic.keys())\n",
        "print(type(chaves))\n",
        "chaves"
      ],
      "execution_count": null,
      "outputs": []
    },
    {
      "cell_type": "markdown",
      "metadata": {
        "id": "ccqvwNs53yJl"
      },
      "source": [
        "Repare que foi preciso fazer a conversão de *dic.keys()* para lista e isso foi feito através da função *list*. "
      ]
    },
    {
      "cell_type": "markdown",
      "metadata": {
        "id": "ROwLJAs_3yJl"
      },
      "source": [
        "Vamos, agora, ver quantas chaves existem:"
      ]
    },
    {
      "cell_type": "code",
      "metadata": {
        "id": "wFoPUruc3yJm"
      },
      "source": [
        "num_chaves = len(dic.keys())\n",
        "num_chaves"
      ],
      "execution_count": null,
      "outputs": []
    },
    {
      "cell_type": "markdown",
      "metadata": {
        "id": "IXyP3s0u3yJm"
      },
      "source": [
        "Nós já vimos anteriormente como podemos adicionar um *DataFrame* dentro do outro, certo? \n",
        "\n",
        "Usando o *append*. =)\n",
        "\n",
        "Podemos, então criar um loop definido (com o for) no qual vamos adicionando um *DataFrame* por vez dentro de um *DataFrame* que, antes do loop, será vazio. "
      ]
    },
    {
      "cell_type": "markdown",
      "metadata": {
        "id": "sBV-Gwj03yJm"
      },
      "source": [
        "E esse loop irá realizar *num_chaves* iterações, pois precisará garantir que todas as planilhas sejam percorridas. "
      ]
    },
    {
      "cell_type": "markdown",
      "metadata": {
        "id": "qaiyBDPL3yJm"
      },
      "source": [
        "Como criar um *DataFrame* vazio?"
      ]
    },
    {
      "cell_type": "code",
      "metadata": {
        "id": "xCjpCDY83yJm"
      },
      "source": [
        "data = pd.DataFrame()\n",
        "data"
      ],
      "execution_count": null,
      "outputs": []
    },
    {
      "cell_type": "markdown",
      "metadata": {
        "id": "AtIKjk7q3yJm"
      },
      "source": [
        "pronto =)"
      ]
    },
    {
      "cell_type": "markdown",
      "metadata": {
        "id": "-WOiWcyB3yJm"
      },
      "source": [
        "Vamos agora escrever nosso loop:"
      ]
    },
    {
      "cell_type": "code",
      "metadata": {
        "id": "QhE-2NhZ3yJm"
      },
      "source": [
        "chaves[0]"
      ],
      "execution_count": null,
      "outputs": []
    },
    {
      "cell_type": "code",
      "metadata": {
        "id": "J81qtuXG3yJn"
      },
      "source": [
        "dic[chaves[1]]"
      ],
      "execution_count": null,
      "outputs": []
    },
    {
      "cell_type": "code",
      "metadata": {
        "id": "k99zROdT3yJn"
      },
      "source": [
        "for i in range(num_chaves):\n",
        "    print(i)\n",
        "    data = data.append(dic[chaves[i]],ignore_index=True)"
      ],
      "execution_count": null,
      "outputs": []
    },
    {
      "cell_type": "code",
      "metadata": {
        "id": "Nnx3Ocoq3yJn"
      },
      "source": [
        "data"
      ],
      "execution_count": null,
      "outputs": []
    },
    {
      "cell_type": "markdown",
      "metadata": {
        "id": "MQ0zKs9b3yJn"
      },
      "source": [
        "**PRONTO**, agora temos um único *DataFrame* chamado *data* que contém **todas** as informações presentes no arquivo *all-euro-data-2019-2020.xlsx*."
      ]
    },
    {
      "cell_type": "markdown",
      "metadata": {
        "id": "z8D7p7Nh3yJn"
      },
      "source": [
        "### Leitura de arquivo de excel excluindo as primeiras linhas e colunas"
      ]
    },
    {
      "cell_type": "markdown",
      "metadata": {
        "id": "uiV8hIwK3yJn"
      },
      "source": [
        "Muitas vezes, quando queremos ler um arquivo de excel, ele não vem preenchido desde a linha 1 e coluna 1. Pode ser o caso de encontrarmos um aquivo que só contém dados a partir da linha 5 e coluna *'D'*. \n",
        "\n",
        "Nesse caso, como devemos proceder?"
      ]
    },
    {
      "cell_type": "markdown",
      "metadata": {
        "id": "BmehA3Wf3yJn"
      },
      "source": [
        "Para testar esse caso, vamos modificar o arquivo *all-euro-data-2019-2020.xlsx* deixando algumas linhas e colunas em branco. Vamos lá. "
      ]
    },
    {
      "cell_type": "code",
      "metadata": {
        "id": "pBs6EMx43yJn"
      },
      "source": [
        "df = pd.read_excel('all-euro-data-2019-2020b.xlsx',skiprows=4,usecols = \"D:DE\")  "
      ],
      "execution_count": null,
      "outputs": []
    },
    {
      "cell_type": "code",
      "metadata": {
        "id": "QF7-a-ip3yJn"
      },
      "source": [
        "df.head()"
      ],
      "execution_count": null,
      "outputs": []
    },
    {
      "cell_type": "markdown",
      "metadata": {
        "id": "gVnqNs6w3yJo"
      },
      "source": [
        "Como podemos ver, conseguimos fazer a leitura a partir da coluna 'D' com a especificação de quais colunas deveriam se incluídas na leitura pela palavra-chave *usecols*. Já para pular linhas, com a palavra-chave *skiprows*, conseguimos dizer quais linhas deveriam ser desconsideradas na leitura. "
      ]
    },
    {
      "cell_type": "markdown",
      "metadata": {
        "id": "Djt8qrTo3yJo"
      },
      "source": [
        "## Leitura de arquivo csv"
      ]
    },
    {
      "cell_type": "markdown",
      "metadata": {
        "id": "ZmR248u43yJo"
      },
      "source": [
        "Para fazermos a leitura de um arquivo com extensão *.csv*, vamos usar a base de dados do link: https://bit.ly/3f7RJr5"
      ]
    },
    {
      "cell_type": "markdown",
      "metadata": {
        "id": "H_7ThGfr3yJo"
      },
      "source": [
        "Do mesmo modo que para o arquivo em excel, você deve fazer o download do arquivo *Olympics_Tokyo_tweets.csv* e colar o mesmo na sua pasta do Groogle Drive *Colab Notebooks*. "
      ]
    },
    {
      "cell_type": "markdown",
      "metadata": {
        "id": "lU4lsmrN3yJo"
      },
      "source": [
        "Para ler aquivos do tipo *csv*, utilizamos a função *read_csv* da biblioteca *pandas*."
      ]
    },
    {
      "cell_type": "code",
      "metadata": {
        "id": "aZZtzCpJ3yJo"
      },
      "source": [
        ""
      ],
      "execution_count": null,
      "outputs": []
    },
    {
      "cell_type": "code",
      "metadata": {
        "id": "217rZLfD3yJo"
      },
      "source": [
        ""
      ],
      "execution_count": null,
      "outputs": []
    },
    {
      "cell_type": "code",
      "metadata": {
        "id": "O1LTb2zX3yJo"
      },
      "source": [
        ""
      ],
      "execution_count": null,
      "outputs": []
    },
    {
      "cell_type": "markdown",
      "metadata": {
        "id": "JgQXBuN43yJo"
      },
      "source": [
        "## Leitura de arquivo txt"
      ]
    },
    {
      "cell_type": "markdown",
      "metadata": {
        "id": "V97vTOhI3yJo"
      },
      "source": [
        "Para fazer a leitura de um arquivo do tipo *txt*, não existe uma função da biblioteca *pandas* que seja específica para esse tipo de leitura. Contudo, podemos fazer uso da função *read_csv*, que ela irá funcionar sem problemas. Vamos testar?"
      ]
    },
    {
      "cell_type": "markdown",
      "metadata": {
        "id": "tTO4DN8X3yJo"
      },
      "source": [
        "A base de dados foi retirada do seguinte link: https://bit.ly/3f8JX0l"
      ]
    },
    {
      "cell_type": "markdown",
      "metadata": {
        "id": "lrnHtVKk3yJp"
      },
      "source": [
        "O arquivo texto *FEVData.txt* contém dados de um estudo sobre os efeitos de fumar em crianças. "
      ]
    },
    {
      "cell_type": "markdown",
      "metadata": {
        "id": "ozhKLPMe3yJp"
      },
      "source": [
        "### Documentation for FEV data\n",
        "==========================\n",
        "\n",
        "It is now widely believed that smoking tends to impair lung function.\n",
        "Much of the data to support this claim arises from studies of\n",
        "pulmonary function in adults who are long-time smokers. A question\n",
        "then arises whether such deleterious effects of smoking can be\n",
        "detected in children who smoke. To address this question, measures\n",
        "of lung function were made in 654 children seen for a routine\n",
        "check up in a particular pediatric clinic. The children participating\n",
        "in this study were asked whether they were current smokers.\n",
        "\n",
        "A common measurement of lung function is the forced expiratory\n",
        "volume (FEV), which measures how much air you can blow out of your \n",
        "lungs in a short period of time. A higher FEV is usually associated \n",
        "with better respiratory function. It is well known that prolonged \n",
        "smoking diminishes FEV in adults, and those adults with diminished \n",
        "FEV also tend to have decreased pulmonary function as measured by \n",
        "other clinical variables, such as blood oxygen and carbon dioxide \n",
        "levels.\n",
        "\n",
        "The data set FEV (available in multiple formats) contains data on\n",
        "654 children.\n",
        "Available data includes measurement of age, height, sex, FEV, and\n",
        "whether each child smokes or not. The variables are:\n",
        "\n",
        "- SEQNBR = case number\n",
        "- SUBJID = subject identification number\n",
        "- AGE    = subject age at time of measurement (years)\n",
        "- FEV    = measured FEV (liters per second)\n",
        "- HEIGHT = subject height at time of measurement (inches)\n",
        "- SEX    = subject sex (1 = male, 2 = female)\n",
        "- SMOKE  = smoking habits (1 = yes, 2 = no)\n"
      ]
    },
    {
      "cell_type": "code",
      "metadata": {
        "id": "xRtJxrS_3yJp"
      },
      "source": [
        "df = pd.read_csv(\"FEVData.txt\")"
      ],
      "execution_count": null,
      "outputs": []
    },
    {
      "cell_type": "code",
      "metadata": {
        "id": "RpQ99OYh3yJp"
      },
      "source": [
        "df.head(2)"
      ],
      "execution_count": null,
      "outputs": []
    },
    {
      "cell_type": "markdown",
      "metadata": {
        "id": "LbML19kZ3yJp"
      },
      "source": [
        "Bom, por alguma razão o Python não entendeu que o arquivo *FEVData.txt* contém 7 colunas em vez de uma única. \n",
        "\n",
        "Isso ocorreu pois o modo default de leitura de aquivo do tipo *csv* considera que as colunas são separadas por , ou ; e não por espaços em branco. \n",
        "\n",
        "Para que a leitura de *FEVData.txt* seja feita do modo correto, precisamos informar ao Python que as colunas estão separadas por espaços em branco. Vamos lá."
      ]
    },
    {
      "cell_type": "code",
      "metadata": {
        "id": "iT8ryanX3yJp"
      },
      "source": [
        "df = pd.read_csv(\"FEVData.txt\", delim_whitespace=True)"
      ],
      "execution_count": null,
      "outputs": []
    },
    {
      "cell_type": "code",
      "metadata": {
        "id": "C9Enba723yJp"
      },
      "source": [
        "df.head(2)"
      ],
      "execution_count": null,
      "outputs": []
    },
    {
      "cell_type": "markdown",
      "metadata": {
        "id": "gBiqNWMB3yJp"
      },
      "source": [
        "Pronto, agora sim a leitura foi feita do modo correto. O que falta ajustar ainda é sobre o cabeçalho do *DataFrame*, pois como o arquivo *FEVData.txt* não tem cabeçalho, valores registrados foram colocados como nomes de colunas na leitura, o que está errado. Para consertar isso, precisamos informar no comando de leitura que não existe cabeçalho através de: *header = None*."
      ]
    },
    {
      "cell_type": "code",
      "metadata": {
        "id": "N2hIvhDh3yJp"
      },
      "source": [
        "df = pd.read_csv(\"FEVData.txt\", delim_whitespace=True, header = None)"
      ],
      "execution_count": null,
      "outputs": []
    },
    {
      "cell_type": "code",
      "metadata": {
        "id": "w0AMCHlA3yJp"
      },
      "source": [
        "df.head()"
      ],
      "execution_count": null,
      "outputs": []
    },
    {
      "cell_type": "markdown",
      "metadata": {
        "id": "Kv7Zt8Lj3yJq"
      },
      "source": [
        "Agora sim. "
      ]
    },
    {
      "cell_type": "markdown",
      "metadata": {
        "id": "r8_2caZ33yJq"
      },
      "source": [
        "Bom, como sabemos o que cada coluna de *df* representa, vamos adicionar essa nomenclatura no *DataFrame*."
      ]
    },
    {
      "cell_type": "markdown",
      "metadata": {
        "id": "EbB27EDp3yJq"
      },
      "source": [
        "#### Adição de cabeçalho no DataFrame"
      ]
    },
    {
      "cell_type": "markdown",
      "metadata": {
        "id": "nEF1l8MJ3yJq"
      },
      "source": [
        "Primeiro, precisamos criar uma lista com os nomes das colunas que queremos passar para *df*:"
      ]
    },
    {
      "cell_type": "code",
      "metadata": {
        "id": "gcR6nGRs3yJq"
      },
      "source": [
        "cols = ['SEQNBR','SUBJID','AGE','FEV','HEIGHT','SEX','SMOKE']\n",
        "cols"
      ],
      "execution_count": null,
      "outputs": []
    },
    {
      "cell_type": "code",
      "metadata": {
        "id": "FW0_P8gv3yJq"
      },
      "source": [
        "df.columns = cols"
      ],
      "execution_count": null,
      "outputs": []
    },
    {
      "cell_type": "code",
      "metadata": {
        "id": "Jx_WZdBn3yJq"
      },
      "source": [
        "df.head()"
      ],
      "execution_count": null,
      "outputs": []
    },
    {
      "cell_type": "markdown",
      "metadata": {
        "id": "Oe9s5Cqj3yJq"
      },
      "source": [
        "# Exportação de Arquivos em Python"
      ]
    },
    {
      "cell_type": "markdown",
      "metadata": {
        "id": "xxO2UsQ43yJq"
      },
      "source": [
        "## Exportação para arquivo de excel"
      ]
    },
    {
      "cell_type": "code",
      "metadata": {
        "id": "F0fHjSi93yJq"
      },
      "source": [
        ""
      ],
      "execution_count": null,
      "outputs": []
    },
    {
      "cell_type": "markdown",
      "metadata": {
        "id": "-a50MjkE3yJq"
      },
      "source": [
        "### Salvando sem incluir os índices do DataFrame"
      ]
    },
    {
      "cell_type": "code",
      "metadata": {
        "id": "1-exBk3S3yJq"
      },
      "source": [
        ""
      ],
      "execution_count": null,
      "outputs": []
    },
    {
      "cell_type": "code",
      "metadata": {
        "id": "l0WsE7lK3yJr"
      },
      "source": [
        ""
      ],
      "execution_count": null,
      "outputs": []
    },
    {
      "cell_type": "markdown",
      "metadata": {
        "id": "WkipT7lV3yJr"
      },
      "source": [
        "## Exportação para arquivo csv"
      ]
    },
    {
      "cell_type": "code",
      "metadata": {
        "id": "Sdk098bm3yJr"
      },
      "source": [
        ""
      ],
      "execution_count": null,
      "outputs": []
    },
    {
      "cell_type": "markdown",
      "metadata": {
        "id": "mic76RXc3yJr"
      },
      "source": [
        "## Exportação para arquivo txt"
      ]
    },
    {
      "cell_type": "code",
      "metadata": {
        "id": "N1FBO9F83yJr"
      },
      "source": [
        ""
      ],
      "execution_count": null,
      "outputs": []
    }
  ]
}