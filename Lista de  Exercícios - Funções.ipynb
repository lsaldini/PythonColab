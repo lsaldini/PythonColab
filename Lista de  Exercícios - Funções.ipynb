{
 "cells": [
  {
   "cell_type": "markdown",
   "metadata": {},
   "source": [
    "# Exercício 1\n",
    "\n",
    "Faça um programa para imprimir:\n",
    "\n",
    "   - 1\n",
    "   - 2 2\n",
    "   - 3 3 3\n",
    "   - 4 4 4 4\n",
    "   - ...\n",
    "   - n n n n n n n n\n",
    "   \n",
    "Para um n informado pelo usuário. Use uma função que receba um valor n inteiro e imprima até a n-ésima linha.\n"
   ]
  },
  {
   "cell_type": "code",
   "execution_count": 1,
   "metadata": {},
   "outputs": [],
   "source": [
    "def num_cascate1(n):\n",
    "    for x in range(1,n+1):\n",
    "        print(end ='\\n')\n",
    "        for y in range(1,n+1):\n",
    "            if x >= y:\n",
    "                print(x, end ='')\n"
   ]
  },
  {
   "cell_type": "code",
   "execution_count": 5,
   "metadata": {},
   "outputs": [
    {
     "name": "stdout",
     "output_type": "stream",
     "text": [
      "\n",
      "1\n",
      "22\n",
      "333\n",
      "4444\n",
      "55555"
     ]
    }
   ],
   "source": [
    "num_cascate1(5)"
   ]
  },
  {
   "cell_type": "markdown",
   "metadata": {},
   "source": [
    "# Exercício 2\n",
    "\n",
    "Faça um programa para imprimir:\n",
    "\n",
    "   - 1\n",
    "   - 1 2\n",
    "   - 1 2 3\n",
    "   - 1 2 3 4\n",
    "   - ...\n",
    "   - 1 2 3 4 5 ... n-2 n-1 n\n",
    "\n",
    "Para um n informado pelo usuário. Use uma função que receba um valor n inteiro e imprima até a n-ésima linha."
   ]
  },
  {
   "cell_type": "code",
   "execution_count": 6,
   "metadata": {},
   "outputs": [],
   "source": [
    "def num_cascate2(n):\n",
    "    for x in range(1,n+1):\n",
    "        print(x , end ='\\n')\n",
    "        if x == n:\n",
    "            break\n",
    "        else:\n",
    "            for y in range(1,n+1):\n",
    "                if x >= y:\n",
    "                    print(y, end='')"
   ]
  },
  {
   "cell_type": "code",
   "execution_count": 7,
   "metadata": {},
   "outputs": [
    {
     "name": "stdout",
     "output_type": "stream",
     "text": [
      "1\n",
      "12\n",
      "123\n",
      "1234\n",
      "12345\n",
      "123456\n",
      "1234567\n",
      "12345678\n",
      "123456789\n"
     ]
    }
   ],
   "source": [
    "num_cascate2(9)"
   ]
  },
  {
   "cell_type": "markdown",
   "metadata": {},
   "source": [
    "# Exercício 3\n",
    "\n",
    "Faça um programa, com uma função que necessite de três argumentos, e que forneça a soma desses três argumentos, e também a multiplicação desses três argumentos. (Obs.: a função deverá retornar 2 variáveis)"
   ]
  },
  {
   "cell_type": "code",
   "execution_count": 8,
   "metadata": {},
   "outputs": [],
   "source": [
    "def sum_mult(a,b,c):\n",
    "    return a+b+c,a*b*c"
   ]
  },
  {
   "cell_type": "code",
   "execution_count": 11,
   "metadata": {},
   "outputs": [],
   "source": [
    "sum_, mult = sum_mult(10,20,30)"
   ]
  },
  {
   "cell_type": "code",
   "execution_count": 12,
   "metadata": {},
   "outputs": [
    {
     "name": "stdout",
     "output_type": "stream",
     "text": [
      "60\n",
      "6000\n"
     ]
    }
   ],
   "source": [
    "print(sum_)\n",
    "print(mult)"
   ]
  },
  {
   "cell_type": "markdown",
   "metadata": {},
   "source": [
    "# Exercício 4\n",
    "\n",
    "Faça um programa, com uma função que necessite de um argumento. A função retorna o valor de caractere ‘P’, se seu argumento for positivo, e ‘N’, se seu argumento for negativo e ‘O’ se seu argumento for zero."
   ]
  },
  {
   "cell_type": "code",
   "execution_count": 13,
   "metadata": {},
   "outputs": [],
   "source": [
    "def num(x):\n",
    "    if x > 0:\n",
    "        valor = 'P'\n",
    "    elif x < 0:\n",
    "        valor = 'N'\n",
    "    else:\n",
    "        valor ='O'\n",
    "    return valor"
   ]
  },
  {
   "cell_type": "code",
   "execution_count": 14,
   "metadata": {},
   "outputs": [
    {
     "data": {
      "text/plain": [
       "'P'"
      ]
     },
     "execution_count": 14,
     "metadata": {},
     "output_type": "execute_result"
    }
   ],
   "source": [
    "num(10)"
   ]
  },
  {
   "cell_type": "markdown",
   "metadata": {},
   "source": [
    "# Exercício 5\n",
    "\n",
    "Faça uma função que informe a quantidade de dígitos de um determinado número inteiro informado."
   ]
  },
  {
   "cell_type": "code",
   "execution_count": 18,
   "metadata": {},
   "outputs": [],
   "source": [
    "def cont_digitos(x):\n",
    "    return len(str(x))"
   ]
  },
  {
   "cell_type": "code",
   "execution_count": 19,
   "metadata": {},
   "outputs": [
    {
     "data": {
      "text/plain": [
       "3"
      ]
     },
     "execution_count": 19,
     "metadata": {},
     "output_type": "execute_result"
    }
   ],
   "source": [
    "cont_digitos(137)"
   ]
  },
  {
   "cell_type": "markdown",
   "metadata": {},
   "source": [
    "# Exercício 6\n",
    "\n",
    "Reverso do número. Faça uma função que retorne o reverso de um número inteiro informado. Por exemplo: 127 -> 721."
   ]
  },
  {
   "cell_type": "code",
   "execution_count": 20,
   "metadata": {
    "scrolled": true
   },
   "outputs": [],
   "source": [
    "def invertido(x):\n",
    "    return int(str(x)[::-1])"
   ]
  },
  {
   "cell_type": "code",
   "execution_count": 21,
   "metadata": {},
   "outputs": [
    {
     "data": {
      "text/plain": [
       "321"
      ]
     },
     "execution_count": 21,
     "metadata": {},
     "output_type": "execute_result"
    }
   ],
   "source": [
    "invertido(123)"
   ]
  },
  {
   "cell_type": "markdown",
   "metadata": {},
   "source": [
    "# Exercício 7\n",
    "\n",
    "Data com mês por extenso. Construa uma função que receba uma data no formato DD/MM/AAAA e devolva uma string no formato D de mês Por Extenso de AAAA. Opcionalmente, valide a data e retorne NULL caso a data seja inválida."
   ]
  },
  {
   "cell_type": "code",
   "execution_count": 30,
   "metadata": {},
   "outputs": [
    {
     "name": "stdout",
     "output_type": "stream",
     "text": [
      "25 de Outubro de 2019\n"
     ]
    }
   ],
   "source": [
    "meses = ['Janeiro','Fevereiro','Março','Abril','Maio','Junho','Julho','Agosto','Setembro','Outubro','Novembro','Dezembro']\n",
    "def validade(data):\n",
    "    if data[2]!='/' and data[5]!='/' and len(data)!=10:\n",
    "        print('Data inválida!')\n",
    "    else:\n",
    "        mes = int(data[3:5])\n",
    "        print(data[:2]+ ' de '+ meses[mes-1] + ' de ' +data[-4:])\n",
    "    \n",
    "\n",
    "x = '25/10/2019'\n",
    "validade(x)"
   ]
  },
  {
   "cell_type": "code",
   "execution_count": 31,
   "metadata": {},
   "outputs": [
    {
     "name": "stdout",
     "output_type": "stream",
     "text": [
      "25/10/2019\n",
      "October-2019\n"
     ]
    }
   ],
   "source": [
    "# Outra forma usando uma biblioteca que lida com datas e horas\n",
    "\n",
    "import datetime\n",
    "def validate(date_text):\n",
    "\n",
    "    try:\n",
    "        datetime.datetime.strptime(date_text, '%d/%m/%Y')\n",
    "        return datetime.datetime.strptime(x, '%d/%m/%Y').strftime('%B-%Y')\n",
    "    except ValueError:\n",
    "        return\n",
    "\n",
    "x = '25/10/2019'\n",
    "\n",
    "print(x)\n",
    "print(validate(x))"
   ]
  },
  {
   "cell_type": "markdown",
   "metadata": {},
   "source": [
    "# Exercício 8\n",
    "\n",
    "Faça um programa que converta da notação de 24 horas para a notação de 12 horas. Por exemplo, o programa deve converter 14:25 em 2:25 P.M. A entrada é dada em dois inteiros. Deve haver pelo menos duas funções: uma para fazer a conversão e uma para a saída. Registre a informação A.M./P.M. como um valor ‘A’ para A.M. e ‘P’ para P.M. Assim, a função para efetuar as conversões terá um parâmetro formal para registrar se é A.M. ou P.M. Inclua um loop que permita que o usuário repita esse cálculo para novos valores de entrada todas as vezes que desejar."
   ]
  },
  {
   "cell_type": "code",
   "execution_count": 35,
   "metadata": {},
   "outputs": [
    {
     "name": "stdout",
     "output_type": "stream",
     "text": [
      "3:20 PM\n"
     ]
    }
   ],
   "source": [
    "def hour_min(hora,minuto):\n",
    "    if hora > 12:\n",
    "        cod = 'PM'\n",
    "        hora = hora - 12\n",
    "    else: \n",
    "        cod = 'AM'\n",
    "    print(str(hora)+':'+str(minuto)+' '+cod)\n",
    "\n",
    "hour_min(15,20)"
   ]
  },
  {
   "cell_type": "code",
   "execution_count": 32,
   "metadata": {},
   "outputs": [
    {
     "name": "stdout",
     "output_type": "stream",
     "text": [
      "03:20 PM\n"
     ]
    }
   ],
   "source": [
    "# Outra forma usando uma biblioteca que lida com datas e horas\n",
    "import datetime\n",
    "\n",
    "def hour_min(a,b):\n",
    "    t = datetime.time(a, b)\n",
    "    return t.strftime(\"%I:%M %p\")\n",
    "\n",
    "y = hour_min(15,20)\n",
    "print(y)"
   ]
  },
  {
   "cell_type": "markdown",
   "metadata": {},
   "source": [
    "# Exercício 9\n",
    "\n",
    "Faça uma função que informe se o número passado como parâmetro é par ou ímpar. A função deve imprimir se o número passado como parâmetro é par ou ímpar."
   ]
  },
  {
   "cell_type": "code",
   "execution_count": 39,
   "metadata": {},
   "outputs": [],
   "source": [
    "def par_impar(n):\n",
    "    if n == 0:\n",
    "        print('zero')\n",
    "    elif n % 2 == 0:\n",
    "        print('numero par')\n",
    "    else:\n",
    "        print('numero impar')\n"
   ]
  },
  {
   "cell_type": "code",
   "execution_count": 40,
   "metadata": {},
   "outputs": [
    {
     "name": "stdout",
     "output_type": "stream",
     "text": [
      "numero impar\n"
     ]
    }
   ],
   "source": [
    "par_impar(5)"
   ]
  },
  {
   "cell_type": "code",
   "execution_count": 41,
   "metadata": {},
   "outputs": [
    {
     "name": "stdout",
     "output_type": "stream",
     "text": [
      "zero\n"
     ]
    }
   ],
   "source": [
    "par_impar(0)"
   ]
  },
  {
   "cell_type": "code",
   "execution_count": 42,
   "metadata": {},
   "outputs": [
    {
     "name": "stdout",
     "output_type": "stream",
     "text": [
      "numero par\n"
     ]
    }
   ],
   "source": [
    "par_impar(10)"
   ]
  },
  {
   "cell_type": "markdown",
   "metadata": {},
   "source": [
    "# Exercício 10\n",
    "\n",
    "Faça um programa que percorre uma lista e exiba na tela o valor mais próximo da média dos valores da lista.\n",
    "\n",
    "   - Exemplo:\n",
    "        - lista = [2.5, 7.5, 10.0, 4.0] (média = 6.0)\n",
    "        - Valor mais próximo da média = 7.5\n"
   ]
  },
  {
   "cell_type": "code",
   "execution_count": 56,
   "metadata": {},
   "outputs": [],
   "source": [
    "lista = [5,20,10,40,50]  \n",
    "\n",
    "def media(lista):\n",
    "    sum = 0\n",
    "    for i in range(0,len(lista)):\n",
    "        sum += lista[i]\n",
    "    return sum/len(lista)\n",
    "\n",
    "def near(lista, media): \n",
    "    distancia = 100000\n",
    "    for idx in range(len(lista)):\n",
    "        if abs(lista[idx]-media) < distancia:\n",
    "            valor = lista[idx]\n",
    "            distancia = abs(lista[idx]-media)    #abs(pega o valor absoluto, ou seja, o módulo)\n",
    "    return valor"
   ]
  },
  {
   "cell_type": "code",
   "execution_count": 57,
   "metadata": {},
   "outputs": [
    {
     "name": "stdout",
     "output_type": "stream",
     "text": [
      "25.0\n",
      "20\n"
     ]
    }
   ],
   "source": [
    "print(media(list))\n",
    "print(near(list, media(list)))"
   ]
  },
  {
   "cell_type": "code",
   "execution_count": null,
   "metadata": {},
   "outputs": [],
   "source": []
  }
 ],
 "metadata": {
  "kernelspec": {
   "display_name": "Python 3",
   "language": "python",
   "name": "python3"
  },
  "language_info": {
   "codemirror_mode": {
    "name": "ipython",
    "version": 3
   },
   "file_extension": ".py",
   "mimetype": "text/x-python",
   "name": "python",
   "nbconvert_exporter": "python",
   "pygments_lexer": "ipython3",
   "version": "3.7.0"
  },
  "toc": {
   "base_numbering": 1,
   "nav_menu": {},
   "number_sections": true,
   "sideBar": true,
   "skip_h1_title": false,
   "title_cell": "Table of Contents",
   "title_sidebar": "Contents",
   "toc_cell": false,
   "toc_position": {},
   "toc_section_display": true,
   "toc_window_display": false
  }
 },
 "nbformat": 4,
 "nbformat_minor": 2
}
