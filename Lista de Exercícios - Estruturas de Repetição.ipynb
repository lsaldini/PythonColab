{
 "cells": [
  {
   "cell_type": "markdown",
   "metadata": {},
   "source": [
    "# Exercício 1"
   ]
  },
  {
   "cell_type": "markdown",
   "metadata": {},
   "source": [
    "Faça um programa que leia dez conjuntos de dois valores, o primeiro representando o número do aluno e o segundo representando a sua altura em centímetros. Encontre o aluno mais alto e o mais baixo. Mostre o número do aluno mais alto e o número do aluno mais baixo, junto com suas alturas.\n"
   ]
  },
  {
   "cell_type": "code",
   "execution_count": 12,
   "metadata": {},
   "outputs": [
    {
     "name": "stdout",
     "output_type": "stream",
     "text": [
      "Qual o número do aluno (matricula)? 2912\n",
      "Qual a altura do aluno ? 1.65\n",
      "\n",
      "Aluno mais alto: \n",
      "Número:  2912\n",
      "Altura do aluno:  1.65\n"
     ]
    }
   ],
   "source": [
    "numero = []\n",
    "altura = []\n",
    "mais_alto = 0\n",
    "mais_baixo =  0\n",
    "\n",
    "for idx in range(1,2):\n",
    "    numero_aluno = int(input('Qual o número do aluno (matricula)? '))\n",
    "    altura_aluno = float(input('Qual a altura do aluno ? '))\n",
    "    print('')\n",
    "    if altura_aluno > mais_alto:\n",
    "        mais_alto = idx -1\n",
    "    \n",
    "    if altura_aluno < mais_baixo:\n",
    "        mais_baixo = idx - 1\n",
    "\n",
    "    numero.append(numero_aluno)\n",
    "    altura.append(altura_aluno)\n",
    "\n",
    "print('Aluno mais alto: ')\n",
    "print('Número: ', numero[mais_alto])\n",
    "print('Altura do aluno: ', altura[mais_alto])"
   ]
  },
  {
   "cell_type": "markdown",
   "metadata": {},
   "source": [
    "## Outra solução"
   ]
  },
  {
   "cell_type": "code",
   "execution_count": 22,
   "metadata": {},
   "outputs": [
    {
     "name": "stdout",
     "output_type": "stream",
     "text": [
      "O aluno com a MENOR altura é o aluno número 4 e ele mede 163cm!\n",
      "O aluno com a MAIOR altura é o aluno número 2 e ele mede 183cm!\n"
     ]
    }
   ],
   "source": [
    "alturas = {1:170, 2:183, 3:168, 4:163, 5:169, 6:177, 7:177, 8:164, 9:174, 10:179}\n",
    "maiornum = 0\n",
    "menornum = 0\n",
    "maior = 0\n",
    "menor = 10000000000\n",
    "for i in alturas.keys():\n",
    "    if alturas[i] > maior:\n",
    "        maior = alturas[i]\n",
    "        maiornum = i\n",
    "    if alturas[i] < menor:\n",
    "        menor = alturas[i]\n",
    "        menornum = i\n",
    "print (\"O aluno com a MENOR altura é o aluno número %s e ele mede %scm!\" %(menornum,menor))\n",
    "print (\"O aluno com a MAIOR altura é o aluno número %s e ele mede %scm!\" %(maiornum,maior))"
   ]
  },
  {
   "cell_type": "markdown",
   "metadata": {},
   "source": [
    "# Exercício 2\n",
    "\n",
    "Um funcionário de uma empresa recebe aumento salarial anualmente: Sabe-se que:\n",
    "\n",
    "    a. Esse funcionário foi contratado em 1995, com salário inicial de R$ 1.000,00;\n",
    "    b. Em 1996 recebeu aumento de 1,5\\% sobre seu salário inicial;\n",
    "    c. A partir de 1997 (inclusive), os aumentos salariais sempre correspondem ao dobro do percentual do ano anterior. Faça um programa que determine o salário atual desse funcionário. Após concluir isto, altere o programa permitindo que o usuário digite o salário inicial do funcionário."
   ]
  },
  {
   "cell_type": "code",
   "execution_count": 21,
   "metadata": {},
   "outputs": [
    {
     "name": "stdout",
     "output_type": "stream",
     "text": [
      "5.1321778710321726e+85\n"
     ]
    }
   ],
   "source": [
    "salarioinicial = float(input(\"Qual o salário inicial? \"))\n",
    "tempo = float(input(\"Quantos anos desde a contratação? \"))\n",
    "\n",
    "n=0\n",
    "salario = salarioinicial\n",
    "t = tempo - 1\n",
    "if tempo == 0.0:\n",
    "    salario = salarioinicial\n",
    "else:\n",
    "    while n < tempo:\n",
    "        salario = (0.015*(2**n) + 1)*salario \n",
    "        n+=1\n",
    "print (\"O salário atualmente é de R$%3.2f!\" %salario)"
   ]
  },
  {
   "cell_type": "markdown",
   "metadata": {},
   "source": [
    "# Exercício 3\n",
    "\n",
    "O Sr. Manoel Joaquim expandiu seus negócios para além dos negócios de 1,99 e agora possui uma loja de conveniências. Faça um programa que implemente uma caixa registradora rudimentar. O programa deverá receber um número desconhecido de valores referentes aos preços das mercadorias. Um valor zero deve ser informado pelo operador para indicar o final da compra. O programa deve então mostrar o total da compra e perguntar o valor em dinheiro que o cliente forneceu, para então calcular e mostrar o valor do troco. Após esta operação, o programa deverá voltar ao ponto inicial, para registrar a próxima compra. A saída deve ser conforme o exemplo abaixo:\n",
    "\n",
    "   - Loja XXX\n",
    "   - Produto 1: 2.5\n",
    "   - Produto 2: 14.8\n",
    "   - Produto 3: 0.00\n",
    "   - Total: 17.30 \n",
    "   - Dinheiro: 20.00\n",
    "   - Troco: 2.70"
   ]
  },
  {
   "cell_type": "code",
   "execution_count": null,
   "metadata": {
    "scrolled": true
   },
   "outputs": [],
   "source": [
    "produto = float(input(\"Produto 1: R$\"))\n",
    "num = 1\n",
    "soma = produto\n",
    "while produto !=0:\n",
    "    num+=1\n",
    "    produto = float(input((\"Produto %r: R$\" %num)))\n",
    "    soma += produto\n",
    "print (\"Total: R$%3.2f\" %soma)\n",
    "recebido = float(input(\"Recebido: R$\"))\n",
    "troco = recebido - soma\n",
    "print (\"Troco: R$%3.2f\" %troco)\n"
   ]
  },
  {
   "cell_type": "markdown",
   "metadata": {},
   "source": [
    "# Exercício 4\n",
    "\n",
    "Faça um programa que imprima na tela os números de 1 a 20, um abaixo do outro. Depois modifique o programa para que ele mostre os números um ao lado do outro."
   ]
  },
  {
   "cell_type": "code",
   "execution_count": 24,
   "metadata": {},
   "outputs": [
    {
     "name": "stdout",
     "output_type": "stream",
     "text": [
      "1\n",
      "2\n",
      "3\n",
      "4\n",
      "5\n",
      "6\n",
      "7\n",
      "8\n",
      "9\n",
      "10\n",
      "11\n",
      "12\n",
      "13\n",
      "14\n",
      "15\n",
      "16\n",
      "17\n",
      "18\n",
      "19\n",
      "20\n"
     ]
    }
   ],
   "source": [
    "for i in list(range(1,21)):\n",
    "    print (i)\n"
   ]
  },
  {
   "cell_type": "code",
   "execution_count": 25,
   "metadata": {},
   "outputs": [
    {
     "name": "stdout",
     "output_type": "stream",
     "text": [
      " 1 2 3 4 5 6 7 8 9 10 11 12 13 14 15 16 17 18 19 20\n"
     ]
    }
   ],
   "source": [
    "\n",
    "final = \"\"\n",
    "for i in list(range(1,21)):\n",
    "    final += (' '+str(i))\n",
    "print(final)  "
   ]
  },
  {
   "cell_type": "markdown",
   "metadata": {},
   "source": [
    "# Exercício 5\n",
    "\n",
    "Faça um programa que imprima na tela apenas os números ímpares entre 1 e um valor n informado pelo usuário."
   ]
  },
  {
   "cell_type": "code",
   "execution_count": 27,
   "metadata": {},
   "outputs": [
    {
     "name": "stdout",
     "output_type": "stream",
     "text": [
      "Entre com um numero inteiro? 10\n",
      "1\n",
      "3\n",
      "5\n",
      "7\n",
      "9\n"
     ]
    }
   ],
   "source": [
    "n = int(input(\"Entre com um numero inteiro? \"))\n",
    "\n",
    "for num in range(1,n+1):\n",
    "    if num%2==1:\n",
    "        print(num)\n",
    "        "
   ]
  },
  {
   "cell_type": "markdown",
   "metadata": {},
   "source": [
    "## Outra forma de fazer"
   ]
  },
  {
   "cell_type": "code",
   "execution_count": 28,
   "metadata": {},
   "outputs": [
    {
     "name": "stdout",
     "output_type": "stream",
     "text": [
      "Entre com um numero inteiro? 10\n",
      "[1, 3, 5, 7, 9]\n"
     ]
    }
   ],
   "source": [
    "n = int(input(\"Entre com um numero inteiro? \"))\n",
    "print(list(range(1,n+1,2)))"
   ]
  },
  {
   "cell_type": "markdown",
   "metadata": {},
   "source": [
    "# Exercício 6\n",
    "\n",
    "Faça um programa que receba dois números quaisquer (inteiros ou reais) e imprima na tela os números inteiros que estão no intervalo compreendido por eles."
   ]
  },
  {
   "cell_type": "code",
   "execution_count": null,
   "metadata": {},
   "outputs": [],
   "source": [
    "m = float(input(\"Qual o primeiro valor? \"))  \n",
    "n = float(input(\"Qual o segundo valor? \"))\n",
    "if m>n:\n",
    "    if (n - int(n))==0.0:\n",
    "        print (list(range(int(n),int(m)+1)))\n",
    "    else:\n",
    "        print (list(range(int(n)+1,int(m)+1)))\n",
    "    \n",
    "else:\n",
    "    if (m - int(m))==0.0:\n",
    "        print (list(range(int(m),int(n)+1)))\n",
    "    else:\n",
    "        print (list(range(int(m)+1,int(n)+1)))"
   ]
  },
  {
   "cell_type": "markdown",
   "metadata": {},
   "source": [
    "# Exercício 7\n",
    "\n",
    "Uma academia deseja fazer um senso entre seus clientes para descobrir o mais alto, o mais baixo, a mais gordo e o mais magro, para isto você deve fazer um programa que pergunte a cada um dos clientes da academia seu código, sua altura e seu peso. O final da digitação de dados deve ser dada quando o usuário digitar 0 (zero) no campo código. Ao encerrar o programa também deve ser informados os códigos e valores do cliente mais alto, do mais baixo, do mais gordo e do mais magro, além da média das alturas e dos pesos dos clientes."
   ]
  },
  {
   "cell_type": "code",
   "execution_count": 30,
   "metadata": {
    "scrolled": true
   },
   "outputs": [
    {
     "name": "stdout",
     "output_type": "stream",
     "text": [
      "Qual o seu número de matrícula? 2012\n",
      "Qual seu peso em Kg? 56\n",
      "qual sua altura em cm? 1.65\n",
      "\n",
      "\n",
      "Qual o seu número de matrícula? 0\n"
     ]
    }
   ],
   "source": [
    "pesos = {}\n",
    "alturas = {}\n",
    "matricula = 1\n",
    "while matricula != 0 :\n",
    "    matricula = int(input(\"Qual o seu número de matrícula? \"))\n",
    "    if matricula == 0:\n",
    "        break\n",
    "    else:\n",
    "        peso = float(input(\"Qual seu peso em Kg? \"))\n",
    "        altura = float(input(\"qual sua altura em cm? \"))\n",
    "        pesos[matricula] = peso\n",
    "        alturas[matricula] = altura\n",
    "        print (\"\\n\")"
   ]
  },
  {
   "cell_type": "code",
   "execution_count": 31,
   "metadata": {},
   "outputs": [
    {
     "name": "stdout",
     "output_type": "stream",
     "text": [
      "O aluno com a MENOR altura é o aluno com matricula 2012 e ele mede 1.65cm!\n",
      "O aluno com a MAIOR altura é o aluno com matricula 2012 e ele mede 1.65cm!\n",
      "A média de altura é 1.6cm\n",
      "\n",
      "\n",
      "O aluno com o MENOR peso é o aluno com matricula 2012 e ele pesa 56.0Kg!\n",
      "O aluno com o MAIOR peso é o aluno com matricula 2012 e ele pesa 56.0Kg!\n",
      "A média de peso é 56.0Kg\n"
     ]
    }
   ],
   "source": [
    "matrimaioraltura = 0\n",
    "matrimenoraltura = 0\n",
    "maioraltura = 0\n",
    "menoraltura = 10000000000\n",
    "somaaltura = 0\n",
    "n = 0\n",
    "for i in alturas.keys():\n",
    "    if alturas[i] > maioraltura:\n",
    "        maioraltura = alturas[i]\n",
    "        matrimaioraltura = i\n",
    "    if alturas[i] < menoraltura:\n",
    "        menoraltura = alturas[i]\n",
    "        matrimenoraltura = i\n",
    "    somaaltura = somaaltura + alturas[i]\n",
    "    n = n + 1\n",
    "mediaaltura = float(somaaltura/n)\n",
    "matrimaiorpeso = 0\n",
    "matrimenorpeso = 0\n",
    "maiorpeso = 0\n",
    "menorpeso = 10000000000\n",
    "somapeso = 0\n",
    "m = 0\n",
    "for i in pesos.keys():\n",
    "    if pesos[i] > maiorpeso:\n",
    "        maiorpeso = pesos[i]\n",
    "        matrimaiorpeso = i\n",
    "    if pesos[i] < menorpeso:\n",
    "        menorpeso = pesos[i]\n",
    "        matrimenorpeso = i\n",
    "    somapeso = somapeso + pesos[i]\n",
    "    m = m + 1\n",
    "mediapeso = float(somapeso/m)\n",
    "print (\"O aluno com a MENOR altura é o aluno com matricula %s e ele mede %scm!\" %(matrimenoraltura,menoraltura))\n",
    "print (\"O aluno com a MAIOR altura é o aluno com matricula %s e ele mede %scm!\" %(matrimaioraltura,maioraltura))\n",
    "print (\"A média de altura é %3.1fcm\" %mediaaltura)\n",
    "print (\"\\n\")\n",
    "print (\"O aluno com o MENOR peso é o aluno com matricula %s e ele pesa %3.1fKg!\" %(matrimenorpeso,menorpeso))\n",
    "print (\"O aluno com o MAIOR peso é o aluno com matricula %s e ele pesa %3.1fKg!\" %(matrimaiorpeso,maiorpeso))\n",
    "print (\"A média de peso é %3.1fKg\" %mediapeso)"
   ]
  },
  {
   "cell_type": "markdown",
   "metadata": {},
   "source": [
    "# Exercício 8\n",
    "\n",
    "Faça um programa que leia uma quantidade indeterminada de números positivos e conte quantos deles estão nos seguintes intervalos: [0-25], [26-50], [51-75] e [76-100]. A entrada de dados deverá terminar quando for lido um número negativo."
   ]
  },
  {
   "cell_type": "code",
   "execution_count": 32,
   "metadata": {},
   "outputs": [
    {
     "name": "stdout",
     "output_type": "stream",
     "text": [
      "Digite um número: 13\n",
      "Digite um número: 12\n",
      "Digite um número: 10\n",
      "Digite um número: 0\n",
      "Digite um número: -1\n",
      "\n",
      "\n",
      "Haviam 4 números no intervalo [0,25]\n",
      "Haviam 0 números no intervalo [25,50]\n",
      "Haviam 0 números no intervalo [50,75]\n",
      "Haviam 0 números no intervalo [75,100]\n"
     ]
    }
   ],
   "source": [
    "a = 0\n",
    "b = 0\n",
    "c = 0\n",
    "d = 0\n",
    "num = 0\n",
    "while num >= 0 :\n",
    "    num = float(input(\"Digite um número: \"))\n",
    "    if num < 0: \n",
    "        break\n",
    "    if num>=0 and num<=25:\n",
    "        a = a + 1\n",
    "    if num>=25 and num<=50:\n",
    "        b = b + 1\n",
    "    if num>50 and num<=75:\n",
    "        c = c + 1\n",
    "    if num>=75 and num<=100:\n",
    "        d = d + 1\n",
    "print (\"\\n\")\n",
    "print(\"Haviam %s números no intervalo [0,25]\" %a)\n",
    "print(\"Haviam %s números no intervalo [25,50]\" %b)\n",
    "print(\"Haviam %s números no intervalo [50,75]\" %c)\n",
    "print(\"Haviam %s números no intervalo [75,100]\" %d)"
   ]
  },
  {
   "cell_type": "markdown",
   "metadata": {},
   "source": [
    "# Exercício 9\n",
    "\n",
    "Desenvolver um programa para verificar a nota do aluno em uma prova com 10 questões, o programa deve perguntar ao aluno a resposta de cada questão e ao final comparar com o gabarito da prova e assim calcular o total de acertos e a nota (atribuir 1 ponto por resposta certa). Após cada aluno utilizar o sistema deve ser feita uma pergunta se outro aluno vai utilizar o sistema. Após todos os alunos terem respondido informar:\n",
    "\n",
    "    a. Maior e Menor Acerto;\n",
    "    b. Total de Alunos que utilizaram o sistema;\n",
    "    c. A Média das Notas da Turma.\n",
    "    \n",
    "|Questão|Gabarito|\n",
    "|-------|--------|\n",
    "|01|D|\n",
    "|02|B|\n",
    "|03|A|\n",
    "|04|C|\n",
    "|05|E|\n",
    "|06|A|\n",
    "|07|B|\n",
    "|08|D|\n",
    "|09|C|\n",
    "|10|E|"
   ]
  },
  {
   "cell_type": "code",
   "execution_count": 33,
   "metadata": {},
   "outputs": [
    {
     "name": "stdout",
     "output_type": "stream",
     "text": [
      "Respondido na 1: A\n",
      "Respondido na 2: B\n",
      "Respondido na 3: C\n",
      "Respondido na 4: D\n",
      "Respondido na 5: E\n",
      "Respondido na 6: D\n",
      "Respondido na 7: D\n",
      "Respondido na 8: D\n",
      "Respondido na 9: D\n",
      "Respondido na 10: D\n",
      "Outro aluno usará o programa? Responda S para Sim e N para NãoN\n",
      "\n",
      "\n",
      "O maior número de acertos foi 1\n",
      "O menor número de acertos foi 1\n",
      "1 alunos utilizaram o programa\n",
      "A média de acerto é 1.0\n"
     ]
    }
   ],
   "source": [
    "resposta = \"S\"\n",
    "menor = 11\n",
    "maior = 0\n",
    "soma = 0\n",
    "m = 0\n",
    "gabarito = ['D','B','A','C','E','A','B','D','C','E']\n",
    "while resposta != \"N\":\n",
    "    n = 0\n",
    "    gabarito_aluno = []\n",
    "    for question in range(10):\n",
    "        Q = input(\"Respondido na \"+str(question+1)+\": \")\n",
    "        if Q == gabarito[idx]:\n",
    "            n += 1\n",
    "    if n > maior:\n",
    "        maior = n\n",
    "    if n < menor:\n",
    "        menor = n\n",
    "        \n",
    "    soma = soma + n\n",
    "    m = m + 1\n",
    "    resposta = (input(\"Outro aluno usará o programa? Responda S para Sim e N para Não\"))\n",
    "    print (\"\\n\")\n",
    "media = soma/m\n",
    "print (\"O maior número de acertos foi %s\" %maior)\n",
    "print (\"O menor número de acertos foi %s\" %menor)\n",
    "print (\"%s alunos utilizaram o programa\" %m)\n",
    "print (\"A média de acerto é %2.1f\" %media)"
   ]
  },
  {
   "cell_type": "markdown",
   "metadata": {},
   "source": [
    "# Exercício 10\n",
    "\n",
    "Em uma competição de ginástica, cada atleta recebe votos de oito jurados. A melhor e a pior nota são eliminadas. A sua nota fica sendo a média dos votos restantes. Você deve fazer um programa que receba o nome do ginasta e as notas dos oito jurados alcançadas pelo atleta em sua apresentação e depois informe a sua média, conforme a descrição acima informada (retirar o melhor e o pior salto e depois calcular a média com as notas restantes). As notas não são informados ordenadas. Um exemplo de saída do programa deve ser conforme o exemplo abaixo:\n",
    "\n",
    "Atleta: Fluano de tal\n",
    "\n",
    "   - Nota: 8.5\n",
    "   - Nota: 9.0\n",
    "   - Nota: 9.1\n",
    "   - Nota: 8.7\n",
    "   - Nota: 8.6\n",
    "   - Nota: 9.3\n",
    "   - Nota: 8.8\n",
    "   - Nota: 9.0\n",
    "\n",
    "Resultado Final:\n",
    "\n",
    "   - Atleta: Fulano de tal\n",
    "   - Melhor nota: 9.3\n",
    "   - Pior nota: 8.5\n",
    "   - Média: 9.867"
   ]
  },
  {
   "cell_type": "code",
   "execution_count": 34,
   "metadata": {},
   "outputs": [
    {
     "name": "stdout",
     "output_type": "stream",
     "text": [
      "Atleta: Júlia\n",
      "\n",
      "\n",
      "Nota Jurado nº1: 9\n",
      "Nota Jurado nº2: 6\n",
      "Nota Jurado nº3: 5\n",
      "Nota Jurado nº4: 9\n",
      "Nota Jurado nº5: 7\n",
      "Nota Jurado nº6: 6\n",
      "Nota Jurado nº7: 3\n",
      "Nota Jurado nº8: 6\n",
      "51.0\n",
      "\n",
      "\n",
      "Resultado final \n",
      "Atleta: Júlia\n",
      "Melhor Nota: 9.0\n",
      "Pior Nota: 3.0\n",
      "Média: 6.500\n"
     ]
    }
   ],
   "source": [
    "Nome = input(\"Atleta: \")\n",
    "print ('\\n')\n",
    "pior = 10.0\n",
    "melhor = 0.0\n",
    "n = 1\n",
    "soma = 0\n",
    "while n <= 8:\n",
    "    nota = float(input(\"Nota Jurado nº%s: \" %n))\n",
    "    n+=1\n",
    "    if nota > melhor:\n",
    "        melhor = nota\n",
    "    if nota < pior:\n",
    "        pior = nota\n",
    "    soma = soma + nota\n",
    "somafinal = soma - melhor - pior\n",
    "media = somafinal/6\n",
    "\n",
    "print ('\\n')\n",
    "print('Resultado final ')\n",
    "print (\"Atleta: %s\" %Nome)\n",
    "print (\"Melhor Nota: %s\" %melhor)\n",
    "print (\"Pior Nota: %s\" %pior)\n",
    "print(\"Média: %4.3f\" %media)"
   ]
  },
  {
   "cell_type": "code",
   "execution_count": null,
   "metadata": {},
   "outputs": [],
   "source": []
  }
 ],
 "metadata": {
  "kernelspec": {
   "display_name": "Python 3",
   "language": "python",
   "name": "python3"
  },
  "language_info": {
   "codemirror_mode": {
    "name": "ipython",
    "version": 3
   },
   "file_extension": ".py",
   "mimetype": "text/x-python",
   "name": "python",
   "nbconvert_exporter": "python",
   "pygments_lexer": "ipython3",
   "version": "3.7.0"
  },
  "toc": {
   "base_numbering": 1,
   "nav_menu": {},
   "number_sections": true,
   "sideBar": true,
   "skip_h1_title": false,
   "title_cell": "Table of Contents",
   "title_sidebar": "Contents",
   "toc_cell": false,
   "toc_position": {},
   "toc_section_display": true,
   "toc_window_display": false
  }
 },
 "nbformat": 4,
 "nbformat_minor": 2
}
