{
  "nbformat": 4,
  "nbformat_minor": 0,
  "metadata": {
    "colab": {
      "name": "Aula4-Anotacoes.ipynb",
      "provenance": [],
      "collapsed_sections": [
        "VZKOLmJtxThJ",
        "a-tczivsxThQ",
        "ZfwHcN6h0n-s",
        "NL8jjVuxxTiE",
        "WFOddRjmxTiE"
      ]
    },
    "kernelspec": {
      "display_name": "Python 3",
      "language": "python",
      "name": "python3"
    },
    "language_info": {
      "codemirror_mode": {
        "name": "ipython",
        "version": 3
      },
      "file_extension": ".py",
      "mimetype": "text/x-python",
      "name": "python",
      "nbconvert_exporter": "python",
      "pygments_lexer": "ipython3",
      "version": "3.7.6"
    },
    "toc": {
      "base_numbering": 1,
      "nav_menu": {},
      "number_sections": true,
      "sideBar": true,
      "skip_h1_title": false,
      "title_cell": "Table of Contents",
      "title_sidebar": "Contents",
      "toc_cell": false,
      "toc_position": {
        "height": "calc(100% - 180px)",
        "left": "10px",
        "top": "150px",
        "width": "351px"
      },
      "toc_section_display": true,
      "toc_window_display": true
    }
  },
  "cells": [
    {
      "cell_type": "markdown",
      "metadata": {
        "id": "eKcBIH3-xThG"
      },
      "source": [
        "# Revisão do que vimos até agora nas aulas de Python"
      ]
    },
    {
      "cell_type": "markdown",
      "metadata": {
        "id": "VZKOLmJtxThJ"
      },
      "source": [
        "## Montagem do Drive no Google Colaboratory"
      ]
    },
    {
      "cell_type": "markdown",
      "metadata": {
        "id": "RfekTiChxThK"
      },
      "source": [
        "Ao escrevermos o código no *Google Colaboratory*, temos a grande vantagem de não precisamos instalar o Python no nosso computador pessoal, pois programamos tudo no servidor do próprio Google. Contudo, para que isso seja possível, é necessário que nossa internet seja estável. "
      ]
    },
    {
      "cell_type": "markdown",
      "metadata": {
        "id": "n43StqKwxThK"
      },
      "source": [
        "Quando começamos a usar o *Google Colaboratory*, precisamos fazer o login na nossa conta Google e, automaticamente, uma pasta de nome **Colab Notebooks** aparece no nosso Google Drive. \n",
        "\n",
        "Para facilitar a nossa vida, podemos deixar armazenado nessa pasta todos os códigos que programamos no *Google Colaboratory*. Além do notebook em si, muitas vezes precisamos salvar uma figura ou outro formato de arquivo, como csv, por exemplo. "
      ]
    },
    {
      "cell_type": "markdown",
      "metadata": {
        "id": "aDIYYdxZxThL"
      },
      "source": [
        "Para que você consiga acessar ou salvar qualquer tipo de arquivo na pasta **Colab Notebooks**, você precisa **antes** fazer a montagem do drive. Com esse procedimento, você consegue acessar a sua pasta **Colab Notebooks** pelo notebook que você está programando dentro do *Google Colaboratory*. "
      ]
    },
    {
      "cell_type": "markdown",
      "metadata": {
        "id": "30XwhID6xThL"
      },
      "source": [
        "Vamos ver agora como se faz esse procedimento."
      ]
    },
    {
      "cell_type": "markdown",
      "metadata": {
        "id": "2tqokLR9xThM"
      },
      "source": [
        "**1. Fazer a importação da biblioteca google.colab.**"
      ]
    },
    {
      "cell_type": "code",
      "metadata": {
        "id": "jAldxA3nxThM"
      },
      "source": [
        "from google.colab import drive "
      ],
      "execution_count": 1,
      "outputs": []
    },
    {
      "cell_type": "markdown",
      "metadata": {
        "id": "ly3TkLN-xThN"
      },
      "source": [
        "Se você estiver rodando o notebook no Jupyter Notebook, pule essa seção, pois resultará em erro ao rodar a célula acima. \n",
        "\n",
        "Repare que o código da importação está um pouco diferente do código que escrevemos para importar as bibliotecas em aula. Geralmente fazemos:\n",
        "- import *nome_da_biblioteca* as *abreviação_da_biblioteca*\n",
        "\n",
        "O que houve agora é que não queremos importar todo o conteúdo da biblioteca *google.colab*, mas apenas a função *drive* que está contida dentro dessa biblioteca, por isso o código foi escrito como:\n",
        "- from *nome_da_biblioteca* import *funcao_da_biblioteca*"
      ]
    },
    {
      "cell_type": "markdown",
      "metadata": {
        "id": "xf4Cf9jYxThN"
      },
      "source": [
        "**2. Solicitar a montagem do drive.**"
      ]
    },
    {
      "cell_type": "code",
      "metadata": {
        "colab": {
          "base_uri": "https://localhost:8080/"
        },
        "id": "goNsWGjwxThO",
        "outputId": "346092fd-4f19-4b0a-a717-d71fc2ed75cd"
      },
      "source": [
        "drive.mount('/content/drive')"
      ],
      "execution_count": 3,
      "outputs": [
        {
          "output_type": "stream",
          "text": [
            "Mounted at /content/drive\n"
          ],
          "name": "stdout"
        }
      ]
    },
    {
      "cell_type": "markdown",
      "metadata": {
        "id": "LFu48KXJxThO"
      },
      "source": [
        "Ao rodar a célula acima, irá aparecer a mensagem para você acessar um link, você deve clicar no link e será redirecionado para outra aba do seu navegador. \n",
        "\n",
        "Nesse momento, possivelmente você precisará confirmar o seu login do Google a autorizar o Google a acessar o seu drive. Ao fazer isso, um código aparecerá para você copiar, você o copia clicando no \"quadradinho\" que aparece ao lado do código. \n",
        "\n",
        "Como último passo, você retorna a sua aba principal e cola esse código no espaço em branco que apareceu para você e aperte o ENTER do teclado. Pronto, a montagem do seu Drive será iniciada e você precisa aguardar. "
      ]
    },
    {
      "cell_type": "markdown",
      "metadata": {
        "id": "tJVnmVOoxThO"
      },
      "source": [
        "**3. Direcionar o Google Colaboratory para a sua pasta Colab Notebooks.**"
      ]
    },
    {
      "cell_type": "code",
      "metadata": {
        "id": "Dq7nTMd9xThP"
      },
      "source": [
        "import os"
      ],
      "execution_count": 4,
      "outputs": []
    },
    {
      "cell_type": "code",
      "metadata": {
        "id": "Cnby1FO6xThP"
      },
      "source": [
        "os.chdir('drive/MyDrive/Colab Notebooks')"
      ],
      "execution_count": 5,
      "outputs": []
    },
    {
      "cell_type": "code",
      "metadata": {
        "colab": {
          "base_uri": "https://localhost:8080/"
        },
        "id": "eRUysy2PLmJj",
        "outputId": "6c66c842-b45a-41c6-a9f5-472e299565f2"
      },
      "source": [
        "!ls # serve para mostrar os arquivos da pasta atual"
      ],
      "execution_count": 6,
      "outputs": [
        {
          "output_type": "stream",
          "text": [
            "'Apostila - PLAY_Incompleto.ipynb'   AulaPython_Parte1.ipynb\n",
            "'Apostila - PLAY.ipynb'\t\t     AulaPython-Parte1.ipynb\n",
            " Aula3-Anotacoes.ipynb\t\t     Treinamento-Python.ipynb\n",
            " Aula3.ipynb\t\t\t     Untitled0.ipynb\n",
            " Aula4-Anotacoes.ipynb\n"
          ],
          "name": "stdout"
        }
      ]
    },
    {
      "cell_type": "markdown",
      "metadata": {
        "id": "aHR325pTxThP"
      },
      "source": [
        "Nesse momento, o *Google Colaboratory* já está com acesso ao seu Drive, porém ao salvar alguma figura no seu notebook, a figura será sala na raíz do seu Drive. Para uma melhor organização, sugerimos que você direcione o *Google Colaboratory* para acessar a pasta *Colab Notebooks*. \n",
        "\n",
        "Para fazer isso, primeiro, é necessário importar a biblioteca *os*. Essa biblioteca é utilizada para lidar com informações e manipulação de diretórios e arquivos. Para mais informações, sobre essa biblioteca, ver o link https://docs.python.org/3/library/os.html.\n",
        "\n",
        "Como passo seguinte, utilizamos a função *chdir* da biblioteca *os* e o endereço da pasta *Colab Notebooks*. \n",
        "\n",
        "A função *chdir* é empregada para mudar o diretório de trabalho atual para outro. Basicamente, você vai mudar a execução do código da raiz do seu drive para uma pasta específica facilitando o acesso a documentos e localização de informações como gráficos que vão ser gerados.\n",
        "\n",
        "E pronto! =) ! Agora, você já consegue salvar e abrir arquivos que estão armazenados dentro da pasta *Colab Notebooks* do seu Google Drive. "
      ]
    },
    {
      "cell_type": "markdown",
      "metadata": {
        "id": "g6OTtb2rxThQ"
      },
      "source": [
        "Para mais informações sobre o *Google Colaboratory* veja o artigo:\n",
        "- https://bit.ly/2TErYr5"
      ]
    },
    {
      "cell_type": "markdown",
      "metadata": {
        "id": "a-tczivsxThQ"
      },
      "source": [
        "## Testando velocidade de processamento com GPU e sem GPU"
      ]
    },
    {
      "cell_type": "markdown",
      "metadata": {
        "id": "A0At_86_xThQ"
      },
      "source": [
        "Uma outra grande vantagem ao usarmos o Google Colaboratory é que ele permite que possamos usar o recurso de GPU para executar o seu programa, o que faz com que seu programa seja executado de modo muito mais rápido do que se estivesse usando o modo default. Para ativar essa opção, você precisa seguir o caminho:\n",
        "\n",
        "- Edit > Notebook settings > Modifique a opção Hardware accelerator para GPU\n",
        "\n",
        "Vamos testar se isso mesmo é verdade?"
      ]
    },
    {
      "cell_type": "markdown",
      "metadata": {
        "id": "21GzdvUXxThQ"
      },
      "source": [
        "Para comparar a execução do código, vamos utilizar a biblioteca *time*. Essa biblioteca provê o tempo de execução de certa célula."
      ]
    },
    {
      "cell_type": "code",
      "metadata": {
        "id": "MghEflocxThQ"
      },
      "source": [
        "import time "
      ],
      "execution_count": 7,
      "outputs": []
    },
    {
      "cell_type": "markdown",
      "metadata": {
        "id": "bpv8YnXjxThR"
      },
      "source": [
        "Para o teste, podemos usar um loop definido que vai de 0 até 1000. Para isso, vamos fazer uso do *for*. "
      ]
    },
    {
      "cell_type": "markdown",
      "metadata": {
        "id": "VzMBL6e0xThR"
      },
      "source": [
        "- Sem ativar o GPU:"
      ]
    },
    {
      "cell_type": "code",
      "metadata": {
        "colab": {
          "base_uri": "https://localhost:8080/"
        },
        "id": "6r6KeUqdxThR",
        "scrolled": true,
        "outputId": "85a66e6c-f69c-4db2-8b1c-e6a1678e0c3b"
      },
      "source": [
        "nn = 1000\n",
        "start = time.time() # inicializar o tempo inicial a ser levado em consideracao\n",
        "j = 0\n",
        "for i in range(nn):\n",
        "    j = j + 1\n",
        "end = time.time() # marca o tempo final a ser contabilizado\n",
        "print(end - start) # aqui o print ira fornecer o tempo total executado da linha do start ate a linha do end"
      ],
      "execution_count": null,
      "outputs": [
        {
          "output_type": "stream",
          "text": [
            "0.0003540515899658203\n"
          ],
          "name": "stdout"
        }
      ]
    },
    {
      "cell_type": "markdown",
      "metadata": {
        "id": "sNDaLqySxThR"
      },
      "source": [
        "Na célula acima, primeio criamos a variável *nn* que recebe o valor de 1000. \n",
        "Na linha abaixo, criamos a variável *start* que irá armazenar o valor do tempo atual. Depois, a variável *j* foi declarada recebendo o valor 0. Finalmente, chegamos no loop definido com o *for* no qual tem o contador *i* que irá variar de 0 até *nn*. A cada iteração, o *j* é atualizado em 1 unidade pelo código: *j = j + 1*.\n",
        "\n",
        "Saindo do loop, ahhh como eu eu sei saímos do loop?\n",
        "\n",
        "Sabemos que esse loop tem apenas uma única linha, pois após a linha onde tem a atualização de *j* (*j=j+1*), a identação não existe mais, ou seja, a variável *end* é declarada no início da célula, alinhado com o *for*, não fazendo, então, parte do loop.  O *end* recebe o tempo atual e a contabilização do tempo é interrompida nesse momento. Por fim, o *print* irá imprimir para o usuário a duração total da execução do código desde a declaração do *start* até o *end*. "
      ]
    },
    {
      "cell_type": "markdown",
      "metadata": {
        "id": "04te-Os_xThS"
      },
      "source": [
        "Antes de ativar o GPU, vamos aumentar o *nn* para 100000000:"
      ]
    },
    {
      "cell_type": "code",
      "metadata": {
        "colab": {
          "base_uri": "https://localhost:8080/"
        },
        "id": "JCDAzW_4xThS",
        "scrolled": true,
        "outputId": "0f9464d8-4675-4255-af4c-edd4e50606a7"
      },
      "source": [
        "nn = 100000000\n",
        "start = time.time() # inicializar o tempo inicial a ser levado em consideracao\n",
        "j = 0\n",
        "for i in range(nn):\n",
        "    j = j + 1\n",
        "end = time.time() # marca o tempo final a ser contabilizado\n",
        "print(end - start) # aqui o print ira fornecer o tempo total executado da linha do start ate a linha do end"
      ],
      "execution_count": null,
      "outputs": [
        {
          "output_type": "stream",
          "text": [
            "12.346805810928345\n"
          ],
          "name": "stdout"
        }
      ]
    },
    {
      "cell_type": "markdown",
      "metadata": {
        "id": "DqT5UqzoxThS"
      },
      "source": [
        "- Com o GPU ativado (Edit > Notebook settings > Modifique a opção Hardware accelerator para GPU):"
      ]
    },
    {
      "cell_type": "code",
      "metadata": {
        "colab": {
          "base_uri": "https://localhost:8080/"
        },
        "id": "xUVoTNYuxThT",
        "scrolled": true,
        "outputId": "5c9db113-2638-4adb-98e0-a65dcbc3c50e"
      },
      "source": [
        "nn = 1000\n",
        "start = time.time() # inicializar o tempo inicial a ser levado em consideracao\n",
        "j = 0\n",
        "for i in range(nn):\n",
        "    j = j + 1\n",
        "end = time.time() # marca o tempo final a ser contabilizado\n",
        "print(end - start) # aqui o print ira fornecer o tempo total executado da linha do start ate a linha do end"
      ],
      "execution_count": null,
      "outputs": [
        {
          "output_type": "stream",
          "text": [
            "0.0002741813659667969\n"
          ],
          "name": "stdout"
        }
      ]
    },
    {
      "cell_type": "markdown",
      "metadata": {
        "id": "xn5HSOHMxThT"
      },
      "source": [
        "Antes de ativar o GPU, vamos aumentar o *nn* para 100000000:"
      ]
    },
    {
      "cell_type": "code",
      "metadata": {
        "colab": {
          "base_uri": "https://localhost:8080/"
        },
        "id": "N_vhraDnxThT",
        "scrolled": true,
        "outputId": "dbf2aa3d-8441-4e30-ec4b-e97a3cf30ab9"
      },
      "source": [
        "nn = 100000000\n",
        "start = time.time() # inicializar o tempo inicial a ser levado em consideracao\n",
        "j = 0\n",
        "for i in range(nn):\n",
        "    j = j + 1\n",
        "end = time.time() # marca o tempo final a ser contabilizado\n",
        "print(end - start) # aqui o print ira fornecer o tempo total executado da linha do start ate a linha do end"
      ],
      "execution_count": null,
      "outputs": [
        {
          "output_type": "stream",
          "text": [
            "9.77730393409729\n"
          ],
          "name": "stdout"
        }
      ]
    },
    {
      "cell_type": "markdown",
      "metadata": {
        "id": "ZfwHcN6h0n-s"
      },
      "source": [
        "## Observação\n",
        "\n",
        "- No exemplo abordado conseguimos averiguar o ganho em termo de tempo de execução de uma aplicação simples. Porém sendo um código simples o ganho de performance não é tão evidente. Esse ganho é muito expressivo quando temos problemas mais complexos, sobretudo no treinamento de redes neurais que envolvem muitas operações. Nesses casos o processamento paralelo de uma GPU supera em proporções muito extraordinárias um processamento em série de uma CPU. "
      ]
    },
    {
      "cell_type": "markdown",
      "metadata": {
        "id": "DzgmDLiWxThU"
      },
      "source": [
        "# Declaração de variáveis"
      ]
    },
    {
      "cell_type": "markdown",
      "metadata": {
        "id": "_DGL5cWtxThU"
      },
      "source": [
        "Em Python, assim como em toda linguagem de programação, a declaração de variáveis se faz:\n",
        "\n",
        "- var = valor ou conjunto de valores\n",
        "\n",
        "onde *var* é o nome da variável que o usuário escolheu. "
      ]
    },
    {
      "cell_type": "markdown",
      "metadata": {
        "id": "w6RyooN5xThU"
      },
      "source": [
        "**1. Na célula a seguir, criamos a variável com nome *a* que recebe o número 10.**"
      ]
    },
    {
      "cell_type": "code",
      "metadata": {
        "id": "RjRHN1lHxThV"
      },
      "source": [
        "a = 10"
      ],
      "execution_count": null,
      "outputs": []
    },
    {
      "cell_type": "code",
      "metadata": {
        "colab": {
          "base_uri": "https://localhost:8080/"
        },
        "id": "9HXzf07RPyad",
        "outputId": "6c69a3c3-38ad-4493-8f9d-1098162c54ba"
      },
      "source": [
        "a"
      ],
      "execution_count": null,
      "outputs": [
        {
          "output_type": "execute_result",
          "data": {
            "text/plain": [
              "10"
            ]
          },
          "metadata": {
            "tags": []
          },
          "execution_count": 10
        }
      ]
    },
    {
      "cell_type": "markdown",
      "metadata": {
        "id": "ALMDe8C4xThV"
      },
      "source": [
        "Conseguimos saber que *a* é do tipo inteiro, pela função do Python *type*."
      ]
    },
    {
      "cell_type": "code",
      "metadata": {
        "colab": {
          "base_uri": "https://localhost:8080/"
        },
        "id": "L6-fQtBAxThV",
        "outputId": "238a0e02-e06b-44c9-b38e-eac4d538528e"
      },
      "source": [
        "type(a)"
      ],
      "execution_count": null,
      "outputs": [
        {
          "output_type": "execute_result",
          "data": {
            "text/plain": [
              "int"
            ]
          },
          "metadata": {
            "tags": []
          },
          "execution_count": 11
        }
      ]
    },
    {
      "cell_type": "markdown",
      "metadata": {
        "id": "xtn9Aw5rxThV"
      },
      "source": [
        "**2. Crie, agora uma variável do tipo real, chamada *b*, que irá receber o valor 5.2.**"
      ]
    },
    {
      "cell_type": "code",
      "metadata": {
        "id": "YtsVRzyUxThV"
      },
      "source": [
        "b = 5.2"
      ],
      "execution_count": null,
      "outputs": []
    },
    {
      "cell_type": "markdown",
      "metadata": {
        "id": "JW9xy5_sxThW"
      },
      "source": [
        "**3. Confirme o tipo de *b*.**"
      ]
    },
    {
      "cell_type": "code",
      "metadata": {
        "colab": {
          "base_uri": "https://localhost:8080/"
        },
        "id": "AejfgB14xThW",
        "outputId": "bc1cf632-b9ae-4ad1-a47e-bfe1556c2d2c"
      },
      "source": [
        "type(b),b"
      ],
      "execution_count": null,
      "outputs": [
        {
          "output_type": "execute_result",
          "data": {
            "text/plain": [
              "(float, 5.2)"
            ]
          },
          "metadata": {
            "tags": []
          },
          "execution_count": 13
        }
      ]
    },
    {
      "cell_type": "markdown",
      "metadata": {
        "id": "BH1YSTolxThW"
      },
      "source": [
        "## Tipos de variáveis"
      ]
    },
    {
      "cell_type": "markdown",
      "metadata": {
        "id": "k0CX7HKMxThW"
      },
      "source": [
        "Com a Júlia, vocês foram apresentados aos diversos tipos que as variáveis em Python podem ser: \n",
        "- string --> *str*\n",
        "- inteiro --> *int*\n",
        "- real --> *float*\n",
        "- booleano --> *bool*\n",
        "- tupla --> *tuple*\n",
        "- lista --> *list*\n",
        "- vetor --> *array*\n",
        "- dicionário --> *dic*"
      ]
    },
    {
      "cell_type": "markdown",
      "metadata": {
        "id": "q0GWuvEGChuX"
      },
      "source": [
        "Vamos, agora, criar uma variável chamada *a* e fazer *a* receber *'2'*, no qual  *'2'* é do tipo *string*:"
      ]
    },
    {
      "cell_type": "code",
      "metadata": {
        "id": "pmdyKadkQ8pv"
      },
      "source": [
        "a = '2'"
      ],
      "execution_count": null,
      "outputs": []
    },
    {
      "cell_type": "markdown",
      "metadata": {
        "id": "jnXSNZxxChuc"
      },
      "source": [
        "Ao multiplicar *a* por 2, obtemos como resultado uma string *'22'*, pois o Python não entende que essa é uma operação matemática, mas sim uma concatenação de strings. "
      ]
    },
    {
      "cell_type": "code",
      "metadata": {
        "colab": {
          "base_uri": "https://localhost:8080/",
          "height": 35
        },
        "id": "wtV4jC1xQ_md",
        "outputId": "26ffd0c2-17f0-4ada-ebd6-14d4dc009d63"
      },
      "source": [
        "a*2"
      ],
      "execution_count": null,
      "outputs": [
        {
          "output_type": "execute_result",
          "data": {
            "application/vnd.google.colaboratory.intrinsic+json": {
              "type": "string"
            },
            "text/plain": [
              "'22'"
            ]
          },
          "metadata": {
            "tags": []
          },
          "execution_count": 15
        }
      ]
    },
    {
      "cell_type": "markdown",
      "metadata": {
        "id": "mfrCefMHChud"
      },
      "source": [
        "Variáveis booleanas são, por exemplo, *False* e *True*."
      ]
    },
    {
      "cell_type": "code",
      "metadata": {
        "colab": {
          "base_uri": "https://localhost:8080/"
        },
        "id": "BSxrQjLExThW",
        "outputId": "ba906386-2143-4a82-e6d7-5f9affd615d1"
      },
      "source": [
        "type(True)"
      ],
      "execution_count": null,
      "outputs": [
        {
          "output_type": "execute_result",
          "data": {
            "text/plain": [
              "bool"
            ]
          },
          "metadata": {
            "tags": []
          },
          "execution_count": 16
        }
      ]
    },
    {
      "cell_type": "markdown",
      "metadata": {
        "id": "efk1TNaNxThW"
      },
      "source": [
        "As variáveis do tipo *string* são variáveis que contém caracteres alfa-numéricos. Toda variável *string* que contém números, ela aparece entre aspas quando você a imprime na tela. Por exemplo:"
      ]
    },
    {
      "cell_type": "code",
      "metadata": {
        "id": "D4QHU_9RxThX"
      },
      "source": [
        "var = '5'"
      ],
      "execution_count": null,
      "outputs": []
    },
    {
      "cell_type": "code",
      "metadata": {
        "colab": {
          "base_uri": "https://localhost:8080/",
          "height": 35
        },
        "id": "ZLsr79TbxThX",
        "outputId": "82dbc7c3-1cca-45c6-add4-21c8b4ddd997"
      },
      "source": [
        "var"
      ],
      "execution_count": null,
      "outputs": [
        {
          "output_type": "execute_result",
          "data": {
            "application/vnd.google.colaboratory.intrinsic+json": {
              "type": "string"
            },
            "text/plain": [
              "'5'"
            ]
          },
          "metadata": {
            "tags": []
          },
          "execution_count": 18
        }
      ]
    },
    {
      "cell_type": "code",
      "metadata": {
        "colab": {
          "base_uri": "https://localhost:8080/"
        },
        "id": "UW9TCeWrxThX",
        "outputId": "1ca0250b-3272-43cd-8c6a-51baac2735eb"
      },
      "source": [
        "type(var)"
      ],
      "execution_count": null,
      "outputs": [
        {
          "output_type": "execute_result",
          "data": {
            "text/plain": [
              "str"
            ]
          },
          "metadata": {
            "tags": []
          },
          "execution_count": 19
        }
      ]
    },
    {
      "cell_type": "markdown",
      "metadata": {
        "id": "j8XOwLasxThX"
      },
      "source": [
        "A variável *var* apesar de ser um número, ela é classificada como *string*. Como podemos fazer para convertê-la para uma variável do tipo *int*?"
      ]
    },
    {
      "cell_type": "code",
      "metadata": {
        "id": "4Eep7YUbxThX"
      },
      "source": [
        "var = int(var)"
      ],
      "execution_count": null,
      "outputs": []
    },
    {
      "cell_type": "code",
      "metadata": {
        "colab": {
          "base_uri": "https://localhost:8080/"
        },
        "id": "mg7iVGHdRrxO",
        "outputId": "74f50e6c-81dc-4d29-a779-693898dc8db2"
      },
      "source": [
        "var,type(var)"
      ],
      "execution_count": null,
      "outputs": [
        {
          "output_type": "execute_result",
          "data": {
            "text/plain": [
              "(5, int)"
            ]
          },
          "metadata": {
            "tags": []
          },
          "execution_count": 21
        }
      ]
    },
    {
      "cell_type": "code",
      "metadata": {
        "colab": {
          "base_uri": "https://localhost:8080/"
        },
        "id": "w4ZakNSPRv5M",
        "outputId": "6d51bbdd-8a4b-4963-aa53-c42eb16d2129"
      },
      "source": [
        "var*4"
      ],
      "execution_count": null,
      "outputs": [
        {
          "output_type": "execute_result",
          "data": {
            "text/plain": [
              "20"
            ]
          },
          "metadata": {
            "tags": []
          },
          "execution_count": 26
        }
      ]
    },
    {
      "cell_type": "markdown",
      "metadata": {
        "id": "Ki8ooOj2xThY"
      },
      "source": [
        "Dica, para converter variáveis para inteiro, utiliza-se a função *int*. \n",
        "\n",
        "Já para converter variáveis para string, utiliza-se a função *str* e para converter para real, emprega-se a função *float*."
      ]
    },
    {
      "cell_type": "code",
      "metadata": {
        "colab": {
          "base_uri": "https://localhost:8080/"
        },
        "id": "N6bS3I6SxThY",
        "outputId": "250f43fd-8d4c-4585-af5e-f4e574833145"
      },
      "source": [
        "c = str(5)\n",
        "c, type(c)"
      ],
      "execution_count": null,
      "outputs": [
        {
          "output_type": "execute_result",
          "data": {
            "text/plain": [
              "('5', str)"
            ]
          },
          "metadata": {
            "tags": []
          },
          "execution_count": 23
        }
      ]
    },
    {
      "cell_type": "code",
      "metadata": {
        "colab": {
          "base_uri": "https://localhost:8080/"
        },
        "id": "dupDfFlOxThY",
        "outputId": "7f040549-b05e-48a4-c858-a5aeca2ab491"
      },
      "source": [
        "nn = 4\n",
        "print(nn, type(nn))\n",
        "nn = float(nn)\n",
        "nn,type(nn)"
      ],
      "execution_count": null,
      "outputs": [
        {
          "output_type": "stream",
          "text": [
            "4 <class 'int'>\n"
          ],
          "name": "stdout"
        },
        {
          "output_type": "execute_result",
          "data": {
            "text/plain": [
              "(4.0, float)"
            ]
          },
          "metadata": {
            "tags": []
          },
          "execution_count": 24
        }
      ]
    },
    {
      "cell_type": "markdown",
      "metadata": {
        "id": "KkMM1yp3xThZ"
      },
      "source": [
        "Na célula acima, utilizei o comando *print*, pois se não tivesse usado o mesmo, só seria impresso na tela a última linha da célula. \n",
        "\n",
        "Faça o teste."
      ]
    },
    {
      "cell_type": "code",
      "metadata": {
        "colab": {
          "base_uri": "https://localhost:8080/"
        },
        "id": "3rMN-TK5xThZ",
        "outputId": "cecde83e-e9ed-47fd-b879-16dde503353d"
      },
      "source": [
        "nn = 4\n",
        "nn, type(nn)\n",
        "nn = float(nn)\n",
        "nn,type(nn)"
      ],
      "execution_count": null,
      "outputs": [
        {
          "output_type": "execute_result",
          "data": {
            "text/plain": [
              "(4.0, float)"
            ]
          },
          "metadata": {
            "tags": []
          },
          "execution_count": 25
        }
      ]
    },
    {
      "cell_type": "markdown",
      "metadata": {
        "id": "CD5tV_17xThZ"
      },
      "source": [
        "***"
      ]
    },
    {
      "cell_type": "markdown",
      "metadata": {
        "id": "BueUnUOHxTha"
      },
      "source": [
        "As listas são variáveis muito úteis em Python e que nos fornecem uma liberdade incrível, pois elas permitem que a gente armazene em uma única estrutura tipos diferentes de variáveis, vamos ver alguns exemplos. "
      ]
    },
    {
      "cell_type": "markdown",
      "metadata": {
        "id": "8U4hiMO6xTha"
      },
      "source": [
        "1. Lista de números inteiros"
      ]
    },
    {
      "cell_type": "code",
      "metadata": {
        "id": "EBMdI5kExTha"
      },
      "source": [
        "impares = [1,3,5,7,9,11,13,15,17,19,21]"
      ],
      "execution_count": null,
      "outputs": []
    },
    {
      "cell_type": "code",
      "metadata": {
        "colab": {
          "base_uri": "https://localhost:8080/"
        },
        "id": "bw0rKJQRxThb",
        "outputId": "5749995d-7859-46cb-f9e1-88f5cd75c5c5"
      },
      "source": [
        "impares"
      ],
      "execution_count": null,
      "outputs": [
        {
          "output_type": "execute_result",
          "data": {
            "text/plain": [
              "[1, 3, 5, 7, 9, 11, 13, 15, 17, 19, 21]"
            ]
          },
          "metadata": {
            "tags": []
          },
          "execution_count": 28
        }
      ]
    },
    {
      "cell_type": "code",
      "metadata": {
        "colab": {
          "base_uri": "https://localhost:8080/"
        },
        "id": "I4jeLTwdxThb",
        "outputId": "217284e4-30ec-4a16-967e-4dccf164f887"
      },
      "source": [
        "type(impares)"
      ],
      "execution_count": null,
      "outputs": [
        {
          "output_type": "execute_result",
          "data": {
            "text/plain": [
              "list"
            ]
          },
          "metadata": {
            "tags": []
          },
          "execution_count": 29
        }
      ]
    },
    {
      "cell_type": "markdown",
      "metadata": {
        "id": "b372UuFHxThb"
      },
      "source": [
        "1.1. Imprima o número 17 da lista impares."
      ]
    },
    {
      "cell_type": "code",
      "metadata": {
        "colab": {
          "base_uri": "https://localhost:8080/"
        },
        "id": "b_IRdRc6xThb",
        "outputId": "be5f43de-39c8-4709-8823-fcab5cd725bb"
      },
      "source": [
        "impares[-3],impares[8], impares[impares.index(17)]"
      ],
      "execution_count": null,
      "outputs": [
        {
          "output_type": "execute_result",
          "data": {
            "text/plain": [
              "(17, 17, 17)"
            ]
          },
          "metadata": {
            "tags": []
          },
          "execution_count": 37
        }
      ]
    },
    {
      "cell_type": "code",
      "metadata": {
        "colab": {
          "base_uri": "https://localhost:8080/"
        },
        "id": "C2_v8p8TTwS9",
        "outputId": "ce743627-fba8-4eca-f827-11fcc64a5a0e"
      },
      "source": [
        "impares.index(17)"
      ],
      "execution_count": null,
      "outputs": [
        {
          "output_type": "execute_result",
          "data": {
            "text/plain": [
              "8"
            ]
          },
          "metadata": {
            "tags": []
          },
          "execution_count": 36
        }
      ]
    },
    {
      "cell_type": "markdown",
      "metadata": {
        "id": "EshZDYfSxThc"
      },
      "source": [
        "1.2. Imprima a posição do número 19 na lista impares."
      ]
    },
    {
      "cell_type": "code",
      "metadata": {
        "colab": {
          "base_uri": "https://localhost:8080/"
        },
        "id": "u6LpJ2pDxThc",
        "outputId": "1ca9efa9-cdcf-48ae-b720-10bf212eadbf"
      },
      "source": [
        "impares.index(19)"
      ],
      "execution_count": null,
      "outputs": [
        {
          "output_type": "execute_result",
          "data": {
            "text/plain": [
              "9"
            ]
          },
          "metadata": {
            "tags": []
          },
          "execution_count": 38
        }
      ]
    },
    {
      "cell_type": "markdown",
      "metadata": {
        "id": "PvtpsmxRxThc"
      },
      "source": [
        "2. Lista de strings"
      ]
    },
    {
      "cell_type": "code",
      "metadata": {
        "id": "eLg4I2k7xThc"
      },
      "source": [
        "frutas = ['maca','pera','banana','abacaxi','goiaba','melao']"
      ],
      "execution_count": null,
      "outputs": []
    },
    {
      "cell_type": "code",
      "metadata": {
        "colab": {
          "base_uri": "https://localhost:8080/"
        },
        "id": "dWAdUqdqxThc",
        "outputId": "752cc9d6-45c2-4db7-b001-73f76d2015f4"
      },
      "source": [
        "frutas"
      ],
      "execution_count": null,
      "outputs": [
        {
          "output_type": "execute_result",
          "data": {
            "text/plain": [
              "['maca', 'pera', 'banana', 'abacaxi', 'goiaba', 'melao']"
            ]
          },
          "metadata": {
            "tags": []
          },
          "execution_count": 40
        }
      ]
    },
    {
      "cell_type": "code",
      "metadata": {
        "colab": {
          "base_uri": "https://localhost:8080/"
        },
        "id": "nN2us_TWxThd",
        "scrolled": true,
        "outputId": "5b45ca51-186d-460c-e23e-6626289ced57"
      },
      "source": [
        "type(frutas)"
      ],
      "execution_count": null,
      "outputs": [
        {
          "output_type": "execute_result",
          "data": {
            "text/plain": [
              "list"
            ]
          },
          "metadata": {
            "tags": []
          },
          "execution_count": 41
        }
      ]
    },
    {
      "cell_type": "markdown",
      "metadata": {
        "id": "5D9LqqJYxThd"
      },
      "source": [
        "2.1. Imprima os elementos 'pera' e 'banana' da lista."
      ]
    },
    {
      "cell_type": "code",
      "metadata": {
        "colab": {
          "base_uri": "https://localhost:8080/"
        },
        "id": "kmg4zzH1xThd",
        "outputId": "5b9cf88a-89b3-4e6f-e8b6-0a64786c6153"
      },
      "source": [
        "frutas[1:3]"
      ],
      "execution_count": null,
      "outputs": [
        {
          "output_type": "execute_result",
          "data": {
            "text/plain": [
              "['pera', 'banana']"
            ]
          },
          "metadata": {
            "tags": []
          },
          "execution_count": 42
        }
      ]
    },
    {
      "cell_type": "code",
      "metadata": {
        "colab": {
          "base_uri": "https://localhost:8080/"
        },
        "id": "gSRcaUCnUqHN",
        "outputId": "c60cef1f-5f0f-4067-e3fb-029caa76fe43"
      },
      "source": [
        "frutas[1:2]"
      ],
      "execution_count": null,
      "outputs": [
        {
          "output_type": "execute_result",
          "data": {
            "text/plain": [
              "['pera']"
            ]
          },
          "metadata": {
            "tags": []
          },
          "execution_count": 43
        }
      ]
    },
    {
      "cell_type": "code",
      "metadata": {
        "colab": {
          "base_uri": "https://localhost:8080/"
        },
        "id": "QgyOzADdU-vQ",
        "outputId": "e0fb3ce4-5f7d-4a6b-f548-c93cc1ddad2f"
      },
      "source": [
        "print(f'{frutas[1]},{frutas[2]}')"
      ],
      "execution_count": null,
      "outputs": [
        {
          "output_type": "stream",
          "text": [
            "pera,banana\n"
          ],
          "name": "stdout"
        }
      ]
    },
    {
      "cell_type": "markdown",
      "metadata": {
        "id": "2ctpq8hdxThd"
      },
      "source": [
        "2.2. Imprima todos os elementos de frutas com exceção do primeiro."
      ]
    },
    {
      "cell_type": "code",
      "metadata": {
        "colab": {
          "base_uri": "https://localhost:8080/"
        },
        "id": "hTRtAWsuVRSg",
        "outputId": "1c320cb1-da6a-44ab-ba16-8fd6eda42742"
      },
      "source": [
        "frutas"
      ],
      "execution_count": null,
      "outputs": [
        {
          "output_type": "execute_result",
          "data": {
            "text/plain": [
              "['maca', 'pera', 'banana', 'abacaxi', 'goiaba', 'melao']"
            ]
          },
          "metadata": {
            "tags": []
          },
          "execution_count": 47
        }
      ]
    },
    {
      "cell_type": "code",
      "metadata": {
        "colab": {
          "base_uri": "https://localhost:8080/"
        },
        "id": "zVnFBrTkxThd",
        "outputId": "f2ebc233-b250-4950-9b9e-4871f4c4816e"
      },
      "source": [
        "frutas[1::],frutas[1:]"
      ],
      "execution_count": null,
      "outputs": [
        {
          "output_type": "execute_result",
          "data": {
            "text/plain": [
              "(['pera', 'banana', 'abacaxi', 'goiaba', 'melao'],\n",
              " ['pera', 'banana', 'abacaxi', 'goiaba', 'melao'])"
            ]
          },
          "metadata": {
            "tags": []
          },
          "execution_count": 49
        }
      ]
    },
    {
      "cell_type": "markdown",
      "metadata": {
        "id": "49CLPe9LxThd"
      },
      "source": [
        "2.3. Imprima todos os elementos de frutas com exceção do primeiro e do último."
      ]
    },
    {
      "cell_type": "code",
      "metadata": {
        "colab": {
          "base_uri": "https://localhost:8080/"
        },
        "id": "UByk_G9SxThe",
        "outputId": "a0b17615-9a0a-4835-cbe0-6f1496890982"
      },
      "source": [
        "frutas[1:-1],frutas[1:5], frutas[1:len(frutas)-1]"
      ],
      "execution_count": null,
      "outputs": [
        {
          "output_type": "execute_result",
          "data": {
            "text/plain": [
              "(['pera', 'banana', 'abacaxi', 'goiaba'],\n",
              " ['pera', 'banana', 'abacaxi', 'goiaba'],\n",
              " ['pera', 'banana', 'abacaxi', 'goiaba'])"
            ]
          },
          "metadata": {
            "tags": []
          },
          "execution_count": 52
        }
      ]
    },
    {
      "cell_type": "markdown",
      "metadata": {
        "id": "iARd47TLxThe"
      },
      "source": [
        "3. Tudo misturado..."
      ]
    },
    {
      "cell_type": "code",
      "metadata": {
        "id": "pYeG5nnsxThe"
      },
      "source": [
        "mistura = [1,2,'Python',[3.4,5,'a'],True]"
      ],
      "execution_count": null,
      "outputs": []
    },
    {
      "cell_type": "code",
      "metadata": {
        "colab": {
          "base_uri": "https://localhost:8080/"
        },
        "id": "U4PK273AxThf",
        "outputId": "1fbec35d-21d8-4495-e494-46f3488ba8f9"
      },
      "source": [
        "mistura"
      ],
      "execution_count": null,
      "outputs": [
        {
          "output_type": "execute_result",
          "data": {
            "text/plain": [
              "[1, 2, 'Python', [3.4, 5, 'a'], True]"
            ]
          },
          "metadata": {
            "tags": []
          },
          "execution_count": 54
        }
      ]
    },
    {
      "cell_type": "markdown",
      "metadata": {
        "id": "Iw4qtJaUxThf"
      },
      "source": [
        "3.1. Imprima o elemento 'a' de mistura"
      ]
    },
    {
      "cell_type": "code",
      "metadata": {
        "colab": {
          "base_uri": "https://localhost:8080/"
        },
        "id": "lZW2NtA8xThf",
        "outputId": "db70a9f5-8175-4a60-8335-ff58b4e27aa4"
      },
      "source": [
        "mistura[3][2], mistura[3][-1],mistura[-2][2],mistura[-2][-1]"
      ],
      "execution_count": null,
      "outputs": [
        {
          "output_type": "execute_result",
          "data": {
            "text/plain": [
              "('a', 'a', 'a', 'a')"
            ]
          },
          "metadata": {
            "tags": []
          },
          "execution_count": 58
        }
      ]
    },
    {
      "cell_type": "code",
      "metadata": {
        "colab": {
          "base_uri": "https://localhost:8080/",
          "height": 35
        },
        "id": "YpZBSPrUW7eP",
        "outputId": "29fb9b77-0dfb-437a-8dee-0e5c4cde5718"
      },
      "source": [
        "mistura[2][1]"
      ],
      "execution_count": null,
      "outputs": [
        {
          "output_type": "execute_result",
          "data": {
            "application/vnd.google.colaboratory.intrinsic+json": {
              "type": "string"
            },
            "text/plain": [
              "'y'"
            ]
          },
          "metadata": {
            "tags": []
          },
          "execution_count": 59
        }
      ]
    },
    {
      "cell_type": "markdown",
      "metadata": {
        "id": "jElyV9BoxThf"
      },
      "source": [
        "3.2. Troque *True* por *False* em mistura."
      ]
    },
    {
      "cell_type": "code",
      "metadata": {
        "colab": {
          "base_uri": "https://localhost:8080/"
        },
        "id": "3bOkDoV0xThg",
        "outputId": "05052083-b870-4102-df34-407f7bd5849b"
      },
      "source": [
        "mistura[4] = False\n",
        "mistura"
      ],
      "execution_count": null,
      "outputs": [
        {
          "output_type": "execute_result",
          "data": {
            "text/plain": [
              "[1, 2, 'Python', [3.4, 5, 'a'], False]"
            ]
          },
          "metadata": {
            "tags": []
          },
          "execution_count": 60
        }
      ]
    },
    {
      "cell_type": "markdown",
      "metadata": {
        "id": "Or2YswlBxThg"
      },
      "source": [
        "## Funções aplicadas a listas"
      ]
    },
    {
      "cell_type": "markdown",
      "metadata": {
        "id": "YBjqHwHtxThg"
      },
      "source": [
        "### len"
      ]
    },
    {
      "cell_type": "markdown",
      "metadata": {
        "id": "XO6i2-fjxThh"
      },
      "source": [
        "Se eu quiser saber o tamanho total de uma lista, ou seja, quantos elementos a lista possui, eu uso a função *len*."
      ]
    },
    {
      "cell_type": "code",
      "metadata": {
        "colab": {
          "base_uri": "https://localhost:8080/"
        },
        "id": "uCE478mtxThh",
        "outputId": "9e121bb1-2690-445a-aeca-9d0a783d78ac"
      },
      "source": [
        "len(mistura)"
      ],
      "execution_count": null,
      "outputs": [
        {
          "output_type": "execute_result",
          "data": {
            "text/plain": [
              "5"
            ]
          },
          "metadata": {
            "tags": []
          },
          "execution_count": 61
        }
      ]
    },
    {
      "cell_type": "code",
      "metadata": {
        "colab": {
          "base_uri": "https://localhost:8080/"
        },
        "id": "Lo_NL6V4xThh",
        "outputId": "597df2dc-6458-49f6-b343-298aa4cf696e"
      },
      "source": [
        "len(frutas)"
      ],
      "execution_count": null,
      "outputs": [
        {
          "output_type": "execute_result",
          "data": {
            "text/plain": [
              "6"
            ]
          },
          "metadata": {
            "tags": []
          },
          "execution_count": 62
        }
      ]
    },
    {
      "cell_type": "code",
      "metadata": {
        "id": "5mdiWglXX-M4"
      },
      "source": [
        "lista = [1,2,3,4,5,6]"
      ],
      "execution_count": null,
      "outputs": []
    },
    {
      "cell_type": "code",
      "metadata": {
        "colab": {
          "base_uri": "https://localhost:8080/"
        },
        "id": "6O_OIkAtYDpn",
        "outputId": "a51e685f-9536-43af-c5e1-8ecf22949a98"
      },
      "source": [
        "len(lista)"
      ],
      "execution_count": null,
      "outputs": [
        {
          "output_type": "execute_result",
          "data": {
            "text/plain": [
              "6"
            ]
          },
          "metadata": {
            "tags": []
          },
          "execution_count": 69
        }
      ]
    },
    {
      "cell_type": "markdown",
      "metadata": {
        "id": "Ip2ofUnRChvD"
      },
      "source": [
        "#### Outras formas de determinar o comprimento de listas sem utilizar *len*"
      ]
    },
    {
      "cell_type": "markdown",
      "metadata": {
        "id": "AflEiX6KChvE"
      },
      "source": [
        "1. Solução proposta 1"
      ]
    },
    {
      "cell_type": "code",
      "metadata": {
        "colab": {
          "base_uri": "https://localhost:8080/"
        },
        "id": "QjB2t023YURy",
        "outputId": "b9849c09-a2ef-4afe-939f-94714a150182"
      },
      "source": [
        "tamanho = 0\n",
        "for i in lista:\n",
        "  #print(i)\n",
        "  tamanho = tamanho+1\n",
        "tamanho"
      ],
      "execution_count": null,
      "outputs": [
        {
          "output_type": "execute_result",
          "data": {
            "text/plain": [
              "6"
            ]
          },
          "metadata": {
            "tags": []
          },
          "execution_count": 3
        }
      ]
    },
    {
      "cell_type": "markdown",
      "metadata": {
        "id": "O9QLNsQqChvE"
      },
      "source": [
        "Na solução 1, iniciamos a variável *tamanho* com o valor *0*. Depois empregamos um loop definido, pelo uso do *for*, onde o contador *i* a cada iteração recebe o valor do elemento armazenado em *listas*. \n",
        "\n",
        "Para ficar mais claro, rode a célula anterior, mas com o *print(i)* dentro do *for*. "
      ]
    },
    {
      "cell_type": "markdown",
      "metadata": {
        "id": "uaQhbaFJChvF"
      },
      "source": [
        "2. Solução proposta 2"
      ]
    },
    {
      "cell_type": "code",
      "metadata": {
        "colab": {
          "base_uri": "https://localhost:8080/"
        },
        "id": "Azuaj9XpY-hZ",
        "outputId": "d33986cf-2237-4ee9-ccab-d53b52220f15"
      },
      "source": [
        "for i,j in enumerate(lista):\n",
        "    print(i,j)\n",
        "'''\n",
        "i --> posição dos elementos na lista\n",
        "j --> elementos da lista\n",
        "'''\n",
        "tamanho = i + 1\n",
        "tamanho "
      ],
      "execution_count": null,
      "outputs": [
        {
          "output_type": "stream",
          "text": [
            "0 1\n",
            "1 2\n",
            "2 3\n",
            "3 4\n",
            "4 5\n",
            "5 6\n"
          ],
          "name": "stdout"
        },
        {
          "output_type": "execute_result",
          "data": {
            "text/plain": [
              "6"
            ]
          },
          "metadata": {
            "tags": []
          },
          "execution_count": 75
        }
      ]
    },
    {
      "cell_type": "code",
      "metadata": {
        "colab": {
          "base_uri": "https://localhost:8080/"
        },
        "id": "YfW873_oZb7Y",
        "outputId": "0cf96c6c-8a02-4c11-99f1-43826370bb54"
      },
      "source": [
        "for a in enumerate(lista):\n",
        "    print(a)"
      ],
      "execution_count": null,
      "outputs": [
        {
          "output_type": "stream",
          "text": [
            "(0, 1)\n",
            "(1, 2)\n",
            "(2, 3)\n",
            "(3, 4)\n",
            "(4, 5)\n",
            "(5, 6)\n"
          ],
          "name": "stdout"
        }
      ]
    },
    {
      "cell_type": "code",
      "metadata": {
        "colab": {
          "base_uri": "https://localhost:8080/"
        },
        "id": "GPOhu2MhaKlC",
        "outputId": "0ac9960e-1c3e-46a6-fdd3-8ddea0c4de35"
      },
      "source": [
        "lista.index(lista[-1])+1"
      ],
      "execution_count": null,
      "outputs": [
        {
          "output_type": "execute_result",
          "data": {
            "text/plain": [
              "6"
            ]
          },
          "metadata": {
            "tags": []
          },
          "execution_count": 84
        }
      ]
    },
    {
      "cell_type": "markdown",
      "metadata": {
        "id": "qmQ61_S4ChvH"
      },
      "source": [
        "Na solução proposta 2, também foi utilizado um loop definido, porém o *j* recebe, a cada iteração, o valor do elemento da lista, e o *i* recebe a posição do elemento na lista. "
      ]
    },
    {
      "cell_type": "markdown",
      "metadata": {
        "id": "fnfjJnCRxThh"
      },
      "source": [
        "### sum"
      ]
    },
    {
      "cell_type": "markdown",
      "metadata": {
        "id": "EHvzZ9CPxThh"
      },
      "source": [
        "A função *sum* soma todos os elementos da lista, vamos testar?"
      ]
    },
    {
      "cell_type": "code",
      "metadata": {
        "colab": {
          "base_uri": "https://localhost:8080/",
          "height": 167
        },
        "id": "nAUiyNnHxThh",
        "outputId": "8b9de138-58e5-43fc-d2d1-74582f54d219"
      },
      "source": [
        "sum(frutas)"
      ],
      "execution_count": null,
      "outputs": [
        {
          "output_type": "error",
          "ename": "TypeError",
          "evalue": "ignored",
          "traceback": [
            "\u001b[0;31m---------------------------------------------------------------------------\u001b[0m",
            "\u001b[0;31mTypeError\u001b[0m                                 Traceback (most recent call last)",
            "\u001b[0;32m<ipython-input-63-bea0dd4cf3c6>\u001b[0m in \u001b[0;36m<module>\u001b[0;34m()\u001b[0m\n\u001b[0;32m----> 1\u001b[0;31m \u001b[0msum\u001b[0m\u001b[0;34m(\u001b[0m\u001b[0mfrutas\u001b[0m\u001b[0;34m)\u001b[0m\u001b[0;34m\u001b[0m\u001b[0;34m\u001b[0m\u001b[0m\n\u001b[0m",
            "\u001b[0;31mTypeError\u001b[0m: unsupported operand type(s) for +: 'int' and 'str'"
          ]
        }
      ]
    },
    {
      "cell_type": "markdown",
      "metadata": {
        "id": "g5DKM0MMxThi"
      },
      "source": [
        "Sum somente pode ser aplicado a uma lista de números inteiros ou reais, se não, resultará em erro."
      ]
    },
    {
      "cell_type": "code",
      "metadata": {
        "colab": {
          "base_uri": "https://localhost:8080/"
        },
        "id": "uTEeZpTqxThi",
        "outputId": "2e67bc04-b002-498c-ab52-fa4e0870c681"
      },
      "source": [
        "sum(impares)"
      ],
      "execution_count": null,
      "outputs": [
        {
          "output_type": "execute_result",
          "data": {
            "text/plain": [
              "121"
            ]
          },
          "metadata": {
            "tags": []
          },
          "execution_count": 64
        }
      ]
    },
    {
      "cell_type": "code",
      "metadata": {
        "colab": {
          "base_uri": "https://localhost:8080/"
        },
        "id": "QeWLhHR7xThi",
        "outputId": "a95bf262-140a-4c1b-bee1-83b8a1189457"
      },
      "source": [
        "sum([2.,3.,4,5,6,7])"
      ],
      "execution_count": null,
      "outputs": [
        {
          "output_type": "execute_result",
          "data": {
            "text/plain": [
              "27.0"
            ]
          },
          "metadata": {
            "tags": []
          },
          "execution_count": 65
        }
      ]
    },
    {
      "cell_type": "code",
      "metadata": {
        "colab": {
          "base_uri": "https://localhost:8080/"
        },
        "id": "ZzWFtsWYbIK6",
        "outputId": "07c75257-f36f-4331-cd57-b280590442b8"
      },
      "source": [
        "lista"
      ],
      "execution_count": null,
      "outputs": [
        {
          "output_type": "execute_result",
          "data": {
            "text/plain": [
              "[1, 2, 3, 4, 5, 6]"
            ]
          },
          "metadata": {
            "tags": []
          },
          "execution_count": 85
        }
      ]
    },
    {
      "cell_type": "code",
      "metadata": {
        "colab": {
          "base_uri": "https://localhost:8080/"
        },
        "id": "r5iqYhUEb-xB",
        "outputId": "a0c6057d-1398-4197-92a6-01043e2fdd31"
      },
      "source": [
        "sum(lista)"
      ],
      "execution_count": null,
      "outputs": [
        {
          "output_type": "execute_result",
          "data": {
            "text/plain": [
              "21"
            ]
          },
          "metadata": {
            "tags": []
          },
          "execution_count": 88
        }
      ]
    },
    {
      "cell_type": "markdown",
      "metadata": {
        "id": "2CrUGJhlChvL"
      },
      "source": [
        "#### Outras formas de fazer o somatório da lista sem usar o *sum*"
      ]
    },
    {
      "cell_type": "markdown",
      "metadata": {
        "id": "UtE1-mE5ChvL"
      },
      "source": [
        "1. Modo 1"
      ]
    },
    {
      "cell_type": "code",
      "metadata": {
        "colab": {
          "base_uri": "https://localhost:8080/"
        },
        "id": "T1PpdwlybK-P",
        "outputId": "27e08a8f-f1a4-4871-a116-0b87c01f58a6"
      },
      "source": [
        "soma = 0\n",
        "for i in lista:\n",
        "    soma = soma + i\n",
        "    print(i,soma)\n",
        "print(f'Somatório da lista:{soma}')"
      ],
      "execution_count": null,
      "outputs": [
        {
          "output_type": "stream",
          "text": [
            "1 1\n",
            "2 3\n",
            "3 6\n",
            "4 10\n",
            "5 15\n",
            "6 21\n",
            "Somatório da lista:21\n"
          ],
          "name": "stdout"
        }
      ]
    },
    {
      "cell_type": "code",
      "metadata": {
        "colab": {
          "base_uri": "https://localhost:8080/"
        },
        "id": "Tj4vVTfgdWpi",
        "outputId": "4925faec-722d-48d6-cc09-4315584df944"
      },
      "source": [
        "lista"
      ],
      "execution_count": null,
      "outputs": [
        {
          "output_type": "execute_result",
          "data": {
            "text/plain": [
              "[1, 2, 3, 4, 5, 6]"
            ]
          },
          "metadata": {
            "tags": []
          },
          "execution_count": 92
        }
      ]
    },
    {
      "cell_type": "markdown",
      "metadata": {
        "id": "1q671QwyChvN"
      },
      "source": [
        "2. Modo 2"
      ]
    },
    {
      "cell_type": "markdown",
      "metadata": {
        "id": "-i2pqomqChvN"
      },
      "source": [
        "Para testar o modo 2, vamos criar uma nova lista chamada *lista2*. Essa nova lista será a cópia da lista original, porém o primeiro elemento dela será atualizado para *6*. "
      ]
    },
    {
      "cell_type": "code",
      "metadata": {
        "colab": {
          "base_uri": "https://localhost:8080/"
        },
        "id": "H1-QQdHpezaC",
        "outputId": "e6cf7dd5-7c6c-4e81-8c6c-3472882797a8"
      },
      "source": [
        "lista2 = lista.copy()\n",
        "lista2[0] = 6\n",
        "lista2"
      ],
      "execution_count": null,
      "outputs": [
        {
          "output_type": "execute_result",
          "data": {
            "text/plain": [
              "[6, 2, 3, 4, 5, 6]"
            ]
          },
          "metadata": {
            "tags": []
          },
          "execution_count": 101
        }
      ]
    },
    {
      "cell_type": "code",
      "metadata": {
        "colab": {
          "base_uri": "https://localhost:8080/"
        },
        "id": "Qtoi5smIfRA6",
        "outputId": "6518a86f-3d28-460a-a557-981125247879"
      },
      "source": [
        "lista3 = lista\n",
        "lista3"
      ],
      "execution_count": null,
      "outputs": [
        {
          "output_type": "execute_result",
          "data": {
            "text/plain": [
              "[1, 2, 3, 4, 5, 6]"
            ]
          },
          "metadata": {
            "tags": []
          },
          "execution_count": 102
        }
      ]
    },
    {
      "cell_type": "code",
      "metadata": {
        "colab": {
          "base_uri": "https://localhost:8080/"
        },
        "id": "dYd_Sg81fUYw",
        "outputId": "b92840b0-506e-4720-9f4c-b2eabf32af0c"
      },
      "source": [
        "lista3[1] = 10\n",
        "lista3"
      ],
      "execution_count": null,
      "outputs": [
        {
          "output_type": "execute_result",
          "data": {
            "text/plain": [
              "[1, 10, 3, 4, 5, 6]"
            ]
          },
          "metadata": {
            "tags": []
          },
          "execution_count": 103
        }
      ]
    },
    {
      "cell_type": "code",
      "metadata": {
        "colab": {
          "base_uri": "https://localhost:8080/"
        },
        "id": "zxxqaBv6fX64",
        "outputId": "1e6d8b36-8d6b-4fc2-f1ae-dfd57920704b"
      },
      "source": [
        "lista"
      ],
      "execution_count": null,
      "outputs": [
        {
          "output_type": "execute_result",
          "data": {
            "text/plain": [
              "[1, 10, 3, 4, 5, 6]"
            ]
          },
          "metadata": {
            "tags": []
          },
          "execution_count": 104
        }
      ]
    },
    {
      "cell_type": "code",
      "metadata": {
        "colab": {
          "base_uri": "https://localhost:8080/"
        },
        "id": "gifjdeEPcA9Y",
        "outputId": "530a6b6f-35ba-44be-fa74-8b54433c079e"
      },
      "source": [
        "soma = 0\n",
        "i = 0\n",
        "while i != len(lista2):\n",
        "    soma = soma + lista2[i]\n",
        "    i = i + 1\n",
        "print(f'Somatório da lista2:{soma}')"
      ],
      "execution_count": null,
      "outputs": [
        {
          "output_type": "stream",
          "text": [
            "Somatório da lista2:26\n"
          ],
          "name": "stdout"
        }
      ]
    },
    {
      "cell_type": "markdown",
      "metadata": {
        "id": "EDjObIDuChvQ"
      },
      "source": [
        "Foi utilizado o loop *while*, no qual para ele ser interrompido a condição entre ( ) tem que passar a ser *FALSA*. A condição dada no exemplo acima foi que o loop acontece enquanto *i* é diferente *(!=)* do comprimento da *lista2*. "
      ]
    },
    {
      "cell_type": "markdown",
      "metadata": {
        "id": "AGPDO3wBxThi"
      },
      "source": [
        "### max, min"
      ]
    },
    {
      "cell_type": "markdown",
      "metadata": {
        "id": "jcxxrxQMxThi"
      },
      "source": [
        "As funções *max* e *min* são aplicadas para identificarmos os elementos máximo e mínimo de uma lista. "
      ]
    },
    {
      "cell_type": "code",
      "metadata": {
        "colab": {
          "base_uri": "https://localhost:8080/"
        },
        "id": "DiXn_V_fxThj",
        "outputId": "7559c775-2fad-4bc7-a8a3-4ff32a8aa1c8"
      },
      "source": [
        "max(impares)"
      ],
      "execution_count": null,
      "outputs": [
        {
          "output_type": "execute_result",
          "data": {
            "text/plain": [
              "21"
            ]
          },
          "metadata": {
            "tags": []
          },
          "execution_count": 66
        }
      ]
    },
    {
      "cell_type": "code",
      "metadata": {
        "colab": {
          "base_uri": "https://localhost:8080/"
        },
        "id": "bLjPBdg3xThj",
        "outputId": "34300c70-1784-49d6-b918-04ad649fec00"
      },
      "source": [
        "min(impares)"
      ],
      "execution_count": null,
      "outputs": [
        {
          "output_type": "execute_result",
          "data": {
            "text/plain": [
              "1"
            ]
          },
          "metadata": {
            "tags": []
          },
          "execution_count": 67
        }
      ]
    },
    {
      "cell_type": "code",
      "metadata": {
        "colab": {
          "base_uri": "https://localhost:8080/"
        },
        "id": "r1OrexO7kbGx",
        "outputId": "0078c566-65d4-42a5-eab2-9e30bace8393"
      },
      "source": [
        "impares"
      ],
      "execution_count": null,
      "outputs": [
        {
          "output_type": "execute_result",
          "data": {
            "text/plain": [
              "[1, 3, 5, 7, 9, 11, 13, 15, 17, 19, 21]"
            ]
          },
          "metadata": {
            "tags": []
          },
          "execution_count": 105
        }
      ]
    },
    {
      "cell_type": "markdown",
      "metadata": {
        "id": "ylPmGY5aChvS"
      },
      "source": [
        "#### Outras formas de encontrar os valores máximo e mínimo da lista sem usar o *max* & *min*"
      ]
    },
    {
      "cell_type": "markdown",
      "metadata": {
        "id": "Jsxj-EVhChvS"
      },
      "source": [
        "1. Modo 1"
      ]
    },
    {
      "cell_type": "code",
      "metadata": {
        "id": "R1ux0xoIkZDT"
      },
      "source": [
        "maior_val = impares[0]\n",
        "for i in range(1,len(impares)):\n",
        "    if maior_val < impares[i]:\n",
        "        maior_val = impares[i]\n",
        "    print(i,maior_val)"
      ],
      "execution_count": null,
      "outputs": []
    },
    {
      "cell_type": "markdown",
      "metadata": {
        "id": "aUbBkPkWChvT"
      },
      "source": [
        "2. Modo 2"
      ]
    },
    {
      "cell_type": "code",
      "metadata": {
        "colab": {
          "base_uri": "https://localhost:8080/"
        },
        "id": "oFs6ST70lbBM",
        "outputId": "64489478-275a-4b6c-d958-cd865628d6f5"
      },
      "source": [
        "maior_val = impares[0]\n",
        "for i in impares:\n",
        "    if i > maior_val:\n",
        "        maior_val = i\n",
        "print(f'maior valor:{maior_val}')"
      ],
      "execution_count": null,
      "outputs": [
        {
          "output_type": "stream",
          "text": [
            "maior valor:21\n"
          ],
          "name": "stdout"
        }
      ]
    },
    {
      "cell_type": "markdown",
      "metadata": {
        "id": "YXWkVwm5ChvT"
      },
      "source": [
        "3. Modo 3"
      ]
    },
    {
      "cell_type": "code",
      "metadata": {
        "colab": {
          "base_uri": "https://localhost:8080/"
        },
        "id": "BxpwrULrmIyO",
        "outputId": "a7759b19-13dd-4198-c1f2-e18f0c82f689"
      },
      "source": [
        "menor = impares[0]\n",
        "maior = impares[0]\n",
        "\n",
        "for i in impares:\n",
        "    if i < menor:\n",
        "        menor = i\n",
        "    if i > maior:\n",
        "        maior = i\n",
        "print(f'maior valor:{maior}')\n",
        "print(f'menor valor:{menor}')"
      ],
      "execution_count": null,
      "outputs": [
        {
          "output_type": "stream",
          "text": [
            "maior valor:21\n",
            "menor valor:1\n"
          ],
          "name": "stdout"
        }
      ]
    },
    {
      "cell_type": "markdown",
      "metadata": {
        "id": "2Ly4Mu--ChvU"
      },
      "source": [
        "4. Modo 4"
      ]
    },
    {
      "cell_type": "code",
      "metadata": {
        "colab": {
          "base_uri": "https://localhost:8080/"
        },
        "id": "ARicEuXDmtGt",
        "outputId": "546a422e-bf58-486a-9b05-8fe7b6346951"
      },
      "source": [
        "menor = impares[0]\n",
        "maior = impares[0]\n",
        "\n",
        "for j,i in enumerate(impares):\n",
        "    if i < menor:\n",
        "        menor = i\n",
        "    if i > maior:\n",
        "        maior = i\n",
        "print(f'maior valor:{maior}')\n",
        "print(f'menor valor:{menor}')"
      ],
      "execution_count": null,
      "outputs": [
        {
          "output_type": "stream",
          "text": [
            "maior valor:21\n",
            "menor valor:1\n"
          ],
          "name": "stdout"
        }
      ]
    },
    {
      "cell_type": "markdown",
      "metadata": {
        "id": "4pAso3TPChvV"
      },
      "source": [
        "5. Modo 5"
      ]
    },
    {
      "cell_type": "code",
      "metadata": {
        "id": "_05mqA9znEC9"
      },
      "source": [
        "import sys"
      ],
      "execution_count": null,
      "outputs": []
    },
    {
      "cell_type": "code",
      "metadata": {
        "colab": {
          "base_uri": "https://localhost:8080/"
        },
        "id": "GJLtE6gbnF0D",
        "outputId": "e54a7bde-29f8-4509-a656-7458908d584b"
      },
      "source": [
        "maior = sys.float_info.max \n",
        "menor = sys.float_info.min\n",
        "print(maior,menor) "
      ],
      "execution_count": null,
      "outputs": [
        {
          "output_type": "stream",
          "text": [
            "1.7976931348623157e+308 2.2250738585072014e-308\n"
          ],
          "name": "stdout"
        }
      ]
    },
    {
      "cell_type": "code",
      "metadata": {
        "colab": {
          "base_uri": "https://localhost:8080/"
        },
        "id": "xgBXXBqmn9Bd",
        "outputId": "5c26ec8b-6657-4fd4-fcb8-4c747ec0dc15"
      },
      "source": [
        "lista2 = [-10,-300,-20,-5]\n",
        "lista2"
      ],
      "execution_count": null,
      "outputs": [
        {
          "output_type": "execute_result",
          "data": {
            "text/plain": [
              "[-10, -300, -20, -5]"
            ]
          },
          "metadata": {
            "tags": []
          },
          "execution_count": 118
        }
      ]
    },
    {
      "cell_type": "code",
      "metadata": {
        "colab": {
          "base_uri": "https://localhost:8080/"
        },
        "id": "EwPTTmxMnezd",
        "outputId": "15851096-0f02-47a7-f188-73ba10304602"
      },
      "source": [
        "menor = sys.float_info.max\n",
        "maior = -sys.float_info.max\n",
        "\n",
        "for j,i in enumerate(lista2):\n",
        "    if i < menor:\n",
        "        print('loop1',i,menor)\n",
        "        menor = i\n",
        "        print('loop1',i,menor)\n",
        "    if i > maior:\n",
        "        print('loop2',i,maior)\n",
        "        maior = i\n",
        "        print('loop2',i,maior)\n",
        "    input() # esse input esta aqui para pausar a execucao do codigo. Para continuar pressione enter\n",
        "print(f'maior valor:{maior}')\n",
        "print(f'menor valor:{menor}')"
      ],
      "execution_count": null,
      "outputs": [
        {
          "output_type": "stream",
          "text": [
            "loop1 -10 1.7976931348623157e+308\n",
            "loop1 -10 -10\n",
            "loop2 -10 -1.7976931348623157e+308\n",
            "loop2 -10 -10\n",
            "\n",
            "loop1 -300 -10\n",
            "loop1 -300 -300\n",
            "\n",
            "\n",
            "loop2 -5 -10\n",
            "loop2 -5 -5\n",
            "\n",
            "maior valor:-5\n",
            "menor valor:-300\n"
          ],
          "name": "stdout"
        }
      ]
    },
    {
      "cell_type": "markdown",
      "metadata": {
        "id": "BDzqC1bTxThj"
      },
      "source": [
        "## Métodos aplicados a listas"
      ]
    },
    {
      "cell_type": "markdown",
      "metadata": {
        "id": "MlfQnklpxThj"
      },
      "source": [
        "Bom, temos as funções aplicadas a listas (que acabamos de ver) e temos os métodos aplicados a listas.\n",
        "\n",
        "**Qual é a diferença entre métodos e listas?**\n",
        "\n",
        "Na função, usamos o nome da função e entre ( ) escrevemos a lista na qual queremos que a função seja aplicada. Já em métodos, escrevemos o nome da lista ponto o método que queremos aplicar nessa lista. Vamos ver um exemplo:\n",
        "\n"
      ]
    },
    {
      "cell_type": "markdown",
      "metadata": {
        "id": "IuDKpQ4NxThj"
      },
      "source": [
        "### append"
      ]
    },
    {
      "cell_type": "markdown",
      "metadata": {
        "id": "ypqdwn39xThk"
      },
      "source": [
        "O *append* é um método usado para adicionar elementos na última posição da lista. Vamos adicionar a palavra \"melancia\" na lista frutas."
      ]
    },
    {
      "cell_type": "code",
      "metadata": {
        "colab": {
          "base_uri": "https://localhost:8080/"
        },
        "id": "jnl6f78sxThk",
        "outputId": "b9e39f96-ef10-4055-e8dd-8426e9636ce9"
      },
      "source": [
        "frutas"
      ],
      "execution_count": null,
      "outputs": [
        {
          "output_type": "execute_result",
          "data": {
            "text/plain": [
              "['maca', 'pera', 'banana', 'abacaxi', 'goiaba', 'melao']"
            ]
          },
          "metadata": {
            "tags": []
          },
          "execution_count": 122
        }
      ]
    },
    {
      "cell_type": "code",
      "metadata": {
        "id": "ZJzbK5IMxThk"
      },
      "source": [
        "frutas.append('melancia')"
      ],
      "execution_count": null,
      "outputs": []
    },
    {
      "cell_type": "code",
      "metadata": {
        "colab": {
          "base_uri": "https://localhost:8080/"
        },
        "id": "MelKR24MxThk",
        "scrolled": true,
        "outputId": "9b503571-3399-4576-a9d2-184e3b91d426"
      },
      "source": [
        "frutas"
      ],
      "execution_count": null,
      "outputs": [
        {
          "output_type": "execute_result",
          "data": {
            "text/plain": [
              "['maca', 'pera', 'banana', 'abacaxi', 'goiaba', 'melao', 'melancia']"
            ]
          },
          "metadata": {
            "tags": []
          },
          "execution_count": 124
        }
      ]
    },
    {
      "cell_type": "markdown",
      "metadata": {
        "id": "CKNLuvGkxThk"
      },
      "source": [
        "Contudo, não podemos fazer a adição de mais de um elemento de modo simultâneo usando o *append*."
      ]
    },
    {
      "cell_type": "code",
      "metadata": {
        "id": "7Ejv9xwhrbDO"
      },
      "source": [
        "frutas.append(['morango','abacate'])"
      ],
      "execution_count": null,
      "outputs": []
    },
    {
      "cell_type": "code",
      "metadata": {
        "colab": {
          "base_uri": "https://localhost:8080/"
        },
        "id": "I_AEajrrrhk1",
        "outputId": "74ea3842-60b4-4b5e-effc-3b45cf36d0e6"
      },
      "source": [
        "frutas"
      ],
      "execution_count": null,
      "outputs": [
        {
          "output_type": "execute_result",
          "data": {
            "text/plain": [
              "['maca',\n",
              " 'pera',\n",
              " 'banana',\n",
              " 'abacaxi',\n",
              " 'goiaba',\n",
              " 'melao',\n",
              " 'melancia',\n",
              " ['morango', 'abacate']]"
            ]
          },
          "metadata": {
            "tags": []
          },
          "execution_count": 127
        }
      ]
    },
    {
      "cell_type": "code",
      "metadata": {
        "colab": {
          "base_uri": "https://localhost:8080/"
        },
        "id": "kiFN6Y8srlQg",
        "outputId": "c2a53ff4-008d-490d-a8c0-0ca30ed0d807"
      },
      "source": [
        "frutas[-1]"
      ],
      "execution_count": null,
      "outputs": [
        {
          "output_type": "execute_result",
          "data": {
            "text/plain": [
              "['morango', 'abacate']"
            ]
          },
          "metadata": {
            "tags": []
          },
          "execution_count": 128
        }
      ]
    },
    {
      "cell_type": "markdown",
      "metadata": {
        "id": "TL4VRSnbxThl"
      },
      "source": [
        "### extend"
      ]
    },
    {
      "cell_type": "markdown",
      "metadata": {
        "id": "SLBXXnD7xThl"
      },
      "source": [
        "Para adicionar mais de um elemento de modo simultâneo dentro de uma lista, podemos usar o *extend*."
      ]
    },
    {
      "cell_type": "markdown",
      "metadata": {
        "id": "-GvDlCjuxThl"
      },
      "source": [
        "Adicionando 'morango' e 'limao' com um único comando na lista *frutas*:"
      ]
    },
    {
      "cell_type": "code",
      "metadata": {
        "colab": {
          "base_uri": "https://localhost:8080/"
        },
        "id": "TRTj_8nsrQma",
        "outputId": "a93d8303-2e41-4f24-ef53-1be6d8321cbf"
      },
      "source": [
        "frutas"
      ],
      "execution_count": null,
      "outputs": [
        {
          "output_type": "execute_result",
          "data": {
            "text/plain": [
              "['maca', 'pera', 'banana', 'abacaxi', 'goiaba', 'melao', 'melancia']"
            ]
          },
          "metadata": {
            "tags": []
          },
          "execution_count": 125
        }
      ]
    },
    {
      "cell_type": "code",
      "metadata": {
        "id": "3KcchdI1xThl"
      },
      "source": [
        "frutas.extend(['morango','limao'])"
      ],
      "execution_count": null,
      "outputs": []
    },
    {
      "cell_type": "code",
      "metadata": {
        "colab": {
          "base_uri": "https://localhost:8080/"
        },
        "id": "UeI9wZNuxThl",
        "outputId": "fb59d7e0-6416-4274-f868-be92b9c81d44"
      },
      "source": [
        "frutas"
      ],
      "execution_count": null,
      "outputs": [
        {
          "output_type": "execute_result",
          "data": {
            "text/plain": [
              "['maca',\n",
              " 'pera',\n",
              " 'banana',\n",
              " 'abacaxi',\n",
              " 'goiaba',\n",
              " 'melao',\n",
              " 'melancia',\n",
              " ['morango', 'abacate'],\n",
              " 'morango',\n",
              " 'limao']"
            ]
          },
          "metadata": {
            "tags": []
          },
          "execution_count": 130
        }
      ]
    },
    {
      "cell_type": "code",
      "metadata": {
        "colab": {
          "base_uri": "https://localhost:8080/"
        },
        "id": "2AHoMedFr-mE",
        "outputId": "0a0d6e51-8a8b-401e-a050-373e7d374f4c"
      },
      "source": [
        "frutas = frutas + ['morango','limao']\n",
        "frutas"
      ],
      "execution_count": null,
      "outputs": [
        {
          "output_type": "execute_result",
          "data": {
            "text/plain": [
              "['maca',\n",
              " 'pera',\n",
              " 'banana',\n",
              " 'abacaxi',\n",
              " 'goiaba',\n",
              " 'melao',\n",
              " 'melancia',\n",
              " ['morango', 'abacate'],\n",
              " 'morango',\n",
              " 'limao',\n",
              " 'morango',\n",
              " 'limao']"
            ]
          },
          "metadata": {
            "tags": []
          },
          "execution_count": 131
        }
      ]
    },
    {
      "cell_type": "markdown",
      "metadata": {
        "id": "8loTFEDSxThm"
      },
      "source": [
        "### pop"
      ]
    },
    {
      "cell_type": "markdown",
      "metadata": {
        "id": "kDB5zuzlxThm"
      },
      "source": [
        "lista.pop(idx) remove e retorna o elemento de index igual a idx da lista:"
      ]
    },
    {
      "cell_type": "code",
      "metadata": {
        "colab": {
          "base_uri": "https://localhost:8080/"
        },
        "id": "G4btF9SmtXLH",
        "outputId": "7db16a60-7d0c-4690-8380-c854891236cf"
      },
      "source": [
        "frutas"
      ],
      "execution_count": null,
      "outputs": [
        {
          "output_type": "execute_result",
          "data": {
            "text/plain": [
              "['maca',\n",
              " 'pera',\n",
              " 'banana',\n",
              " 'abacaxi',\n",
              " 'goiaba',\n",
              " 'melao',\n",
              " 'melancia',\n",
              " ['morango', 'abacate'],\n",
              " 'morango',\n",
              " 'limao',\n",
              " 'morango',\n",
              " 'limao']"
            ]
          },
          "metadata": {
            "tags": []
          },
          "execution_count": 132
        }
      ]
    },
    {
      "cell_type": "code",
      "metadata": {
        "colab": {
          "base_uri": "https://localhost:8080/"
        },
        "id": "816oZrHOthjd",
        "outputId": "fbfc62a8-2b93-4477-f1fd-25b0ec8a50e6"
      },
      "source": [
        "frutas.pop(-5)"
      ],
      "execution_count": null,
      "outputs": [
        {
          "output_type": "execute_result",
          "data": {
            "text/plain": [
              "['morango', 'abacate']"
            ]
          },
          "metadata": {
            "tags": []
          },
          "execution_count": 133
        }
      ]
    },
    {
      "cell_type": "code",
      "metadata": {
        "colab": {
          "base_uri": "https://localhost:8080/"
        },
        "id": "O2J_DL-btlk_",
        "outputId": "373c61e3-4545-4b91-f1f0-d38e48c6a854"
      },
      "source": [
        "frutas "
      ],
      "execution_count": null,
      "outputs": [
        {
          "output_type": "execute_result",
          "data": {
            "text/plain": [
              "['maca',\n",
              " 'pera',\n",
              " 'banana',\n",
              " 'abacaxi',\n",
              " 'goiaba',\n",
              " 'melao',\n",
              " 'melancia',\n",
              " 'morango',\n",
              " 'limao',\n",
              " 'morango',\n",
              " 'limao']"
            ]
          },
          "metadata": {
            "tags": []
          },
          "execution_count": 134
        }
      ]
    },
    {
      "cell_type": "code",
      "metadata": {
        "colab": {
          "base_uri": "https://localhost:8080/",
          "height": 35
        },
        "id": "ai-K5lGBxThm",
        "outputId": "a40fc1cc-6a93-4128-af6f-9a11c5b8556a"
      },
      "source": [
        "frutas.pop(2)"
      ],
      "execution_count": null,
      "outputs": [
        {
          "output_type": "execute_result",
          "data": {
            "application/vnd.google.colaboratory.intrinsic+json": {
              "type": "string"
            },
            "text/plain": [
              "'banana'"
            ]
          },
          "metadata": {
            "tags": []
          },
          "execution_count": 135
        }
      ]
    },
    {
      "cell_type": "markdown",
      "metadata": {
        "id": "sE3Z3aE5xThm"
      },
      "source": [
        "Repare que a célula anterior imprimiu a palavra 'banana', indicando que esse elemento foi eliminado da lista *frutas*. Banana foi eliminada pois ocupava o index 2 da lista *frutas*."
      ]
    },
    {
      "cell_type": "code",
      "metadata": {
        "colab": {
          "base_uri": "https://localhost:8080/"
        },
        "id": "_ADQU8kHxThm",
        "outputId": "68ab0858-8bbd-4a1c-8405-b9f11834b2e2"
      },
      "source": [
        "frutas"
      ],
      "execution_count": null,
      "outputs": [
        {
          "output_type": "execute_result",
          "data": {
            "text/plain": [
              "['maca',\n",
              " 'pera',\n",
              " 'abacaxi',\n",
              " 'goiaba',\n",
              " 'melao',\n",
              " 'melancia',\n",
              " 'morango',\n",
              " 'limao',\n",
              " 'morango',\n",
              " 'limao']"
            ]
          },
          "metadata": {
            "tags": []
          },
          "execution_count": 137
        }
      ]
    },
    {
      "cell_type": "code",
      "metadata": {
        "colab": {
          "base_uri": "https://localhost:8080/",
          "height": 35
        },
        "id": "qNoFLrJJt5C3",
        "outputId": "0210b16f-19b6-4db2-ea3d-0ad627dbe887"
      },
      "source": [
        "elem_eliminado = frutas.pop(-1)\n",
        "elem_eliminado "
      ],
      "execution_count": null,
      "outputs": [
        {
          "output_type": "execute_result",
          "data": {
            "application/vnd.google.colaboratory.intrinsic+json": {
              "type": "string"
            },
            "text/plain": [
              "'limao'"
            ]
          },
          "metadata": {
            "tags": []
          },
          "execution_count": 138
        }
      ]
    },
    {
      "cell_type": "markdown",
      "metadata": {
        "id": "b3LPh8JnxThm"
      },
      "source": [
        "## Identificação de elementos pertencentes a lista"
      ]
    },
    {
      "cell_type": "markdown",
      "metadata": {
        "id": "Va4iGN5TxThn"
      },
      "source": [
        "Para checarmos se um elemento pertence ou não a uma lista, podemos fazer uso da palavra *in*. Por exemplo, na lista *frutas* vamos perguntar se 'goiaba' está presente:"
      ]
    },
    {
      "cell_type": "code",
      "metadata": {
        "colab": {
          "base_uri": "https://localhost:8080/"
        },
        "id": "2LkTUNoJuOsY",
        "outputId": "1ba59c96-2eae-4fe9-a577-39298995c028"
      },
      "source": [
        "frutas"
      ],
      "execution_count": null,
      "outputs": [
        {
          "output_type": "execute_result",
          "data": {
            "text/plain": [
              "['maca',\n",
              " 'pera',\n",
              " 'abacaxi',\n",
              " 'goiaba',\n",
              " 'melao',\n",
              " 'melancia',\n",
              " 'morango',\n",
              " 'limao',\n",
              " 'morango']"
            ]
          },
          "metadata": {
            "tags": []
          },
          "execution_count": 139
        }
      ]
    },
    {
      "cell_type": "code",
      "metadata": {
        "colab": {
          "base_uri": "https://localhost:8080/"
        },
        "id": "hvB0mk18xThn",
        "outputId": "4356e3d4-066b-4ae6-981e-415a85c85cec"
      },
      "source": [
        "'goiaba' in frutas"
      ],
      "execution_count": null,
      "outputs": [
        {
          "output_type": "execute_result",
          "data": {
            "text/plain": [
              "True"
            ]
          },
          "metadata": {
            "tags": []
          },
          "execution_count": 140
        }
      ]
    },
    {
      "cell_type": "markdown",
      "metadata": {
        "id": "-9xnf6oXxThn"
      },
      "source": [
        "E uva?"
      ]
    },
    {
      "cell_type": "code",
      "metadata": {
        "colab": {
          "base_uri": "https://localhost:8080/"
        },
        "id": "JvDnaTpYxThn",
        "outputId": "c29f92a3-c5b0-4ba2-9a3c-ec8957e267c2"
      },
      "source": [
        "'uva' in frutas"
      ],
      "execution_count": null,
      "outputs": [
        {
          "output_type": "execute_result",
          "data": {
            "text/plain": [
              "False"
            ]
          },
          "metadata": {
            "tags": []
          },
          "execution_count": 141
        }
      ]
    },
    {
      "cell_type": "code",
      "metadata": {
        "colab": {
          "base_uri": "https://localhost:8080/"
        },
        "id": "sEIHF337uoT9",
        "outputId": "7a629244-8ecd-4b51-cf21-806c79968e0b"
      },
      "source": [
        "elemento = 'uva'\n",
        "if elemento in frutas:\n",
        "    print(elemento,frutas.index(elemento))\n",
        "else:\n",
        "    print(f'{elemento} nao pertence a frutas')"
      ],
      "execution_count": null,
      "outputs": [
        {
          "output_type": "stream",
          "text": [
            "uva nao pertence a frutas\n"
          ],
          "name": "stdout"
        }
      ]
    },
    {
      "cell_type": "markdown",
      "metadata": {
        "id": "xLLBYXL7xThn"
      },
      "source": [
        "## Exercício"
      ]
    },
    {
      "cell_type": "markdown",
      "metadata": {
        "id": "Mr8lLz8GxThn"
      },
      "source": [
        "Quais são os comprimentos das seguintes listas?\n",
        "\n",
        "Preencha na variável *comp* as suas respostas. Tente fazer a previsão do comprimento de cada lista sem utilizar a função *len*."
      ]
    },
    {
      "cell_type": "code",
      "metadata": {
        "id": "JucLJ9eyxTho"
      },
      "source": [
        "a = [1, 2, 3]\n",
        "b = [1, [2, 3]]\n",
        "c = []\n",
        "d = [1, 2, 3][1:]"
      ],
      "execution_count": null,
      "outputs": []
    },
    {
      "cell_type": "markdown",
      "metadata": {
        "id": "ERZ5-4b1Chvm"
      },
      "source": [
        "1. Resolução proposta 1"
      ]
    },
    {
      "cell_type": "code",
      "metadata": {
        "id": "M-vkJz4pvx1Z"
      },
      "source": [
        " def compr(x):\n",
        "    if x == []:\n",
        "        compr = 0\n",
        "    else:\n",
        "        compr = x.index(x[-1])+1\n",
        "    return compr"
      ],
      "execution_count": null,
      "outputs": []
    },
    {
      "cell_type": "code",
      "metadata": {
        "colab": {
          "base_uri": "https://localhost:8080/"
        },
        "id": "VEqO0001xTho",
        "scrolled": true,
        "outputId": "1e8d5408-257f-439d-8762-c23c9b90ff13"
      },
      "source": [
        "comp = [compr(a),compr(b),compr(c),compr(d)]\n",
        "comp "
      ],
      "execution_count": null,
      "outputs": [
        {
          "output_type": "execute_result",
          "data": {
            "text/plain": [
              "[3, 2, 0, 2]"
            ]
          },
          "metadata": {
            "tags": []
          },
          "execution_count": 155
        }
      ]
    },
    {
      "cell_type": "markdown",
      "metadata": {
        "id": "zid_3VHoChvo"
      },
      "source": [
        "2. Resolução proposta 2"
      ]
    },
    {
      "cell_type": "code",
      "metadata": {
        "id": "TuxdkTm4w81f"
      },
      "source": [
        "def compr2(x):\n",
        "    if x == []:\n",
        "        return 0\n",
        "    else:\n",
        "        for i,j in enumerate(x):\n",
        "            pass\n",
        "    return i+1"
      ],
      "execution_count": null,
      "outputs": []
    },
    {
      "cell_type": "code",
      "metadata": {
        "colab": {
          "base_uri": "https://localhost:8080/"
        },
        "id": "1J2gvEe1xMUZ",
        "outputId": "330d47bd-44d4-4674-ab68-a2ccf1dc385c"
      },
      "source": [
        "comp = [compr2(a),compr2(b),compr2(c),compr2(d)]\n",
        "comp "
      ],
      "execution_count": null,
      "outputs": [
        {
          "output_type": "execute_result",
          "data": {
            "text/plain": [
              "[3, 2, 0, 2]"
            ]
          },
          "metadata": {
            "tags": []
          },
          "execution_count": 6
        }
      ]
    },
    {
      "cell_type": "markdown",
      "metadata": {
        "id": "pU89ubcoChvr"
      },
      "source": [
        "3. Resolução proposta 3"
      ]
    },
    {
      "cell_type": "code",
      "metadata": {
        "id": "yZms3myqxsha"
      },
      "source": [
        "def tamanho(lista):\n",
        "    x = 0\n",
        "    for i in lista:\n",
        "        x += 1 # x = x + 1\n",
        "    return x"
      ],
      "execution_count": null,
      "outputs": []
    },
    {
      "cell_type": "code",
      "metadata": {
        "colab": {
          "base_uri": "https://localhost:8080/"
        },
        "id": "0ZeKqpTyxyWJ",
        "outputId": "5da63387-a987-40c7-acab-ee551d83bdf3"
      },
      "source": [
        "comp = [tamanho(a),tamanho(b),tamanho(c),tamanho(d)]\n",
        "comp "
      ],
      "execution_count": null,
      "outputs": [
        {
          "output_type": "execute_result",
          "data": {
            "text/plain": [
              "[3, 2, 0, 2]"
            ]
          },
          "metadata": {
            "tags": []
          },
          "execution_count": 169
        }
      ]
    },
    {
      "cell_type": "markdown",
      "metadata": {
        "id": "2pe4xxOlxTho"
      },
      "source": [
        "***"
      ]
    },
    {
      "cell_type": "markdown",
      "metadata": {
        "id": "5z8uGpMKxTho"
      },
      "source": [
        "## Dicionários"
      ]
    },
    {
      "cell_type": "markdown",
      "metadata": {
        "id": "0d_I9jQ-xTho"
      },
      "source": [
        "Os dicionários são uma estrutura de dados em Python integrada para mapear chaves para valores."
      ]
    },
    {
      "cell_type": "code",
      "metadata": {
        "id": "FJ9TaYqSxThp"
      },
      "source": [
        "numeros = {'um':1, 'dois':2, 'tres':3}"
      ],
      "execution_count": 8,
      "outputs": []
    },
    {
      "cell_type": "code",
      "metadata": {
        "id": "8OW9JwXAxThp",
        "colab": {
          "base_uri": "https://localhost:8080/"
        },
        "outputId": "c9a7bcbb-71b9-42bd-8bd2-81c7273f624d"
      },
      "source": [
        "numeros"
      ],
      "execution_count": 9,
      "outputs": [
        {
          "output_type": "execute_result",
          "data": {
            "text/plain": [
              "{'dois': 2, 'tres': 3, 'um': 1}"
            ]
          },
          "metadata": {
            "tags": []
          },
          "execution_count": 9
        }
      ]
    },
    {
      "cell_type": "code",
      "metadata": {
        "id": "-ZgH3h3QxThp",
        "colab": {
          "base_uri": "https://localhost:8080/"
        },
        "outputId": "a2ee51e6-8993-4340-90fb-17fa147f2882"
      },
      "source": [
        "type(numeros)"
      ],
      "execution_count": 12,
      "outputs": [
        {
          "output_type": "execute_result",
          "data": {
            "text/plain": [
              "dict"
            ]
          },
          "metadata": {
            "tags": []
          },
          "execution_count": 12
        }
      ]
    },
    {
      "cell_type": "markdown",
      "metadata": {
        "id": "21-yhA6NxThp"
      },
      "source": [
        "Nesse caso, 'um', 'dois' e 'tres' são as chaves e 1, 2 e 3 são seus valores correspondentes. "
      ]
    },
    {
      "cell_type": "code",
      "metadata": {
        "id": "krSIsxfAxThp",
        "colab": {
          "base_uri": "https://localhost:8080/"
        },
        "outputId": "f3680ba7-f925-452a-809d-3058b40f81e8"
      },
      "source": [
        "numeros.keys()"
      ],
      "execution_count": 13,
      "outputs": [
        {
          "output_type": "execute_result",
          "data": {
            "text/plain": [
              "dict_keys(['um', 'dois', 'tres'])"
            ]
          },
          "metadata": {
            "tags": []
          },
          "execution_count": 13
        }
      ]
    },
    {
      "cell_type": "code",
      "metadata": {
        "id": "N3mUl4p7xThp",
        "colab": {
          "base_uri": "https://localhost:8080/"
        },
        "outputId": "1a7d85f1-c802-4d3f-abb2-5b248fbc1165"
      },
      "source": [
        "numeros.values()"
      ],
      "execution_count": 14,
      "outputs": [
        {
          "output_type": "execute_result",
          "data": {
            "text/plain": [
              "dict_values([1, 2, 3])"
            ]
          },
          "metadata": {
            "tags": []
          },
          "execution_count": 14
        }
      ]
    },
    {
      "cell_type": "markdown",
      "metadata": {
        "id": "Hw3A4Oz_xThq"
      },
      "source": [
        "Os valores são acessados por meio de uma sintaxe de colchetes semelhante à indexação em listas. Outra forma é utilizar o método .get()"
      ]
    },
    {
      "cell_type": "markdown",
      "metadata": {
        "id": "NkBiWuj9xThq"
      },
      "source": [
        "Imprimindo o número 3:"
      ]
    },
    {
      "cell_type": "code",
      "metadata": {
        "id": "zU2xQKD8xThq",
        "colab": {
          "base_uri": "https://localhost:8080/"
        },
        "outputId": "00726f78-47f2-48ff-8570-0eae2108e77a"
      },
      "source": [
        "numeros['tres']"
      ],
      "execution_count": 15,
      "outputs": [
        {
          "output_type": "execute_result",
          "data": {
            "text/plain": [
              "3"
            ]
          },
          "metadata": {
            "tags": []
          },
          "execution_count": 15
        }
      ]
    },
    {
      "cell_type": "code",
      "metadata": {
        "id": "w4spTGo-0csW",
        "colab": {
          "base_uri": "https://localhost:8080/"
        },
        "outputId": "c0d09a2a-831e-4521-e167-7cc5bf0ca126"
      },
      "source": [
        "numeros.get('tres')"
      ],
      "execution_count": 16,
      "outputs": [
        {
          "output_type": "execute_result",
          "data": {
            "text/plain": [
              "3"
            ]
          },
          "metadata": {
            "tags": []
          },
          "execution_count": 16
        }
      ]
    },
    {
      "cell_type": "markdown",
      "metadata": {
        "id": "-ir6X52qxThq"
      },
      "source": [
        "Podemos usar a mesma sintaxe para adicionar outra chave e valor:"
      ]
    },
    {
      "cell_type": "code",
      "metadata": {
        "id": "12TjJQ43xThq"
      },
      "source": [
        "numeros['quatro'] = 4"
      ],
      "execution_count": 17,
      "outputs": []
    },
    {
      "cell_type": "code",
      "metadata": {
        "id": "NA3vXwdexThq",
        "colab": {
          "base_uri": "https://localhost:8080/"
        },
        "outputId": "6e424de6-709c-4eb2-c1e8-33bbfa4ed1ff"
      },
      "source": [
        "numeros"
      ],
      "execution_count": 18,
      "outputs": [
        {
          "output_type": "execute_result",
          "data": {
            "text/plain": [
              "{'dois': 2, 'quatro': 4, 'tres': 3, 'um': 1}"
            ]
          },
          "metadata": {
            "tags": []
          },
          "execution_count": 18
        }
      ]
    },
    {
      "cell_type": "markdown",
      "metadata": {
        "id": "hdLioHbkxThr"
      },
      "source": [
        "Ou para alterar o valor associado a uma chave existente"
      ]
    },
    {
      "cell_type": "code",
      "metadata": {
        "id": "-3FpkS3XxThr"
      },
      "source": [
        "numeros['dois'] = 'Marte'"
      ],
      "execution_count": 19,
      "outputs": []
    },
    {
      "cell_type": "code",
      "metadata": {
        "id": "9feEEoBCxThr",
        "colab": {
          "base_uri": "https://localhost:8080/"
        },
        "outputId": "c04cdb9d-63d5-4d13-c1a7-b14fcfba0b74"
      },
      "source": [
        "numeros"
      ],
      "execution_count": 20,
      "outputs": [
        {
          "output_type": "execute_result",
          "data": {
            "text/plain": [
              "{'dois': 'Marte', 'quatro': 4, 'tres': 3, 'um': 1}"
            ]
          },
          "metadata": {
            "tags": []
          },
          "execution_count": 20
        }
      ]
    },
    {
      "cell_type": "markdown",
      "metadata": {
        "id": "txQ6c-LIxThr"
      },
      "source": [
        "***"
      ]
    },
    {
      "cell_type": "markdown",
      "metadata": {
        "id": "_hOfwkaaxThr"
      },
      "source": [
        "## Vetores"
      ]
    },
    {
      "cell_type": "markdown",
      "metadata": {
        "id": "Bp8t9W12xThs"
      },
      "source": [
        "Vetores em Python são declarados com a biblioteca Numpy. Então, para trabalharmos com eles, precisamos fazer a importação dessa biblioteca."
      ]
    },
    {
      "cell_type": "markdown",
      "metadata": {
        "id": "P7NrZT8exThs"
      },
      "source": [
        "Diferente das listas, os vetores só são capazes de armazenar números e do mesmo tipo. Você nunca terá um vetor com elementos inteiros e reais. Todos os elementos do vetor serão inteiros ou todos serão reais. "
      ]
    },
    {
      "cell_type": "code",
      "metadata": {
        "id": "xm5yvjgJxThs"
      },
      "source": [
        "import numpy as np"
      ],
      "execution_count": 21,
      "outputs": []
    },
    {
      "cell_type": "markdown",
      "metadata": {
        "id": "vPvY3HJSxThs"
      },
      "source": [
        "Geralmente, a biblioteca *numpy* leva a abreviação *np*. Mas isso é uma convenção, você pode, se quiser, colocar qualquer abreviação. "
      ]
    },
    {
      "cell_type": "markdown",
      "metadata": {
        "id": "mGUtVmOfxThs"
      },
      "source": [
        "### Declaração de vetores"
      ]
    },
    {
      "cell_type": "code",
      "metadata": {
        "id": "abR3F1VFxThs"
      },
      "source": [
        "pares = [0,2,4,6,8,10,12,14,16,18]"
      ],
      "execution_count": 22,
      "outputs": []
    },
    {
      "cell_type": "code",
      "metadata": {
        "id": "jp2xLKatxTht"
      },
      "source": [
        "vet0 = np.array(pares)"
      ],
      "execution_count": 23,
      "outputs": []
    },
    {
      "cell_type": "code",
      "metadata": {
        "id": "gsnTtZ0GxTht",
        "colab": {
          "base_uri": "https://localhost:8080/"
        },
        "outputId": "aa565e62-6007-44da-8f50-7eaf970bd51b"
      },
      "source": [
        "vet0"
      ],
      "execution_count": 24,
      "outputs": [
        {
          "output_type": "execute_result",
          "data": {
            "text/plain": [
              "array([ 0,  2,  4,  6,  8, 10, 12, 14, 16, 18])"
            ]
          },
          "metadata": {
            "tags": []
          },
          "execution_count": 24
        }
      ]
    },
    {
      "cell_type": "code",
      "metadata": {
        "id": "ycTO5JwBxTht",
        "colab": {
          "base_uri": "https://localhost:8080/"
        },
        "outputId": "45522343-d061-4baf-bd93-24fa0354fc04"
      },
      "source": [
        "type(vet0)"
      ],
      "execution_count": 25,
      "outputs": [
        {
          "output_type": "execute_result",
          "data": {
            "text/plain": [
              "numpy.ndarray"
            ]
          },
          "metadata": {
            "tags": []
          },
          "execution_count": 25
        }
      ]
    },
    {
      "cell_type": "markdown",
      "metadata": {
        "id": "9yp6MdJ7xTht"
      },
      "source": [
        "Acabamos de criar um vetor chamado *vet0* que contém números pares de 0 até 18. Na hora de criamos esse vetor, utilizamos a função *array* da biblioteca *numpy* e dentro dos ( ) incluímos uma lista chamada *pares*. "
      ]
    },
    {
      "cell_type": "markdown",
      "metadata": {
        "id": "OfFGsDw5xTht"
      },
      "source": [
        "Outro modo de criar um vetor do zero..."
      ]
    },
    {
      "cell_type": "code",
      "metadata": {
        "id": "jNalKTNjxTht"
      },
      "source": [
        "vet1 = np.random.randint(0,20,10)"
      ],
      "execution_count": 32,
      "outputs": []
    },
    {
      "cell_type": "code",
      "metadata": {
        "id": "-R2EgqATxThu",
        "colab": {
          "base_uri": "https://localhost:8080/"
        },
        "outputId": "feb1d550-611b-4e24-cec5-01c8fd35eb24"
      },
      "source": [
        "vet1"
      ],
      "execution_count": 36,
      "outputs": [
        {
          "output_type": "execute_result",
          "data": {
            "text/plain": [
              "array([ 7, 19,  9,  2,  2, 16,  7, 10,  8,  2])"
            ]
          },
          "metadata": {
            "tags": []
          },
          "execution_count": 36
        }
      ]
    },
    {
      "cell_type": "code",
      "metadata": {
        "id": "f2GWzrlHJg8H"
      },
      "source": [
        "help(np.random.randint)"
      ],
      "execution_count": null,
      "outputs": []
    },
    {
      "cell_type": "code",
      "metadata": {
        "id": "v754ANI7xThu"
      },
      "source": [
        "vet2 = np.random.uniform(0,20,10)"
      ],
      "execution_count": 29,
      "outputs": []
    },
    {
      "cell_type": "markdown",
      "metadata": {
        "id": "kSfDk0dNxThu"
      },
      "source": [
        "Acabamos de criar um vetor chamado *vet1* de números inteiros que foi criado a partir da função random.randint. Essa função recebe como variáveis de entrada **obrigatórias**: \n",
        "\n",
        "- limite inferior (incluído), \n",
        "- limite superior (não incluído),\n",
        "- tamanho do vetor. \n",
        "\n",
        "os elementos desse vetor podem ser iguais ao limite inferior, porém não podem ser iguais ao limite superior. "
      ]
    },
    {
      "cell_type": "markdown",
      "metadata": {
        "id": "hskdsCCfxThu"
      },
      "source": [
        "Um outro modo semelhante de criar um vetor através de números aleatórios, porém reais é:"
      ]
    },
    {
      "cell_type": "code",
      "metadata": {
        "id": "2MelzvyIxThu",
        "colab": {
          "base_uri": "https://localhost:8080/"
        },
        "outputId": "31baea30-2b53-4a37-eff3-ded7525b7b51"
      },
      "source": [
        "vet2"
      ],
      "execution_count": 39,
      "outputs": [
        {
          "output_type": "execute_result",
          "data": {
            "text/plain": [
              "array([ 1.94575417, 17.35812993, 19.12104689,  8.33080333,  9.93799713,\n",
              "        1.06605783, 13.27610015,  4.51307225,  7.72643056, 14.32194706])"
            ]
          },
          "metadata": {
            "tags": []
          },
          "execution_count": 39
        }
      ]
    },
    {
      "cell_type": "markdown",
      "metadata": {
        "id": "bL9uur-YxThv"
      },
      "source": [
        "A função *random.uniform* funciona de modo bem similar à função *random.randint*, porém a *random.uniform* gera números reais. Ambas as funções geram números aleatórios que seguem a distribuição uniforme, ou seja, cada valor dentro do intervalo especificado tem a mesma probabilidade de ser sorteado. "
      ]
    },
    {
      "cell_type": "markdown",
      "metadata": {
        "id": "VeK--gBWxThv"
      },
      "source": [
        "### Funções aplicadas a vetores"
      ]
    },
    {
      "cell_type": "markdown",
      "metadata": {
        "id": "Y42Wi9tJxThv"
      },
      "source": [
        "Existem funções prontas para:\n",
        "\n",
        "- somatório: **np.sum( )**\n",
        "- média: **np.mean( )**\n",
        "- desvio padrão: **np.std( )**\n",
        "- variância: **np.var( )**"
      ]
    },
    {
      "cell_type": "markdown",
      "metadata": {
        "id": "5UIwj70lxThw"
      },
      "source": [
        "#### Exercício: Aplique as 4 funções mostradas acima no vetor *vet2*."
      ]
    },
    {
      "cell_type": "code",
      "metadata": {
        "id": "pTP8sUTpxThw"
      },
      "source": [
        "vet2"
      ],
      "execution_count": null,
      "outputs": []
    },
    {
      "cell_type": "code",
      "metadata": {
        "id": "MhcJw_hwxThw"
      },
      "source": [
        "np.sum(vet2)"
      ],
      "execution_count": null,
      "outputs": []
    },
    {
      "cell_type": "code",
      "metadata": {
        "id": "59p68-t-xThw"
      },
      "source": [
        "np.mean(vet2)"
      ],
      "execution_count": null,
      "outputs": []
    },
    {
      "cell_type": "code",
      "metadata": {
        "id": "3BbJgHO3xThw"
      },
      "source": [
        "np.std(vet2)"
      ],
      "execution_count": null,
      "outputs": []
    },
    {
      "cell_type": "code",
      "metadata": {
        "id": "oS9CMoLXLh_E"
      },
      "source": [
        "np.var(vet2)"
      ],
      "execution_count": null,
      "outputs": []
    },
    {
      "cell_type": "markdown",
      "metadata": {
        "id": "ZoJuSL-bxThw"
      },
      "source": [
        "# Funções"
      ]
    },
    {
      "cell_type": "markdown",
      "metadata": {
        "id": "CTyXtvzyxThw"
      },
      "source": [
        "Bom, nós já vimos várias funções que existem em Python e que, para usá-las, não precisamos fazer a importação de nenhuma biblioteca. Porém, nós, como usuários, muitas vezes sentimos a necessidade de criarmos funções para facilitar nossa vida. "
      ]
    },
    {
      "cell_type": "markdown",
      "metadata": {
        "id": "dEURxuBmxThx"
      },
      "source": [
        "O Python reconhece funções pela palavra **def**. \n",
        "\n",
        "A sintaxe da função é:\n",
        "```bash\n",
        "def nome_função(variáveis de entrada): --> Não esquecer os dois pontos ao final. \n",
        "    - código aqui linha 1\n",
        "    - código aqui linha 2\n",
        "    - código aqui linha 3\n",
        "    return (variáveis de saída)\n",
        "```\n",
        "Depois de você pressionar o *ENTER* ao final dos :, todo código que estiver com ao menos 4 espaços afastados do *def* fará parte da função declarada. 4 espaços do teclado equivale a 1 TAB (1 identação). \n",
        "\n",
        "A função, se precisar retornar variáveis para o programa principal, termina com o *return* e ao lado do return as variáveis de saída. "
      ]
    },
    {
      "cell_type": "markdown",
      "metadata": {
        "id": "K7eD65XrxThx"
      },
      "source": [
        "Vamos ver alguns exemplos de funções."
      ]
    },
    {
      "cell_type": "markdown",
      "metadata": {
        "id": "OrlyHNAUxThx"
      },
      "source": [
        "## Função maior_dif"
      ]
    },
    {
      "cell_type": "code",
      "metadata": {
        "id": "ix5JLzRjxThx"
      },
      "source": [
        "def menor_dif(a, b, c):\n",
        "    dif1 = abs(a - b)\n",
        "    dif2 = abs(b - c)\n",
        "    dif3 = abs(a - c)\n",
        "    return min(dif1, dif2, dif3)"
      ],
      "execution_count": 58,
      "outputs": []
    },
    {
      "cell_type": "markdown",
      "metadata": {
        "id": "HV7jgesCxThx"
      },
      "source": [
        "Criamos uma função chamada *maior_dif* que recebe três argumentos, *a*, *b* e *c*.\n",
        "\n",
        "Pode-se notar que a função começou com o cabeçalho introduzido pela palavra-chave *def*. O bloco recuado de código após: é executado quando a função é chamada.\n",
        "\n",
        "*return* é outra palavra-chave associada exclusivamente a funções. Quando o Python encontra uma instrução de retorno, ele sai da função imediatamente e passa o valor do lado direito para o contexto de chamada.\n",
        "\n",
        "Está claro o que *maior_dif()* faz? Se não tivermos certeza, podemos sempre experimentar com alguns exemplos:"
      ]
    },
    {
      "cell_type": "code",
      "metadata": {
        "id": "5x2o_ZtaxThx"
      },
      "source": [
        "menor_dif(1, 10, 100)"
      ],
      "execution_count": null,
      "outputs": []
    },
    {
      "cell_type": "code",
      "metadata": {
        "id": "48yI8hRExThy",
        "colab": {
          "base_uri": "https://localhost:8080/"
        },
        "outputId": "2ceec531-e177-4166-a644-37fd52bcc9c5"
      },
      "source": [
        "menor_dif(1, 10, 10)"
      ],
      "execution_count": 60,
      "outputs": [
        {
          "output_type": "execute_result",
          "data": {
            "text/plain": [
              "0"
            ]
          },
          "metadata": {
            "tags": []
          },
          "execution_count": 60
        }
      ]
    },
    {
      "cell_type": "code",
      "metadata": {
        "id": "cTqIXZl6xThy",
        "colab": {
          "base_uri": "https://localhost:8080/"
        },
        "outputId": "45ba1024-ebc9-4673-9589-164ef1c4ad4f"
      },
      "source": [
        "menor_dif(5, 6, 7)"
      ],
      "execution_count": 61,
      "outputs": [
        {
          "output_type": "execute_result",
          "data": {
            "text/plain": [
              "1"
            ]
          },
          "metadata": {
            "tags": []
          },
          "execution_count": 61
        }
      ]
    },
    {
      "cell_type": "code",
      "metadata": {
        "id": "usVbTldTxThy",
        "colab": {
          "base_uri": "https://localhost:8080/"
        },
        "outputId": "4e10aa58-c7d2-4ec4-f124-1fcae5b48ac6"
      },
      "source": [
        "help(menor_dif)"
      ],
      "execution_count": 66,
      "outputs": [
        {
          "output_type": "stream",
          "text": [
            "Help on function menor_dif in module __main__:\n",
            "\n",
            "menor_dif(a, b, c)\n",
            "    Retorna a menor diferença entre dois números quaisquer entre três números a, b e c.\n",
            "    exemplo: \n",
            "    >>> menor_dif(1,10,100):\n",
            "    9\n",
            "\n"
          ],
          "name": "stdout"
        }
      ]
    },
    {
      "cell_type": "markdown",
      "metadata": {
        "id": "5qzascB4xThy"
      },
      "source": [
        "Infelizmente o Python não é inteligente o suficiente para ler o meu código e transformá-lo em uma boa descrição em inglês. \n",
        "\n",
        "No entanto, quando escrevo uma função, posso fornecer uma descrição que é chamada de *docstring*. Nada mais é do que a documentação da função (descrição dos argumentos, exemplos de resultados, etc)."
      ]
    },
    {
      "cell_type": "code",
      "metadata": {
        "id": "bk2eQMjlxThy"
      },
      "source": [
        "def menor_dif(a, b, c):\n",
        "    '''\n",
        "    Retorna a menor diferença entre dois números quaisquer entre três números a, b e c.\n",
        "    exemplo: \n",
        "    >>> menor_dif(1,10,100):\n",
        "    9\n",
        "    '''\n",
        "    dif1 = abs(a - b)\n",
        "    dif2 = abs(b - c)\n",
        "    dif3 = abs(a - c)\n",
        "    return min(dif1, dif2, dif3)"
      ],
      "execution_count": 65,
      "outputs": []
    },
    {
      "cell_type": "code",
      "metadata": {
        "id": "4n2MZ6ThxThy",
        "colab": {
          "base_uri": "https://localhost:8080/"
        },
        "outputId": "67466afd-8850-4c86-b171-ffc0254bc24b"
      },
      "source": [
        "help(menor_dif)"
      ],
      "execution_count": 67,
      "outputs": [
        {
          "output_type": "stream",
          "text": [
            "Help on function menor_dif in module __main__:\n",
            "\n",
            "menor_dif(a, b, c)\n",
            "    Retorna a menor diferença entre dois números quaisquer entre três números a, b e c.\n",
            "    exemplo: \n",
            "    >>> menor_dif(1,10,100):\n",
            "    9\n",
            "\n"
          ],
          "name": "stdout"
        }
      ]
    },
    {
      "cell_type": "markdown",
      "metadata": {
        "id": "pvxWKqC4xThz"
      },
      "source": [
        "O *help* pode sempre ser usado:"
      ]
    },
    {
      "cell_type": "code",
      "metadata": {
        "id": "LEFeRZmhxThz"
      },
      "source": [
        "help(np.random.randint)"
      ],
      "execution_count": null,
      "outputs": []
    },
    {
      "cell_type": "markdown",
      "metadata": {
        "id": "nivAJTaqxThz"
      },
      "source": [
        "## Exercício"
      ]
    },
    {
      "cell_type": "markdown",
      "metadata": {
        "id": "ZdzvzsQbxThz"
      },
      "source": [
        "### Crie uma função chamada arredonda2 que recebe um número real e retorna esse número com apenas 2 casas decimais"
      ]
    },
    {
      "cell_type": "code",
      "metadata": {
        "id": "Z6yDf13YxThz"
      },
      "source": [
        "def arredonda2(num):\n",
        "    '''\n",
        "    Funcao arredonda2 recebe um numero real e retorna esse numero com apenas 2 casas decimais\n",
        "    exemplo:\n",
        "    >> arredonda2(9.32432)\n",
        "    >> 9.32\n",
        "    '''\n",
        "    #num = int(num*1000)\n",
        "    num = int(num*100)/100\n",
        "    return num"
      ],
      "execution_count": 72,
      "outputs": []
    },
    {
      "cell_type": "code",
      "metadata": {
        "colab": {
          "base_uri": "https://localhost:8080/"
        },
        "id": "Ni-twpE0RM_z",
        "outputId": "e886cd14-a3b2-438a-bf46-7ac5d6aeb59e"
      },
      "source": [
        "arredonda2(8.5654)"
      ],
      "execution_count": 73,
      "outputs": [
        {
          "output_type": "execute_result",
          "data": {
            "text/plain": [
              "8.56"
            ]
          },
          "metadata": {
            "tags": []
          },
          "execution_count": 73
        }
      ]
    },
    {
      "cell_type": "code",
      "metadata": {
        "id": "OGEl7g54SkLZ"
      },
      "source": [
        "def arredonda3(num):\n",
        "  numero = str(num)\n",
        "  a = numero.split(\".\")[0]\n",
        "  b = numero.split(\".\")[1]\n",
        "  print('b',b,b[:2])\n",
        "  print(f'{a}.{b[:2]}')"
      ],
      "execution_count": 76,
      "outputs": []
    },
    {
      "cell_type": "code",
      "metadata": {
        "colab": {
          "base_uri": "https://localhost:8080/"
        },
        "id": "MjBkK14fTEuc",
        "outputId": "13d4c666-aa41-4972-b2ce-78cdef95c5a0"
      },
      "source": [
        "arredonda3(8.5635)"
      ],
      "execution_count": 77,
      "outputs": [
        {
          "output_type": "stream",
          "text": [
            "b 5635 56\n",
            "8.56\n"
          ],
          "name": "stdout"
        }
      ]
    },
    {
      "cell_type": "markdown",
      "metadata": {
        "id": "EqTsjqm4xThz"
      },
      "source": [
        "Para essa função estamos assumindo que *num* é um número real. "
      ]
    },
    {
      "cell_type": "markdown",
      "metadata": {
        "id": "p8WwqGPWxTh0"
      },
      "source": [
        "### Crie uma função que receba uma lista de números e retorne somente os números pares contidos na lista. "
      ]
    },
    {
      "cell_type": "markdown",
      "metadata": {
        "id": "-gydTxutxTh0"
      },
      "source": [
        "Vamos assumir que a lista tem ao menos 10 elementos."
      ]
    },
    {
      "cell_type": "code",
      "metadata": {
        "id": "EiyjntWsRzev"
      },
      "source": [
        "def retorna_par(lista): \n",
        "  ''' \n",
        "  A funcao ira receber lista e retornara somente os numeros pares da lista\n",
        "  exemplo:\n",
        "  >> retorna_par([1,2,3,4,5,6,7])\n",
        "  >>[2,4,6]\n",
        "  '''\n",
        "  lista2 = []\n",
        "  for i in range(len(lista)):\n",
        "    if lista[i]%2 ==0:\n",
        "      lista2.append(lista[i])\n",
        "  return lista2"
      ],
      "execution_count": 88,
      "outputs": []
    },
    {
      "cell_type": "code",
      "metadata": {
        "colab": {
          "base_uri": "https://localhost:8080/"
        },
        "id": "cF7aToTlSHdS",
        "outputId": "78cbb8f6-dc93-47f8-c34c-d106cea68b77"
      },
      "source": [
        "retorna_par([1,2,3,4,5,6,7,8,9])"
      ],
      "execution_count": 80,
      "outputs": [
        {
          "output_type": "execute_result",
          "data": {
            "text/plain": [
              "[2, 4, 6, 8]"
            ]
          },
          "metadata": {
            "tags": []
          },
          "execution_count": 80
        }
      ]
    },
    {
      "cell_type": "code",
      "metadata": {
        "id": "6E2wQ1zsUOKU"
      },
      "source": [
        "def retorna_par2(lista): \n",
        "  lista2 = []\n",
        "  for i in lista:\n",
        "    if i%2 ==0:\n",
        "      lista2.append(i)\n",
        "  return lista2"
      ],
      "execution_count": 82,
      "outputs": []
    },
    {
      "cell_type": "code",
      "metadata": {
        "id": "_wUB5P36U1TH"
      },
      "source": [
        "retorna_par2([1,2,3,4,5,6,7,8,9])"
      ],
      "execution_count": null,
      "outputs": []
    },
    {
      "cell_type": "code",
      "metadata": {
        "id": "suBu90cuU4Vv"
      },
      "source": [
        "def retorna_par3(lista):\n",
        "  listaPares = [i for i in lista if i%2 == 0]\n",
        "  return listPares"
      ],
      "execution_count": 84,
      "outputs": []
    },
    {
      "cell_type": "code",
      "metadata": {
        "colab": {
          "base_uri": "https://localhost:8080/"
        },
        "id": "Eo-y_Rh4VMwI",
        "outputId": "06b1f5c5-a3e9-4e9b-e204-cfba6916117c"
      },
      "source": [
        "retorna_par2([1,2,3,4,5,6,7,8,9])"
      ],
      "execution_count": 86,
      "outputs": [
        {
          "output_type": "execute_result",
          "data": {
            "text/plain": [
              "[2, 4, 6, 8]"
            ]
          },
          "metadata": {
            "tags": []
          },
          "execution_count": 86
        }
      ]
    },
    {
      "cell_type": "code",
      "metadata": {
        "id": "Tlj2OBu0aoB1"
      },
      "source": [
        "def retorna_par4(lista):\n",
        "    '''\n",
        "    Retorna apenas elementos pares de uma lista\n",
        "    '''\n",
        "    a = np.array(lista)\n",
        "    pares = np.array(lista)%2\n",
        "    resposta = a[np.where(pares==0)]\n",
        "    resposta = resposta.tolist()\n",
        "      \n",
        "    return resposta\n"
      ],
      "execution_count": 89,
      "outputs": []
    },
    {
      "cell_type": "code",
      "metadata": {
        "colab": {
          "base_uri": "https://localhost:8080/"
        },
        "id": "6NX8BUYEazAs",
        "outputId": "f20f5462-9c72-4295-a123-8aeb5bd9d8c3"
      },
      "source": [
        "retorna_par4([1,2,3,4,5,6,7,8,9])"
      ],
      "execution_count": 90,
      "outputs": [
        {
          "output_type": "execute_result",
          "data": {
            "text/plain": [
              "[2, 4, 6, 8]"
            ]
          },
          "metadata": {
            "tags": []
          },
          "execution_count": 90
        }
      ]
    },
    {
      "cell_type": "markdown",
      "metadata": {
        "id": "YLe3wJgMbocR"
      },
      "source": [
        "![list_compression.JPG](data:image/jpeg;base64,/9j/4AAQSkZJRgABAQEAYABgAAD/4RDiRXhpZgAATU0AKgAAAAgABAE7AAIAAAAIAAAISodpAAQAAAABAAAIUpydAAEAAAAQAAAQyuocAAcAAAgMAAAAPgAAAAAc6gAAAAgAAAAAAAAAAAAAAAAAAAAAAAAAAAAAAAAAAAAAAAAAAAAAAAAAAAAAAAAAAAAAAAAAAAAAAAAAAAAAAAAAAAAAAAAAAAAAAAAAAAAAAAAAAAAAAAAAAAAAAAAAAAAAAAAAAAAAAAAAAAAAAAAAAAAAAAAAAAAAAAAAAAAAAAAAAAAAAAAAAAAAAAAAAAAAAAAAAAAAAAAAAAAAAAAAAAAAAAAAAAAAAAAAAAAAAAAAAAAAAAAAAAAAAAAAAAAAAAAAAAAAAAAAAAAAAAAAAAAAAAAAAAAAAAAAAAAAAAAAAAAAAAAAAAAAAAAAAAAAAAAAAAAAAAAAAAAAAAAAAAAAAAAAAAAAAAAAAAAAAAAAAAAAAAAAAAAAAAAAAAAAAAAAAAAAAAAAAAAAAAAAAAAAAAAAAAAAAAAAAAAAAAAAAAAAAAAAAAAAAAAAAAAAAAAAAAAAAAAAAAAAAAAAAAAAAAAAAAAAAAAAAAAAAAAAAAAAAAAAAAAAAAAAAAAAAAAAAAAAAAAAAAAAAAAAAAAAAAAAAAAAAAAAAAAAAAAAAAAAAAAAAAAAAAAAAAAAAAAAAAAAAAAAAAAAAAAAAAAAAAAAAAAAAAAAAAAAAAAAAAAAAAAAAAAAAAAAAAAAAAAAAAAAAAAAAAAAAAAAAAAAAAAAAAAAAAAAAAAAAAAAAAAAAAAAAAAAAAAAAAAAAAAAAAAAAAAAAAAAAAAAAAAAAAAAAAAAAAAAAAAAAAAAAAAAAAAAAAAAAAAAAAAAAAAAAAAAAAAAAAAAAAAAAAAAAAAAAAAAAAAAAAAAAAAAAAAAAAAAAAAAAAAAAAAAAAAAAAAAAAAAAAAAAAAAAAAAAAAAAAAAAAAAAAAAAAAAAAAAAAAAAAAAAAAAAAAAAAAAAAAAAAAAAAAAAAAAAAAAAAAAAAAAAAAAAAAAAAAAAAAAAAAAAAAAAAAAAAAAAAAAAAAAAAAAAAAAAAAAAAAAAAAAAAAAAAAAAAAAAAAAAAAAAAAAAAAAAAAAAAAAAAAAAAAAAAAAAAAAAAAAAAAAAAAAAAAAAAAAAAAAAAAAAAAAAAAAAAAAAAAAAAAAAAAAAAAAAAAAAAAAAAAAAAAAAAAAAAAAAAAAAAAAAAAAAAAAAAAAAAAAAAAAAAAAAAAAAAAAAAAAAAAAAAAAAAAAAAAAAAAAAAAAAAAAAAAAAAAAAAAAAAAAAAAAAAAAAAAAAAAAAAAAAAAAAAAAAAAAAAAAAAAAAAAAAAAAAAAAAAAAAAAAAAAAAAAAAAAAAAAAAAAAAAAAAAAAAAAAAAAAAAAAAAAAAAAAAAAAAAAAAAAAAAAAAAAAAAAAAAAAAAAAAAAAAAAAAAAAAAAAAAAAAAAAAAAAAAAAAAAAAAAAAAAAAAAAAAAAAAAAAAAAAAAAAAAAAAAAAAAAAAAAAAAAAAAAAAAAAAAAAAAAAAAAAAAAAAAAAAAAAAAAAAAAAAAAAAAAAAAAAAAAAAAAAAAAAAAAAAAAAAAAAAAAAAAAAAAAAAAAAAAAAAAAAAAAAAAAAAAAAAAAAAAAAAAAAAAAAAAAAAAAAAAAAAAAAAAAAAAAAAAAAAAAAAAAAAAAAAAAAAAAAAAAAAAAAAAAAAAAAAAAAAAAAAAAAAAAAAAAAAAAAAAAAAAAAAAAAAAAAAAAAAAAAAAAAAAAAAAAAAAAAAAAAAAAAAAAAAAAAAAAAAAAAAAAAAAAAAAAAAAAAAAAAAAAAAAAAAAAAAAAAAAAAAAAAAAAAAAAAAAAAAAAAAAAAAAAAAAAAAAAAAAAAAAAAAAAAAAAAAAAAAAAAAAAAAAAAAAAAAAAAAAAAAAAAAAAAAAAAAAAAAAAAAAAAAAAAAAAAAAAAAAAAAAAAAAAAAAAAAAAAAAAAAAAAAAAAAAAAAAAAAAAAAAAAAAAAAAAAAAAAAAAAAAAAAAAAAAAAAAAAAAAAAAAAAAAAAAAAAAAAAAAAAAAAAAAAAAAAAAAAAAAAAAAAAAAAAAAAAAAAAAAAAAAAAAAAAAAAAAAAAAAAAAAAAAAAAAAAAAAAAAAAAAAAAAAAAAAAAAAAAAAAAAAAAAAAAAAAAAAAAAAAAAAAAAAAAAAAAAAAAAAAAAAAAAAAAAAAAAAAAAAAAAAAAAAAAAAAAAAAAAAAAAAAAAAAAAAAAAAAAAAAAAAAAAAAAAAAAAAAAAAAAAAAAAAAAAAAAAAAAAAAAAAAAAAAAAAAAAAAAAAAAAAAAAAAAAAAAAAAAAAAAAAAAAAAAAAAAAAAAAAAAAAAAAAAAAAAAAAAAAAAAAAAAAAAAAAAAAAAAAAAAAAAAAAAAAAAAAAAAAAAAAAAAAAAAAAAAAAAAAAAAAAAAAAAAAAAAAAAAAAAAAAAAAAAAAAAAAAAAAAAAAAAAAAAAAAAAAAAAAAAAAAAAAAAAAAAAAAAAAAAAAAAAAAAAAAAAAAAAAAAAAAAAAAAAAAAAAAAAAAAAAAAAAAAAAAAAAAAAAAAAAAAAAAAAAAAAAAAAAAAAAAAAAAAAAAAAAAAAAAAAAAAAAAAAAAAAAAAAAAAAAAAAAAAAAAAAAAAAAAAAAAAAAAAAAAAAAAAAAAAAAAAAAAAAAAAAAAAAAAAAAAAAAAAAAAAAAAAAAAAAAAAAAAAAAAAAAAAAAAAAAAAAAAAAAAAAAAAAAAAAAAAAAAAAAAAAAAAAAAAAAAAAAAAAAAAAAAAAAAAAAAAAAAAAAAAAAAAAAAAAAAAAAAAFN1cG9ydGUAAAWQAwACAAAAFAAAEKCQBAACAAAAFAAAELSSkQACAAAAAzc1AACSkgACAAAAAzc1AADqHAAHAAAIDAAACJQAAAAAHOoAAAAIAAAAAAAAAAAAAAAAAAAAAAAAAAAAAAAAAAAAAAAAAAAAAAAAAAAAAAAAAAAAAAAAAAAAAAAAAAAAAAAAAAAAAAAAAAAAAAAAAAAAAAAAAAAAAAAAAAAAAAAAAAAAAAAAAAAAAAAAAAAAAAAAAAAAAAAAAAAAAAAAAAAAAAAAAAAAAAAAAAAAAAAAAAAAAAAAAAAAAAAAAAAAAAAAAAAAAAAAAAAAAAAAAAAAAAAAAAAAAAAAAAAAAAAAAAAAAAAAAAAAAAAAAAAAAAAAAAAAAAAAAAAAAAAAAAAAAAAAAAAAAAAAAAAAAAAAAAAAAAAAAAAAAAAAAAAAAAAAAAAAAAAAAAAAAAAAAAAAAAAAAAAAAAAAAAAAAAAAAAAAAAAAAAAAAAAAAAAAAAAAAAAAAAAAAAAAAAAAAAAAAAAAAAAAAAAAAAAAAAAAAAAAAAAAAAAAAAAAAAAAAAAAAAAAAAAAAAAAAAAAAAAAAAAAAAAAAAAAAAAAAAAAAAAAAAAAAAAAAAAAAAAAAAAAAAAAAAAAAAAAAAAAAAAAAAAAAAAAAAAAAAAAAAAAAAAAAAAAAAAAAAAAAAAAAAAAAAAAAAAAAAAAAAAAAAAAAAAAAAAAAAAAAAAAAAAAAAAAAAAAAAAAAAAAAAAAAAAAAAAAAAAAAAAAAAAAAAAAAAAAAAAAAAAAAAAAAAAAAAAAAAAAAAAAAAAAAAAAAAAAAAAAAAAAAAAAAAAAAAAAAAAAAAAAAAAAAAAAAAAAAAAAAAAAAAAAAAAAAAAAAAAAAAAAAAAAAAAAAAAAAAAAAAAAAAAAAAAAAAAAAAAAAAAAAAAAAAAAAAAAAAAAAAAAAAAAAAAAAAAAAAAAAAAAAAAAAAAAAAAAAAAAAAAAAAAAAAAAAAAAAAAAAAAAAAAAAAAAAAAAAAAAAAAAAAAAAAAAAAAAAAAAAAAAAAAAAAAAAAAAAAAAAAAAAAAAAAAAAAAAAAAAAAAAAAAAAAAAAAAAAAAAAAAAAAAAAAAAAAAAAAAAAAAAAAAAAAAAAAAAAAAAAAAAAAAAAAAAAAAAAAAAAAAAAAAAAAAAAAAAAAAAAAAAAAAAAAAAAAAAAAAAAAAAAAAAAAAAAAAAAAAAAAAAAAAAAAAAAAAAAAAAAAAAAAAAAAAAAAAAAAAAAAAAAAAAAAAAAAAAAAAAAAAAAAAAAAAAAAAAAAAAAAAAAAAAAAAAAAAAAAAAAAAAAAAAAAAAAAAAAAAAAAAAAAAAAAAAAAAAAAAAAAAAAAAAAAAAAAAAAAAAAAAAAAAAAAAAAAAAAAAAAAAAAAAAAAAAAAAAAAAAAAAAAAAAAAAAAAAAAAAAAAAAAAAAAAAAAAAAAAAAAAAAAAAAAAAAAAAAAAAAAAAAAAAAAAAAAAAAAAAAAAAAAAAAAAAAAAAAAAAAAAAAAAAAAAAAAAAAAAAAAAAAAAAAAAAAAAAAAAAAAAAAAAAAAAAAAAAAAAAAAAAAAAAAAAAAAAAAAAAAAAAAAAAAAAAAAAAAAAAAAAAAAAAAAAAAAAAAAAAAAAAAAAAAAAAAAAAAAAAAAAAAAAAAAAAAAAAAAAAAAAAAAAAAAAAAAAAAAAAAAAAAAAAAAAAAAAAAAAAAAAAAAAAAAAAAAAAAAAAAAAAAAAAAAAAAAAAAAAAAAAAAAAAAAAAAAAAAAAAAAAAAAAAAAAAAAAAAAAAAAAAAAAAAAAAAAAAAAAAAAAAAAAAAAAAAAAAAAAAAAAAAAAAAAAAAAAAAAAAAAAAAAAAAAAAAAAAAAAAAAAAAAAAAAAAAAAAAAAAAAAAAAAAAAAAAAAAAAAAAAAAAAAAAAAAAAAAAAAAAAAAAAAAAAAAAAAAAAAAAAAAAAAAAAAAAAAAAAAAAAAAAAAAAAAAAAAAAAAAAAAAAAAAAAAAAAAAAAAAAAAAAAAAAAAAAAAAAAAAAAAAAAAAAAAAAAAAAAAAAAAAAAAAAAAAAAAAAAAAAAAAAAAAAAAAAAAAAAAAAAAAAAAAAAAAAAAAAAAAAAAAAAAAAAAAAAAAAAAAAAAAAAAAAAAAAAAAAAAAAAAAAAAAAAAAAAAAAAAAAAAAAAAAAAAAAAAAAAAAAAAAAAAAAAAAAAAAAAAAAAAAAAAAAAAAAAAAAAAAAAAAAAAAAAAAAAAAAAAAAAAAAAAAAAAAAAAAAAAAAAAAAAAAAAAAAAAAAAAAAAAAAAAAAAAAAAAAAAAAAAAAAAAAAAAAAAAAAAAAAAAAAAAAAAAAAAAAAAAAAAAAAAAAAAAAAAAAAAAAAAAAAAAAAAAAAAAAAAAAAAAAAAAAAAAAAAAAAAAAAAAAAAAAAAAAAAAAAAAAAAAAAAAAAAAAAAAAAAAAAAAAAAAAAAAAAAAAAAAAAAAAAAAAAAAAAAAAAAAAAAAAAAAAAAAAAAAAAAAAAAAAAAAAAAAAAAAAAAAAAAAAAAAAAAAAAAAAAAAAAAAAAAAAAAAAAAAAAAAAAAAAAAAAAAAAAAAAAAAAAAAAAAAAAAAAAAAAAAAAAAAAAAAAAAAAAAAAAAAAAAAAAAAAAAAAAAAAAAAAAAAAAAAAAAAAAAAAAAAAAAAAAAAAAAAAAAAAAAAAAAAAAAAAAAAAAAAAAAAAAAAAAAAAAAAAAAAAAAAAAAAAAAAAAAAAAAAAAAAAAAAAAAAAAAAAAAAAAAAAAAAAAAAAAAAAAAAAAAAAAAAAAAAAAAAAAAAAAAAAAAAAAAAAAAAAAAAAyMDIxOjA4OjAzIDIwOjQ3OjA5ADIwMjE6MDg6MDMgMjA6NDc6MDkAAABTAHUAcABvAHIAdABlAAAA/+ELGmh0dHA6Ly9ucy5hZG9iZS5jb20veGFwLzEuMC8APD94cGFja2V0IGJlZ2luPSfvu78nIGlkPSdXNU0wTXBDZWhpSHpyZVN6TlRjemtjOWQnPz4NCjx4OnhtcG1ldGEgeG1sbnM6eD0iYWRvYmU6bnM6bWV0YS8iPjxyZGY6UkRGIHhtbG5zOnJkZj0iaHR0cDovL3d3dy53My5vcmcvMTk5OS8wMi8yMi1yZGYtc3ludGF4LW5zIyI+PHJkZjpEZXNjcmlwdGlvbiByZGY6YWJvdXQ9InV1aWQ6ZmFmNWJkZDUtYmEzZC0xMWRhLWFkMzEtZDMzZDc1MTgyZjFiIiB4bWxuczpkYz0iaHR0cDovL3B1cmwub3JnL2RjL2VsZW1lbnRzLzEuMS8iLz48cmRmOkRlc2NyaXB0aW9uIHJkZjphYm91dD0idXVpZDpmYWY1YmRkNS1iYTNkLTExZGEtYWQzMS1kMzNkNzUxODJmMWIiIHhtbG5zOnhtcD0iaHR0cDovL25zLmFkb2JlLmNvbS94YXAvMS4wLyI+PHhtcDpDcmVhdGVEYXRlPjIwMjEtMDgtMDNUMjA6NDc6MDkuNzUwPC94bXA6Q3JlYXRlRGF0ZT48L3JkZjpEZXNjcmlwdGlvbj48cmRmOkRlc2NyaXB0aW9uIHJkZjphYm91dD0idXVpZDpmYWY1YmRkNS1iYTNkLTExZGEtYWQzMS1kMzNkNzUxODJmMWIiIHhtbG5zOmRjPSJodHRwOi8vcHVybC5vcmcvZGMvZWxlbWVudHMvMS4xLyI+PGRjOmNyZWF0b3I+PHJkZjpTZXEgeG1sbnM6cmRmPSJodHRwOi8vd3d3LnczLm9yZy8xOTk5LzAyLzIyLXJkZi1zeW50YXgtbnMjIj48cmRmOmxpPlN1cG9ydGU8L3JkZjpsaT48L3JkZjpTZXE+DQoJCQk8L2RjOmNyZWF0b3I+PC9yZGY6RGVzY3JpcHRpb24+PC9yZGY6UkRGPjwveDp4bXBtZXRhPg0KICAgICAgICAgICAgICAgICAgICAgICAgICAgICAgICAgICAgICAgICAgICAgICAgICAgICAgICAgICAgICAgICAgICAgICAgICAgICAgICAgICAgICAgICAgICAgICAgICAgIAogICAgICAgICAgICAgICAgICAgICAgICAgICAgICAgICAgICAgICAgICAgICAgICAgICAgICAgICAgICAgICAgICAgICAgICAgICAgICAgICAgICAgICAgICAgICAgICAgICAgCiAgICAgICAgICAgICAgICAgICAgICAgICAgICAgICAgICAgICAgICAgICAgICAgICAgICAgICAgICAgICAgICAgICAgICAgICAgICAgICAgICAgICAgICAgICAgICAgICAgICAKICAgICAgICAgICAgICAgICAgICAgICAgICAgICAgICAgICAgICAgICAgICAgICAgICAgICAgICAgICAgICAgICAgICAgICAgICAgICAgICAgICAgICAgICAgICAgICAgICAgIAogICAgICAgICAgICAgICAgICAgICAgICAgICAgICAgICAgICAgICAgICAgICAgICAgICAgICAgICAgICAgICAgICAgICAgICAgICAgICAgICAgICAgICAgICAgICAgICAgICAgCiAgICAgICAgICAgICAgICAgICAgICAgICAgICAgICAgICAgICAgICAgICAgICAgICAgICAgICAgICAgICAgICAgICAgICAgICAgICAgICAgICAgICAgICAgICAgICAgICAgICAKICAgICAgICAgICAgICAgICAgICAgICAgICAgICAgICAgICAgICAgICAgICAgICAgICAgICAgICAgICAgICAgICAgICAgICAgICAgICAgICAgICAgICAgICAgICAgICAgICAgIAogICAgICAgICAgICAgICAgICAgICAgICAgICAgICAgICAgICAgICAgICAgICAgICAgICAgICAgICAgICAgICAgICAgICAgICAgICAgICAgICAgICAgICAgICAgICAgICAgICAgCiAgICAgICAgICAgICAgICAgICAgICAgICAgICAgICAgICAgICAgICAgICAgICAgICAgICAgICAgICAgICAgICAgICAgICAgICAgICAgICAgICAgICAgICAgICAgICAgICAgICAKICAgICAgICAgICAgICAgICAgICAgICAgICAgICAgICAgICAgICAgICAgICAgICAgICAgICAgICAgICAgICAgICAgICAgICAgICAgICAgICAgICAgICAgICAgICAgICAgICAgIAogICAgICAgICAgICAgICAgICAgICAgICAgICAgICAgICAgICAgICAgICAgICAgICAgICAgICAgICAgICAgICAgICAgICAgICAgICAgICAgICAgICAgICAgICAgICAgICAgICAgCiAgICAgICAgICAgICAgICAgICAgICAgICAgICAgICAgICAgICAgICAgICAgICAgICAgICAgICAgICAgICAgICAgICAgICAgICAgICAgICAgICAgICAgICAgICAgICAgICAgICAKICAgICAgICAgICAgICAgICAgICAgICAgICAgICAgICAgICAgICAgICAgICAgICAgICAgICAgICAgICAgICAgICAgICAgICAgICAgICAgICAgICAgICAgICAgICAgICAgICAgIAogICAgICAgICAgICAgICAgICAgICAgICAgICAgICAgICAgICAgICAgICAgICAgICAgICAgICAgICAgICAgICAgICAgICAgICAgICAgICAgICAgICAgICAgICAgICAgICAgICAgCiAgICAgICAgICAgICAgICAgICAgICAgICAgICAgICAgICAgICAgICAgICAgICAgICAgICAgICAgICAgICAgICAgICAgICAgICAgICAgICAgICAgICAgICAgICAgICAgICAgICAKICAgICAgICAgICAgICAgICAgICAgICAgICAgICAgICAgICAgICAgICAgICAgICAgICAgICAgICAgICAgICAgICAgICAgICAgICAgICAgICAgICAgICAgICAgICAgICAgICAgIAogICAgICAgICAgICAgICAgICAgICAgICAgICAgICAgICAgICAgICAgICAgICAgICAgICAgICAgICAgICAgICAgICAgICAgICAgICAgICAgICAgICAgICAgICAgICAgICAgICAgCiAgICAgICAgICAgICAgICAgICAgICAgICAgICAgICAgICAgICAgICAgICAgICAgICAgICAgICAgICAgICAgICAgICAgICAgICAgICAgICAgICAgICAgICAgICAgICAgICAgICAKICAgICAgICAgICAgICAgICAgICAgICAgICAgICAgICAgICAgICAgICAgICAgICAgICAgICAgICAgICAgICAgICAgICAgICAgICAgICAgICAgICAgICAgICAgICAgICAgICAgIAogICAgICAgICAgICAgICAgICAgICAgICAgICAgICAgICAgICAgICAgICAgICAgICAgICAgICAgICAgICAgICAgICAgICAgICAgICAgICAgICAgICAgICAgICAgICAgICAgICAgCiAgICAgICAgICAgICAgICAgICAgICAgICAgICA8P3hwYWNrZXQgZW5kPSd3Jz8+/9sAQwAHBQUGBQQHBgUGCAcHCAoRCwoJCQoVDxAMERgVGhkYFRgXGx4nIRsdJR0XGCIuIiUoKSssKxogLzMvKjInKisq/9sAQwEHCAgKCQoUCwsUKhwYHCoqKioqKioqKioqKioqKioqKioqKioqKioqKioqKioqKioqKioqKioqKioqKioqKioq/8AAEQgBzgMwAwEiAAIRAQMRAf/EAB8AAAEFAQEBAQEBAAAAAAAAAAABAgMEBQYHCAkKC//EALUQAAIBAwMCBAMFBQQEAAABfQECAwAEEQUSITFBBhNRYQcicRQygZGhCCNCscEVUtHwJDNicoIJChYXGBkaJSYnKCkqNDU2Nzg5OkNERUZHSElKU1RVVldYWVpjZGVmZ2hpanN0dXZ3eHl6g4SFhoeIiYqSk5SVlpeYmZqio6Slpqeoqaqys7S1tre4ubrCw8TFxsfIycrS09TV1tfY2drh4uPk5ebn6Onq8fLz9PX29/j5+v/EAB8BAAMBAQEBAQEBAQEAAAAAAAABAgMEBQYHCAkKC//EALURAAIBAgQEAwQHBQQEAAECdwABAgMRBAUhMQYSQVEHYXETIjKBCBRCkaGxwQkjM1LwFWJy0QoWJDThJfEXGBkaJicoKSo1Njc4OTpDREVGR0hJSlNUVVZXWFlaY2RlZmdoaWpzdHV2d3h5eoKDhIWGh4iJipKTlJWWl5iZmqKjpKWmp6ipqrKztLW2t7i5usLDxMXGx8jJytLT1NXW19jZ2uLj5OXm5+jp6vLz9PX29/j5+v/aAAwDAQACEQMRAD8A+kaKKKACiiigAooooAKKKKACiiigAooooAKKKKACiiigAooooAKKKKACiiigAooooAKKKKACiiigAooooAKKKKACiiigAooooAKKKKACiiigAooooAKKKKACiiigAooooAKKKKACiiigAooooAKKKKACiiigAooooAKKKKACiiigAooooAKKKKACiiigAooooAKKKKACiiigAooooAKKKKACiiigAooooAKKKKACiiigAooooAKKKKACiiigAooooAKKKKACiiigAooooAKKKKACiiigAooooAKKKKACiiigAooooAKKKKACiiigAooooAKKKKACiiigAooooAKKKKACiiigAooooAKKKKACiiigAooooAKKKKACiiigAooooAKKKKACiiigAooooAKKKKACiiigAooooAKKKKACiiigAooooAKKKKACiiigAooooAKKKKACiiigAooooAKKKKACiiigAooooAKKKKACiiigAooooAKKKKACiiigAooooAKKKKACiiigAooooAKKKKACiiigAooooAKKKKACiiigAooooAKKKKACiiigAooooAKKKKACiiigAooooAKKKKACiiigAooooAKKKKACiiigAooooAKKKKACiiigAooooAKKKKACiiigAooooAKKKKACiiigAooooAKKKKACiiigAooooAKKKKACiiigAooooAKKKKACiiigAooooAKKKKACiiigAooooAKKKKACiiigAooooAKKKKACiiigAooooAKKKKACiiigAooooAKKKKACiiigAooooAKKKKACiiigAooooAKKKKACiiigAooooAKKKKACiiigAooooAKxPGuoXWkeAfEGpafL5N3Z6ZczwSbQ2x0iZlOCCDggcEYrbrB8cW633gXWdNNxDbPqNjPZxTXBKxI8kbKpdgDtXJHP9SBRew4xcnZLU1dQ1C10qwkvL+XyoY8AkKWZiSAqqoBLMzEKFAJYkAAkgVzcvxBt7H+0k1rQtY0qaw0yXVRFcxwv9pgi/wBZ5bxSOhZSVBVmU/Op6HNZGpak/i/SJ9I8TW+j2FpKY5Q4upboLLHKkkazwyW8QETFQDuZS4OBjdkZB0vTbjQdds7TQvCfhmfUdJubBJLGN9+6VMKZpPIiMMeccFW37lIxtw0c8O5v9Vr/AMj+5nXT/ECO1v7W2u/DfiCD+0N66dI1ojLeOBuEYCuWhZlyw88RABXLFdrYo6z4wd7nw/Lb2eqQXEOuvZXuloFaZnOnzyJE2xzGwO6F879i5BYrtbbe1fU9N1LVfD11HfxwppuoPczidHQqhtZ4RuyPky0yEbsAjpniufvlc64+qaZqOnpKPEA1RY71ZUURDTRabJTt/dF2+6xyMMGAc/ITnh3D6rX/AJH9zOkfx5aWumX11qulapp81jdW9vNYyxRy3BE7okcqJC770LORlSSTHIoBZcVZbxNfLaxufCOufapHYCzBtS4RQuZDJ5/lAZYAKX3nkhSFJHL3Xl6v5mo6he2dpqV1daZ5turSGG1gs7sTjc7Rq2598hDMqA7o1A4LtZ8XT2OuXWnTxmz1K2gSaO40jVZ5ba1kLmMpLOBG6/LsOxZEwTIGUgqMnPDuH1Wv/I/uZrS+PLSC3h83StUF9LqB006ckUck0dx9nNwqsVcphowp3Byq7xuKgOV24NTB0Y6jqlvJo6Ro8k0d9JEDAq5yzsjsgGBuzuOB1xyB5v4c0u00q9tp2l0fTYV8QPqhs7GB4YrWJtONsEIKAKfMYHcwUSA7gFLbB3N7NpPi7Rb/AEI3EuzULSW3nWNCkscbrtLYYfKSGyu4c9QCKanF7MUsPWiryg0vRmNfeJ7q98UeFbZNM1jS4bnU5CslzGEjvIhZXLYIViU+YRt5cwR8jO3KNt0v+E1t/wDj7/svUP7E6/25+5+y7P8AnpjzPN8vP/LTy9m358+X89UYtN8Y6rq3hy68Qw6HaJpN01xcixuZpjcs1rNDuTfGvlgNLnYd+Q33hsw8f/CMa5/wiv8AwhWzT/7A+xf2b/aX2p/tX2XZsx5Hl7PM2fJv8zbu/ebMfuqowNa78WCDU7q1tNF1TUYrF1jvbqzSJktmKLIVKNIJXIjdGxGj53ADLZUa+oaha6VYSXl/L5UMeASFLMxJAVVUAlmZiFCgEsSAASQK5Lxf4V1bXr+c2Ftp9vLND5EGuW9/PZ31khB+XESnz1VyZAhkRGJAKgrvOx40t1uvC8sYuIbadZYZ7SW5JWEXEMizQiUgHEZkjUN0JBIBBIovYcYuTslqPg8TxrYXVzrOmahov2bYTHeRo7SBztQRmFpFdmb5RGpL5Kjb86bjT/EjXN/HZ6po2oaJNPkWwv2gZbggEsqtDI43BQW2sQSAxUEK5Xn7jVX8RaRLb67dafpMgnt57ZYDLOIJYZVmSSdnSLCM6xgIVQkA4fLjYQay+s6xpl34jbT9Mi0udriGO1uZZmaVoniBmaSGPyk2ytgEEuWQgqFIeOeHc3+q1/5H9zLPhjxG9t8NvCklxHeavqt9pNtKttCyvcXBEKGSQtIyqANwLO7AZZRks6gx6j4nuovGGgPb6ZrEv2rTNQDaVHGFkMqTWoy+5hENo8zEhfYQfkZt67siwZ9E0Twg+m3On3GqaLpg0u7ivZpbeDymji3sX8pmjJkghKF1AZSwxkgjWttUSfxLo+sarfWcT29heW1zHGsiiBppbd4wS6jChYiu99m8lSqjdtU54dw+q1/5H9zNOy8b2N5pVxcGx1C3vYL1tPbSp4VW6a5C7hGoDFG3IRIHDFAh3lgqsRm6t8QZrfwr4purXQtQtNZ0Cy+0tYX8cfKsjNHKGSQo8eUfO1937txjdgHH1XTNH1eXU57+TTrvzdaTVLWz1GFjAdtjHbbLkMn7sNhyjEHBMbAPgoVtLHRpvC2v6V9h8P8AhYa1ZvZMNKtmPlbo3USzuY4uP3g2Kyr3IY78Kc8O4fVa/wDI/uZ1reKZI7WP7R4f1SLUZnZbfSy9s1xOqhS0gKzGNUG4As7rzherIGrQePLS508yR6Vqg1Eag+mnSZIo0uPtCxmUrlnEWPKBlDeZtK4wSSFrm9a+yeJzYanr2leH7m/sDNCmm6hK81qYpfKJeSR7cGB90a7WMbBlyo/1m5JYf7Nh8JSafDonhOCO5uvNuNFa2eO02bVA82QxfKxZUdZHhAICoF6SUc8O4fVa/wDI/uZ3Wlak+p2rSTafeadNG5SS2vEUOpwCMMjMjggg5RmHUEhgwGbqXiwWWvy6LZaLqmq30VrFdulmkQQRyNIgJklkRAQYj8pO45BUMA5XlvCutXGn+ILDw/bTveXGp3E9/eW01/NdtpVnHAkYHmTssp3z+Wy5TGJJABhQxtavqmoaR8SdTvNPXT5kk0uyge3vJpIWJWS6fzA6JIQihwCSm07vvqUKs+ZWvchUajlyKLv2sb6+MLSfRrC8sbO8u7rUELQ6ZEIxcgrgSq4ZwkZjJ2vuYBXwmdzKpzfEGr2mueFbqwvpdc8P3T3VnbTR2k0cN9bGe4RInV1ZkKMTgspYYEi/eVlGbEtpoq2V/pOo297qlmb0Sx3KvDBcrdzieaRSqu0cYkQFXxIoVWUkk71ju/L1X7RqOo3tnb6lcXembre3aSWGK2s7vz9wcxqzg7piZdqoMqv8Jdlzx7l/Va/8j+5nUXfiwQandWtpouqajFYusd7dWaRMlsxRZCpRpBK5Ebo2I0fO4AZbKi9qOtR6bq+kWE1rcP8A2rNJBHPHs8uJ1ieXD5YN8yxvgqCMrzjIzwni4Jrt/cmyfT7eSWL7PBrltd3NnfWcZB+bESH7RCr7pOZEiJwCAV3nc8cLaa74VjNndWUV5BdxXul3N7Azwm4t5VkUAjn59pTKfMVZtu7oXzx7ieGrLeD+5mjL4wtIr3VLX7HePLp91HZRqgjJvbh4VmEUI35JCOpYuFVRlidqsyy2Xii3k+0JrFpcaDNBC1y0WpvCuYF+9KHjd0KqThvmyuVLABlLclZWmm6foOny293Zx67bX8utXB8t0guL6ZZVmhZgu8ErNIiAgyKEjJV9pVpLlrTxSbuTxZc2+nibS7rS0g06Z5dqXGzzd0jxLib90oWLZldrE79wCLnj3H9Vr/yP7mdTZeJ45/tEl/pmoaRaRQtcpeajGkcUkS/eckMTFgEHbMI3wT8vyvt5bwvretWfi6C18SS6o0GtpKbWW60sQwyzoWkHl4nke3Bt8AQyopPksxIkMgaVNXuvEWg3ukeM5tLsra806S0uH0uWaR5JJF2tjzI1ELgb8RESMcjkbPno+HrbRtL1y3uT4d8H6WbUMTqOnWjCeVtrL5YTyl8iRs5KeZIwAZMNneDnj3D6rX/kf3M63RvFg1uS2eDRdUh0+9TzLPUpEiaG4UrvRsJI0kYZBuBkROynDEKbOq6+NPuls7LTrzV74oJXtLExB4oySA7tK6IoJBABbc2G2ghHK8TpgSLxXbajM+n6QkMslxdvpd3crHqcjRyIVmtCixpMzMJDlpJQYlXLD5ha8ZaTotx4l/tW50nRNavGtY7WWy1uIgQxqXkWaN/KkKLmRw5K7ThfmUoQ7549xfVq97cj+5m1b+PLS/0zTbnSdK1S+utQSZ105Yo4biEQuI5/MEzoqmORlQjcSSeAwBIrXnjbUofEulWNn4W1S6hvNPubmWICCOaOSKWKMr+8mRcLvbJGVbdGUZl3Gsm8NiPC9hp0Gl+G5Y7eV5P7PiWW0itWJZkuLeZI2ZRHlwZlRdxJcNHjYYrN59GXSb611G31S/sYr23kgv724wIrmdJgy3DRyPJHF5KxiRlAYfMSuNpXPHuP6rX/AJH9zItSOs6Z4hu9Yur3xQdDhmebU5wkKW4ignMqNEjTiWNURfKk2RMJ41LBSWDnt9Q8SNbX8lnpejahrc0GBciwaBVtyQCqs00iDcVIbapJAKlgAyFvMvE3h+DWbDXbJrfw/qV1fG6+za7q7zXFzbpKXZBHGYj5cMe7YsiShFwZNpOUPWzay+j6xqV34ebT9Qi1S4W4uI725lt2idYki8xGSGTfCViT5iAFKsdzBgEOePcPqtf+R/czrYNZ0650Y6sl3GliqO8k0x8sRBMh9+7BQqVYMGwVKkEAg1ky+M47XStS1K/0PWLO0sbKW+SSeBB9pijXcxUByY2xjCTCNznp8r7c2KPQG8E6h4cvdVeVNRW7F3PDEUJNy0jzSxghtsQaR9rHcoAALNgk5uoavrHiHwXrGka3NodpcXelTWYazluJUmmkjK+flo1McCndlsSA5+8NnznPHuH1Wv8AyP7ma2o6mNdvdDgubfxJoSPq0b2c0ckUAvtkM02yVA5kERSI7kdUbJQEDDbb2peMW0v7XcXHh7WP7Ls97XGp7YFijRM+ZJsaUTFVwx4jJYDKBgVJq61qmnahq2g3UN9EE0vUmuZgyvl4zazw71wvKBpQS/C4VueMHhfE3h+DWbDXbJrfw/qV1fG6+za7q7zXFzbpKXZBHGYj5cMe7YsiShFwZNpOUJzx7h9Vr/yP7md/f+OBa3urWth4c1zV30dwl2bGGIhcwpMNm+RfMJWTG1NzAjlRuQtZk8YWk1rZS6FZ3muve2sd7HDYiNXW3cZSV/OeNUDdACQzYbAOx9tLSNT03TdV8QXU1/G6alqKXMQRHJEYtYIS54+5uhc7xlcd65vRnuvCtro7aTLpeoTw6Ja6VqKXN1NCubYHy5oWWFyYsyThnYBcBCCMMCc8e4fVa/8AI/uZt+GfFf8AxS6zmLUNUvrzU9S+y2SrtuXiS9mHKzFPLVE2Kd5UL8ifeZVPSaRrUeq+dFJa3Gn31vtM9jd7PNiDZ2N8jMrK2DhlZhlWXO5WUcJpavotraX6ajp97rVncakGjKywW1zDd3RnaQHa7RqCkZ34kQbXXJyHXoPDl5Fca9d6nqM9uuq38cNqLSzZ5I0hhMrKyuyKZAWlkJk2qv3VAJUs7549xPDV0ruD+5m/YarBqN7qdrAkivpt0trMXAAZjDHNlcHkbZVHOOQfqcC2+INvqP2RNH0LWNSmutMttVWKCOFdkE+/bueSRUDAx4K7snOV3AMVzJb7VNE8Xa7/AGbdaK9nqtzHM0l680cmnTLDHAxkRVKyIVijZcvFuJKhsEMI/BK2vh37J9v1G3/d6BpulybRIvlyW3n7mfco2I3nJsLY3enTK549xrDV2rqD+5mvpvxEsdTtrS8i0jWINPnmS1lvLq2WFba5aQReQ6MwkLCUrGWRGQMSN3ysVs6l4xbS/tdxceHtY/suz3tcantgWKNEz5kmxpRMVXDHiMlgMoGBUnnwtofCq6Z/aNukx8Qf2mzSq6LFF/an2sB8rlCYyAN2AzEYOOa5vxF4fg1zT9bspbfw/e3WoG6+z67rbzS3NkspZo4/LeI/Z0XeEQiUL0kCEkoTnh3D6rX/AJH9zPVtf1218OaQ2pX8dxJCs0MJW2hMshMsqRLhBy3zOOACcdATgHNsvGtu+q3Gn61peoeH5obJr8PqfkiKSBG2yOJYpHQbCV3BmBAdTjBzVnXrCTxFoNqlg6r/AKdY3gMwZMpDdRTNxjOSsZwCOpGcdareI/Cn/CSaqv2mXy9Pl0W/0y48tsSj7S0GCmQRwsT8nuV4POLMGmnZklt4sEl1Et9ouqaZZ3DiO3vr1IkilZjiNSokMkZfoBKifMQhw7Kpj/4TW3/4RD+3v7L1D/j9+wfYP3Pn+f8AavsuzPmeX/rO+/GOc1FNpviPXGt7DX4dLgsbe6gunurK5keW5aCVZUAiaMCEM6Kx+eTCgoMkiRc2LwDOPH815Omlv4dbUBrkNukBWdNR8gQZYEFGTG6XcMP5pB7ZII19S8Ytpf2u4uPD2sf2XZ72uNT2wLFGiZ8yTY0omKrhjxGSwGUDAqTJ40uZ7XQbaS1mkhdtW02MtG5UlXvoFZcjsVYgjuCR3rjfEvw21LWrDXLJtL8P6jc3/wBqNtrurzyT3NsJS7JEkTRnylTcEXZKAuPM2Ekoe08Y263WiW8b3ENsq6lYztLOSqBYbqOZgSAcErGQM4BYgZGaL2HGLk7JalCLUrHSNX8Vas95rF0y3tpYNYSyq8KTmKLy0tkJATzDcxhixA38kqozUWueNtS07QxdQeFtUivBqFlbNa3IgOY551jLK6zeWScsoG/crFC6hDuNYXdrHH4nK3GnTf2zfLOltfxSeV5QtbeFo7jK/uhJ5TgMQww6nD8ocS1skOn3oN5b6YJJ7Ga10o39zPa2rWtx54y0qL9mSX5IwqxhVVFKhs7RHPDub/Va/wDI/uZ20via+SOHyvCOuTXDoXlt0NqDANxVdztOI2J2k4R2IGNwXcudLR9Vg1rTEvbZJIwXkikilADxSRu0ciNgkEq6spKkqcZBIwT55q7jW9Qh1HV9P0TVRJbLDJpGqX84s7CRJHInw1uylpFkUB3jRgFwpYOa6L4dxW2keG4tEWe1kuI7i7nMVnbPBHEklw8igRNzEu2RcKSeOhYDNNTi9mKWHrRV5QaXozr6KKKowCiiigAooooAKKKKACiiigAooooAKKKKACiiigAooooAKKKKACiiigAooooAKKKKACiiigAooooAKKKKACiiigAooooAKKKKACiiigAooooAKRlV1KuoZTwQRkGlooAa0UbbtyKd4w2R94ehoaKNt25FO8YbI+8PQ06igd2NaKNt25FO8YbI+8PQ0NFG27cineMNkfeHoadRQF2NaKNt25FO8YbI+8PQ0NFG27cineMNkfeHoadRQF2NaKNt25FO8YbI+8PQ0oVQxYKAx4JxyaWigLsKKKKBBSMqupV1DKeCCMg0tFADWijbduRTvGGyPvD0NDRRtu3Ip3jDZH3h6GnUUDuxrRRtu3Ip3jDZH3h6Ghoo23bkU7xhsj7w9DTqKAuxrRRtu3Ip3jDZH3h6Ghoo23bkU7xhsj7w9DTqKAuxrRRtu3Ip3jDZH3h6Ghoo23bkU7xhsj7w9DTqKAuxAqhiwUBjwTjk0FFLbioLYxnHOPSlooC7GiKMYwijau0YHQen0oEUYxhFG1dowOg9PpTqKAuxoijGMIo2rtGB0Hp9KPLTYq7F2rjaMcDHTFOooC7G+VHz8i8tuPHU+v14o8qPn5F5bceOp9frxTqKAuxvlR8/IvLbjx1Pr9eKPKj5+ReW3HjqfX68U6igLsb5UfPyLy248dT6/XilKKW3FQWxjOOcelLRQF2NEUYxhFG1dowOg9PpQIoxjCKNq7RgdB6fSnUUBdjRFGMYRRtXaMDoPT6UCKMYwijau0YHQen0p1FAXY0RRjGEUbV2jA6D0+lAijGMIo2rtGB0Hp9KdRQF2NEUYxhFG1dowOg9PpQIoxjCKNq7RgdB6fSnUUBdjRFGMYRRtXaMDoPT6UCKMYwijau0YHQen0p1FAXY0RRjGEUbV2jA6D0+lCxopUqigqu1cDoPT6U6igLsa0UbbtyKd4w2R94ehoaKNt25FO8YbI+8PQ06igLsa0UbbtyKd4w2R94ehoaKNt25FO8YbI+8PQ06igLsKKKKBBRRRQAUjKrqVdQynggjINLRQA1oo23bkU7xhsj7w9DQ0UbbtyKd4w2R94ehp1FA7sa0UbbtyKd4w2R94ehpQqhiwUBjwTjk0tFAXYUUUUCCiiigAooooAKKKKACiiigAooooAKKKKACiiigAooooAKKKKACiiigAooooAKKKKACiiigAooooAKKKKACiiigAooooAKKKKACiiigAooooAKKKKACsbxfPeWnhDUrzTHdbq0hNzGE6v5Z3lP+BBSv41s0jKroyOAysMEEcEUANgnjubeOeBg8UqB0YdGBGQafXOeA3KeEbewkJMmlySac2epEDmNSfqiq3/Aq6OgAooooAKKKKACiiigAooooAKKKKACiiigAooooAKKKKACiiigAooooAKKKKACiiigAooooAKKKKACiiigAooooAKKKKACiiigAooooAKKKKACiiigAooooAKKKKACiiigAooooAKKKKACiiigDM8Sas+heHbvVEiWVbNRNKrHGIgwMh+oTcfwrTqC+s4dQ0+4srpd0NzE0Ui+qsMEfkayfBV3LeeC9Na6bfdQRfZblvWaEmKT/AMfRqAN2iiigAooooAKKKKACiiigAooooAKKKKACiiigAooooAKKKKACiiigAooooAKKKKACiiigAooooAKKKKACiiigAooooAKKKKACiiigAooooAKKKKACiiigDm9H/wBB8c+INP6JdrBqcfuWUwuB9DApP+/710lc3rf+g+NPDuo9FuDPpkp9BIglQn/gUG0f7/vXSUAFFFFABRRRQAUUUUAFFFFABRRRQAUUUUAFFFFABRRRQAUUUUAFFFFABRRRQAUUUUAFFFFABRRRQAUUUUAFFFFABRRRQAUUUUAFFFFABRRRQAUUUUAFFFFABRRRQAUUUUAFFFFABRRRQAUUUUAFc34b/wBC8ReJNK6BbtL+FfSOdMn85Y5jXSVzd/8A6B8RtJuuialZzWL/AO1IhE0Q/BRcfnQB0lFFFABRRRQAUUUUAFFFFABRRRQAUUUUAFFFFABRRRQAUUUUAFFFFABRRRQAUUUUAFFFFABRRRQAUUUUAFFFFAFS+1XT9M2f2lf21p5mdn2iZY92MZxk84yPzqr/AMJV4e/6Dumf+Bkf+NFx/wAjjp3/AF4XX/oy3rVq/dSVydW3Yyv+Eq8Pf9B3TP8AwMj/AMaP+Eq8Pf8AQd0z/wADI/8AGtWil7vYPe7mV/wlXh7/AKDumf8AgZH/AI0f8JV4e/6Dumf+Bkf+NatFHu9g97uZX/CVeHv+g7pn/gZH/jR/wlXh7/oO6Z/4GR/41q0Ue72D3u5lf8JV4e/6Dumf+Bkf+NH/AAlXh7/oO6Z/4GR/41q0Ue72D3u5lf8ACVeHv+g7pn/gZH/jR/wlXh7/AKDumf8AgZH/AI1q0Ue72D3u5xPjjxHoknhG6uLXWdPludPeO/hRLuMs7QOsu0DPJYIVx33YrfXxZ4ddFZde0wqwyD9sj5H51qyRpNE8Uqh0dSrKehB6iuf8Byv/AMIbZ2kzFptNL6dIT1Jgcxbj9Qgb8aPd7B7xd/4Srw9/0HdM/wDAyP8Axo/4Srw9/wBB3TP/AAMj/wAa1aKPd7B73cyv+Eq8Pf8AQd0z/wADI/8AGj/hKvD3/Qd0z/wMj/xrVoo93sHvdzK/4Srw9/0HdM/8DI/8aP8AhKvD3/Qd0z/wMj/xrVoo93sHvdzK/wCEq8Pf9B3TP/AyP/Gj/hKvD3/Qd0z/AMDI/wDGtWij3ewe93Mr/hKvD3/Qd0z/AMDI/wDGj/hKvD3/AEHdM/8AAyP/ABrVoo93sHvdzK/4Srw9/wBB3TP/AAMj/wAaP+Eq8Pf9B3TP/AyP/GtWij3ewe93Mr/hKvD3/Qd0z/wMj/xo/wCEq8Pf9B3TP/AyP/GtWij3ewe93Mr/AISrw9/0HdM/8DI/8aP+Eq8Pf9B3TP8AwMj/AMa1aKPd7B73cyv+Eq8Pf9B3TP8AwMj/AMaP+Eq8Pf8AQd0z/wADI/8AGtWij3ewe93Mr/hKvD3/AEHdM/8AAyP/ABo/4Srw9/0HdM/8DI/8a1aKPd7B73cyv+Eq8Pf9B3TP/AyP/Gj/AISrw9/0HdM/8DI/8a1aKPd7B73cyv8AhKvD3/Qd0z/wMj/xo/4Srw9/0HdM/wDAyP8AxrVoo93sHvdzK/4Srw9/0HdM/wDAyP8Axo/4Srw9/wBB3TP/AAMj/wAa1aKPd7B73cyv+Eq8Pf8AQd0z/wADI/8AGj/hKvD3/Qd0z/wMj/xrVoo93sHvdzK/4Srw9/0HdM/8DI/8aP8AhKvD3/Qd0z/wMj/xrVoo93sHvdzK/wCEq8Pf9B3TP/AyP/Gj/hKvD3/Qd0z/AMDI/wDGtWij3ewe93Mr/hKvD3/Qd0z/AMDI/wDGj/hKvD3/AEHdM/8AAyP/ABrVoo93sHvdzK/4Srw9/wBB3TP/AAMj/wAaP+Eq8Pf9B3TP/AyP/GtWij3ewe93Mr/hKvD3/Qd0z/wMj/xo/wCEq8Pf9B3TP/AyP/GtWij3ewe93Mr/AISrw9/0HdM/8DI/8aP+Eq8Pf9B3TP8AwMj/AMa1aKPd7B73cyv+Eq8Pf9B3TP8AwMj/AMaP+Eq8Pf8AQd0z/wADI/8AGtWij3ewe93Mr/hKvD3/AEHdM/8AAyP/ABo/4Srw9/0HdM/8DI/8a1aKPd7B73cyv+Eq8Pf9B3TP/AyP/Gj/AISrw9/0HdM/8DI/8a1aKPd7B73cyv8AhKvD3/Qd0z/wMj/xo/4Srw9/0HdM/wDAyP8AxrVoo93sHvdzK/4Srw9/0HdM/wDAyP8Axo/4Srw9/wBB3TP/AAMj/wAa1aKPd7B73cyv+Eq8Pf8AQd0z/wADI/8AGj/hKvD3/Qd0z/wMj/xrVoo93sHvdzK/4Srw9/0HdM/8DI/8aP8AhKvD3/Qd0z/wMj/xrVoo93sHvdzK/wCEq8Pf9B3TP/AyP/Gud8aeJdCGj22oQa1p7zaXfQXYCXSE7A4WXAB/55PIK7eq2pWMOqaVd6fdDMF3C8Eg9VZSp/Q0e72D3in/AMJV4e/6Dumf+Bkf+NH/AAlXh7/oO6Z/4GR/41D4Nv5tR8G6ZPdnN0sAhuf+u0f7uT/x9Wrbo93sHvdzK/4Srw9/0HdM/wDAyP8Axo/4Srw9/wBB3TP/AAMj/wAa1aKPd7B73cyv+Eq8Pf8AQd0z/wADI/8AGj/hKvD3/Qd0z/wMj/xrVoo93sHvdzK/4Srw9/0HdM/8DI/8aP8AhKvD3/Qd0z/wMj/xrVoo93sHvdzK/wCEq8Pf9B3TP/AyP/Gj/hKvD3/Qd0z/AMDI/wDGtWij3ewe93Mr/hKvD3/Qd0z/AMDI/wDGj/hKvD3/AEHdM/8AAyP/ABrVoo93sHvdzK/4Srw9/wBB3TP/AAMj/wAaP+Eq8Pf9B3TP/AyP/GtWij3ewe93Mr/hKvD3/Qd0z/wMj/xo/wCEq8Pf9B3TP/AyP/GtWij3ewe93Mr/AISrw9/0HdM/8DI/8aP+Eq8Pf9B3TP8AwMj/AMa1aKPd7B73cyv+Eq8Pf9B3TP8AwMj/AMaP+Eq8Pf8AQd0z/wADI/8AGtWij3ewe93Kljqun6nv/s2/trvy8b/s8yybc5xnB4zg/lVusq3/AORx1H/rwtf/AEZcVq0SST0HFtrUKKKKkYUUUUAFFFFABRRRQAUUUUAZVx/yOOnf9eF1/wCjLetWsq4/5HHTv+vC6/8ARlvWrVS2RK3YUUUVJQUUUUAFFFFABRRRQAUUUUAFc3of+g+NPEenHhbhoNTiHtInlMB/wKAsf9/3rpK8r8QfDLVL7436D4ph1O6uNHjcvdWk1wxFs6KWTYpP3C4Ukdjz0PAB6pRRRQAUUUUAFFFFABRRRQAUUUUAFFFFABRRRQAUUUUAFFFFABRRRQAUUUUAFFFFABRRRQAUUUUAFFFFABRRRQAUUUUAFFFFABRRRQAUUUUAFFFFABRRRQAUUUUAFFFFABRRRQAUUUUAFFFFABRRRQBzfhf/AELW/EeknhYb77ZCv/TO4UOT+Mon/KukryLXbzx1Y/tCaPb2yW0Oh6qiwtdwQEmSGHfKY5CxIVxlwCMZD8c5x67QAUUUUAFFFFABRRRQAUUUUAFFFFABRRRQAUUUUAFFFFABRRRQBlW//I46j/14Wv8A6MuK1ayrf/kcdR/68LX/ANGXFatVLcmOwUUUVJQUUUUAFFFFABRRRQAUUUUAZVx/yOOnf9eF1/6Mt61ayrj/AJHHTv8Arwuv/RlvWrVS2RK3YUUUVJQUUUUAFFFFABRRRQAUUUUAV73ULPTYRNqN3BaRM20PPIEUnrjJPXg/lVL/AISrw9/0HdM/8DI/8aNY/wCQpoP/AF/t/wCk09atXokrk6t6GV/wlXh7/oO6Z/4GR/40f8JV4e/6Dumf+Bkf+NatFL3ewe93KVlrWl6lMYdO1Kzu5VXcUgnV2A6ZwD05H51drKuP+Rx07/rwuv8A0Zb1q0NLoCb6hRRRUlBRRRQAUUUUAFFFFABRRRQAUUUUAFFFFABRRRQAUUUUAFFFFABRRRQAUUUUAFFFFABRRRQAUUUUAFFFFABRRRQAUUUUAFFFFABRRRQAUUUUAFFFFABRRRQAUUUUAFFFFABRRRQAEA4yM45HtRXOaVpUOpW1xc3dzqDSte3S/JqNwigLcSKoCq4AAAA4Har3/CN2P/PfU/8Awa3P/wAcq2op2uQm2r2NWisr/hG7H/nvqf8A4Nbn/wCOUf8ACN2P/PfU/wDwa3P/AMcpe73H73Y1aKzPDUsk/hTSZp5GklksoWd3bLMSgJJJ6mtOk1Z2GndXCiiikMKKKKACiiigAooooAKKKKACiiigAooooAyrf/kcdR/68LX/ANGXFatZVv8A8jjqP/Xha/8Aoy4rVqpbkx2CiiipKCiiigAooooAKKKKACiiigDKuP8AkcdO/wCvC6/9GW9atZVx/wAjjp3/AF4XX/oy3rVqpbIlbsKKKKkoKKKKACiiigAooooAKKKKAMrWP+QpoP8A1/t/6TT1q1lax/yFNB/6/wBv/SaetWqlsiVuzifiL8VdD+GX9nf29a6hcf2j5vlfYo0fb5ezO7c6/wB8YxnvVn4e/EjR/iVpV1f6FbahbxWs3kuL232ZO0H5WUsp68gHI4yACpPn/wAcv+Sp/Cb/ALDR/wDR9rXttSUZVx/yOOnf9eF1/wCjLetWsq4/5HHTv+vC6/8ARlvWrVS2RK3YUUUVJQUVm6bqMt5fX0MqoFt5NiFQckZYc8+1aVYYfEQxFNVKe2v4Nr80XODpy5ZBRXlvif4heKrn4rL4F+HNno893aWX2vUrnVjKI4M4KrhCD0aPld+TKPu7WNd34Xl1+bw7A3i+Czg1cPKs6WJJhIEjBGTJJwyBW5555APA3INeiiigAooooAKKKKACiiigAorj/GXi2/8ADviTwxp9lFbvFq935E7TKxZV3xrlcEYOHPXPauwqIzUpOK6HTVw1SlSp1ZbTu18nZ/igorlviB4r1XwfoEF/ofhi88S3El0sLWlmW3opVmMh2o5wCoHT+Ic1t6JfT6poGn395ZSWFxdWsc0tpLnfbsyhjG2QDlScHIHToKs5i9RRRQAUUVzPgPxJeeKNCmvdQjgjkjuWiAgUgYCqe5PPzGldXsZSrRjUjTe8r2+X/DnTUVg+GPEGoa79q/tHQrnSPJ2bPPLfvc5zjKr0wPXrW9QmmrodKrGrBThs/l+YUVV1LUrTSNPlvtRl8m2ixvfaWxkgDgAnqRUtrcxXtnDdWz74Z41kjbBG5SMg4PPQ079CuePNy317EtFFFBQUUVzWteJ9T0zxXp+lWnhu7v7S68vzdQiLeXBucqc4Qj5QNxyRwe3WqjBzdkNJvY6WiuN8X+LdT07xFpPh3wxb2lxquoZkb7ZuEcUQz8xxjP3XPBJAQ8EkVueHn157SceKIrFLpJ9sbWJby5I9qkH5iTncWHOOnTubdKUYqT6jcWldmtRRRWRIUUUUAFFFFABRRRQAUUUUAFFFch4O8WX3iHxJ4m0+9it0i0m78iBolYMy75Fy2ScnCDpjvVxg5Rcl0KUW032OvormtF8T6nqfivUNKu/Dd3YWlr5nlahKW8ufa4UYygHzA7hgngd+tdLSlBwdmJprcKKK8+t/FHjtbKDW73w5bvpkk5WTTreOX7fDHuKg7WwGIwDwOQc4UEkVCm57DjFy2PQaK53wvruq69e6nNe6RcaZp0bRrZC8gMU8h25k3KWPAOMEADB7kHHRVMouLsxNWdmFFFFSIyvDf/ILm/6/7z/0plrL+IHxA0r4caBBq+uW95PbzXS2qrZorOGKswJDMoxhD39K1PDf/ILm/wCv+8/9KZa1aqfxMmPwo4n4dfFXQ/ib/aP9g2uoW/8AZ3leb9tjRN3mb8bdrt/cOc47V21eJfA3/kqfxZ/7DQ/9H3Ve21JRleFf+RO0b/rwg/8ARa1q1leFf+RO0b/rwg/9FrWrVT+Jkx+FBRRRUlBRRRQAUUUUAFFFFABRRRQAUUUUAFFFFAGVb/8AI46j/wBeFr/6MuK1ayrf/kcdR/68LX/0ZcVq1UtyY7BRRRUlBRRRQAUUUUAFFFFABRRRQBlXH/I46d/14XX/AKMt61ayrj/kcdO/68Lr/wBGW9atVLZErdhRRRUlBRRRQAUUUUAFFFFABRRRQBlax/yFNB/6/wBv/SaetWsrWP8AkKaD/wBf7f8ApNPWrVS2RK3Z4l8cv+Sp/Cb/ALDR/wDR9rXs92Jms5RbMVm2ExkY+92HPFeMfHL/AJKn8Jv+w0f/AEfa17bWc488XG9r9ty07O5zWm3zahr2lyyMGlWxu0kwMciS3/pg/jWhYXtxd65fIJP9Fg+QIVAIbpn6fK3fuK5+WQaF42bewVGsbl7ddp27meEgYHT7uO3StzRozpvhszspLFGnKlhzxx+YAr52jiatR0KNSTTgpOf/AG63FX/xP3vOx3Spxj7SUV8TSXzSf4bE3katcfvGvI7PPSKOISYHuT37cccUaPfzXf2iC72me2fYzIMBu2frkH07VWsLa51a1W9utQuI/Mztjt22BAGI/H+f1qPw2FF9qYSQyqJBhy2Swy3Oe9Z0K8/rOHlHmUal/ile65bp8t7LvpYqcI+zmna8bbLbW2/Uk0H/AJC2r/8AXf8A9metPUoLq50q7g0+7+w3csLpBdeUJPIcqQr7Dw2Dg4PBxiszQf8AkLav/wBd/wD2Z63K9HJv9yj6z/8AS5GGL/jP0X5I+ZNB8O+MZf2l/E2m23jr7PrcOmI9xrH9kQt9oTbbYTySdq43JyDn5Pc16l428d6x4R/4Rrwlov2fXfGOr+XCJriPbEgXAkuZYojuVT8xAXgBXOfkweb8L/8AJ5PjP/sCx/8AoFnR47/4k/7VngPWdR/c6fd2T2EM33t8585dm0ZI+a4iGSMfN14OPXOUveJk+KHw+0ZvFEnjGPxbZ6c6yXukvo0VqZYDw7LJHuYFchs8AAFjkDa3Zan4vj1H4O6j4t8M3G3dos97aSEI7ROsTMAw+ZdysMFeQCpBo+K2oWumfCPxRPfS+VE+mTwK20tl5UMaDgd3dRnoM5OBXEeEtPutM/Y/uIL6LypX8P6hOq7g2UlE0iHg90dTjqM4ODQBR+HOqfFD4neCbXUx4rj8OpbvJCbs6TFcSam28kybWCoiICsY2ZyyybjwAPcq82/Z8/5IT4e/7ef/AEplr0mgDhrHxFqtj8YLzw5q915lheW32jTBJGu/OMlQUA+XiUfPz8i88/MfEvxFquk/2Hpfh26+yanq16Io5njVowvCkNuBx80iHgHgH6Gl8VrSfTZNG8ZWCZl0W5X7SsZEbywsw+Uv125yuMH/AFrHGM5peH7uDxx8arjXrF/O0zRrJYraeMFN7OCMOr/MfvzdAPur+PnynJN0b6t6ej1/DU+woYejOFPMeRckIPmVlbnj7qT6XleL89fl2evReKL6+Sz0C4tNLs/KDTajKnnShiT8scZ+XjaMlu0nHK1zM2t+JfBvjLRNN8QaxDrlhrUvkrILJYZYXB2jAUgbS0keSSTgHAGOTVtT1fxT8S7vwfY6pNotjYWyT3E1oMzXOTExAfgx8PgEZ6HOQcDnPF2hRaD8QvBcC67qmqSyagjtHqN4JmhXzYwCowNoY7ue+32pVaj1nG+jte+m/YeX4SD5cPX5feg5cqjeVuVtPntdPrZO3S2tjc+KH/I9eAP+wkf/AEbBXpteZfFD/kevAH/YSP8A6Ngr02uil/Fqeq/I8nH/AO4YT0n/AOls8t/aA8Y674I8A2WpeGL77Ddy6nHA8nkpJlDFKxGHUjqq84zxR+0B4x13wR4BstS8MX32G7l1OOB5PJSTKGKViMOpHVV5xnisT9qv/klmm/8AYai/9ET0ftV/8ks03/sNRf8Aoieuk8QveKj8WdL8L33jNPEFnaPaIL1/CyWEMsUUKsC8bXJIZiIwWYrjLBgmPlrv/AviyDxz4J03xHa20lol6jEwSMGMbK7IwyOo3KcHjIwcDoI/iP8A8ks8V/8AYFvP/RD1zX7Pn/JCfD3/AG8/+lMtAHpNcF8H/wDkULr/AK/n/wDRcdd7XBfB/wD5FC6/6/n/APRcdZy+NfM86v8A77R9Jf8AtpF4d8Z6h/wrfVNc1WX7Xc2s7RxHy1AyVQICF28bn574zV2wtvGmo6TbatD4htFkuVW4SxezUQhGIYIZPv42n0z2z/FWb8MrayvfAF/a6okb2s98Y3WU4DErGFGfXJGMc5xjmmav4dv/AIfaZJq/hjWJ/skLIZ7K7AdZNzAE8ADJ+QdAcZ+btWavypvY8unKs8PTrVG5QUdbSaaeuu+unn8jS+J9pqD+Gbu6i1Py7BI41lsfs6nzW80fN5nUdV4H933q14P0zW49N0i6uPEHn2BtI2Fj9iRcKY/lXzAc8ZHPfHvUXjW9/tL4SzX3l+X9qgt5tm7O3c8Zxnv1rf8AC/8AyKGj/wDXjB/6LFXZOd/I7Y04Tx7mm/hT3fd+e3lt5FXUrfxNqGoSw6de22kWMeNlx5QnmmbAJ+U/Kq/MR/eynoaytN1rWNK8cReG9dvY9SS7gM9vdJAI3BwflYA4A+R+mTyOewq29xqfjTxRq9n/AGrc6Vp+kziLyrI7ZJjmRdxk6jlc4wRjA6jNZsenx6X8aNJtY9Su9RZbZy73k/myRkxynbnAwMYOP9rPepctU13MKleTlCrTvZzSu3o9bNcvbtpfQ9Prh9V8RapbfGjRdChutum3Vk0s0HlqdzATHO7G4fcXoe1dxXmmt/8AJxXhz/sGv/6DcV6GHim5X7P8j6Omk279mYGq6R4ij+NGi2c3ijzdSksmaHUf7PjXyVxN8vl52t0bk/3vavXtJtr2z0uGDVdQ/tG7Td5l15KxeZliR8i8DAIH4ZrgNb/5OK8Of9g1/wD0G4r0utMTNuME+3Zd2VVk2o+hT1XV9P0Sxa81a8htLdc/PK2NxwTtA6s2AcAZJxxXGv4x8QeK98PgHSvKtDuX+2dSBSL+MZjTq3KjBwcHhlFdR4j8Nab4q0k6frETvEG8xGRyrRvtKhhjqQGPByPUGuXe28b+Dd72E3/CW6Uu5vs9y2y8iHztw/O/+H1J6KoFRRVPl/vee39eooctvPzNnwl4Sn8O3WqX2oavNq1/qciPNPJEIwAoIUBcnH3j3xjaABjnDg1zxB458QahH4V1VNG0fTGMH237KlybyXPJXPy7QBng5wyk53AL0vhrxdpvilLkWAuIbi0bZdWt1CY5IGJYAN2z8h4BOO+DxXIfBT/Q9D1jR7n5L+x1JvtEPXZlVUcjg/NG44J6e4q1zWnOa95W6fpsVraUpbnWaA+vaba3kXi+5tLiO1zJFqaERiWPLE+YmAEZQASRxhhySCTzukar4p8fwT6no2pp4c0tJ2jtA1is8tyoAy7FztAB4G3vuBztyer8RxNqPhvWdMsikt7LYSqkAcBsujqmcngEggE8cH0rnfg9dwXPw0sYoX3PaySxTDBG1jIXx7/K6nj1qYtezlVsr3XTb5CXwuVtR/hjxLqVv4qu/CPiqVJ9QhUz2l+qCJbyI8428fMAT93I+Vh/CS2f4r8TeJLH4p6Xonh9oZo7qyL/AGWcKsZc+aN7PjdtXaGIU5IXA5NQ33/Ey/aK077F+8/szTT9r7eVlZMdev8Aro+mfvexwa3/AMnFeHP+wa//AKDcVuow5+a28W7eZaSve3S4a7rfij4eXWn6hrmr/wDCQ6RcSNBcoLOK3aE4ypXacs2AxwePlIOCQR2XivxLbeE/Dtxqt2vmeXhYoQ4VpXPAUZ/M4yQATg4rjfjr/wAiNZ/9hJP/AEVJU3xutJ7nwBHLCm5LW9jlmOQNqlWTPv8AM6jj1qYwjV9m5LdtPoJRUuW/UntLX4ivo6a1/bVpJeSRmddEmsAkY3ciIyZDhgCOv8QwSRk1k/B66lvvEnjK7uLZ7SWe7jke3fO6JmeYlDkDkE46DpXpcOo2k+kx6mk6CykgFwJ3+RRGV3bjnGBjnnpXm/wlu4NQ8V+Nry0fzLe4vUlifBG5WeYg4PI4PelGblRqXjbbpbrt/WoJtwlp/VzZ8CeItU1nxX4us9SuvOt9OvfKtU8tV8td8oxkAE8KvXPSq0GueIPHPiDUI/Cuqpo2j6Yxg+2/ZUuTeS55K5+XaAM8HOGUnO4Bavwx/wCR58e/9hIf+jZ6Pgp/oeh6xo9z8l/Y6k32iHrsyqqORwfmjccE9PcVVSMYOcktlH8Vvb+txySTk0trHWeGYvE9rJd2vii4tL2OPabS9gTY0wLPkOvQMAE4Axz1Y5NZn9meO9W/0qfxBaeH933LG1skuti9RvkcjLjO07fl+UEda6PV9Wi0vSdRu12Ty2Fo901uJAGKhWIz1wCUYA47H0rg/C+kav460WLxFrPivVrX7XvENppcn2aOALI4weu/oME844JNYwu06jsl6X+5ER6ydkbPw+8U6hrn9raXrvkvqWjXP2eaaBNsco5Xd1+8WRyeFGCMDsKdvr+veONY1K38K38Oj6Vp0giGom2Fy11IM5CZOzZjnjJ+4ejYGT8HliTxJ4yS3unvIlu4wly8gkaZd82HLD7xI5z3zVn4Kf6HoesaPc/Jf2OpN9oh67MqqjkcH5o3HBPT3Fb1IRhKpJLa3476FyiouTXSxoad4g1nw540h8N+Lr1NRi1Jd9hqYgW3G/GDEyjC5yOMEnLL13ALf8T+FdX1HWI9Z8N+IZtJvo7YwtEU3wz43FNw6cF25IbGQQARzgfEL/iYfE3wRp1n+8u4Lk3UkfTbFvRt2TweIpOM5+X3Gd/xb48g8M30Gl2mm3eravcx+bDZ2yHlc9ScE9Fc8A/d5wOaz5ZXhKmtWtVpb/ImzunHdmJpHjx/DcbWnjHTZrOFru426rbI0trJIZpS69Ny4ZWAHJI5OBzXoNpeW2oWqXNhcQ3Nu+dksLh1bBwcEcHkEV5vpHhnxP4r0xk8Q6z/AGVpbzXHm2GmcSSSGWUSq7nOF3sRjLKVA6HmvQtJ0my0LS4dO0qDyLSHd5ce9m25YseWJPUnvWddU1t8XW23/D/gZe7yK25498Df+Sp/Fn/sND/0fdV7bXiXwN/5Kn8Wf+w0P/R91XttcpJleFf+RO0b/rwg/wDRa1q1leFf+RO0b/rwg/8ARa1q1U/iZMfhQUUUVJQUUUUAFFFFABRRRQAUUUUAFFFFABRRRQBlW/8AyOOo/wDXha/+jLitWsq3/wCRx1H/AK8LX/0ZcVq1UtyY7BRRRUlBRRRQAUUUUAFFFFABRRRQBlXH/I46d/14XX/oy3rVrKuP+Rx07/rwuv8A0Zb1q1UtkSt2FFFFSUFFFFABRRRQAUUUUAFFFFAGVrH/ACFNB/6/2/8ASaetWsrWP+QpoP8A1/t/6TT1q1UtkSt2eG/Hu5gs/iT8K7q8mjgt4dWaSWWVwqRqJrYlmJ4AAGSTXr9pr1hrGly3vhq8s9ZSJ9hNndJIpYYJTcpIDYIODjqM4BzWd4u+H3hjx39j/wCEr0z7f9i3/Z/9Ili2b9u77jLnOxeuelSeE/AvhvwNa3Fv4V0qOwS5cPMQ7yPIQMDLuS2BzgZwMkgcnMlp2dzI1db/AFTxLYGTRmQ/ZLh0H2hVdo98PB4OHH93plx833sbi6lqoQLDoLKuN8YM6qBGP4T6Sei9OR8wwcTXH/I46d/14XX/AKMt61ax+rwjP2kfia1enRs6FiItOLgrX/vdl5nJC1vQSLfSLyOGQ+YIBehUaPGCrdxIf7ucc/eGDifT/t+ntMbPQ5sTkSKslyuFjGflPHEnPC8jkZbg101FctPLsNSmqkIpNbaLS/bt6G0sa5LlcFb1l/mYOlG7i1KVjpU0K3r+aZJJlIROThgBkPk/d5GD97g1vUUV10aMKMOSG3+ev5nLVqe1lzWt9/6nLWHw/wBK074man44guLxtT1K1W1mid1MKqBGMqAu4H90vVj1P4XvF/hDR/HHhufRPEFv51tL8yOvEkDjO2RG/hYZPsQSCCCQduitTI87tvgvorXUUniPXPEnim3gcSxWWu6m1xbrIDw+wBQxAyMNlSGYEHNdtrelQa9oGoaReNIlvqFrJaytEQHVXUqSpIIzg8ZBq9RQBieDvClj4I8J2fh7Spbia0s9/lvcsrSHe7OclQB1Y9ulbdFFAHO6+lxq2nX2k3miSXFnKjJLJHIhZkP3WiDDlwecHGCvGeM5HhLQX8E2M9tp2h3EnmSCa5le4jeRlwAqoQq7iOSVOMEtgnIz3NFZOknLnvqehDHzhQeHUVyPVq71ffc4PxD4dk1/UYNSutJ1Cx1K0QKb3TNQCSCI7sJHnhj87bshTwcEgjOYvw/hj1aw1S50zVp9Q0+Zbie6fUlme5wylBlh85UKAQNnAOC3ymvT6Kh4eEnd/odNPOMRSgoQ0SVt5bdt9vLY4nXtHuNe1bSNQ1LR7tZtFm+0qLW6jKvlkYAZX5yNgyPlxzgnK12Vu0r28bXEYilZQWjDbtp9M96korWMFFt9zgrYmVWnGm1ZR230vq92+py3xA+H+lfEfQINI1y4vILeG6W6VrN1VywVlAJZWGMOe3pR8QPh/pXxH0CDSNcuLyC3hululazdVcsFZQCWVhjDnt6V1NFWcpR1vSoNe0DUNIvGkS31C1ktZWiIDqrqVJUkEZweMg1S8HeFLHwR4Ts/D2lS3E1pZ7/Le5ZWkO92c5KgDqx7dK26KAK19cT2tv5tvatdbWG+ONgH2+q54J6cZHGe/B5jw5YXfhXTpLK00a5kj80zzFrlHJDKABHgLuI28g7cYOCciuwoqHG7vcuPsk1KVNNq9m79fRnD6VoR0fQLnRpNAnu7OZzLcpJco5YMFAEZAXLDaCc7cEEgn5aoL4Ok8uGHU7PWL+0tQGa0k1MPFt27V8sAKSwB5GVAwcZBGfR6Kn2S7/kZujg2knQjZf4v8znr6e91Cxls9U8OGe3Zf9IjWdWDIenl9MuOp+7grkE8ZxNE0G/8PXELwQaxJDahme1Ooo8JVgcbE2qGYEkkHaAQSM8Z7yim6d3e5pNYec1UlRjddfe/zOF1PQbi+1Z9T/s3UtPvSv8ApU+m6gFaVCFChcj5iAoyPlHB+98tRaf4X/snXrfWI9Gvjd2ys05+3LL5+4EFxuGXk+Y7hlQMcZyM9/RS9kr3v+Rm6OEc+d0I3vf7W/fcjt2le3ja4jEUrKC0YbdtPpnvWPdeE7G88aWXiaSW4F7ZQGCONWXyypDjJGM5/eHv6VuUVvGTjsy+bW6MO68J2N540svE0ktwL2ygMEcasvllSHGSMZz+8Pf0rcooolJytfoJtvcKKKKkRTlt0s/tV7YWEL3kwUylQqPPt4ALY5IGQM8dsgVw2peD/t+syarp+l6no99c7nkm07URAZozjIfggSZUHaMAk5Zsg49FopqU4u8ZNG9Osqa1in9/6NHG+G9Ln8M2s0em6HcTTXchuZru7ulaacZJ/eNj/Wc8L935sls7jWZf+EprzWbnUtOtNY0ea9xLMunaktukwGfmcbTiY5+7905yWzuNei0UKdVScuZ3foafWY3v7Nf+Tf5nIaBp8vh2CVNL8PTGW6YTzXNxdhpbgAcmVj/y1JyQg+XLHkfNUN1pFze+NLLxMdIuxe2sBSCP7VGsZiw4IcbciX94cKDt5GW4NdrRS5ql2+Z3YfWI3v7NffL/ADOK8V6RceMtKi0/UdHu44lmF1GYbqNG2hWXDZU4f5uF6cjLDBrS1F7vWNOmsL/w39otblcmOWdQDH6H+7LkAgDgHB3DBx0dFK87Jcz0F9Yh/wA+198v8zzGLwEqp9l+xa3LpbM0qaVLq222Ee4ttZQAQ4Yghc4zgluGrW8OaE/hi+1O50fQ7hf7UkE5ikuI1jijUsdgAUbH+cgJyMbfmGDXcUVcqlWSs5v8CniYtWcF98v8zitC0i40DVdW1DT9Hu3l1ib7VIJ7qPaqhnYjhRtf5zhTkdPmGDXM+LLPSrHVptWHneHdSmje5lFpqyW0t1B3BXkiUlMhVGGY8knOPW6oX+g6Pqk6z6npVjeSquwSXFskjBck4yQeMk8e9VCpNT5pSf4DjiYJ3dNfe/8AM5PwfYDRtPa80PRru5bVVW7e8u70NJcRnLAv2EvznAAwcjLZBNZkfgJIXkj06x1uz0+4bzW02LVtlvJHgB1kHLb2Axt3Y5+8MHHp1FL2lXmbU3qL6zG9+RffL/M4Twt4dbwjPfvomiXYXUGWURz3aFY40LYXpkP82ApJHTLcNTNa8Nza1rI1a307U9Kv3iKtcaffrA00PHyyHB/eDAwvTplvl476ilz1ebn53f5B9Zje/Ivvl/mcVoGjS6BPLd2uiXd3qF0oMl/f3oknkiB+67H7r4CgKBtIC5b5Tjq7EmdTeTWYtZ5lCkNgybASVDEf7xOMnG4+9WqKluTd5O5lUqxmtIpff+rZleG/+QXN/wBf95/6Uy1Pqut6VoNqt1rmp2em27uI1lvLhYUZiCQoLEDOATj2NQeG/wDkFzf9f95/6Uy1D4r8HaF430qPTfE9j9utIphOkfnPHhwrKDlGB6M3Gcc1U/iZzR+FHlHwEuYLz4k/FS6s5o57ebVlkilicMkima5IZSOCCDkEV7lXN+Efh94Y8CfbP+EU0z7B9t2faP8ASJZd+zdt++zYxvbpjrXSVJRleFf+RO0b/rwg/wDRa1q1leFf+RO0b/rwg/8ARa1q1U/iZMfhQUUUVJQUUUUAFFFFABRRRQAUUUUAFFFFABRRRQBlW/8AyOOo/wDXha/+jLitWsq3/wCRx1H/AK8LX/0ZcVq1UtyY7BRRRUlBRRRQAUUUUAFFFFABRRRQBlXH/I46d/14XX/oy3rVrKuP+Rx07/rwuv8A0Zb1q1UtkSt2FFFFSUFFFFABRRRQAUUUUAFFFFAGfq2n3F61lJZXMVvPaXBmVpYTKrZjdCCAyno5PXtUX2fxD/0FNM/8Fsn/AMfrVoquZk8qMr7P4h/6Cmmf+C2T/wCP0fZ/EP8A0FNM/wDBbJ/8frVoo5mHKjKtdN1D+2Yr/Ur62n8m3khRLe0aL77ISSTI2f8AVj061q0UUm2xpJBRRRSGFFFFABRRRQAUUUUAFFFFABRRRQAUUUUAFFFFABRRRQAUUUUAFFFFABRRRQAUUUUAFFFFABRRRQAUUUUAFFFFABRRRQAUUUUAFFFFABRRRQAUUUUAFFFFABRRRQAUUUUAFFFFAHP6dcahpkM9s+hX0/8ApdzIskUlvtZXmd1I3Sg9GHUCrf8AbF9/0Lmp/wDfy2/+PVq0Vbkm72JUbK1zK/ti+/6FzU/+/lt/8eo/ti+/6FzU/wDv5bf/AB6tWilzLsFn3M/QLWay8NaZa3SbJ4LSKORcg7WVACMjjqK0KKKTd3caVlYKKKKQwooooAKKKKACiiigAooooAKKKKACiiigDKt/+Rx1H/rwtf8A0ZcVq1lW/wDyOOo/9eFr/wCjLitWqluTHYKKKKkoKKKKACiiigAooooAKKKKAMq4/wCRx07/AK8Lr/0Zb1q1lXH/ACOOnf8AXhdf+jLetWqlsiVuwoooqSgooooAKKKKACiiigAooooAKKKKACiiigAooooAKKKKACiiigAooooAKKKKACiiigAooooAKKKKACiiigAooooAKKKKACiiigAooooAKKKKACiiigAooooAKKKKACiiigAooooAKKKKACiiigAooooAKKKKACiiigAooooAKKKKACiiigAooooAKKKKACiiigAooooAKKKKACiiigAooooAKKKKACiiigAooooAyrf/AJHHUf8Arwtf/RlxWrWVb/8AI46j/wBeFr/6MuK1aqW5MdgoooqSgooooAKKKKACiiigAooooApX+kWmpTQzXPnrLCrKjwXMkLANtLDKMMg7V6+lV/8AhG7H/nvqf/g1uf8A45WrRVc0l1J5U+hlf8I3Y/8APfU//Brc/wDxyj/hG7H/AJ76n/4Nbn/45WrRRzy7hyx7GV/wjdj/AM99T/8ABrc//HKP+Ebsf+e+p/8Ag1uf/jlatFHPLuHLHsZX/CN2P/PfU/8Awa3P/wAco/4Rux/576n/AODW5/8AjlatFHPLuHLHsZX/AAjdj/z31P8A8Gtz/wDHKP8AhG7H/nvqf/g1uf8A45WrRRzy7hyx7GV/wjdj/wA99T/8Gtz/APHKP+Ebsf8Anvqf/g1uf/jlatFHPLuHLHsZX/CN2P8Az31P/wAGtz/8co/4Rux/576n/wCDW5/+OVq0Uc8u4csexlf8I3Y/899T/wDBrc//AByj/hG7H/nvqf8A4Nbn/wCOVq0Uc8u4csexlf8ACN2P/PfU/wDwa3P/AMco/wCEbsf+e+p/+DW5/wDjlatFHPLuHLHsZX/CN2P/AD31P/wa3P8A8co/4Rux/wCe+p/+DW5/+OVq0Uc8u4csexlf8I3Y/wDPfU//AAa3P/xyj/hG7H/nvqf/AINbn/45WrRRzy7hyx7GV/wjdj/z31P/AMGtz/8AHKP+Ebsf+e+p/wDg1uf/AI5WrRRzy7hyx7GV/wAI3Y/899T/APBrc/8Axyj/AIRux/576n/4Nbn/AOOVq0Uc8u4csexlf8I3Y/8APfU//Brc/wDxyj/hG7H/AJ76n/4Nbn/45WrRRzy7hyx7GV/wjdj/AM99T/8ABrc//HKP+Ebsf+e+p/8Ag1uf/jlatFHPLuHLHsZX/CN2P/PfU/8Awa3P/wAco/4Rux/576n/AODW5/8AjlatFHPLuHLHsZX/AAjdj/z31P8A8Gtz/wDHKP8AhG7H/nvqf/g1uf8A45WrRRzy7hyx7GV/wjdj/wA99T/8Gtz/APHKP+Ebsf8Anvqf/g1uf/jlatFHPLuHLHsZX/CN2P8Az31P/wAGtz/8co/4Rux/576n/wCDW5/+OVq0Uc8u4csexlf8I3Y/899T/wDBrc//AByj/hG7H/nvqf8A4Nbn/wCOVq0Uc8u4csexlf8ACN2P/PfU/wDwa3P/AMco/wCEbsf+e+p/+DW5/wDjlatFHPLuHLHsZX/CN2P/AD31P/wa3P8A8co/4Rux/wCe+p/+DW5/+OVq0Uc8u4csexlf8I3Y/wDPfU//AAa3P/xyj/hG7H/nvqf/AINbn/45WrRRzy7hyx7GV/wjdj/z31P/AMGtz/8AHKP+Ebsf+e+p/wDg1uf/AI5WrRRzy7hyx7GV/wAI3Y/899T/APBrc/8Axyj/AIRux/576n/4Nbn/AOOVq0Uc8u4csexlf8I3Y/8APfU//Brc/wDxyj/hG7H/AJ76n/4Nbn/45WrRRzy7hyx7GV/wjdj/AM99T/8ABrc//HKP+Ebsf+e+p/8Ag1uf/jlatFHPLuHLHsZX/CN2P/PfU/8Awa3P/wAco/4Rux/576n/AODW5/8AjlatFHPLuHLHsZX/AAjdj/z31P8A8Gtz/wDHKP8AhG7H/nvqf/g1uf8A45WrRRzy7hyx7GV/wjdj/wA99T/8Gtz/APHKP+Ebsf8Anvqf/g1uf/jlatFHPLuHLHsZX/CN2P8Az31P/wAGtz/8co/4Rux/576n/wCDW5/+OVq0Uc8u4csexlf8I3Y/899T/wDBrc//AByj/hG7H/nvqf8A4Nbn/wCOVq0Uc8u4csexlf8ACN2P/PfU/wDwa3P/AMco/wCEbsf+e+p/+DW5/wDjlatFHPLuHLHsZX/CN2P/AD31P/wa3P8A8co/4Rux/wCe+p/+DW5/+OVq0Uc8u4csexlf8I3Y/wDPfU//AAa3P/xyj/hG7H/nvqf/AINbn/45WrRRzy7hyx7GV/wjdj/z31P/AMGtz/8AHKP+Ebsf+e+p/wDg1uf/AI5WrRRzy7hyx7GV/wAI3Y/899T/APBrc/8Axyj/AIRux/576n/4Nbn/AOOVq0Uc8u4csexlf8I3Y/8APfU//Brc/wDxyj/hG7H/AJ76n/4Nbn/45WrRRzy7hyx7GV/wjdj/AM99T/8ABrc//HKP+Ebsf+e+p/8Ag1uf/jlatFHPLuHLHsZX/CN2P/PfU/8Awa3P/wAco/4Rux/576n/AODW5/8AjlatFHPLuHLHsZX/AAjdj/z31P8A8Gtz/wDHKP8AhG7H/nvqf/g1uf8A45WrRRzy7hyx7GV/wjdj/wA99T/8Gtz/APHKP+Ebsf8Anvqf/g1uf/jlatFHPLuHLHsZX/CN2P8Az31P/wAGtz/8co/4Rux/576n/wCDW5/+OVq0Uc8u4csexlf8I3Y/899T/wDBrc//AByj/hG7H/nvqf8A4Nbn/wCOVq0Uc8u4csexlf8ACN2P/PfU/wDwa3P/AMco/wCEbsf+e+p/+DW5/wDjlatFHPLuHLHsUrDSLTTZpprbz2lmVVd57mSZiF3FRl2OANzdPWrtFFJtvVjSS2CiiikMKKKKACiiigAooooAKKKKACiiigAooooAKKKKACiiigAooooAKKKKACiiigAooooAKKKKACiiigAooooAKKKKACiiigAooooAKKKKACiiigAooooAKKKKACiiigAooooAKKKKACiiigAooooAKKKKACiiigAooooAKKKKACiiigAooooAKKKKACiiigAooooAKKKKACiiigAooooAKKKKACiiigAooooAKKKKACiiigAooooAKKKKACiiigAooooAKKKKACiiigAooooAKKKKACiiigAooooAKKKKACiiigAooooAKKKKACiiigAooooAKKKKACiiigAooooAKKKKACiiigAooooAKKKKACiiigAooooAKKKKACiiigAooooAKKKKACiiigAooooAKKKKACiiigAooooAKKKKACiiigAooooAKKKKACiiigAooooAKKKKACiiigAooooAKKKKACiiigAooooAKKKKACiiigAooooAKKKKACiiigAooooAKKKKACiiigAooooAKKKKACiiigAooooAKKKKACiiigAooooAKKKKACiiigAooooAKKKKACiiigAooooAKKKKACiiigAooooAKKKKACiiigAooooAKKKKACiiigAooooAKKKKACiiigAooooAKKKKACiiigAooooAKKKKACiiigAooooAKKKKACiiigAooooAKKKKACiiigAooooAKKKKACiiigAooooAKKKKACiiigAooooAKKKKACiiigAooooAKKKKACiiigAooooAKKKKACiiigAooooAKKKKACiiigAooooAKKKKACiiigAooooAKKKKACiiigAooooAKKKKACiiigAooooAKKKyda1O40u90lhs+xXN2LW5Jgd2QupEbBlOFHmBFOQR845HdSairs0p05VJcsd/6/pGtTJZooEDzyJGpZUDOwALMQqjnuSQAO5IrmZPEd241OaO7sbS1i1D7DaS3NtKWkZEzJtQMDOxkDRqqbfusQWxg58+uXGpWs1ldnzHtr3S5hN9gms8iS8UbfLlJbjy87gcHdjA2nOTrR6HdTy6q2uba6vvpdpdrXTdrXvc7miqX/Ez/t3/AJdP7J+zf7Xn+fu/752bfxz7Vk674imtNWGmWO+KVIFuJZzps96u1mZVUJDjBJRiSzDGAAGyStuairs5qeHnVkow10v3t92p0BmiWdIGkQSurOsZYbmUEAkDuAWXJ9x60+uS0a/vdT1zQrrVLX7Ldtpt+ssYR0BKz267grgMFbG4BhkBhVa18Y6nqE+nXen2ry2V7PEDatpV0jxwucCT7RjyyRkORjbjcAxwGMe2j1/rb/M6f7OqvSPTfte8la//AG69Xp5nbUVx9zrviJNB1LW4Bpf2bTp7oG1eOTfPFBM6sfMDYRiqEAbWGQDkBsLdn12/0WeU66LeWL+z7i/2WcbBoVhKbo8s37wkSDDYT7vT5vlftYkPA1dk03dq3W63XyXy6b6HR0VyWm+ItYudfsoJbfzbS63iYDSru3NoQpZSZZV2yLwUzhCSVIHUBlnrviJtD0XW7oaW1rftarPaRxyB0WcqgdZCxBIZ1baUGBkbjjcV7aLG8vqxdm0trebd7Lbye9l56o7Ciuc0U6xJ4k1vz9Qt5LKHUNggNs+8KbaJlCuZMKBuGRtOTuPG7A0NTvrpb620zTTDHd3MUkwmuELxxpGUDfKGUsxMigDIGCTngK1qel7GMsO1UUFJO6T66aX7dF2NCOaKV5EikR2ibZIqsCUbAbB9DhgcehHrT64mHWrvRm1n7XGj311rKWyNbwSzIG+xRN5nlqC5GxC2wZ5+XdjLjW8NavqWo3V/BqUOYoPLaC7FjPaCUMDuUxzc7lK9QxBDL0OamNVN26m1bA1KcHUXwpJ/fbbpu/Xr3NqK8tZ7qe2huYZLi32+dEkgLxbhldw6jI5GetTVx+tXEq6F43udOS3sr22Vk+1xRESSKtrHICzAglh5jBWz8vHBwQbWp61qWj/ZrG6nhnvrvzJEuLbSp5I4o02A5hjd3ZiXAzuVcHOcgKy9ole/9a2H9ScuXker6a3+FSb0W2vr5XOmorj7XxFr1xa2kRtbeO6uNUeyWee2ngSSIQPKJhE+HBG0AqSQSrAMMhha1PVtS0+SG0k1TTvtYi8yRYdMnuZZAWYbhBHJuRBgDeSwLHHy4AL9rFq5LwFWM1BtX+b076Jv9fLe3TVDc3lrZ+V9ruYYPOlEMXmyBfMc9EXPVjjgDmufsPEV7q9nZQWSwwX1z9pJmuIHEarbzCJm8olXDMWXCFhtDHLErhqvim2S6sra31s6X9qmgmt2VoJrlp0LISIrdGVyTsRyQSY9vBblwnU928R08E1WVOs7ataavS+tvVPz/A62KaKdC8EiSKGZCyMCAykqw47gggjsQafXH6LrkiaWNOs4UW6/tA2EM0ttLArOYftDSvHITJnBbOWJdhncN+V2rK9v7fVk0zV5Le4lngkuIZ7WFol2oyKysjO2DmRCCGOckYXaC1RqJoitg505NfNLq13+75/ca1FFctfeJ7vTrPxKs6JJe6aymxjS1lxOsyAQDAJ3ky7oyVI5U8LVSmo6sxoYedd8sN9PxaX5tHU1D9stft32L7TD9r8rzvs/mDzNmcb9vXbnjPTNc5qOt6hbXrWsep2PmwKizR22k3F84YqDvdYn/chiTtVs5AyGPIE2ganFrerLftYW8MsmjWdysoUNMqzNKTGX7qDGpAwOcn6R7ROXKjoeDnGk6strefXbdK/yv5nR0Vz+vave6ffJGLq00uz8oMb69tXmiZiSCrMrosWMLgufnMgC8qc5l74uvrhpo9H8lJbeJNzjTrq/hnkeJZAFkhAAQB1+Y5Y5J2AAbiVWMdwpYCtVScdn66fcvyvbrY7OiuZttX13Vr5Le0itNM/4ltreSi8heWSJ5TKDEVDJnGzqSCCCMHd8unr2oPp1ijxXdpaPJKI1kulaTJwSFSNSGlc4wEBB5JGcbTSmmrmUsLONRU21zPpvb7v0v+Rp0Vz/AIc1y41K+vbK7PmPbRRTCb7BNZ5EhkG3y5SW48vO4HB3YwNpzPJfane6heRaObSNNPlWKZbpGY3DmNZNqsrDy12uo3kOck/L8o3CmmroJYWcKjpy0sr/ACdreet109TZormdX127g1Wa2s9QtE8naGgi0y41CVMqCGkELDys54Ug5C5BOSFfZ67f69BZjSBb2Msun29/M91G06oswbbGoVkyco+WJGMDg7jtXtI3t1L+pVVBVHpHvrpfbpr8rnQRTRToXgkSRQzIWRgQGUlWHHcEEEdiDT64nT9Wu7Dw/EgurGyup9Q1BmjaKW8d2F3JlIok2PIBkksOgHK8kru+GtYm1e3vBcjMtnc+Q0n2WS28z92kmfKkyyf6zGCTnGehwFGopWRVfBTpKUlqk2vudt9t+zv8jZorjIde8T/8I5pOutHpMsV99mD2QWWNl87aisJst/G6kr5fAJGWIBOg2u3+mTXtpqQt725hW1aF7eNoEdriVoURgWcgBkyWBPDcLkciqxYSwFVaJpu9tH1uk18m15a6X1t0dFY0d3qenahZ2+sT2l2l/K0ML2ts0JjcRtJ8waR9ylUbkEEEAYO4lcWHXvE//COaTrrR6TLFffZg9kFljZfO2orCbLfxupK+XwCRliASOoluhQwU5/DJa2t5t3slf0a1svvR2dFczceIr3RV1CLVlhvprWK2kje0geIOZ5XiRCmZG4ZMkrkkNwpI+bPPirWraDVpJIUuorXS5ryG5bSrqyVJYx/q3WXO4MCCCrA/K2R0NJ1orcqGXV56x279Hez7dmt7eWp21Fc/9u12x1vTItSOnS2moyvCUt0dZLZxG0q/OWIlXEbKTtQ5wcdRWfo2paxYaJcXupXdvfqdQntYYlgeNjK160KZkMj4jBPQKSq4xu28v2iva39f0yfqUnG6ktbW87trt3T3t9x2FFY0d3qenahZ2+sT2l2l/K0ML2ts0JjcRtJ8waR9ylUbkEEEAYO4lbM1/LH4kstPVU8qe0uJ2Yg7g0bwqAPbErZ+gquZWMHQkpWTvdN38le++vRmhRXM3evan/aj2NhHaBzqwsEeZWwqGy88uQDywbPHAIGMrncCC78Ty6zeaS8+kq9vFFcLei2lIdJN6hDD5gw26Nzu8wjG35eTifaK9kjf6lNR5pSS0T+T0v8Aj6nTUVn6Zfy6x4btNQt1S2lvbRJ0VwZFiZ0DAHG3cAT7Z9qxrHxPd6jZ+GlgRI73UmY30b2suIFhQicYJGwiXbGCxPLDhqp1Iq3n/X6mccLVlzf3XZ+Vk3+Sf3HU0yKaKdC8EiSKGZCyMCAykqw47gggjsQa49fFt2lxbS/bLS+tp7mGHbZabcNEPMkVPlvNxibYW5O0bipXCk8WtLv5bPRUgtVQ3V9rN/bwNICURvtFw5ZgOSAsbHAxk4GVzuEKrFuyN55fVhDml3t1XRt7pbW32OpormdT1zU9Csb9L9rS6u49Nub+1lhgaKM+SFyjoXY9XQghuQWGF2gts6eupjzH1Wa0bfgxxW0TDyuuVLsx8zsN21OmcDOBamm7HPPDyhD2jas9vP0/4Ni1NNFbQST3EiRRRqXeR2CqigZJJPQAd6fXGeJ77U9S8G+ILqxNolhHbXlu0EyN5snlh43feGwuGViF2tkKMsu75Lur67dwarNbWeoWieTtDQRaZcahKmVBDSCFh5Wc8KQchcgnJCx7VJm6wM5RVnrrfd2tbsm+vp+J0c00VtBJPcSJFFGpd5HYKqKBkkk9AB3pn2y1+3fYvtMP2vyvO+z+YPM2Zxv29dueM9M1z+s6h/a3wnv9S8ryftmiST+Xu3bN8BbGcDOM9cVZmnZfEmqNa6Zb3N7aaXC8DABJpi7zfujIeikxLjsCSTT59dP63JWFfI3LdNrpuuVfnI3aK4bU9ev5vC+upDrenNeQ6bNOEjtZbS6tto6mF5C4yDw527TtOHDca2o6jqmlwQRXeq6WLqZnZCmnzSPIoC/JHbrIXcjJZmDfKAPl5LBe1X9WKeAmrK+rbVrSvok77X6+p0dFY3hrWJtXt7wXIzLZ3PkNJ9lktvM/dpJnypMsn+sxgk5xnocDZrSMlJXRyVaUqU3CW6CiiiqMgooooAKKKKACiiigAooooAKKKKACiiigAooooAKKKKACiiigAooooAKKKKACiiigAooooAKKKKACiiigAooooAKKKKACiiigArE8TxG+059Nayu5hcgeVLaS+W0UqsGVt/8ABggMG5Hy4wTgNt0VMlzKxrRqOlNTW6OQMLnSLKztNM1WGW1fNrdkxiX7RtZZHk3Bl+YPJl2UhiWI5KEwJYyPNNNLZa1dz3TWv726eNS0lvKZVBCrtjTJwWA2sFJA3EM/bUVn7LzO1Y9q9o/i77337X1tte79MfT45L7Wn1Z/7StVW3+yiznkAiJ3bjJ5Y/iB+XdnkDjjBNi/0kXk63NteXGn3QXy2ntQm50ySFYOrKQCSQcZGTgjc2dCitOVWszkdeXPzR06d9Pnv8zPt9HigvLW6a4uJ57aCWEPM4Yyea6O7Nx1zGMAYUAkAAYAhh0AW08Yt9SvorGNgyaejIsKYOQoITzAoPO3ftx8uNny1rUUckQ+sVO/9av79XrurmY+g2r6BfaQZJvs999p8xgRvHns7Pg4xwXOOD2zmprrSrW9vo7m6TzdltNamJwDG6SlCwYEc/6sD0wT1q7RRyx2F7epe99dfx3+8zLTRpLW6SR9X1G5hiz5VvNImxOMDLBQ74BI+dmz1OWAIE0G1TQLHSBJN9nsfs3lsSN58hkZMnGOSgzwO+MVp0UckRvEVG737P7tvzM+PSRDrEl9b3lxCs7eZPaqEMcz7AgYkqXB2qgwrAfKOOTk1TSRqT20sV5cWFzbMSlxahN+1hhkO9WBU8EjHVVPUCtCijlVrCVaakpX1St022+emmvTQxoPDFrBb3KfaruSe4uRd/a5JAZY5vLWPehxgcL93G3DMuNh21c0/T5LLzGn1C7v5ZMDzLkoNoGcAKiqo6nnGT3JAAF2ihQithzxFSaak7nLyldurwXGh6hPb6k5W8UEcsYliCpjBKFUXLZ+UtyRhtlci/MCfaodakvLdmUXyLb+dEzADy0AjCSRtgZLKQCVJwVzH2FFR7PzOmONt9hfj2t+Wj7q179eSjNzG1nJe2GsXc1lctM8rujFpmiaJVUAKpj2v1UKASC3PmEF897PfG8gtNY0648pbe6ezEMnmFSxjUCRGDKC7fOu3G8buh2dbRR7PS1w+urm5uRdutrb2tta+3bTscHcWV3aaRDBpVjrNpd2cs7JdRtHPIssxdthMg/exFmUknuIyxyrFbkyXbJbMLXWoLu0V4ZLyJopZGaQhmUB1KMjMqHcFUJ8oG1QwXsKKXsbdS3mDergr6vr139d3o9NfW/GQWjW1vcpJpusSTy3IuZbvzEeWK68tYw0RwAVIXk42AOVKhNyrasJruxna5vtP1XULpV8l55vKZoySCEjCKilCQCXAH8G4/L8nU0UKlbZkyx3OmpQWvm/6/pfPH0hdVl1jVLzU0a2t2McFpalgw2oCWlyGIyzOR0U7UXI9Mm/t1uvElvq02k6tvtAIZoopAYbhgSYd0Z4cKzFlcY2swJ6HZ11FU6d1a5nDFuM3NRWqtpdaWt/XnqcfcJdvezzpa61ZxzsPt0Fm0RWWXaEG1iu/BRUUujIF+U/Kd5V+kq2ieX5Wj6k3kWVvp8mWR/9Tv8AL24A3A+YcvwBlcgYfb1tFT7LW9zR468PZuCtp1fTb7uny+fM6rLqEl5ugXWLJolH2hrIxSRtH1DKsiMGYEtkKAxAOc4QGkLaazjij0qx1jRkhiRZ1s/KlDRKoWNsSK++QKACF+bC4JbEeezopund3uKGN5YqKgrfn697dL3tpbz5m1uJbG+kuv7G1LebaGGYNIJdsMZcowPLSSfvG3DJPynrxv1bqxOsWVtJMZ9PuYX86F4yhkgbay9wyElHYEEEfMccgGtGiqULKzMZ4hykppWffV9LW1/q3zvmaZoiadfXN697d3t1dRRxyyXLqciMuVwqqFX/AFhGFAHGcZLE4l7HcyarPcxW+t2kcgWK8hszEEncZCkErv8AmUhTKjKQAmSNpKddRSdNNWRVPFyjNzkrtq3yX4aWVu1kcfcJdvezzpa61ZxzsPt0Fm0RWWXaEG1iu/BRUUujIF+U/Kd5WFbO4tILCOyttasG0+0WwkltfIdpsAeWDvQiQDBIcABfMbpl9vbUVPsvM2WPaSXIrf8AAt89O9+nbXiYrGSztreOzstatJbRp1NzE8c8m6eTzGjBlVhIhYKfMIyMLk/6zGnoUc+nQ6iVsdQluJJRcXJuplYyzbEQiNsAEFUDDooztG3G1ejopqkk7pk1Mc6kXFx33373/P8Are/JIrDQLHSIdH1Jre0+zPbMzIrvHAyMC5IwrExj5CATuH3fm2SXDfbby6uJNBv5jewRRqrMIx5cTu4fPBjkDSEgEhs7CNpDFepoo9n5i+ubvl893vo+/dL+tuStHvY7pLi5tNY1WVcvZm8EMYjTGHfCIgWQjgB8thsAqGkwIrDQLHSIdH1Jre0+zPbMzIrvHAyMC5IwrExj5CATuH3fm2dbRR7PzG8bd35FpbutttF/Wr76ctcN9tvLq4k0G/mN7BFGqswjHlxO7h88GOQNISASGzsI2kMVqyQ3t5Y3tpexa7qCX1tJDGZ2hi2wsMO2FRVWTptDgnkY25kx2dFJ079Rxx3LtBdOr6du2yvbf7rc5d3s99c2U/8AYt+WtZzdWwyqB18t42L7vunEhwhwSSvT5ttJIpM3MaaZqstlds08Vk5jRFy/mNKHwJI5N+WVS+QWGNuDs7Cim6d+pMcYoqyh+L9e+/nvq++nL6Wt02pwyX8WrXzZLWkt8sSLChBDOVjRNrkcAMC2GwMZkA1dV0RNTurS7jvbuwu7TeI57V1yVcAMjK6srKdqnkHBUEYrTopqCtZmc8VJ1FUguWyt5fdtr1Wzu+5jWnhi1tLhJzdXc8y3pvmkmkDF5Tb+Qc8cLtJO0YAPAwoC1oR2EUerXGoKz+bPBFAykjaFjaRgR75lbP0FWaKpRitjKderU+J30t8tytplhFpWk2mn27O0VpAkCM5BYqqhQTjHOBVLTPDlnpWrXt/by3DtdsWEU0u9LcsxaTygeUDt8zDOCQPQVrUUcq08g9vU97X4t/Pqc+vhGEQ21s2qai1jZywyW1nvjWOLynVkXKoGdRtC4dm45+8AwujQbVdPNqkkykXMt1FOCPMhlkkdyynGOC7DBBBUlW3AkHTopKnFdC5YqtLeXW/z7/1uY0nhqG5sb231G+u76W8tpLVrmbyxJFE4wyoERVXPUnbkkLnIVQNmiimopbGc6s6mkmc/f+EYdQj1C3bVNRgsdQ3maygeNIwWXDFTs3jJ+cjdhmLZBDMDauNAEt7PPb6lfWcd0we5gt2QLMwUJncULqSiquUZcYyMHJrWopezia/W61kr7eS8vx0Wu+iMS90uCz8FHRVjurizWzFk5iw0wi2bCwGMMwHOAPoD0qo9xKb67u59G1JHuLaOG5Ecg+SFTIVZCnzGT962QpyNvH8O/pqKTh2Kjimk1JXu77vrbt6fgvnxgtppPP8A7csdY1PfbSW8vn+UPKtpcbwnkqm9m2rlRll2HB5G8aLUT5Us/wDbovLfeWvFW2aRLd9uUUCPY5JRSVClwVOGIID9nRU+y8zb6/8A3F+i72Wyv176Xv157w5FLZXF1C9nqAlu5vtVxPeSq4yURBhl4ydgyg4U5AwuwHoaKK0jHlVjjrVfbT52rBRRRVGIUUUUAFFFFABRRRQAUUUUAFFFFABRRRQAUUUUAFFFFABRRRQAUUUUAFFFFABRRRQAUUUUAFFFFABRRRQAUUUUAFFFFABRRRQAUUUUAFFFMmmWFAzgkF1Tj1ZgB/OlKSinJ7IaTbsh9FFFMQUUUwzKtwkJB3OjOD2wCAf/AEIUpSUVdjSbH0UUUxBRRRQAUUUUAFFFFABRRRQAUUUUAFFFRQz+d5n7qSPY5T94uN2O49R71Lkk0n1HZ2uS0UwTK1w8IB3IiuT2wSQP/QTT6cZKSugaa3CiiimIKKKKACiiigAooooAKKrm8XYjJFK4aYxfIudpDEEn0HHWrFRCpGfwv+mNxa3CikVlcZRgwyRkHPIODS1ad9UIKKKKACiiigAopkEy3FvHMgIWRA4B64IzT6UZKSUlsxtNOzCiiimIKKhe423AhSN5GwCxXGEBJAJyR6HpnpU1TGale3QbTW4UUUVQgooooAKKKYJla4eEA7kRXJ7YJIH/AKCaTkk0n1HZsfRRRTEFFFFABRSMyohZ2CqoySTgAVHJPsuIovKkbzM/Oq5VMDue2e1TKcY7+X46IaTexLRRRVCCiiigAopkkyxvErA5lfYuOx2k/wBDT6Skm2l0HZoKKKZNMsKBnBILqnHqzAD+dEpKKcnsgSbdkPopNylyoYbgASM8gHp/I0tO9xBRRRQAUUVTg1OG4mWJFkDNgrleqEZD/wC6cY+pAOKynWp05KMnZvbzKUZSTaWxcooorUkKKKKACiiigAooooAKKKKACiiigAooooAKKKKACiiigAooooAKKKKACiiigAooooAKKKKACiiigAqnqDmDyLndtSOUCTLlQVb5eexwSDz6VcqhqVvqNwRHY3EEcMilJvNj3FB/eUdCe2G45B7YbGvBzptR36evT8TWlZzV3ZEW95FeRvNb7VPthSOYgFVU4Of4QdpbK8nI69Ki3SK80DkARyWzbRO0uCZOeWGRwBx/jTGsNcltxBLcaesb/u2RbckRqOjqDwWOPungZHXadzU07Wwu0XGnQq+EYRW/EQU5Ei56sTk7TwCR12nf5ksJVb36O+3VP8Lu+9vLqdyUF9tfj0+XZf1oa+1P7Q3faG8zyseRv4xn72317Zqtc3Jsb6RmO5ZoN0cZkPzOp+6Ae7bh09OlP0+C8Vnm1NrZ7gjYpgjIAUe555POOg6c4ybbxJJt8xFfawZdwzgjuPeu2dGcoPkfLK91/Xpc47xhKz1RmiGXEVr+9mmihVpGNyyLkk5OR8xJIPUYAHbuWErTT2rswb93OoIbcMCRQOe/AHPer81tBcY+0Qxy7em9A2Pzp4iRWBVFBGcED1OT+Z5rCODnGpdPRW/Bprp0Stu/lsN1U47a/wDAZnZb+zft3mSfadm7b5h27/7mzOOvy4xn8eamhi869uWkllIjmARBIQo+RT0HXr0PH5nNj7NB9o8/yY/O/wCemwbumOvXpUgVVLFVALHLEDqcY/oK0hhXdc2yt87J6vzd0+u27E6i1t/W2hSug012YolkdkQMf35iQAkjqvJPHcY47d5NMlaawV2YN87qCG3DAYgc9+AOe9SzW0Fxj7RDHLt6b0DY/Oknik+yyJZukEpyUYplQ2c8jjOT1+tVChONd1W9LP57W6dLW3fy2FzRlFR/r+vl95nmSW1jEgEs0roxjkSUvHMdhYZUnjOM4UegBp9vFcC6t5jKojfO7/SmkEuVJGFKgA8Z4xxmqiadrazNKlxp0Ek2Xd0t8mM/88weN6njLHB4OMbhsE07W1maVLjToJJsu7pb5MZ/55g8b1PGWODwcY3DZyQwtRSTeyd7aeXl167ebep2OMLP31+P9f1p0NHTIv8AQbed5ZZJJIVLF5CRyAenT8cZ/WorjMs85QOVhOHZ7poUX5QeNvXrkk+v5R2lvrUc0QuLizW3OGeOKM5ix0jQ916fMQDwcD5htgm0/WZLnzhLp0jRHZEZbcksuc72PUMvZRwcHkbhs2lh5ewjTitt9tdN9b+pCjH2jbmvx/r+uxbtne9SBbmRwDbRyjYxQuxzuORjpxwOPm57U9Yxc3zK1xK8SwRsuyQqGJL/ADZXHp24/TGfJpessiK02mzrAPLiE1tw6n+NsfdYcfKvBwem4bJPsniBHLJe2LsoEYLwkGVf7746MueFHB56bhsUMPPRVFe276vTr6P1/wA24Q15Zr8f8v6+TtJMt5cLcSK6wtG7BXNyyCMKeMptIxjB5zkHsMYlvC0bz3DGWSOMZzBNtaLCg8pkKfXnJ5AwRVN9O1tplla406aSHCRvLb8uP+ejEdGXsq8HB6bhsH07W2mWVrjTppIcJG8tvy4/56MR0ZeyrwcHpuGzJ4WpaXd27eeu2+vntvtauWF176/H+v8Ah/U0YgJWaaaZ45EmKBQ5CgbsKNvQ5GDzz83HbDFlka3jVnYLJdSRu+eVXc+BntyFX8eOcVR/s7W0uPPW4055k+RZHt8NICMeYxHRgMfKODg9Nw2K1hrpiMZudPljU7QktucSgnJkcDowPO0cHB5G4bNvY1Pz+eq1fraz/DoT7OH86/H/AC/r7ywx+zXV2IJWO1IQxZt5iBdsnJ9AS3OcfTirPl/ZbqBYXkbzWIdXkZ/lCk7uScYOB6fN9KzorDXbYYtrnT8Rjy1BtyvmLkne23GGGfujg/N03DakOna3aZ+y3GnLt+Qf6Pt84f8APR9uMMM8KODg9Nw2TTw84206/d7zdl6p2e2i+QShB/bX466W7fP5+povF5+pyo8sojWGMhEkKjJL88c9v84FV0aSSCG3LTTSBpQpM3lghH25Zl5zjHTOSefUNltdcW4Z7a6tGVAChkiIab/Ycj7oGSQwGckccHdBJp2ttHskuNOuEjYyqslvgSueqEc7VGThhluRnODvc8PJ3a3d/neSfn0VtmEYx0vNdO/b0/r5O2jpsjstwjkHyptgAkMmPlUkbjyeSevTp2pot/tVxeCSedQsgVBHKV2fu1ORj698j8zmLTrTU7afbdXFq9uBuzDDsZ2IA246BVxweSRgH7pLaYVVLFVALHLEDqcY/oK1jh3KnGFTWzf6/lf8NOhhUkoTbi737GdbO96kC3MjgG2jlGxihdjnccjHTjgcfNz2pskrw7ZjITDbXIjLNIQGRgFOT0bazdT/AHeuc1fe2gkhWKSGN41xtRkBAx6Cn+Unk+VsXy9u3ZjjHpj0rP6pU5bc2vfq30v5J6/0xe1jfbTsZu95FeRvNb7VPthSOYgFVU4Of4QdpbK8nI69KlsGkW8uIHIAjRG2idpcE7s8sMjgDj/GrjQRPD5LxI0WANhUFcDpxTVt44omW2RYCV2gogGOuOPqSfxpwwtSNWM29t/O6d1t3d97eXUHUi4tf1/VilCzKLYKxAa8mDAHqMyn+goYtFcebIZZFaYKssU3yjLbdrITgYzt4BPBPBqqLLXmxuu7CPcxB8uA/uuv71M9XbJyDwNw5ODvb/Z2tvcee1xpyTP8jSJb5aMAY8xSerEZ+U8DI67Tvj6vUUFFdLfkl59vJ67rU6eSF7ua/Hv6f12ehZgjjt7CSTNwS07x4SUknMpAA3HAJ9eD15zT7Uyw6msD4UNCzlftLSngqAfmHHU9Ov4VTOna3JI7yXGnI86+VKyW+SqD+ME/eY4+63yjI67TvWHTdYj483T4lkDRsIISnljH+sU9SzYGVPA4wTty2aw1Sny8kfhttbW3y05vX1uNxg07zWvr/Wn9dL6l9L/xKbiWF/8AlgzI6H/ZOCDUSoIrq2eCaSbzsh90pYMu3O8DoOQoyMD5sdxRf2k76S1tpzRxsE2KsudrLjG0nkjjvzjrg9DQjsNdt3dobnT2bPmE/ZyhnY9UbGdqjJwwyeRnODv6Z0qkqqk10Xyabbt67en3PGnGLh8SW+/9f1+VrLf2b9u8yT7Ts3bfMO3f/c2Zx1+XGM/jzUzATT3BnmeEQEbNrlAF2g7z2PORzkfL065zv7O1tLjzxcadLNH86yNb7WlJGDGxGdqgZwwyeRnO07x9O1tplle406eSHDo72+DIf+eZPOxRzhhk8jOdp35KhUStbt899X5u6fyWuxryQv8AGvx+7b+r+pLb+fLb2kCKDGLSNwPPaIscYPKgk44/765zxjRsFkSzRJ5RK6llLBt3QkAE4GSOh46isl9O1toVie406eOHDoj2+BIf+eZHOxRzhhk8jOdp32rO11eJvKuby3aBUO1oYdrbiPu45AVe3UngHoSzw2HnRmnK70t+X5W01f8AnNWMHHSS/H/L+vlo5i0Vx5shlkVpgqyxTfKMtt2shOBjO3gE8E8Gky39m/bvMk+07N23zDt3/wBzZnHX5cYz+PNVP7O1t7jz2uNOSZ/kaRLfLRgDHmKT1YjPyngZHXad5/Z2tvcee1xpyTP8jSJb5aMAY8xSerEZ+U8DI67Tvj6vUu/n8v73qvPX+8Vyw/nX4/dtt/Vtr6KQqdamky+4QxnG9sdXHTOO39arxebDosV0ksjzvFHueSQ4AOMnHQYHOcdsnPOYfsniBnLNe2MbSARuY4TmNR0dc9WOT8rcDI67TvFtPEAQKL2xiVh5ZEUJxEo6OmerH+6eBkddp36PDb20+L75PR+q7i5V1munfp8v6+4kljubaG6cyeWptZCEFy0h3Dow3AEYz2PcVpQwCHJDyOzfeLuWyfp0H4ACsWPS9ZVHVZtNgWceXKIbbhFH8a5+8x5+VuBkddp334ItWNnMLq5t1uTxEYoiUXHcgnJz1IzwDgHjcaw2HdOXNJenlvtstfRE1YprSa/H+v69CJmJs7a6aeRJ5ZYg6+YQCS43Jt6DHI454575c9zjRL1/Ow8bTru38qdzbRnsemPwqidK1pnLrPpsEkrCV3W23GNgwOwHjepIGWODwcDkbXNpeszSmSSbTUklG53+zbzGcY8sE43KRgFjg9cAbht5vq9dX5esbf8A23r/AFfqa8lPrNb36/dt/XzRduMyzzlA5WE4dnumhRflB429euST6/ky3nmMMtwo8yc2ETgY+83znoPeqz6drc8yyy3GnLIcPv8As+8wEdI1JxuU8ZY4P3sY3Da5LLXh927sIN6gnZAW8nb92Jem5PUnB+9gDcNt/Vqrq897LXt1vb7r9bk8sOW3Ounf/L+vuvcZViurIxXUj+c5JBl3CQbGOcemcdMDkcdKYlznRLJ/Oy8jQLu38sdy7hnueufxqimk6yrK0U+nWxLeafKt8+UwBAQdN6kHljg/ewBuGxw0vWTI0gm02F5T5jsttuMbA5CA8b1JAJY4PBxjI2JUK65rK1799LqOv3p/f63fJT0vNaevn5f1bzRYmW8uFuJFdYWjdgrm5ZBGFPGU2kYxg85yD2GMWoYvOvblpJZSI5gEQSEKPkU9B169Dx+ZznPp2tzzLLLcacshw+/7PvMBHSNScblPGWOD97GNw22LW31pbpXubizEUreZMsUZ3IQMbFP8QIx8x54OByNt08LJTvPXX79H0+fnsu2kzUeXSa/Hy8vL+r63NUUNpF2Dn/UseCR0GaasfkahDFG8hRopGIeRmycp6k/5JpdQS/aNDpksCSA4YTqSpB78c5HXHfpxnIzItO1u1/49rjTh5eUTNvt8wHGZG24wwwPlHB2npkbN6tFurzpdtfR3/H+rmVOKcNZpb6a+nb+vvLFr/wAg+xukuJZZnMYOZSQ+eGG3OOBk+vy5PerCIJ1lmuJpInjdx8spURgE4JHTphuQc59MCs2HTNctsNFc6c0kaCEObYqZVwPnbHRhgYUcHB5G4bHPp2ttMsrXGnTSQ4SN5bflx/z0Yjoy9lXg4PTcNnNTw9SMEmvl0v8Azev9XvqbyjBvSovx+7bb+u9rh864SGSVXZvJVpIIpjE6MepxkZz05IxtOM1Z89jpP2i3DSOYN6Bxyx25GQO/0rKm07W5sebcadc+V8kfn2+d4PWRvRhx8q8HB6bhs3UBWNQzb2AALEYyfWt6VCalLXdb9fX5er8rLQwq8sUrNP0v/X9dzOeONLywZLh5DJIW+aTcH/dt8wHbr/Dgc/SooVvJlt7p3WJi6mQ/aWx1wU2FcA9sdc981oxWltCcw28UZznKIBzgj+p/Ol+zQfaPP8mPzv8AnpsG7pjr16Vj9Sm9b21vZeiV9t9Olt9+8+2X9fMjvm+SOMCRmlfaqxvsycE8t1A4zxzx36Vn7pFeaByAI5LZtonaXBMnPLDI4A4/xqxqlrf3W2K0mt0gkG2UTRbynOdyjoT2weOh7Yakmna2F2i406FXwjCK34iCnIkXPVicnaeASOu076xGHqVKl1tZ/imrd93fe3l1NqKhyK8kvv7/ANf1Y0Bbo+szOTJkRRMMSsBnL9gcY46dOvqarQreTLb3TusTF1Mh+0tjrgpsK4B7Y6575qGSw124dGnudP3Z2gi3LGED/lomf4jj7p4GRydp3p/Z2tvcee1xpyTP8jSJb5aMAY8xSerEZ+U8DI67TvieFk37qsrt+t3e+262XruilGKWs1+P+X9eehcjAS0uLuaacmN5iMOflUMwwF6H2zn8gKanm29/aqQY1mdhte6aRioUnlTwOQOQT6d6gW08QYx9tsYhISriKE/uxnPmLnqzc5U8DI5O0744tL1mM5jm02AudrGG2x5QAIEi56scn5TwNw5ODvbw01ycvS19ulr/AH7br57I5Ya3mvx/y6fP8VfSswHjguZZnE0o+dC527sHKbTwMYPTn5eT1zT8yRUt7qPeqzSRhWlumLMGYZ/d/d5GeB0HPGMVBHpmurcvMLnToXmHlu0NsQYwDnzFJ+8zd1PA45O07lGl6yZGkM2mxPKdsjR23KAHPmKT1YkZ2twMjk7TviWHrSglazV/v019dL9HrvuNQpqTfOvx+7b+reaNFEE6yzXE0kTxu4+WUqIwCcEjp0w3IOc+mBVm2eSS0heZdkjIpdcYwSORisZ9O1ueZZZ7jThIcJvW3yYQOkiE9WPPyngZHXad+np6X6xudTlgeQnCiBSFAHfnnJ647dOcZPZQpyhK7/4fzfn/AF6YVYRUbqSf9en9fnbooorsOQKKKKACiiigAooooAKKKKACiiigAooooAKKKKACiiigAooooAKKKKACiiigAooooAKKKKACiiigAooooAKKKKACiiigAooooAKKKKACiiigAooooAKKKKACiiigAooooAKKKKACiiigAooooAKKKKACiiigAooooAKKKKACiiigAooooAKKKKACiiigAooooAKKKKACiiigAooooAKKKKACiiigAooooAKKKKACiiigAooooAKKKKACiiigAooooAKKKKACiiigAooooAKKKKACiiigAooooAKKKKACiiigAooooAKKKKACiiigAooooAKKKKACiiigAooooAKKKKACqV9eSW15psUYUrdXJicsOQBDI/HvlB+Gau1m6pFJJqOjNGjMsd6zOVGQo+zzDJ9BkgfUikzOo2o6d1+aC2v5ILS7utZutPjt47l1imikwixhtoDluA+7IOOM8U258S6RaR2UkuoW3k3sjJFMJk2fKpJO7OMArtyO5A71npb+Xooe5jvYZIdSupY5baHfJDumlAfYQ24FXx91uHBwMbhFHJeP9m1C8tt0cGpGVpbexkieWM2zRhzCS0md7bfXCg4281F2cbrVEkl5efq3qtPw8+htT69pFr5f2nVbKHzYxLH5lwi70PRhk8g+tWpLq3iuIbeWeNJp93lRs4DSYGTtHU4HXFc9cXNy2oXO19Qs0mZJLZbDTsvcAxqMyvIjKrZG0BthUL83GCJdIEdtp/hm3u9LnkuxZBVnNvkWhES7gzHlC3T3IxT5tS44iTk4/wBbpd3v02+4u3Wo3Ed5qdvE1tF9lsY7iKS4JCK7GUZc5+6PLXp71K+qW+m2dt/b19ZWlzJGN+6YIjOAN2zcckZP6isrXLW4m/4SPyoJH87Rkii2oTvf/SPlHqfmXgeo9asau5tNS+1W73dvcPEqGSOxe6hmClsK6oNwK7mIwUzvHLYIBdi9pON32/zfp2XVFpvEGmR60+lS3kEV2ixkI8qgsXJAUDOS3AOMdGX1qWPWdMmvjZRajaSXYYqYFnUyAjORtznIwc/SsvTTNYalC9/ZNbtc6faQCO1gZ445EMm9PkBCKPMXBJAx0JwcZZ+33Fnp8En9oLcR3Np59jb6eIrS3CTJkKzJkquOqu2eoG3OFzMl4mcY3e+ulvuW/by+R2csscELyzOsccalndzgKByST2FZ9jq0eoarcRWksE9oltDLHNC24MWeVW5BwQPLH45puuhkjsrkxyTQW12sk8MUbSM67WVSEAO7a7I/tsyOQKxbq0l1e61mTT7S5tkuYLPMjwCJrkJLIZAA45JT5MSAA8Z+Ugltu5pVrSjNKK26dXo3+enqdJZapYalv/s6+trvy8b/ACJlfbnpnB46H8ql+1W/2z7J58f2ny/N8neN+zON23rjPGaw9ItoZtd+3ifVLqdLZoTLe2a24VSytt/1SMxyCR1A+bOMjMviFp7C70/WLa3u7sWrSRTwWiK7vFIvZTySHSI8HpntT5na41Wl7Lna6/h367er2L8us6ZBC8s2o2kcccpgd3nUBZByUJzw3t1qKXVo3k0ttPlgube9uWiMsbbwQIpG+Ug4zujA796yPsl7pFlp0U00mTHM15fWtp9omEzushWMBDtVmLkkoRhVHBINRabb3bajFNLHeyKdZMoluoQjtH9hKhyFAAGcDoCOAQGyKnmZk8RU5lFre3y2ff5bfM6SfVLC1vI7S5vraG5lx5cMkyq75OBhScnJ4ou9UsLDP26+trbG3PnTKmN2cdT32tj/AHT6VlwzJYRXljqFjc3U1zPM5Edq0qXCOx2AvjaMJtTDlcbf7uCTRdOuLXV9+oL51zFpVpbtdEFt7hpfMAcjJydpP/ASad2aqtNyUV1/D1NSfVLC1vI7S5vraG5lx5cMkyq75OBhScnJ4on1SwtbyO0ub62huZceXDJMqu+TgYUnJyeK5a90syRahp+qXGrSfbZ5JPJtrOOWOZWbMf7wxHaQNq5dl2lBghQpq7rJmt575dNina4ul+a1nsGuLa7YoFBLLjYTtVDuYKACSvO4nMzN4mpZu23/AAfP+r7d+mrL1LW7e1b7PbXNtJeLPbpJbmQF0SSVEJKg5HD8H3Falcfkvoem6Y+nXct9Z3tsZpGtHCh0nXzJxIwAYN8x3AliHJIA3YcnY1xFSUI2j2f9ev8AkdHJrOmQ3wspdRtI7ssFEDTqJCTjA25zk5GPrVuSWOFQ0rrGpYKCxwCSQAPqSQB7muM1r7fNpOrWg/tCKdluVisrDTx5MiMWIZpGRgzMDuba6nnAG/r0PiK1+26QtuYPtCPd22+PZuDIJ4y2R6YBz7ZpKT1JjiJSU3bZX/PTr28n5E6azpkljJex6jaNaRttedZ1ManjgtnAPI/MU8apYNZpdrfWxtpN2yYTLsbaCWw2cHAVifTafSs3X7adr6xvFuLuG3t1lDmziWWRXbaFbYUbIwHXKjcN/wDdLEZDWtrZjT7hbe+u45tZa6k+0WqpI7C2fMgiCqeCufuhiVJAYlcjk0yZ4ipCXK12/TXe9un69Dq7O/s9RhMun3UF1GrbS8EgcA9cZHfkfnUVvrOmXcM0trqNpPHbrumeOdWEY5OWIPA4PX0NY17ZXOrQanNYpPBBdLbgRsnlSTGNyZTskGMsm2MbwA23B+TBMukW0M2u/bxPql1Ols0JlvbNbcKpZW2/6pGY5BI6gfNnGRk5ncar1HJRtv176vbX59d+m5LD4gj1i2sJfD95p7tNLEbiG4lzIkbKWZQFJxJhTwePlb0rUe/s476OykuoFu5F3JA0gEjDnkL1I4P5Gue00SGz8NWZtrlZtNkSO6327qqEWsqHDEbWG7jKkjkc8jNqxnjt7m4028s7ie6kvnm3/ZmaORS4dH8wjb8ilBycgx4UHC5E31JpVp2Tk9/u2Wnr0+XyIJPEV7F4gGnyvpcYllCIj3aiWECQD513ZYyR/Mm0ZBIDDHzVuXuqWGm7P7Rvra08zOzz5lTdjrjJ56j865TWvt82k6taD+0Ip2W5WKysNPHkyIxYhmkZGDMwO5trqecAb+u59oGlarfy30NzILqRGglgtpJ8RrGq+Wdikrht7YOB+8yMndhJsinWmnJN9tX03/y6232WiNmiqGiW0tppSRTp5Z8yRkiyD5UbSMyR8cDapVcDIGMDIxV+tEehBuUU2rBRRRQUFFFFABRRRQAUUUUAFFFFABRRRQAUUUUAFFFFABRRRQAUUUUAFFFFABRRRQAUUUUAFFFFABRRRQAUUUUAFFFFABRRRQAUUUUAFFFFABRRRQAUUUUAFFFFABRRRQAUUUUAFFFFABRRRQAUUUUAFFFFABRRRQAUUUUAFFFFABRRRQAUUUUAFUdQ0i31KRGuHmVQNsiRyFVmTrtcdxnn8x0JBvUUmk1ZlwnKD5ouzMb/AIRezP8ArLi9l3fLLvuCfOj7Rt6qPzPOSdzbj/hF7M/6y4vZd3yy77gnzo+0beqj8zzknc27ZoqfZx7G31uv/M/6/r8uyMb/AIRezP8ArLi9l3fLLvuCfOj7Rt6qPzPOSdzbr2n6dHp8bqks8zOeXnkLtgcBcnsBx+pySSbdFNQindImeIqzXLKV0ZVz4ft7m5ec3F3G5O+MRzECGTu6jpk985HXj5mzH/wi9mv+quL2Pb80W24J8qTvIuc/Me+cg88fM2dmilyR7DWKrJWUn/X9fn3Mb/hF7Nf9VcXse35ottwT5UneRc5+Y985B54+Zsn/AAi9mv8Aqri9j2/NFtuCfKk7yLnPzHvnIPPHzNnZoo9nHsP63X/mf9f1+fdkVtbx2lskEO7YgwCzFifck8k+5qWiirOdtt3YVnXuh2t/cmWeS4CsBuijmZEZh918D+IdiPY8lVxo0Umk9yoVJ03eDszG/wCEXs2/1txeybvml3XBHmydpGxj5h2xgDjj5Vwf8IvZt/rbi9k3fNLuuCPNk7SNjHzDtjAHHHyrjZoqfZx7G31uv/M/6/r8uyMb/hF7Nv8AW3F7Ju+aXdcEebJ2kbGPmHbGAOOPlXB/wi9m3+tuL2Td80u64I82TtI2MfMO2MAccfKuNmij2cewfW6/8z/r+vy7Ixv+EXs2/wBbcXsm75pd1wR5snaRsY+YdsYA44+VcH/CL2bf624vZN3zS7rgjzZO0jYx8w7YwBxx8q42aKPZx7B9br/zP+v6/LsivZWa2NsIlkklYks8srbndj1JP9BgDoABViiirWhzyk5O7CqmoadHqEaK8s8LIeHgkKNg8FcjsRx+owQCLdFJpNWY4ylB80dzG/4RezH+ruL2Lb8sWy4I8mPvGvop/McYI2rtafCtllSk95GYziHZcMPJQ8GNfRTk+44wRtXbt0VPs49jf61X/mf9f1+fcxv+EXsx/q7i9i2/LFsuCPJj7xr6KfzHGCNq7T/hF7Mf6u4vYtvyxbLgjyY+8a+in8xxgjau3Zoo9nHsH1uv/M/6/r8+7Mb/AIRezH+ruL2Lb8sWy4I8mPvGvop/McYI2rtj/wCESsBOJY7i+idFMcWy6YCGM43RqOgU4+o4wRtXG7RR7OPYPrVd7yf9f1+fcxv+EXsx/q7i9i2/LFsuCPJj7xr6KfzHGCNq7T/hF7Mf6u4vYtvyxbLgjyY+8a+in8xxgjau3Zoo9nHsH1uv/M/6/r8+7KOn6Rb6bI7W7zMpG2NJJCywp12oOwzz+Q6AAXqKKpJJWRjOcpvmk7sKKKKZAUUUUAFFFFABRRRQAUUUUAFFFFABRRRQAUUUUAFFFFABRRRQAUUUUAFFFFABRRRQAUUUUAFFFFABRRRQAUUUUAFFFFABRRRQAUUUUAFFFFABRRRQAUUUUAFFFFABRRRQAUUUUAFFFFABRRRQAUUUUAFFFFABRRRQAUUUUAFFFFABRRRQAUUVma/dz2WmxS2z7Ha9tIicA/K9xGjDn1ViPxpxV3YaV3Y06K5qSae+8fy2U9tqH2aztoJopIboRRKzNKSzqsgZ1bYqgMrYKtwActrX+tWlhOtsS9xeuu5LO3XfKwJIDbR91cjG9sID1YVTg00kPlZforMl1eS3tYDPYTNfXG4x2EDo8pUHkkkhBgFdxLbQSFDMSu4l1tI7WBlsruS7n3bLEIqzfKcPncwUKv8Ae3bTlcE7lyuRiszTorGm8TW1rp8txe2t3bywSRRzWhjDzJ5sgRGCoWDqSeqFs4YD5lKgtvEkTX0tpqVjd6TJHbG63Xvl+W0SnDsHR2UbcrkEggMD0p+zla9h8rNmiuaudbnudc0KFbLULGOa9fDzIFW4jFtMeQrErzsO2QK3tlTh+jahBp/hXShaPqerSXkHn28dxIsl1KjfOSzEhQFDgEkgD5VySVBp02l/Xn/kHKzoqK5fxCb/AFSytX006zaz7ZGWG1iRHilVlw8jO6oyqQy7NxEgfK5ChhZ0vV0tdHZbz7XLfx3LRSW0gUzNO/70RoA7Lt2uCo3kIn3mG1iD2b5br7g5dLm/RWZbavJdebAbCazv1jMkVreui+aBxuDxlxt3EA4yVyCR8y5LTXba4uks7pJtPvnzstbsBWkwMnYwJSTA5Oxm25GcHio5JCszToqnp2o/2j9q/wBDu7X7Ncvb/wClRbPN24+dOeUOeD3wagtNbS9ukWCyuzaS58m+CKYZsDPGGLBTg4ZlCtgYJ3LuOVhZmnRWMPERWSJrnSNQtbSWRI0u5hEFJdgqZQP5i7mZRgoCM/MFwcPi14T3ZSDTb6S1E7QG9RUMYdWKMNobzMBwVJ2YGCc7fmp8kh8rNaisb/hJIv8AX/Ybv+zOv9p/u/I2/wB/7+/Zn+Pbtx82dnzVoX9/Fp8CvIryPI3lwwxgF5nIJCqDjnAJySAACSQASE4yWgrMs0Vhp4pg86aG5sL61nga2WSKZFyDcSmJMEMVYZGSVJABx94FRoXWq21nfR2103lb7aa5MrkCNEiKBixJ4/1gPpgHpTcJJ2sHKy5RWNB4jSTVLWzuNM1CzF5v+y3E8SiOYqu7bwxZGKgsA6qcKR1GKoaTrEGmaJotraLrOryahaPd27Tssk7plGIkcsFBAlGMkDC4znaC/Zy/r5/5D5WdRRWTLrV0jhYdA1O4IVTJsMCiNiAdmXlXcQCMldy5yMkggGpajaT+DbvU0nuBZSWD3AntfklEZjLbkzjDY5GehxS5HoLlZrUVh/2sNKnj0S2s9T1a6tbSKRnBQs6EsgZ5HZV3ZjORkE5yAcNtZZ+Lra9hguI9P1CO0lkWB7ieERrDMX2eUyswcsHIQlVZQT97hsP2ct0PlZv0VgHxbFtlmTS9QazguXtp7wpGsUJSUxsx3OGKDG4uoIAzkgqwFy71kw3T29jp13qUkWPOFqYgISRkKxkdRuIOcDJAIJwGXK9nIOVmnRWNP4mtkks4rK1u7+W8jlkhjt4wD+7ZVdW3lQjAvyHxgqVPzYU3bzUk0/Q59Uu4Jo0t7ZriWH5TIoVdxXg7S3GODjPfvS5JaCsy5RVa6v4rO5soJFctezmCMqBgMI3kyfbEZ/HFYcfje2axstQk0nVotOvNgjuzbBlBcfKCisZOWwoOzBJGCQQS1CUtkNRb2OlorJh14SJcrLpt9Bd26o5s2VHkdXJVCCjMuCysMlhjaS21eafZaybm+Fnd6dd6fcPG0sSXJibzVUqGIMbsBgunXH3uM4ODkkLlZp0VT1DUksPLjSCa7uZs+VawbfMcDG5vmIUKMjJYgZIHVlBgl1tI7WBlsruS7n3bLEIqzfKcPncwUKv97dtOVwTuXKUWwszTorGm8TW1rp8txe2t3bywSRRzWhjDzJ5sgRGCoWDqSeqFs4YD5lKgtvEkTX0tpqVjd6TJHbG63Xvl+W0SnDsHR2UbcrkEggMD0p+zla9h8rNmiuaudbnudc0KFbLULGOa9fDzIFW4jFtMeQrErzsO2QK3tlTh+jahBp/hXShaPqerSXkHn28dxIsl1KjfOSzEhQFDgEkgD5VySVBp02l/Xn/kHKzoqK5fxCb/AFSytX006zaz7ZGWG1iRHilVlw8jO6oyqQy7NxEgfK5ChhZ0vV0tdHZbz7XLfx3LRSW0gUzNO/70RoA7Lt2uCo3kIn3mG1iD2b5br7g5dLm/RVCw1YXc7W9zZ3Gn3QXzFguSm50yAWUozKQCQCM5GRkDcuaV14nEFzfwWuj6nftp7bbg2saYGY1kG3c67yQ33Vy2RyBld0qEm7C5WblFZlzrJTyjp2nXeqpLGJRLZmLy9rfdIeR1Vs4J+UnAwTjK5rN4pgJtI7awvrm4ulnK28SLuRoXVJUZiwVSGYjO7adpwSSoYUJMfKzcorJl1q6RwsOgancEKpk2GBRGxAOzLyruIBGSu5c5GSQQLQ1ayOjxaoJs2c0aSxyBGy4fGwBcbizZAC4ySQAM8UuVisy5RWZaayZrpLe+06702SXPki6MRExAyVUxuw3ADODgkAkZCthmna8NSeFotNvo7S5Xfb3jqhjlUjcpwrFkBXkF1XsDhiAXySDlZrUVQv8AVhaTrb21ncahdFfMaC2KbkTJAZi7KoBIIAzk4OAdrYydF1uc6Gs0dlqGpSTXt7sRECska3MgG4ysgXA2gKSG9BhTgUG1cfK7XOlorJTxDA1pI8ltcRXUc/2Y2LBTMZSocINrFSSjBshsAZLFdrYoWeu/8VDq0uoJd2MNvZWmba4GSrtJOPlCFldm+QDYWJOF+8MBqnKzDlZ0tFZlprJmukt77TrvTZJc+SLoxETEDJVTG7DcAM4OCQCRkK2Gadrw1J4Wi02+jtLld9veOqGOVSNynCsWQFeQXVewOGIBXJIXKzWoqhf6sLSdbe2s7jULor5jQWxTciZIDMXZVAJBAGcnBwDtbEGm+IrTVJreO3juENwtyyedFsIEEqxPuB5BLMMAjOM5weKXJK1ws7XNaisyTXbaNrtNkzzW1yLVYVALTymJZAqDPPyuMk4AwxOFBNGla2mp3V3aSWV3Y3dpsMkF0i5KuCVdWRmVlO1hweCpBxRyStcLO1zToqhf6nNaTrDbaVfX7bdzG3EaqgJIHzSOgJODwpJGOcZGaTeKYCbSO2sL65uLpZytvEi7kaF1SVGYsFUhmIzu2nacEkqGahJ7Bytm5RWTFrwn043EWm3z3CztA9iFTzo3GThju2KNo3AlgCGXBJZQYZPFMFrbXEmoWF9aS27QB7ZkWSTbNJ5aOBGzBgWDcA7vlPHIyezkPlZuUVknXHSBfN0m+jvJGYQ2JaFpZVUAs4KyFAozyWYc4HVlBZbeJra4sZZja3cNzFcm0NjLGBOZgNwQDO05UhgwbbtO4kAEg5JBys2aKzP7bRLHzriyu7e4MnkpZyIvmySYyFTDFGyOchtoAbcV2timfF1tDDeG+0/ULSazkgSW3khDyETOEjdNjMHUsSPlJOVYYzgEVOT2QcrN+iuT119V1S1h+yW+t6bcLvMcNv5BbepQpKzeb5ZQfMpiZsvvJx8u4XdL1dLXR2W8+1y38dy0UltIFMzTv+9EaAOy7drgqN5CJ95htYivZvlumHLpc36KoWGrC7na3ubO40+6C+YsFyU3OmQCylGZSASARnIyMgblzSuvE4gub+C10fU79tPbbcG1jTAzGsg27nXeSG+6uWyOQMrulQk3YXKzcorJfXhLBbT6Xpt9qcVxAs6yW6oihGGVOZWTJIzwMkdwMjN3T7+LUrJbmFXQFnjdHA3I6MUdTjIyGUjIJBxwSOaTi0rsLNFmiudtfGUFzBp90dK1OGw1Bo0hvJIV2BpB8oZQxdQWIXcV2kkYJBBNybXgk8gtdNvr23hYpNdWyoyRsD8wALB3K9wityCoywKinTknZofKzWoqhZaxBf6jcWlurkQwQ3CThlaOeOXdtZCrHIyjDkDpxkHNUrbxK97p1neWOh6ncLdQLOFUQqURs7CS0gUkgZwpJAxuC5GVySFys3KKraffxalZLcwq6As8bo4G5HRijqcZGQykZBIOOCRzXOaDJ9tt/CEl1f6h9r/sk3JVZv3Vx+7iVjMDyzAyAr75NCg3e/T/AII+U6yisa08RG9jSa30jUGtp4zJa3AERW4G3cuMPlNyjIMgQdASCQKraN4lvb/w3Z39zod959xBC6pCIis7Om4lP3h2KACcyFeoHLHFP2cg5WdFRVDTtWF/PNbzWdxY3UKpI8FwULbGLBWyjMuCUcYzn5eRyM36hpp2YnoFFFFIQUUUUAFFFFABRRRQAUUUUAFFFFABRRRQAUUUUAFUNasJdRsI4IGRWW7tpyXJA2xzpIw474Q498VfopptO6GnZ3KENhLH4kvNQZk8qe0t4FUE7g0bzMSfbEi4+hov9FtL+dbkh7e9RdqXlu2yVQCSF3D7y5OdjZQnqpq/RT5ne4XZy2q3Eml3Vjd/b7K5v7IPbSi8kNuJIZcMG+RGw4MSEsBswshwv8LbvVY1kg1M3+nNqVkJLaW3aVkhKysrFQ+0tlfKH7zaQdkmVX+Dp2t4XmWZ4Y2lVSiuVBYKcZGfQ4HHtTI7G0i8ryrWFPJjMUe2MDYhxlR6Dgcewpc8/I6IyoWXMnf1X+X9fLXkbua2u/tN5fahYwXpurFJYo5meOKO3uPNwGKguT+9y20KMYONjMbWuS6Rql8/2rU4Y7RbG60642viQGYx8rwRgCKTLdAVOejY6SOxtIvK8q1hTyYzFHtjA2IcZUeg4HHsKI7G0i8ryrWFPJjMUe2MDYhxlR6Dgcewo9pVvdWK58P2f3r/AC/r5a8j/a11dX+mT61eaNbLpd0WuRbTySGV2gljyu5F2qCxyPmGA2WGw5qz6lb+GdB0i5hvdOuL3RbQadcQzXRiSXci5EbbT83mQrgkbcCQHBGV7iOxtIvK8q1hTyYzFHtjA2IcZUeg4HHsKI7G0i8ryrWFPJjMUe2MDYhxlR6Dgcewp+0qX6W/4f8AzHz4fs/vX+X9fLXkdZu4b5Laa+uNLvTamSG606a5kjtmZyCrH5W83ywjDLJtzvb5CmBWsILLS4LuVbvSLS4t9VF5b21rlLdCbcQmM4XOMCXMijAKlyOGQdvHY2kXleVawp5MZij2xgbEOMqPQcDj2FEdjaReV5VrCnkxmKPbGBsQ4yo9BwOPYUKrVSsrB7Sglaz+9f5f18teftb03+rNdXN3p9tqFvHJZW0FvK1woaQqxZiVQvzEBhQANj5Yn7mpaaFbW90l5dPNqF8mdl1dkM0eRg7FACR5HB2Ku7Azk81cjsrWExGG2hjMKGOIrGB5acfKvoOBwPQVPQpytqYVJQv+7vbzM62uL61t72fX3s44kuHMD2+7C2/G0ybujdckcVhaNqx0iCLTbm80tNP00/ZVnWd5JZI1BWMFNihSFUFnBZco4wOSvXEAggjIPUGoI7G0i8ryrWFPJjMUe2MDYhxlR6DgcewpOUtbWKhKlZ86fy/4Y88On2ka2yXLaG1zp95bGfV55nnu7ny5VZiSyZQlUbne6qFZOACy6V9Lby649z9p06z8q8jM9/aXksUsyqwYJJCq7ZRtRoyzOQoDthcFR2MdjaReV5VrCnkxmKPbGBsQ4yo9BwOPYUR2NpF5XlWsKeTGYo9sYGxDjKj0HA49hVOtVfb8f8/+Aa+0odn96/y/r5a8dJPHFocvhp73ThpUUQ097z7Q3niLaVx5WzaWChlL79oKsxGFKDW1/ULWSGC5sru1N3p1x58STyMscuMxSLlVYk7ZWA2gkPtyD0O3HY2kXleVawp5MZij2xgbEOMqPQcDj2FC2VqiQIltCq2/+pURgCLjHy+nBI47VPPUbvoS50L7P71/l/Xy14S8u21G71iSTVNIgvvsmn3FvFFI86IYp5JUDEBS4YleVAIDgbTgFrV1PHrV9M+t3unW9p/ZVxavFY3DTSYnMWHVygDEgAbQuQSp+beAOxWxtE2bLWFfLkaVMRgbXOcsPQnJyfc0LY2ibNlrCvlyNKmIwNrnOWHoTk5PuaftanS39aFe0w/Z/ev8v6+WvHaV/ZGn6os39n+GLT7LH5hvLCPMsoZdo2KEGwtvU4DyEBgvO8NU+ky2Wm/2J52p2b/2Voptp/KctvZ/s+0px8w/d9Ovzpx8wrqlsbRNmy1hXy5GlTEYG1znLD0Jycn3NC2NomzZawr5cjSpiMDa5zlh6E5OT7mk6lV9v6/4cTnQ7P71/l/Xy14vVVsLrV72ab+xtXilCTRvqMryizUoi7YodjK+ThyFZGYuoOPlY31hgf4a/wBhJf2jT/2Wmn+cshMPmvDtX5sdCSD0zgjjkV0q2NomzZawr5cjSpiMDa5zlh6E5OT7mj7Fa/ZZLb7ND5Em7fF5Y2vuOWyOhySc+tP2lSyWmgnOjZWT+9f5f1+eJa6npp8SXGoLqNs0V5BBaRKGO7fG8rEnjhSJkwehyPVc0I5bKXQYrJNTszJLrRuUO87Sv24XGOnBKFQD0JZcHDAnqpLG0l83zbWF/OjEUm6MHegzhT6jk8e5oksbSXzfNtYX86MRSbowd6DOFPqOTx7mp56nl0/AfPh+z+9f5f189OHs7xb/AEm70j+0dLfTtTvb2I3MczebGkk7lkCbSpYhwA5ZQC6/K2Bv1Dq8dnqE9xolzp14mp3AZ0urpoSkqxpHwVjfKsqx4yByRgtvUDpJLG0l83zbWF/OjEUm6MHegzhT6jk8e5oksbSXzfNtYX86MRSbowd6DOFPqOTx7mm6lRvoHPh30f3r/L+reenMaZJptrqmm3EerW0y7L2KRuVLzTzRSkqvO1Mg4yejRjLbgTsawbTV/DF1b/bEhg1GB7aO5xlQZFKg9s8njkZ4weRV+SxtJfN821hfzoxFJujB3oM4U+o5PHuaklgint2gmiSSF12tG6gqw9CPSlz1G7t6kSlRbTin96/y/r8uNg1a61O/0OfU7zRoVtbpmcWs8khncwPHldyLsXMi4B3Bg64bpvkt5bI+DdE0ldTs2uLeSyjLBztYwSRM2DjOCF+UkAHcn94V1UljaS+b5trC/nRiKTdGDvQZwp9RyePc0SWNpL5vm2sL+dGIpN0YO9BnCn1HJ49zT9pU0tYvnw/Z/ev8v6+enK6lNaaleXk9lrEMX26K1t4fLuHiZ2hmkkZS68orrIihxn7+QDlQ0Xhqzs/+Emg1CytdCsENrPbG30zLPIxaJt7NsTK4Xj5eNwILb+OvksbSXzfNtYX86MRSbowd6DOFPqOTx7mnrbwpM0yQxrKyhGcKAxUZwM+gyePemqlRK2gpTo8rUU/vX+X9fPTA8Q3q2WqWl/az2X2u0D28sF5O0SmKUBsgqjEENEpzjbtEmemRXu9VjWSDUzf6c2pWQktpbdpWSErKysVD7S2V8ofvNpB2SZVf4Ona3heZZnhjaVVKK5UFgpxkZ9Dgce1MjsbSLyvKtYU8mMxR7YwNiHGVHoOBx7Cp5p9LCjKgkuZO/qv8v6+WvI3c1td/aby+1CxgvTdWKSxRzM8cUdvcebgMVBcn97ltoUYwcbGY2tcl0jVL5/tWpwx2i2N1p1xtfEgMxj5XgjAEUmW6Aqc9Gx0kdjaReV5VrCnkxmKPbGBsQ4yo9BwOPYUR2NpF5XlWsKeTGYo9sYGxDjKj0HA49hT9pVvdWK58P2f3r/L+vlryP9rXV1f6ZPrV5o1sul3Ra5FtPJIZXaCWPK7kXaoLHI+YYDZYbDmrPqVv4Z0HSLmG9064vdFtBp1xDNdGJJdyLkRttPzeZCuCRtwJAcEZXuI7G0i8ryrWFPJjMUe2MDYhxlR6DgcewojsbSLyvKtYU8mMxR7YwNiHGVHoOBx7Cn7Spfpb/h/8x8+H7P71/l/Xy15HWbuG+S2mvrjS702pkhutOmuZI7Zmcgqx+VvN8sIwyybc72+QpgVrCCy0uC7lW70i0uLfVReW9ta5S3Qm3EJjOFzjAlzIowCpcjhkHbx2NpF5XlWsKeTGYo9sYGxDjKj0HA49hRHY2kXleVawp5MZij2xgbEOMqPQcDj2FCq1UrKwe0oJWs/vX+X9fLXC06+S+10Xmo3FlFdWyvZQ21pO0wJkKsxLMiljmIAALhdj5J6JHZHWBr/iEaYli8T36KWuHdWhb7LB82AD5gwR8uU+7975vl6GOytYTEYbaGMwoY4isYHlpx8q+g4HA9BU9OM2r3RjOUL+4tPM5O68KPD9jhgsrTWbG2sorSO01S5ZY4jHuHmhRG6M7BgC21SAvBwxAn8P+GrnSJ7AytabLWO+RltkMa/v7hJU2JztUKpGMnHABPWuloqnVk1YjndrHL6n4bnvNXuppdP0zVYrhlaJ9UkaQWQ2KpEcJRlIyu84ZCxOCRtDVIdPisPBemaRqd9Daz2sFvtmPMfm2+xwecZXMeSMglQeR1HSUyaCK4QJcRJKoYMFdQwBByDz3BGaTqTaSXQcZK65tjl4dXj1LULC41i506zS0L3UKW900pdvLeM7y8abAFaT5cZJB6bGBpWEtuuvWt49zp2noDJczvZ3kqLena6sZbcqqIxOXJZnceVtydpI7FrG0ffvtYW8yRZXzGDucYwx9SMDB9hQ1jaPv32sLeZIsr5jB3OMYY+pGBg+wqPaVFtb8f8AM358P2f3r/L+vnpmXVvqUesjVNFhtblbq1WGeO7uHhwEZmjKkRt/z0k3Aj+7jGDnKPhjURYWqXSWOqGOe8eeymlkhtpzNOZFdl2vkqOiMGALEhsqCevorRVJI5+a2xyFl4XvtOtZZrO30yC6TVFv7W0gLRW6qYFhdCQpOdpkwwHLbWIGStWjoWp6jeX91qj2ls88dp9nS3LSiJ7eaSVdxIXepZlJwFOCV4xuPS0UOtJ6hzsxo7TU9Q1C0uNYgtLRLGQzRJa3DTGRzG0fzFo02qFduACSSORtIanZaFfx69DePDaWCRyPLO9hdShb5irKS9vtCKxLByxZ2GxVyeo6Wil7RrYXMzGvbTU7fXDqOjwWlz9otlguI7q4aHGxmaMoVjf/AJ6SbgR/dxjBzh6PYax5NnqWntY3NxbXep29zFOXhSVZLtiWRhvKENEvBDcEjORmu1opqo0rW/rYfNocnJ4WudQgu5dYi0+5uH1IahFbMpe3bFusPlvuGTwGw4HXa+3qlafh/Sf7N+0P/ZGk6V5u0eVpq53Yz8zPsTPXAXbxgnJ3YGzRSdSTVmJybVjj/EC2tzrqPMumaojqtsLDUrl0jglUklwmx1LMJFXcQCBtAJ34rK0yQ6Tc6Mum3ekTNGuox7FZoIW825ikRVwGMYwVIOGXooJ3q1d9JZWsxlM1tDIZkEcpaMHzE5+VvUcng+poksbSXzfNtYX86MRSbowd6DOFPqOTx7mkqtRK2lv6R0xqULWaf3r/AC/r56cdcG0vLNZV1Gzmub3UftFxZ/aXit7jEIi8lnCkmPb5RyylZDjgCQAU7KzsvPmltn0PTkvbiwEdtY5Cqbe4Mj7jsXcWVl2ttUHcq+jN3sljaS+b5trC/nRiKTdGDvQZwp9RyePc0SWNpL5vm2sL+dGIpN0YO9BnCn1HJ49zQq1VK2g/aUOz+9f5f189OY11tD1uewvFbS9SlhMkEVrf/wCqk3lMnO1thyqbX2kENj+NWFWGSyj02yk0saHZXkWo+fbWlsxjt2OzynDuEBJKSEh9ijLRD5hgt2MljaS+b5trC/nRiKTdGDvQZwp9RyePc0SWNpL5vm2sL+dGIpN0YO9BnCn1HJ49zUqpVStp/XzFz4e1rP71/l/Xz05W/uLLxFptp/ak2kTXEd4ZLezYmW3chCmyRmUEgiQkPtABePAfA31bVdNksBHaxaBpTXF/assdgTh/JnSRiz+WmcjAUFcZZfmO8Y7SSxtJfN821hfzoxFJujB3oM4U+o5PHuaJLG0l83zbWF/OjEUm6MHegzhT6jk8e5pqpVSsrf18x89Ds/vX+X9fPTmNdu7DV57CW3uLHUIMyQNp95cvFBMzFCruArBtuBtDKVJlUgg7c5+kwWVpAZba70i3uG1U3llbWuUtwfs6wmNvlyAQzYkAwS6Pg7th7eSxtJfN821hfzoxFJujB3oM4U+o5PHuaJLG0l83zbWF/OjEUm6MHegzhT6jk8e5oVSqo8qsCnQtaz+9f5f189MPSL1dW1iHULueyWeOGW2t7eznaYFWMbO7MyKf4I8YUDBzlt4w/T9R06y1LVJJ9RtQL64+0xjfjYiQRxsGyMKcxPx6KfQ43Ft4UmaZIY1lZQjOFAYqM4GfQZPHvTGsbR9++1hbzJFlfMYO5xjDH1IwMH2FS5Tt0I5qN3o7eq/y/r56cFHbWkdjpMNw+kawkOlQwNaahdPHBC8IYPIFMbKWPI+ZVYCNsfxAdH4NW3s9DjsIri0lkWSefbaRmNER53ZRsPKYzjaehUjnGa2msbR9++1hbzJFlfMYO5xjDH1IwMH2FSRwRRPI8USI0rbpGVQC5wBk+pwAPwqpVKklaQ5zouNop39V/l/Xz0w4tCuU8G6RpJeH7RZfYfMYE7T5EkbPg4zyEOOB2zinx2esaYZbXSo7GW1mnlnWe5mdXhaV2dgY1UiQBmYj5kyCF4xvO5RVe0fU5+ZnIar4MleDTbfR5LdYorBtIvHuVPmyWbBASrqP9YoQ7QRty5PHe1q3h15r6N4NM0/UrFLZII9Pvpmigtihb50jEboWIYLnaCoTAJDEDpaKftp6D52Yug2P/CM+Gvs9/JaxpDNPIzW6GOJEeZ3GF/hADDjJAx1IGayNKlstK/sX7Vqdn/xKNNbTrja5OZW8nleOVHkSZbtg56NjsSAQQRkHqDUEdjaReV5VrCnkxmKPbGBsQ4yo9BwOPYVEpzbbXX+v1NISp686d/L/AIb+vz462lt7fXlvJ7nTtPS1uGN09heShb12V1Je32hASSXL7nK+VtLHaSIWcReHrXSri8054dHkit/L+3SIuoIsbxlZQI/lX+MqPMX5GVjgE128djaReV5VrCnkxmKPbGBsQ4yo9BwOPYUR2NpF5XlWsKeTGYo9sYGxDjKj0HA49hR7Wr5fj/ma+0w/Z/ev8v6v5a8t4XistP13UZUXR7H7SsFutlpoOFkQzE5O1d5O77wUY2spHyEnsKgjsrWExGG2hjMKGOIrGB5acfKvoOBwPQVPScpSd5GFWUJO8L/MKKKKRkFFFFABRRRQAUUUUAFFFFABRRRQAUUUUAFFFFABRRRQAUUUUAFFFFABRRRQAUUUUAFFFFABRRRQAUUUUAFFFFABRRRQAUUUUAFFFFABRRRQAUUUUAFFFFABRRRQAUUUUAFFFFABRRRQAUUUUAFFFFABRRRQAUUUUAFFFFABRRRQAUUUUAFFFFABRRRQAUUUUAFFFFABRRRQAUUUUAFFFFABRRRQAUUUUAFFFFABRRRQAUUUUAFFFFABRRRQAUUUUAFFFFABRRRQAUUUUAf/2Q==)"
      ]
    },
    {
      "cell_type": "markdown",
      "metadata": {
        "id": "OHK8ChPCxTh0"
      },
      "source": [
        "# DataFrame"
      ]
    },
    {
      "cell_type": "markdown",
      "metadata": {
        "id": "3FAMVharxTh0"
      },
      "source": [
        "Chegou a vez de falarmos da biblioteca **pandas**, que é a biblioteca mais popular para análise de dados. "
      ]
    },
    {
      "cell_type": "markdown",
      "metadata": {
        "id": "_8f90wtrxTh0"
      },
      "source": [
        "Para começarmos a usar *pandas*, primeiro precisamos importar essa biblioteca. Geralmente, a abreviação dada a *pandas* é *pd*. Contudo, como disse para a biblioteca *numpy*, as abreviações podem ser outras, somente convencionaram-se esses nomes e todo mundo sempre respeita isso. "
      ]
    },
    {
      "cell_type": "code",
      "metadata": {
        "id": "3GyEh6sNxTh1"
      },
      "source": [
        "import pandas as pd "
      ],
      "execution_count": 91,
      "outputs": []
    },
    {
      "cell_type": "markdown",
      "metadata": {
        "id": "hNV6szimxTh1"
      },
      "source": [
        "Existem dois tipos de objetos em *pandas*:\n",
        "- Dataframe\n",
        "- Series"
      ]
    },
    {
      "cell_type": "markdown",
      "metadata": {
        "id": "-hSasBlcxTh1"
      },
      "source": [
        "Um DataFrame é uma tabela. Ele contém uma matriz de entradas individuais, cada uma com um determinado valor. Cada entrada corresponde a uma linha (ou registro) e uma coluna.\n",
        "\n",
        "Por exemplo, considere o seguinte DataFrame:"
      ]
    },
    {
      "cell_type": "code",
      "metadata": {
        "id": "KJbDq3QWxTh1",
        "colab": {
          "base_uri": "https://localhost:8080/",
          "height": 142
        },
        "outputId": "65cc693d-dada-4fa8-ddf8-251baff3a3cf"
      },
      "source": [
        "pd.DataFrame({'Sim': [50, 21,12], 'Nao': [131, 2,5]})"
      ],
      "execution_count": 92,
      "outputs": [
        {
          "output_type": "execute_result",
          "data": {
            "text/html": [
              "<div>\n",
              "<style scoped>\n",
              "    .dataframe tbody tr th:only-of-type {\n",
              "        vertical-align: middle;\n",
              "    }\n",
              "\n",
              "    .dataframe tbody tr th {\n",
              "        vertical-align: top;\n",
              "    }\n",
              "\n",
              "    .dataframe thead th {\n",
              "        text-align: right;\n",
              "    }\n",
              "</style>\n",
              "<table border=\"1\" class=\"dataframe\">\n",
              "  <thead>\n",
              "    <tr style=\"text-align: right;\">\n",
              "      <th></th>\n",
              "      <th>Sim</th>\n",
              "      <th>Nao</th>\n",
              "    </tr>\n",
              "  </thead>\n",
              "  <tbody>\n",
              "    <tr>\n",
              "      <th>0</th>\n",
              "      <td>50</td>\n",
              "      <td>131</td>\n",
              "    </tr>\n",
              "    <tr>\n",
              "      <th>1</th>\n",
              "      <td>21</td>\n",
              "      <td>2</td>\n",
              "    </tr>\n",
              "    <tr>\n",
              "      <th>2</th>\n",
              "      <td>12</td>\n",
              "      <td>5</td>\n",
              "    </tr>\n",
              "  </tbody>\n",
              "</table>\n",
              "</div>"
            ],
            "text/plain": [
              "   Sim  Nao\n",
              "0   50  131\n",
              "1   21    2\n",
              "2   12    5"
            ]
          },
          "metadata": {
            "tags": []
          },
          "execution_count": 92
        }
      ]
    },
    {
      "cell_type": "markdown",
      "metadata": {
        "id": "KA7-qkktxTh1"
      },
      "source": [
        "Neste exemplo, a entrada \"0, Não\" tem o valor 131. A entrada \"0, Sim\" tem o valor 50 e assim por diante.\n",
        "\n",
        "As entradas de DataFrame não são limitadas a inteiros. Por exemplo, aqui está um DataFrame cujos valores são strings:"
      ]
    },
    {
      "cell_type": "code",
      "metadata": {
        "id": "oLPW9V-QxTh1",
        "colab": {
          "base_uri": "https://localhost:8080/",
          "height": 111
        },
        "outputId": "3f709d79-90c2-42d0-8f5a-491b42a83549"
      },
      "source": [
        "pd.DataFrame({'Bruno': ['Eu gostei.', 'Foi terrível.'], 'Suzana': ['Maravilhoso.', 'Sem graça.']})"
      ],
      "execution_count": 93,
      "outputs": [
        {
          "output_type": "execute_result",
          "data": {
            "text/html": [
              "<div>\n",
              "<style scoped>\n",
              "    .dataframe tbody tr th:only-of-type {\n",
              "        vertical-align: middle;\n",
              "    }\n",
              "\n",
              "    .dataframe tbody tr th {\n",
              "        vertical-align: top;\n",
              "    }\n",
              "\n",
              "    .dataframe thead th {\n",
              "        text-align: right;\n",
              "    }\n",
              "</style>\n",
              "<table border=\"1\" class=\"dataframe\">\n",
              "  <thead>\n",
              "    <tr style=\"text-align: right;\">\n",
              "      <th></th>\n",
              "      <th>Bruno</th>\n",
              "      <th>Suzana</th>\n",
              "    </tr>\n",
              "  </thead>\n",
              "  <tbody>\n",
              "    <tr>\n",
              "      <th>0</th>\n",
              "      <td>Eu gostei.</td>\n",
              "      <td>Maravilhoso.</td>\n",
              "    </tr>\n",
              "    <tr>\n",
              "      <th>1</th>\n",
              "      <td>Foi terrível.</td>\n",
              "      <td>Sem graça.</td>\n",
              "    </tr>\n",
              "  </tbody>\n",
              "</table>\n",
              "</div>"
            ],
            "text/plain": [
              "           Bruno        Suzana\n",
              "0     Eu gostei.  Maravilhoso.\n",
              "1  Foi terrível.    Sem graça."
            ]
          },
          "metadata": {
            "tags": []
          },
          "execution_count": 93
        }
      ]
    },
    {
      "cell_type": "markdown",
      "metadata": {
        "id": "OGzQ9oGBxTh2"
      },
      "source": [
        "Estamos usando o construtor *pd.DataFrame( )* para gerar esses objetos *DataFrame*. \n",
        "\n",
        "A sintaxe para declarar um novo é um dicionário cujas chaves são os nomes das colunas (Buno e Suzana neste exemplo) e cujos valores são uma lista de entradas. Essa é a maneira padrão de construir um novo DataFrame."
      ]
    },
    {
      "cell_type": "markdown",
      "metadata": {
        "id": "gwJWvjE0xTh2"
      },
      "source": [
        "O construtor de lista de dicionário atribui valores aos rótulos de coluna, mas usa apenas uma contagem crescente de 0 (0, 1, 2, 3, ...) para os rótulos de linha. Às vezes, isso é normal, mas muitas vezes queremos atribuir esses rótulos nós mesmos.\n",
        "\n",
        "A lista de rótulos de linha usada em um *DataFrame* é conhecida como **índice**. Podemos atribuir valores a ele usando um parâmetro de índice em nosso construtor:"
      ]
    },
    {
      "cell_type": "code",
      "metadata": {
        "id": "LStA87B8xTh2",
        "colab": {
          "base_uri": "https://localhost:8080/",
          "height": 111
        },
        "outputId": "58cdb15f-8503-427a-90f9-8f03af3e7a27"
      },
      "source": [
        "pd.DataFrame({'Bruno': ['Eu gostei.', 'Foi terrível.'], 'Suzana': ['Maravilhoso.', 'Sem graça.']}, \n",
        "             index=['Produto A', 'Produto B'])"
      ],
      "execution_count": 94,
      "outputs": [
        {
          "output_type": "execute_result",
          "data": {
            "text/html": [
              "<div>\n",
              "<style scoped>\n",
              "    .dataframe tbody tr th:only-of-type {\n",
              "        vertical-align: middle;\n",
              "    }\n",
              "\n",
              "    .dataframe tbody tr th {\n",
              "        vertical-align: top;\n",
              "    }\n",
              "\n",
              "    .dataframe thead th {\n",
              "        text-align: right;\n",
              "    }\n",
              "</style>\n",
              "<table border=\"1\" class=\"dataframe\">\n",
              "  <thead>\n",
              "    <tr style=\"text-align: right;\">\n",
              "      <th></th>\n",
              "      <th>Bruno</th>\n",
              "      <th>Suzana</th>\n",
              "    </tr>\n",
              "  </thead>\n",
              "  <tbody>\n",
              "    <tr>\n",
              "      <th>Produto A</th>\n",
              "      <td>Eu gostei.</td>\n",
              "      <td>Maravilhoso.</td>\n",
              "    </tr>\n",
              "    <tr>\n",
              "      <th>Produto B</th>\n",
              "      <td>Foi terrível.</td>\n",
              "      <td>Sem graça.</td>\n",
              "    </tr>\n",
              "  </tbody>\n",
              "</table>\n",
              "</div>"
            ],
            "text/plain": [
              "                   Bruno        Suzana\n",
              "Produto A     Eu gostei.  Maravilhoso.\n",
              "Produto B  Foi terrível.    Sem graça."
            ]
          },
          "metadata": {
            "tags": []
          },
          "execution_count": 94
        }
      ]
    },
    {
      "cell_type": "markdown",
      "metadata": {
        "id": "PWd27uDgxTh2"
      },
      "source": [
        "Em contraste, uma série é uma sequência de valores de dados. Se um *DataFrame* for uma tabela, *Series* é uma lista. E, na verdade, você pode criar uma série com nada mais do que uma lista:"
      ]
    },
    {
      "cell_type": "code",
      "metadata": {
        "id": "iDcwFr7hxTh2",
        "colab": {
          "base_uri": "https://localhost:8080/"
        },
        "outputId": "0856efaf-d832-4d23-cec9-a1d80b5f7055"
      },
      "source": [
        "pd.Series([1, 2, 3, 4, 5])"
      ],
      "execution_count": 95,
      "outputs": [
        {
          "output_type": "execute_result",
          "data": {
            "text/plain": [
              "0    1\n",
              "1    2\n",
              "2    3\n",
              "3    4\n",
              "4    5\n",
              "dtype: int64"
            ]
          },
          "metadata": {
            "tags": []
          },
          "execution_count": 95
        }
      ]
    },
    {
      "cell_type": "code",
      "metadata": {
        "id": "yyIIryNWxTh2",
        "colab": {
          "base_uri": "https://localhost:8080/"
        },
        "outputId": "2cc9bee3-6cd4-435d-9355-7f4265759eaf"
      },
      "source": [
        "type(pd.Series([1, 2, 3, 4, 5]))"
      ],
      "execution_count": 96,
      "outputs": [
        {
          "output_type": "execute_result",
          "data": {
            "text/plain": [
              "pandas.core.series.Series"
            ]
          },
          "metadata": {
            "tags": []
          },
          "execution_count": 96
        }
      ]
    },
    {
      "cell_type": "markdown",
      "metadata": {
        "id": "Cs7uDgxOxTh3"
      },
      "source": [
        "Uma série é, em essência, uma única coluna de um *DataFrame*. \n",
        "\n",
        "Portanto, você pode atribuir valores de coluna à série da mesma maneira que antes, usando um parâmetro de índice. No entanto, uma série não tem um nome de coluna: "
      ]
    },
    {
      "cell_type": "code",
      "metadata": {
        "id": "5I5yN-RaxTh3"
      },
      "source": [
        "pd.Series([30, 35, 40], index=['2021 vendas', '2020 vendas', '2019 vendas'])"
      ],
      "execution_count": null,
      "outputs": []
    },
    {
      "cell_type": "markdown",
      "metadata": {
        "id": "f9MICRyIxTh3"
      },
      "source": [
        "A série e o DataFrame estão intimamente relacionados. É útil pensar em um DataFrame como sendo apenas um monte de Séries \"coladas\"."
      ]
    },
    {
      "cell_type": "markdown",
      "metadata": {
        "id": "M6RrpXDBxTh4"
      },
      "source": [
        "Vamos revisitar o *DataFrame* que criamos na aula passada..."
      ]
    },
    {
      "cell_type": "code",
      "metadata": {
        "id": "s8DVZf8bxTh5"
      },
      "source": [
        "dfsono = pd.DataFrame({'Nome':['Amanda Lemette','Julia Potratz','Cezar Augusto','Patrick G.','Renan','Daiana Sicuro',\n",
        "                     'Denis Nascimento','Igor Rocha','Graziela Machado','Filipe Faria','Daniel Werneck',\n",
        "                     'Hudson Diniz','Jorge Junior','Marcos Silva','Gustavo Araujo','Daniel Galdino'],              \n",
        "              'horas':[7,5.5,6,7,8,8,7,7,6.5,7,7.5,6,8,7,7.5,5]})"
      ],
      "execution_count": 97,
      "outputs": []
    },
    {
      "cell_type": "code",
      "metadata": {
        "id": "s8-u3O9BxTh5",
        "colab": {
          "base_uri": "https://localhost:8080/",
          "height": 545
        },
        "outputId": "7224f632-1f03-4172-d374-45a27fafc9f3"
      },
      "source": [
        "dfsono"
      ],
      "execution_count": 98,
      "outputs": [
        {
          "output_type": "execute_result",
          "data": {
            "text/html": [
              "<div>\n",
              "<style scoped>\n",
              "    .dataframe tbody tr th:only-of-type {\n",
              "        vertical-align: middle;\n",
              "    }\n",
              "\n",
              "    .dataframe tbody tr th {\n",
              "        vertical-align: top;\n",
              "    }\n",
              "\n",
              "    .dataframe thead th {\n",
              "        text-align: right;\n",
              "    }\n",
              "</style>\n",
              "<table border=\"1\" class=\"dataframe\">\n",
              "  <thead>\n",
              "    <tr style=\"text-align: right;\">\n",
              "      <th></th>\n",
              "      <th>Nome</th>\n",
              "      <th>horas</th>\n",
              "    </tr>\n",
              "  </thead>\n",
              "  <tbody>\n",
              "    <tr>\n",
              "      <th>0</th>\n",
              "      <td>Amanda Lemette</td>\n",
              "      <td>7.0</td>\n",
              "    </tr>\n",
              "    <tr>\n",
              "      <th>1</th>\n",
              "      <td>Julia Potratz</td>\n",
              "      <td>5.5</td>\n",
              "    </tr>\n",
              "    <tr>\n",
              "      <th>2</th>\n",
              "      <td>Cezar Augusto</td>\n",
              "      <td>6.0</td>\n",
              "    </tr>\n",
              "    <tr>\n",
              "      <th>3</th>\n",
              "      <td>Patrick G.</td>\n",
              "      <td>7.0</td>\n",
              "    </tr>\n",
              "    <tr>\n",
              "      <th>4</th>\n",
              "      <td>Renan</td>\n",
              "      <td>8.0</td>\n",
              "    </tr>\n",
              "    <tr>\n",
              "      <th>5</th>\n",
              "      <td>Daiana Sicuro</td>\n",
              "      <td>8.0</td>\n",
              "    </tr>\n",
              "    <tr>\n",
              "      <th>6</th>\n",
              "      <td>Denis Nascimento</td>\n",
              "      <td>7.0</td>\n",
              "    </tr>\n",
              "    <tr>\n",
              "      <th>7</th>\n",
              "      <td>Igor Rocha</td>\n",
              "      <td>7.0</td>\n",
              "    </tr>\n",
              "    <tr>\n",
              "      <th>8</th>\n",
              "      <td>Graziela Machado</td>\n",
              "      <td>6.5</td>\n",
              "    </tr>\n",
              "    <tr>\n",
              "      <th>9</th>\n",
              "      <td>Filipe Faria</td>\n",
              "      <td>7.0</td>\n",
              "    </tr>\n",
              "    <tr>\n",
              "      <th>10</th>\n",
              "      <td>Daniel Werneck</td>\n",
              "      <td>7.5</td>\n",
              "    </tr>\n",
              "    <tr>\n",
              "      <th>11</th>\n",
              "      <td>Hudson Diniz</td>\n",
              "      <td>6.0</td>\n",
              "    </tr>\n",
              "    <tr>\n",
              "      <th>12</th>\n",
              "      <td>Jorge Junior</td>\n",
              "      <td>8.0</td>\n",
              "    </tr>\n",
              "    <tr>\n",
              "      <th>13</th>\n",
              "      <td>Marcos Silva</td>\n",
              "      <td>7.0</td>\n",
              "    </tr>\n",
              "    <tr>\n",
              "      <th>14</th>\n",
              "      <td>Gustavo Araujo</td>\n",
              "      <td>7.5</td>\n",
              "    </tr>\n",
              "    <tr>\n",
              "      <th>15</th>\n",
              "      <td>Daniel Galdino</td>\n",
              "      <td>5.0</td>\n",
              "    </tr>\n",
              "  </tbody>\n",
              "</table>\n",
              "</div>"
            ],
            "text/plain": [
              "                Nome  horas\n",
              "0     Amanda Lemette    7.0\n",
              "1      Julia Potratz    5.5\n",
              "2      Cezar Augusto    6.0\n",
              "3         Patrick G.    7.0\n",
              "4              Renan    8.0\n",
              "5      Daiana Sicuro    8.0\n",
              "6   Denis Nascimento    7.0\n",
              "7         Igor Rocha    7.0\n",
              "8   Graziela Machado    6.5\n",
              "9       Filipe Faria    7.0\n",
              "10    Daniel Werneck    7.5\n",
              "11      Hudson Diniz    6.0\n",
              "12      Jorge Junior    8.0\n",
              "13      Marcos Silva    7.0\n",
              "14    Gustavo Araujo    7.5\n",
              "15    Daniel Galdino    5.0"
            ]
          },
          "metadata": {
            "tags": []
          },
          "execution_count": 98
        }
      ]
    },
    {
      "cell_type": "markdown",
      "metadata": {
        "id": "6xNnfbhnxTh6"
      },
      "source": [
        "## Visualização das primeiras 5 linhas do DataFrame"
      ]
    },
    {
      "cell_type": "code",
      "metadata": {
        "id": "jcLH1p4bxTh6",
        "colab": {
          "base_uri": "https://localhost:8080/",
          "height": 204
        },
        "outputId": "ad4cf3a7-dd61-49ae-b61d-f4ceb42ef369"
      },
      "source": [
        "dfsono.head()"
      ],
      "execution_count": 99,
      "outputs": [
        {
          "output_type": "execute_result",
          "data": {
            "text/html": [
              "<div>\n",
              "<style scoped>\n",
              "    .dataframe tbody tr th:only-of-type {\n",
              "        vertical-align: middle;\n",
              "    }\n",
              "\n",
              "    .dataframe tbody tr th {\n",
              "        vertical-align: top;\n",
              "    }\n",
              "\n",
              "    .dataframe thead th {\n",
              "        text-align: right;\n",
              "    }\n",
              "</style>\n",
              "<table border=\"1\" class=\"dataframe\">\n",
              "  <thead>\n",
              "    <tr style=\"text-align: right;\">\n",
              "      <th></th>\n",
              "      <th>Nome</th>\n",
              "      <th>horas</th>\n",
              "    </tr>\n",
              "  </thead>\n",
              "  <tbody>\n",
              "    <tr>\n",
              "      <th>0</th>\n",
              "      <td>Amanda Lemette</td>\n",
              "      <td>7.0</td>\n",
              "    </tr>\n",
              "    <tr>\n",
              "      <th>1</th>\n",
              "      <td>Julia Potratz</td>\n",
              "      <td>5.5</td>\n",
              "    </tr>\n",
              "    <tr>\n",
              "      <th>2</th>\n",
              "      <td>Cezar Augusto</td>\n",
              "      <td>6.0</td>\n",
              "    </tr>\n",
              "    <tr>\n",
              "      <th>3</th>\n",
              "      <td>Patrick G.</td>\n",
              "      <td>7.0</td>\n",
              "    </tr>\n",
              "    <tr>\n",
              "      <th>4</th>\n",
              "      <td>Renan</td>\n",
              "      <td>8.0</td>\n",
              "    </tr>\n",
              "  </tbody>\n",
              "</table>\n",
              "</div>"
            ],
            "text/plain": [
              "             Nome  horas\n",
              "0  Amanda Lemette    7.0\n",
              "1   Julia Potratz    5.5\n",
              "2   Cezar Augusto    6.0\n",
              "3      Patrick G.    7.0\n",
              "4           Renan    8.0"
            ]
          },
          "metadata": {
            "tags": []
          },
          "execution_count": 99
        }
      ]
    },
    {
      "cell_type": "markdown",
      "metadata": {
        "id": "phqIPYEvxTh7"
      },
      "source": [
        "- E se quisermos visualizar somente 3 linhas, como fazer?"
      ]
    },
    {
      "cell_type": "code",
      "metadata": {
        "id": "Ed5ghwoxxTh7",
        "colab": {
          "base_uri": "https://localhost:8080/",
          "height": 297
        },
        "outputId": "d9b804db-2a0c-4615-ee0d-99e96c53bc91"
      },
      "source": [
        "dfsono.head(8)"
      ],
      "execution_count": 101,
      "outputs": [
        {
          "output_type": "execute_result",
          "data": {
            "text/html": [
              "<div>\n",
              "<style scoped>\n",
              "    .dataframe tbody tr th:only-of-type {\n",
              "        vertical-align: middle;\n",
              "    }\n",
              "\n",
              "    .dataframe tbody tr th {\n",
              "        vertical-align: top;\n",
              "    }\n",
              "\n",
              "    .dataframe thead th {\n",
              "        text-align: right;\n",
              "    }\n",
              "</style>\n",
              "<table border=\"1\" class=\"dataframe\">\n",
              "  <thead>\n",
              "    <tr style=\"text-align: right;\">\n",
              "      <th></th>\n",
              "      <th>Nome</th>\n",
              "      <th>horas</th>\n",
              "    </tr>\n",
              "  </thead>\n",
              "  <tbody>\n",
              "    <tr>\n",
              "      <th>0</th>\n",
              "      <td>Amanda Lemette</td>\n",
              "      <td>7.0</td>\n",
              "    </tr>\n",
              "    <tr>\n",
              "      <th>1</th>\n",
              "      <td>Julia Potratz</td>\n",
              "      <td>5.5</td>\n",
              "    </tr>\n",
              "    <tr>\n",
              "      <th>2</th>\n",
              "      <td>Cezar Augusto</td>\n",
              "      <td>6.0</td>\n",
              "    </tr>\n",
              "    <tr>\n",
              "      <th>3</th>\n",
              "      <td>Patrick G.</td>\n",
              "      <td>7.0</td>\n",
              "    </tr>\n",
              "    <tr>\n",
              "      <th>4</th>\n",
              "      <td>Renan</td>\n",
              "      <td>8.0</td>\n",
              "    </tr>\n",
              "    <tr>\n",
              "      <th>5</th>\n",
              "      <td>Daiana Sicuro</td>\n",
              "      <td>8.0</td>\n",
              "    </tr>\n",
              "    <tr>\n",
              "      <th>6</th>\n",
              "      <td>Denis Nascimento</td>\n",
              "      <td>7.0</td>\n",
              "    </tr>\n",
              "    <tr>\n",
              "      <th>7</th>\n",
              "      <td>Igor Rocha</td>\n",
              "      <td>7.0</td>\n",
              "    </tr>\n",
              "  </tbody>\n",
              "</table>\n",
              "</div>"
            ],
            "text/plain": [
              "               Nome  horas\n",
              "0    Amanda Lemette    7.0\n",
              "1     Julia Potratz    5.5\n",
              "2     Cezar Augusto    6.0\n",
              "3        Patrick G.    7.0\n",
              "4             Renan    8.0\n",
              "5     Daiana Sicuro    8.0\n",
              "6  Denis Nascimento    7.0\n",
              "7        Igor Rocha    7.0"
            ]
          },
          "metadata": {
            "tags": []
          },
          "execution_count": 101
        }
      ]
    },
    {
      "cell_type": "markdown",
      "metadata": {
        "id": "1Lu-0i8MxTh8"
      },
      "source": [
        "## Visualização das últimas 5 linhas do DataFrame"
      ]
    },
    {
      "cell_type": "code",
      "metadata": {
        "id": "ZVW_Y-ajxTh8",
        "colab": {
          "base_uri": "https://localhost:8080/",
          "height": 204
        },
        "outputId": "bc1cfb4f-3c35-4c5e-93f2-396151986c53"
      },
      "source": [
        "dfsono.tail()"
      ],
      "execution_count": 102,
      "outputs": [
        {
          "output_type": "execute_result",
          "data": {
            "text/html": [
              "<div>\n",
              "<style scoped>\n",
              "    .dataframe tbody tr th:only-of-type {\n",
              "        vertical-align: middle;\n",
              "    }\n",
              "\n",
              "    .dataframe tbody tr th {\n",
              "        vertical-align: top;\n",
              "    }\n",
              "\n",
              "    .dataframe thead th {\n",
              "        text-align: right;\n",
              "    }\n",
              "</style>\n",
              "<table border=\"1\" class=\"dataframe\">\n",
              "  <thead>\n",
              "    <tr style=\"text-align: right;\">\n",
              "      <th></th>\n",
              "      <th>Nome</th>\n",
              "      <th>horas</th>\n",
              "    </tr>\n",
              "  </thead>\n",
              "  <tbody>\n",
              "    <tr>\n",
              "      <th>11</th>\n",
              "      <td>Hudson Diniz</td>\n",
              "      <td>6.0</td>\n",
              "    </tr>\n",
              "    <tr>\n",
              "      <th>12</th>\n",
              "      <td>Jorge Junior</td>\n",
              "      <td>8.0</td>\n",
              "    </tr>\n",
              "    <tr>\n",
              "      <th>13</th>\n",
              "      <td>Marcos Silva</td>\n",
              "      <td>7.0</td>\n",
              "    </tr>\n",
              "    <tr>\n",
              "      <th>14</th>\n",
              "      <td>Gustavo Araujo</td>\n",
              "      <td>7.5</td>\n",
              "    </tr>\n",
              "    <tr>\n",
              "      <th>15</th>\n",
              "      <td>Daniel Galdino</td>\n",
              "      <td>5.0</td>\n",
              "    </tr>\n",
              "  </tbody>\n",
              "</table>\n",
              "</div>"
            ],
            "text/plain": [
              "              Nome  horas\n",
              "11    Hudson Diniz    6.0\n",
              "12    Jorge Junior    8.0\n",
              "13    Marcos Silva    7.0\n",
              "14  Gustavo Araujo    7.5\n",
              "15  Daniel Galdino    5.0"
            ]
          },
          "metadata": {
            "tags": []
          },
          "execution_count": 102
        }
      ]
    },
    {
      "cell_type": "markdown",
      "metadata": {
        "id": "7MdMDS74xTh8"
      },
      "source": [
        "## Adição de novas entradas no DataFrame"
      ]
    },
    {
      "cell_type": "markdown",
      "metadata": {
        "id": "-aHXpQw7xTh8"
      },
      "source": [
        "### Adição de registro único: append"
      ]
    },
    {
      "cell_type": "code",
      "metadata": {
        "id": "9dDuSNZZxTh9",
        "colab": {
          "base_uri": "https://localhost:8080/",
          "height": 576
        },
        "outputId": "c23498f3-2c16-4ce8-9cad-a4fc9b53b333"
      },
      "source": [
        "dfsono.append({'Nome':'Ana Maria','horas':5},ignore_index = True)"
      ],
      "execution_count": 109,
      "outputs": [
        {
          "output_type": "execute_result",
          "data": {
            "text/html": [
              "<div>\n",
              "<style scoped>\n",
              "    .dataframe tbody tr th:only-of-type {\n",
              "        vertical-align: middle;\n",
              "    }\n",
              "\n",
              "    .dataframe tbody tr th {\n",
              "        vertical-align: top;\n",
              "    }\n",
              "\n",
              "    .dataframe thead th {\n",
              "        text-align: right;\n",
              "    }\n",
              "</style>\n",
              "<table border=\"1\" class=\"dataframe\">\n",
              "  <thead>\n",
              "    <tr style=\"text-align: right;\">\n",
              "      <th></th>\n",
              "      <th>Nome</th>\n",
              "      <th>horas</th>\n",
              "    </tr>\n",
              "  </thead>\n",
              "  <tbody>\n",
              "    <tr>\n",
              "      <th>0</th>\n",
              "      <td>Amanda Lemette</td>\n",
              "      <td>7.0</td>\n",
              "    </tr>\n",
              "    <tr>\n",
              "      <th>1</th>\n",
              "      <td>Julia Potratz</td>\n",
              "      <td>5.5</td>\n",
              "    </tr>\n",
              "    <tr>\n",
              "      <th>2</th>\n",
              "      <td>Cezar Augusto</td>\n",
              "      <td>6.0</td>\n",
              "    </tr>\n",
              "    <tr>\n",
              "      <th>3</th>\n",
              "      <td>Patrick G.</td>\n",
              "      <td>7.0</td>\n",
              "    </tr>\n",
              "    <tr>\n",
              "      <th>4</th>\n",
              "      <td>Renan</td>\n",
              "      <td>8.0</td>\n",
              "    </tr>\n",
              "    <tr>\n",
              "      <th>5</th>\n",
              "      <td>Daiana Sicuro</td>\n",
              "      <td>8.0</td>\n",
              "    </tr>\n",
              "    <tr>\n",
              "      <th>6</th>\n",
              "      <td>Denis Nascimento</td>\n",
              "      <td>7.0</td>\n",
              "    </tr>\n",
              "    <tr>\n",
              "      <th>7</th>\n",
              "      <td>Igor Rocha</td>\n",
              "      <td>7.0</td>\n",
              "    </tr>\n",
              "    <tr>\n",
              "      <th>8</th>\n",
              "      <td>Graziela Machado</td>\n",
              "      <td>6.5</td>\n",
              "    </tr>\n",
              "    <tr>\n",
              "      <th>9</th>\n",
              "      <td>Filipe Faria</td>\n",
              "      <td>7.0</td>\n",
              "    </tr>\n",
              "    <tr>\n",
              "      <th>10</th>\n",
              "      <td>Daniel Werneck</td>\n",
              "      <td>7.5</td>\n",
              "    </tr>\n",
              "    <tr>\n",
              "      <th>11</th>\n",
              "      <td>Hudson Diniz</td>\n",
              "      <td>6.0</td>\n",
              "    </tr>\n",
              "    <tr>\n",
              "      <th>12</th>\n",
              "      <td>Jorge Junior</td>\n",
              "      <td>8.0</td>\n",
              "    </tr>\n",
              "    <tr>\n",
              "      <th>13</th>\n",
              "      <td>Marcos Silva</td>\n",
              "      <td>7.0</td>\n",
              "    </tr>\n",
              "    <tr>\n",
              "      <th>14</th>\n",
              "      <td>Gustavo Araujo</td>\n",
              "      <td>7.5</td>\n",
              "    </tr>\n",
              "    <tr>\n",
              "      <th>15</th>\n",
              "      <td>Daniel Galdino</td>\n",
              "      <td>5.0</td>\n",
              "    </tr>\n",
              "    <tr>\n",
              "      <th>16</th>\n",
              "      <td>Ana Maria</td>\n",
              "      <td>5.0</td>\n",
              "    </tr>\n",
              "  </tbody>\n",
              "</table>\n",
              "</div>"
            ],
            "text/plain": [
              "                Nome  horas\n",
              "0     Amanda Lemette    7.0\n",
              "1      Julia Potratz    5.5\n",
              "2      Cezar Augusto    6.0\n",
              "3         Patrick G.    7.0\n",
              "4              Renan    8.0\n",
              "5      Daiana Sicuro    8.0\n",
              "6   Denis Nascimento    7.0\n",
              "7         Igor Rocha    7.0\n",
              "8   Graziela Machado    6.5\n",
              "9       Filipe Faria    7.0\n",
              "10    Daniel Werneck    7.5\n",
              "11      Hudson Diniz    6.0\n",
              "12      Jorge Junior    8.0\n",
              "13      Marcos Silva    7.0\n",
              "14    Gustavo Araujo    7.5\n",
              "15    Daniel Galdino    5.0\n",
              "16         Ana Maria    5.0"
            ]
          },
          "metadata": {
            "tags": []
          },
          "execution_count": 109
        }
      ]
    },
    {
      "cell_type": "markdown",
      "metadata": {
        "id": "sPM7iXGixTh-"
      },
      "source": [
        "Repare que foi preciso escrever o comando *ignore_index = True*. Se ele for removido, ao rodar a célula, dá erro. O *ignore_index = True* irá permitir com que o novo registro receba como índice o número seguinte ao último índice do DataFrame dfsono. \n",
        "\n",
        "Se o *ignore_index = True* não for usado, ele resulta em erro, pois o registro que estamos adicionando nesse caso não tem índice nenhum associado a ele, o que faz com que o Python fique perdido aqui. \n",
        "\n",
        "Contudo, se formos fazer a adição de um outro DataFrame, o *ignore_index = True* já não se faz mais obrigatório, vamos testar. "
      ]
    },
    {
      "cell_type": "markdown",
      "metadata": {
        "id": "6SIRFRlpxTh_"
      },
      "source": [
        "### Adição de registros de modo simultâneo: "
      ]
    },
    {
      "cell_type": "code",
      "metadata": {
        "id": "on1by6JexTh_"
      },
      "source": [
        "dic = {'Nome':['Pedro Humberto','Leonardo Dantas'], 'horas':[4.5,7.5]}"
      ],
      "execution_count": 110,
      "outputs": []
    },
    {
      "cell_type": "code",
      "metadata": {
        "id": "9-JG8E1XxTh_",
        "colab": {
          "base_uri": "https://localhost:8080/"
        },
        "outputId": "eea626b6-b886-4095-d8ca-bf94b3e3894a"
      },
      "source": [
        "dic "
      ],
      "execution_count": 111,
      "outputs": [
        {
          "output_type": "execute_result",
          "data": {
            "text/plain": [
              "{'Nome': ['Pedro Humberto', 'Leonardo Dantas'], 'horas': [4.5, 7.5]}"
            ]
          },
          "metadata": {
            "tags": []
          },
          "execution_count": 111
        }
      ]
    },
    {
      "cell_type": "markdown",
      "metadata": {
        "id": "46XoiwUXxTh_"
      },
      "source": [
        "Criado o dicionário com nome *dic*, agora, precisamos converter esse dicionário em um novo *DataFrame*:"
      ]
    },
    {
      "cell_type": "code",
      "metadata": {
        "id": "SG-42C27xTh_",
        "colab": {
          "base_uri": "https://localhost:8080/",
          "height": 111
        },
        "outputId": "9c8b360d-c526-4893-a694-d33b1cc2bb61"
      },
      "source": [
        "df_dic = pd.DataFrame(dic)\n",
        "df_dic"
      ],
      "execution_count": 112,
      "outputs": [
        {
          "output_type": "execute_result",
          "data": {
            "text/html": [
              "<div>\n",
              "<style scoped>\n",
              "    .dataframe tbody tr th:only-of-type {\n",
              "        vertical-align: middle;\n",
              "    }\n",
              "\n",
              "    .dataframe tbody tr th {\n",
              "        vertical-align: top;\n",
              "    }\n",
              "\n",
              "    .dataframe thead th {\n",
              "        text-align: right;\n",
              "    }\n",
              "</style>\n",
              "<table border=\"1\" class=\"dataframe\">\n",
              "  <thead>\n",
              "    <tr style=\"text-align: right;\">\n",
              "      <th></th>\n",
              "      <th>Nome</th>\n",
              "      <th>horas</th>\n",
              "    </tr>\n",
              "  </thead>\n",
              "  <tbody>\n",
              "    <tr>\n",
              "      <th>0</th>\n",
              "      <td>Pedro Humberto</td>\n",
              "      <td>4.5</td>\n",
              "    </tr>\n",
              "    <tr>\n",
              "      <th>1</th>\n",
              "      <td>Leonardo Dantas</td>\n",
              "      <td>7.5</td>\n",
              "    </tr>\n",
              "  </tbody>\n",
              "</table>\n",
              "</div>"
            ],
            "text/plain": [
              "              Nome  horas\n",
              "0   Pedro Humberto    4.5\n",
              "1  Leonardo Dantas    7.5"
            ]
          },
          "metadata": {
            "tags": []
          },
          "execution_count": 112
        }
      ]
    },
    {
      "cell_type": "markdown",
      "metadata": {
        "id": "1bTae4cKxTh_"
      },
      "source": [
        "Agora, podemos adicionar o *DataFrame* *df_dic* em *dfsono*:"
      ]
    },
    {
      "cell_type": "code",
      "metadata": {
        "id": "SaTMAuwOxTiA",
        "colab": {
          "base_uri": "https://localhost:8080/",
          "height": 607
        },
        "outputId": "070d9f03-9ec8-4ac9-df91-2122894d349a"
      },
      "source": [
        "dfsono.append(df_dic)"
      ],
      "execution_count": 113,
      "outputs": [
        {
          "output_type": "execute_result",
          "data": {
            "text/html": [
              "<div>\n",
              "<style scoped>\n",
              "    .dataframe tbody tr th:only-of-type {\n",
              "        vertical-align: middle;\n",
              "    }\n",
              "\n",
              "    .dataframe tbody tr th {\n",
              "        vertical-align: top;\n",
              "    }\n",
              "\n",
              "    .dataframe thead th {\n",
              "        text-align: right;\n",
              "    }\n",
              "</style>\n",
              "<table border=\"1\" class=\"dataframe\">\n",
              "  <thead>\n",
              "    <tr style=\"text-align: right;\">\n",
              "      <th></th>\n",
              "      <th>Nome</th>\n",
              "      <th>horas</th>\n",
              "    </tr>\n",
              "  </thead>\n",
              "  <tbody>\n",
              "    <tr>\n",
              "      <th>0</th>\n",
              "      <td>Amanda Lemette</td>\n",
              "      <td>7.0</td>\n",
              "    </tr>\n",
              "    <tr>\n",
              "      <th>1</th>\n",
              "      <td>Julia Potratz</td>\n",
              "      <td>5.5</td>\n",
              "    </tr>\n",
              "    <tr>\n",
              "      <th>2</th>\n",
              "      <td>Cezar Augusto</td>\n",
              "      <td>6.0</td>\n",
              "    </tr>\n",
              "    <tr>\n",
              "      <th>3</th>\n",
              "      <td>Patrick G.</td>\n",
              "      <td>7.0</td>\n",
              "    </tr>\n",
              "    <tr>\n",
              "      <th>4</th>\n",
              "      <td>Renan</td>\n",
              "      <td>8.0</td>\n",
              "    </tr>\n",
              "    <tr>\n",
              "      <th>5</th>\n",
              "      <td>Daiana Sicuro</td>\n",
              "      <td>8.0</td>\n",
              "    </tr>\n",
              "    <tr>\n",
              "      <th>6</th>\n",
              "      <td>Denis Nascimento</td>\n",
              "      <td>7.0</td>\n",
              "    </tr>\n",
              "    <tr>\n",
              "      <th>7</th>\n",
              "      <td>Igor Rocha</td>\n",
              "      <td>7.0</td>\n",
              "    </tr>\n",
              "    <tr>\n",
              "      <th>8</th>\n",
              "      <td>Graziela Machado</td>\n",
              "      <td>6.5</td>\n",
              "    </tr>\n",
              "    <tr>\n",
              "      <th>9</th>\n",
              "      <td>Filipe Faria</td>\n",
              "      <td>7.0</td>\n",
              "    </tr>\n",
              "    <tr>\n",
              "      <th>10</th>\n",
              "      <td>Daniel Werneck</td>\n",
              "      <td>7.5</td>\n",
              "    </tr>\n",
              "    <tr>\n",
              "      <th>11</th>\n",
              "      <td>Hudson Diniz</td>\n",
              "      <td>6.0</td>\n",
              "    </tr>\n",
              "    <tr>\n",
              "      <th>12</th>\n",
              "      <td>Jorge Junior</td>\n",
              "      <td>8.0</td>\n",
              "    </tr>\n",
              "    <tr>\n",
              "      <th>13</th>\n",
              "      <td>Marcos Silva</td>\n",
              "      <td>7.0</td>\n",
              "    </tr>\n",
              "    <tr>\n",
              "      <th>14</th>\n",
              "      <td>Gustavo Araujo</td>\n",
              "      <td>7.5</td>\n",
              "    </tr>\n",
              "    <tr>\n",
              "      <th>15</th>\n",
              "      <td>Daniel Galdino</td>\n",
              "      <td>5.0</td>\n",
              "    </tr>\n",
              "    <tr>\n",
              "      <th>0</th>\n",
              "      <td>Pedro Humberto</td>\n",
              "      <td>4.5</td>\n",
              "    </tr>\n",
              "    <tr>\n",
              "      <th>1</th>\n",
              "      <td>Leonardo Dantas</td>\n",
              "      <td>7.5</td>\n",
              "    </tr>\n",
              "  </tbody>\n",
              "</table>\n",
              "</div>"
            ],
            "text/plain": [
              "                Nome  horas\n",
              "0     Amanda Lemette    7.0\n",
              "1      Julia Potratz    5.5\n",
              "2      Cezar Augusto    6.0\n",
              "3         Patrick G.    7.0\n",
              "4              Renan    8.0\n",
              "5      Daiana Sicuro    8.0\n",
              "6   Denis Nascimento    7.0\n",
              "7         Igor Rocha    7.0\n",
              "8   Graziela Machado    6.5\n",
              "9       Filipe Faria    7.0\n",
              "10    Daniel Werneck    7.5\n",
              "11      Hudson Diniz    6.0\n",
              "12      Jorge Junior    8.0\n",
              "13      Marcos Silva    7.0\n",
              "14    Gustavo Araujo    7.5\n",
              "15    Daniel Galdino    5.0\n",
              "0     Pedro Humberto    4.5\n",
              "1    Leonardo Dantas    7.5"
            ]
          },
          "metadata": {
            "tags": []
          },
          "execution_count": 113
        }
      ]
    },
    {
      "cell_type": "markdown",
      "metadata": {
        "id": "VucXWvIVxTiA"
      },
      "source": [
        "Como o *ignore_index = True* não foi usado, os novos registros adicionados reinicializaram a numeração dos índices de *dfsono*."
      ]
    },
    {
      "cell_type": "markdown",
      "metadata": {
        "id": "NEZIAPE7xTiA"
      },
      "source": [
        "### Reinicialização dos índices de um DataFrame"
      ]
    },
    {
      "cell_type": "markdown",
      "metadata": {
        "id": "pUiZglqvxTiA"
      },
      "source": [
        "Para reincializar os índices do DataFrame, fazemos uso de: .reset_index(drop = True). \n",
        "\n",
        "O *drop=True* não é obrigatório, porém ao não incluí-lo, os índices antigos passarão a compor a primeira coluna do *DataFrame* atualizado. "
      ]
    },
    {
      "cell_type": "code",
      "metadata": {
        "id": "4UxC3--CxTiA",
        "colab": {
          "base_uri": "https://localhost:8080/",
          "height": 545
        },
        "outputId": "94ecbedd-5ebd-4950-b5a4-acdecb7c34ae"
      },
      "source": [
        "dfsono.reset_index()"
      ],
      "execution_count": 114,
      "outputs": [
        {
          "output_type": "execute_result",
          "data": {
            "text/html": [
              "<div>\n",
              "<style scoped>\n",
              "    .dataframe tbody tr th:only-of-type {\n",
              "        vertical-align: middle;\n",
              "    }\n",
              "\n",
              "    .dataframe tbody tr th {\n",
              "        vertical-align: top;\n",
              "    }\n",
              "\n",
              "    .dataframe thead th {\n",
              "        text-align: right;\n",
              "    }\n",
              "</style>\n",
              "<table border=\"1\" class=\"dataframe\">\n",
              "  <thead>\n",
              "    <tr style=\"text-align: right;\">\n",
              "      <th></th>\n",
              "      <th>index</th>\n",
              "      <th>Nome</th>\n",
              "      <th>horas</th>\n",
              "    </tr>\n",
              "  </thead>\n",
              "  <tbody>\n",
              "    <tr>\n",
              "      <th>0</th>\n",
              "      <td>0</td>\n",
              "      <td>Amanda Lemette</td>\n",
              "      <td>7.0</td>\n",
              "    </tr>\n",
              "    <tr>\n",
              "      <th>1</th>\n",
              "      <td>1</td>\n",
              "      <td>Julia Potratz</td>\n",
              "      <td>5.5</td>\n",
              "    </tr>\n",
              "    <tr>\n",
              "      <th>2</th>\n",
              "      <td>2</td>\n",
              "      <td>Cezar Augusto</td>\n",
              "      <td>6.0</td>\n",
              "    </tr>\n",
              "    <tr>\n",
              "      <th>3</th>\n",
              "      <td>3</td>\n",
              "      <td>Patrick G.</td>\n",
              "      <td>7.0</td>\n",
              "    </tr>\n",
              "    <tr>\n",
              "      <th>4</th>\n",
              "      <td>4</td>\n",
              "      <td>Renan</td>\n",
              "      <td>8.0</td>\n",
              "    </tr>\n",
              "    <tr>\n",
              "      <th>5</th>\n",
              "      <td>5</td>\n",
              "      <td>Daiana Sicuro</td>\n",
              "      <td>8.0</td>\n",
              "    </tr>\n",
              "    <tr>\n",
              "      <th>6</th>\n",
              "      <td>6</td>\n",
              "      <td>Denis Nascimento</td>\n",
              "      <td>7.0</td>\n",
              "    </tr>\n",
              "    <tr>\n",
              "      <th>7</th>\n",
              "      <td>7</td>\n",
              "      <td>Igor Rocha</td>\n",
              "      <td>7.0</td>\n",
              "    </tr>\n",
              "    <tr>\n",
              "      <th>8</th>\n",
              "      <td>8</td>\n",
              "      <td>Graziela Machado</td>\n",
              "      <td>6.5</td>\n",
              "    </tr>\n",
              "    <tr>\n",
              "      <th>9</th>\n",
              "      <td>9</td>\n",
              "      <td>Filipe Faria</td>\n",
              "      <td>7.0</td>\n",
              "    </tr>\n",
              "    <tr>\n",
              "      <th>10</th>\n",
              "      <td>10</td>\n",
              "      <td>Daniel Werneck</td>\n",
              "      <td>7.5</td>\n",
              "    </tr>\n",
              "    <tr>\n",
              "      <th>11</th>\n",
              "      <td>11</td>\n",
              "      <td>Hudson Diniz</td>\n",
              "      <td>6.0</td>\n",
              "    </tr>\n",
              "    <tr>\n",
              "      <th>12</th>\n",
              "      <td>12</td>\n",
              "      <td>Jorge Junior</td>\n",
              "      <td>8.0</td>\n",
              "    </tr>\n",
              "    <tr>\n",
              "      <th>13</th>\n",
              "      <td>13</td>\n",
              "      <td>Marcos Silva</td>\n",
              "      <td>7.0</td>\n",
              "    </tr>\n",
              "    <tr>\n",
              "      <th>14</th>\n",
              "      <td>14</td>\n",
              "      <td>Gustavo Araujo</td>\n",
              "      <td>7.5</td>\n",
              "    </tr>\n",
              "    <tr>\n",
              "      <th>15</th>\n",
              "      <td>15</td>\n",
              "      <td>Daniel Galdino</td>\n",
              "      <td>5.0</td>\n",
              "    </tr>\n",
              "  </tbody>\n",
              "</table>\n",
              "</div>"
            ],
            "text/plain": [
              "    index              Nome  horas\n",
              "0       0    Amanda Lemette    7.0\n",
              "1       1     Julia Potratz    5.5\n",
              "2       2     Cezar Augusto    6.0\n",
              "3       3        Patrick G.    7.0\n",
              "4       4             Renan    8.0\n",
              "5       5     Daiana Sicuro    8.0\n",
              "6       6  Denis Nascimento    7.0\n",
              "7       7        Igor Rocha    7.0\n",
              "8       8  Graziela Machado    6.5\n",
              "9       9      Filipe Faria    7.0\n",
              "10     10    Daniel Werneck    7.5\n",
              "11     11      Hudson Diniz    6.0\n",
              "12     12      Jorge Junior    8.0\n",
              "13     13      Marcos Silva    7.0\n",
              "14     14    Gustavo Araujo    7.5\n",
              "15     15    Daniel Galdino    5.0"
            ]
          },
          "metadata": {
            "tags": []
          },
          "execution_count": 114
        }
      ]
    },
    {
      "cell_type": "code",
      "metadata": {
        "id": "1HteBaOOxTiA"
      },
      "source": [
        ""
      ],
      "execution_count": 107,
      "outputs": []
    },
    {
      "cell_type": "markdown",
      "metadata": {
        "id": "FDyFSGQZxTiA"
      },
      "source": [
        "### Uso do LOC & ILOC"
      ]
    },
    {
      "cell_type": "markdown",
      "metadata": {
        "id": "sCkk6wCFxTiB"
      },
      "source": [
        "Os comandos *loc* e *iloc* se diferenciam quando os índices do DataFrame são diferentes das posições. Por exemplo:"
      ]
    },
    {
      "cell_type": "code",
      "metadata": {
        "id": "IEllmW5oxTiB"
      },
      "source": [
        "df = pd.DataFrame({'a':[23,24,25],'b':[54,53,52],'c':[65,64,67]})"
      ],
      "execution_count": 115,
      "outputs": []
    },
    {
      "cell_type": "code",
      "metadata": {
        "id": "g0G9oTGPxTiB",
        "colab": {
          "base_uri": "https://localhost:8080/",
          "height": 142
        },
        "outputId": "9df0aece-4fe7-402c-9b7f-92196fdc9f87"
      },
      "source": [
        "df"
      ],
      "execution_count": 116,
      "outputs": [
        {
          "output_type": "execute_result",
          "data": {
            "text/html": [
              "<div>\n",
              "<style scoped>\n",
              "    .dataframe tbody tr th:only-of-type {\n",
              "        vertical-align: middle;\n",
              "    }\n",
              "\n",
              "    .dataframe tbody tr th {\n",
              "        vertical-align: top;\n",
              "    }\n",
              "\n",
              "    .dataframe thead th {\n",
              "        text-align: right;\n",
              "    }\n",
              "</style>\n",
              "<table border=\"1\" class=\"dataframe\">\n",
              "  <thead>\n",
              "    <tr style=\"text-align: right;\">\n",
              "      <th></th>\n",
              "      <th>a</th>\n",
              "      <th>b</th>\n",
              "      <th>c</th>\n",
              "    </tr>\n",
              "  </thead>\n",
              "  <tbody>\n",
              "    <tr>\n",
              "      <th>0</th>\n",
              "      <td>23</td>\n",
              "      <td>54</td>\n",
              "      <td>65</td>\n",
              "    </tr>\n",
              "    <tr>\n",
              "      <th>1</th>\n",
              "      <td>24</td>\n",
              "      <td>53</td>\n",
              "      <td>64</td>\n",
              "    </tr>\n",
              "    <tr>\n",
              "      <th>2</th>\n",
              "      <td>25</td>\n",
              "      <td>52</td>\n",
              "      <td>67</td>\n",
              "    </tr>\n",
              "  </tbody>\n",
              "</table>\n",
              "</div>"
            ],
            "text/plain": [
              "    a   b   c\n",
              "0  23  54  65\n",
              "1  24  53  64\n",
              "2  25  52  67"
            ]
          },
          "metadata": {
            "tags": []
          },
          "execution_count": 116
        }
      ]
    },
    {
      "cell_type": "markdown",
      "metadata": {
        "id": "7zcHIeKFxTiB"
      },
      "source": [
        "Nesse caso, se quisermos imprimir o número 64 da coluna c, fazemos:"
      ]
    },
    {
      "cell_type": "code",
      "metadata": {
        "id": "MQ-sdIM-xTiB",
        "colab": {
          "base_uri": "https://localhost:8080/"
        },
        "outputId": "1bf18633-a036-4657-e362-9ec37bddac54"
      },
      "source": [
        "df['c'].loc[1]"
      ],
      "execution_count": 117,
      "outputs": [
        {
          "output_type": "execute_result",
          "data": {
            "text/plain": [
              "64"
            ]
          },
          "metadata": {
            "tags": []
          },
          "execution_count": 117
        }
      ]
    },
    {
      "cell_type": "code",
      "metadata": {
        "id": "zUE56GxOxTiC",
        "colab": {
          "base_uri": "https://localhost:8080/"
        },
        "outputId": "bdfefd39-41b2-4e37-9890-28ea8afc7fd8"
      },
      "source": [
        "df['c'].iloc[1]"
      ],
      "execution_count": 118,
      "outputs": [
        {
          "output_type": "execute_result",
          "data": {
            "text/plain": [
              "64"
            ]
          },
          "metadata": {
            "tags": []
          },
          "execution_count": 118
        }
      ]
    },
    {
      "cell_type": "code",
      "metadata": {
        "id": "_z1ce3aKxTiC",
        "colab": {
          "base_uri": "https://localhost:8080/"
        },
        "outputId": "32a868ee-e790-4e18-e983-d19c87e56e5d"
      },
      "source": [
        "df['c'][1] "
      ],
      "execution_count": 119,
      "outputs": [
        {
          "output_type": "execute_result",
          "data": {
            "text/plain": [
              "64"
            ]
          },
          "metadata": {
            "tags": []
          },
          "execution_count": 119
        }
      ]
    },
    {
      "cell_type": "code",
      "metadata": {
        "id": "mAqqElIYxTiC",
        "colab": {
          "base_uri": "https://localhost:8080/"
        },
        "outputId": "fbb3f0bd-63aa-416f-ac9f-7fed2b6e11bc"
      },
      "source": [
        "df.iloc[1][2] # [1] = linha e [2] = posição da coluna "
      ],
      "execution_count": 120,
      "outputs": [
        {
          "output_type": "execute_result",
          "data": {
            "text/plain": [
              "64"
            ]
          },
          "metadata": {
            "tags": []
          },
          "execution_count": 120
        }
      ]
    },
    {
      "cell_type": "code",
      "metadata": {
        "id": "SDdKuFjaxTiC",
        "scrolled": true,
        "colab": {
          "base_uri": "https://localhost:8080/"
        },
        "outputId": "b073f1a9-c181-450a-dc9f-e302ee96c8d9"
      },
      "source": [
        "df.loc[1][2] # [1] = linha e [2] = posição da coluna "
      ],
      "execution_count": 121,
      "outputs": [
        {
          "output_type": "execute_result",
          "data": {
            "text/plain": [
              "64"
            ]
          },
          "metadata": {
            "tags": []
          },
          "execution_count": 121
        }
      ]
    },
    {
      "cell_type": "markdown",
      "metadata": {
        "id": "_blghsCUxTiC"
      },
      "source": [
        "Como você pôde ver, não houve diferença entre o *loc* e *iloc. Agora, vamos modificar o *DataFrame* df:"
      ]
    },
    {
      "cell_type": "code",
      "metadata": {
        "id": "M9g4p8oExTiC"
      },
      "source": [
        "df = pd.DataFrame({'a':[23,24,25],'b':[54,53,52],'c':[65,64,67]}, index = ['A','B','C'])"
      ],
      "execution_count": 122,
      "outputs": []
    },
    {
      "cell_type": "code",
      "metadata": {
        "id": "b3EqXuXExTiC",
        "colab": {
          "base_uri": "https://localhost:8080/",
          "height": 142
        },
        "outputId": "5874a6a5-0d33-4764-f9dd-4bdc4db8c800"
      },
      "source": [
        "df"
      ],
      "execution_count": 123,
      "outputs": [
        {
          "output_type": "execute_result",
          "data": {
            "text/html": [
              "<div>\n",
              "<style scoped>\n",
              "    .dataframe tbody tr th:only-of-type {\n",
              "        vertical-align: middle;\n",
              "    }\n",
              "\n",
              "    .dataframe tbody tr th {\n",
              "        vertical-align: top;\n",
              "    }\n",
              "\n",
              "    .dataframe thead th {\n",
              "        text-align: right;\n",
              "    }\n",
              "</style>\n",
              "<table border=\"1\" class=\"dataframe\">\n",
              "  <thead>\n",
              "    <tr style=\"text-align: right;\">\n",
              "      <th></th>\n",
              "      <th>a</th>\n",
              "      <th>b</th>\n",
              "      <th>c</th>\n",
              "    </tr>\n",
              "  </thead>\n",
              "  <tbody>\n",
              "    <tr>\n",
              "      <th>A</th>\n",
              "      <td>23</td>\n",
              "      <td>54</td>\n",
              "      <td>65</td>\n",
              "    </tr>\n",
              "    <tr>\n",
              "      <th>B</th>\n",
              "      <td>24</td>\n",
              "      <td>53</td>\n",
              "      <td>64</td>\n",
              "    </tr>\n",
              "    <tr>\n",
              "      <th>C</th>\n",
              "      <td>25</td>\n",
              "      <td>52</td>\n",
              "      <td>67</td>\n",
              "    </tr>\n",
              "  </tbody>\n",
              "</table>\n",
              "</div>"
            ],
            "text/plain": [
              "    a   b   c\n",
              "A  23  54  65\n",
              "B  24  53  64\n",
              "C  25  52  67"
            ]
          },
          "metadata": {
            "tags": []
          },
          "execution_count": 123
        }
      ]
    },
    {
      "cell_type": "markdown",
      "metadata": {
        "id": "BZI_ZLJ3xTiD"
      },
      "source": [
        "Como imprimimos o valor 64 da coluna c?"
      ]
    },
    {
      "cell_type": "code",
      "metadata": {
        "id": "ScXLvHzPxTiD",
        "colab": {
          "base_uri": "https://localhost:8080/"
        },
        "outputId": "4d963633-9b46-4361-94af-c661f8c66ac2"
      },
      "source": [
        "df['c'].loc['B'] ##o loc procura pelo index e nao pela posicao"
      ],
      "execution_count": 124,
      "outputs": [
        {
          "output_type": "execute_result",
          "data": {
            "text/plain": [
              "64"
            ]
          },
          "metadata": {
            "tags": []
          },
          "execution_count": 124
        }
      ]
    },
    {
      "cell_type": "code",
      "metadata": {
        "id": "l9Q7S9SPxTiD",
        "colab": {
          "base_uri": "https://localhost:8080/"
        },
        "outputId": "6df55879-5165-4c06-eab5-aa8da14f8112"
      },
      "source": [
        "df['c'].iloc[1] ##loc, procura sempre pela posicao"
      ],
      "execution_count": 125,
      "outputs": [
        {
          "output_type": "execute_result",
          "data": {
            "text/plain": [
              "64"
            ]
          },
          "metadata": {
            "tags": []
          },
          "execution_count": 125
        }
      ]
    },
    {
      "cell_type": "code",
      "metadata": {
        "id": "Ls-kI7UJxTiD",
        "colab": {
          "base_uri": "https://localhost:8080/"
        },
        "outputId": "95de14ef-b096-402a-b614-667ef1a91b6e"
      },
      "source": [
        "df['c'][1] "
      ],
      "execution_count": 126,
      "outputs": [
        {
          "output_type": "execute_result",
          "data": {
            "text/plain": [
              "64"
            ]
          },
          "metadata": {
            "tags": []
          },
          "execution_count": 126
        }
      ]
    },
    {
      "cell_type": "code",
      "metadata": {
        "id": "Phf0R-YBxTiD",
        "colab": {
          "base_uri": "https://localhost:8080/"
        },
        "outputId": "bb384c23-89eb-43f3-b752-0945e53e0121"
      },
      "source": [
        "df.iloc[1][2] # [1] = linha e [2] = posição da coluna "
      ],
      "execution_count": 127,
      "outputs": [
        {
          "output_type": "execute_result",
          "data": {
            "text/plain": [
              "64"
            ]
          },
          "metadata": {
            "tags": []
          },
          "execution_count": 127
        }
      ]
    },
    {
      "cell_type": "code",
      "metadata": {
        "id": "hRMvvlyoxTiD",
        "scrolled": true,
        "colab": {
          "base_uri": "https://localhost:8080/"
        },
        "outputId": "0c879590-1a04-4d28-d7a1-c167af6b22f9"
      },
      "source": [
        "df.loc['B'][2] # [1] = linha e [2] = posição da coluna "
      ],
      "execution_count": 128,
      "outputs": [
        {
          "output_type": "execute_result",
          "data": {
            "text/plain": [
              "64"
            ]
          },
          "metadata": {
            "tags": []
          },
          "execution_count": 128
        }
      ]
    },
    {
      "cell_type": "markdown",
      "metadata": {
        "id": "xcUo6xBtxTiE"
      },
      "source": [
        "O comando **loc** exige que você forneça o nome do índice, já o comando **iloc** pede a posição do índice daquele elemento que você procura. No caso, 64 se encontra na linha com índice 'B' que está na posição **1**. "
      ]
    },
    {
      "cell_type": "markdown",
      "metadata": {
        "id": "NL8jjVuxxTiE"
      },
      "source": [
        "#### Exercício: Usando o loc e o iloc também imprima o número 52 que está na coluna b."
      ]
    },
    {
      "cell_type": "code",
      "metadata": {
        "id": "PKZp9S7NxTiE"
      },
      "source": [
        ""
      ],
      "execution_count": null,
      "outputs": []
    },
    {
      "cell_type": "code",
      "metadata": {
        "id": "lx5bOL8ixTiE"
      },
      "source": [
        ""
      ],
      "execution_count": null,
      "outputs": []
    },
    {
      "cell_type": "markdown",
      "metadata": {
        "id": "WFOddRjmxTiE"
      },
      "source": [
        "### Mudança de algum elemento dentro de um DataFrame"
      ]
    },
    {
      "cell_type": "markdown",
      "metadata": {
        "id": "B5WsalqgxTiE"
      },
      "source": [
        "Vamos, agora, retornar ao DataFrame *dfsono*:"
      ]
    },
    {
      "cell_type": "code",
      "metadata": {
        "id": "BUwQX4D0xTiE"
      },
      "source": [
        "dfsono.head()"
      ],
      "execution_count": null,
      "outputs": []
    },
    {
      "cell_type": "markdown",
      "metadata": {
        "id": "IfwDSB6NxTiF"
      },
      "source": [
        "Vamos alterar o nome Patrick G. para João Neto:"
      ]
    },
    {
      "cell_type": "code",
      "metadata": {
        "id": "l51oEAcmxTiF"
      },
      "source": [
        "dfsono['Nome'].iloc[3] = 'João Neto'"
      ],
      "execution_count": null,
      "outputs": []
    },
    {
      "cell_type": "code",
      "metadata": {
        "id": "7IPRHq7kxTiF"
      },
      "source": [
        "dfsono.head()"
      ],
      "execution_count": null,
      "outputs": []
    },
    {
      "cell_type": "markdown",
      "metadata": {
        "id": "sM_ISeXJxTiF"
      },
      "source": [
        "### Ordenação do DataFrame"
      ]
    },
    {
      "cell_type": "markdown",
      "metadata": {
        "id": "z8oaEmq3xTiF"
      },
      "source": [
        "Para ordenar o *DataFrame* fazemos uso de *sort_values*.\n",
        "\n",
        "https://bit.ly/3i490U6"
      ]
    },
    {
      "cell_type": "code",
      "metadata": {
        "id": "MEBnzEVVxTiG",
        "colab": {
          "base_uri": "https://localhost:8080/",
          "height": 545
        },
        "outputId": "d74a076e-9e7d-43f4-c7b8-03279835429f"
      },
      "source": [
        "dfsono.sort_values('Nome')"
      ],
      "execution_count": 129,
      "outputs": [
        {
          "output_type": "execute_result",
          "data": {
            "text/html": [
              "<div>\n",
              "<style scoped>\n",
              "    .dataframe tbody tr th:only-of-type {\n",
              "        vertical-align: middle;\n",
              "    }\n",
              "\n",
              "    .dataframe tbody tr th {\n",
              "        vertical-align: top;\n",
              "    }\n",
              "\n",
              "    .dataframe thead th {\n",
              "        text-align: right;\n",
              "    }\n",
              "</style>\n",
              "<table border=\"1\" class=\"dataframe\">\n",
              "  <thead>\n",
              "    <tr style=\"text-align: right;\">\n",
              "      <th></th>\n",
              "      <th>Nome</th>\n",
              "      <th>horas</th>\n",
              "    </tr>\n",
              "  </thead>\n",
              "  <tbody>\n",
              "    <tr>\n",
              "      <th>0</th>\n",
              "      <td>Amanda Lemette</td>\n",
              "      <td>7.0</td>\n",
              "    </tr>\n",
              "    <tr>\n",
              "      <th>2</th>\n",
              "      <td>Cezar Augusto</td>\n",
              "      <td>6.0</td>\n",
              "    </tr>\n",
              "    <tr>\n",
              "      <th>5</th>\n",
              "      <td>Daiana Sicuro</td>\n",
              "      <td>8.0</td>\n",
              "    </tr>\n",
              "    <tr>\n",
              "      <th>15</th>\n",
              "      <td>Daniel Galdino</td>\n",
              "      <td>5.0</td>\n",
              "    </tr>\n",
              "    <tr>\n",
              "      <th>10</th>\n",
              "      <td>Daniel Werneck</td>\n",
              "      <td>7.5</td>\n",
              "    </tr>\n",
              "    <tr>\n",
              "      <th>6</th>\n",
              "      <td>Denis Nascimento</td>\n",
              "      <td>7.0</td>\n",
              "    </tr>\n",
              "    <tr>\n",
              "      <th>9</th>\n",
              "      <td>Filipe Faria</td>\n",
              "      <td>7.0</td>\n",
              "    </tr>\n",
              "    <tr>\n",
              "      <th>8</th>\n",
              "      <td>Graziela Machado</td>\n",
              "      <td>6.5</td>\n",
              "    </tr>\n",
              "    <tr>\n",
              "      <th>14</th>\n",
              "      <td>Gustavo Araujo</td>\n",
              "      <td>7.5</td>\n",
              "    </tr>\n",
              "    <tr>\n",
              "      <th>11</th>\n",
              "      <td>Hudson Diniz</td>\n",
              "      <td>6.0</td>\n",
              "    </tr>\n",
              "    <tr>\n",
              "      <th>7</th>\n",
              "      <td>Igor Rocha</td>\n",
              "      <td>7.0</td>\n",
              "    </tr>\n",
              "    <tr>\n",
              "      <th>12</th>\n",
              "      <td>Jorge Junior</td>\n",
              "      <td>8.0</td>\n",
              "    </tr>\n",
              "    <tr>\n",
              "      <th>1</th>\n",
              "      <td>Julia Potratz</td>\n",
              "      <td>5.5</td>\n",
              "    </tr>\n",
              "    <tr>\n",
              "      <th>13</th>\n",
              "      <td>Marcos Silva</td>\n",
              "      <td>7.0</td>\n",
              "    </tr>\n",
              "    <tr>\n",
              "      <th>3</th>\n",
              "      <td>Patrick G.</td>\n",
              "      <td>7.0</td>\n",
              "    </tr>\n",
              "    <tr>\n",
              "      <th>4</th>\n",
              "      <td>Renan</td>\n",
              "      <td>8.0</td>\n",
              "    </tr>\n",
              "  </tbody>\n",
              "</table>\n",
              "</div>"
            ],
            "text/plain": [
              "                Nome  horas\n",
              "0     Amanda Lemette    7.0\n",
              "2      Cezar Augusto    6.0\n",
              "5      Daiana Sicuro    8.0\n",
              "15    Daniel Galdino    5.0\n",
              "10    Daniel Werneck    7.5\n",
              "6   Denis Nascimento    7.0\n",
              "9       Filipe Faria    7.0\n",
              "8   Graziela Machado    6.5\n",
              "14    Gustavo Araujo    7.5\n",
              "11      Hudson Diniz    6.0\n",
              "7         Igor Rocha    7.0\n",
              "12      Jorge Junior    8.0\n",
              "1      Julia Potratz    5.5\n",
              "13      Marcos Silva    7.0\n",
              "3         Patrick G.    7.0\n",
              "4              Renan    8.0"
            ]
          },
          "metadata": {
            "tags": []
          },
          "execution_count": 129
        }
      ]
    },
    {
      "cell_type": "code",
      "metadata": {
        "colab": {
          "base_uri": "https://localhost:8080/",
          "height": 545
        },
        "id": "sj_7cFGOmy-T",
        "outputId": "1ff85f09-ac8c-4ad7-cae4-6fca68f9c34b"
      },
      "source": [
        "dfsono.sort_values('horas')"
      ],
      "execution_count": 131,
      "outputs": [
        {
          "output_type": "execute_result",
          "data": {
            "text/html": [
              "<div>\n",
              "<style scoped>\n",
              "    .dataframe tbody tr th:only-of-type {\n",
              "        vertical-align: middle;\n",
              "    }\n",
              "\n",
              "    .dataframe tbody tr th {\n",
              "        vertical-align: top;\n",
              "    }\n",
              "\n",
              "    .dataframe thead th {\n",
              "        text-align: right;\n",
              "    }\n",
              "</style>\n",
              "<table border=\"1\" class=\"dataframe\">\n",
              "  <thead>\n",
              "    <tr style=\"text-align: right;\">\n",
              "      <th></th>\n",
              "      <th>Nome</th>\n",
              "      <th>horas</th>\n",
              "    </tr>\n",
              "  </thead>\n",
              "  <tbody>\n",
              "    <tr>\n",
              "      <th>15</th>\n",
              "      <td>Daniel Galdino</td>\n",
              "      <td>5.0</td>\n",
              "    </tr>\n",
              "    <tr>\n",
              "      <th>1</th>\n",
              "      <td>Julia Potratz</td>\n",
              "      <td>5.5</td>\n",
              "    </tr>\n",
              "    <tr>\n",
              "      <th>2</th>\n",
              "      <td>Cezar Augusto</td>\n",
              "      <td>6.0</td>\n",
              "    </tr>\n",
              "    <tr>\n",
              "      <th>11</th>\n",
              "      <td>Hudson Diniz</td>\n",
              "      <td>6.0</td>\n",
              "    </tr>\n",
              "    <tr>\n",
              "      <th>8</th>\n",
              "      <td>Graziela Machado</td>\n",
              "      <td>6.5</td>\n",
              "    </tr>\n",
              "    <tr>\n",
              "      <th>0</th>\n",
              "      <td>Amanda Lemette</td>\n",
              "      <td>7.0</td>\n",
              "    </tr>\n",
              "    <tr>\n",
              "      <th>3</th>\n",
              "      <td>Patrick G.</td>\n",
              "      <td>7.0</td>\n",
              "    </tr>\n",
              "    <tr>\n",
              "      <th>6</th>\n",
              "      <td>Denis Nascimento</td>\n",
              "      <td>7.0</td>\n",
              "    </tr>\n",
              "    <tr>\n",
              "      <th>7</th>\n",
              "      <td>Igor Rocha</td>\n",
              "      <td>7.0</td>\n",
              "    </tr>\n",
              "    <tr>\n",
              "      <th>9</th>\n",
              "      <td>Filipe Faria</td>\n",
              "      <td>7.0</td>\n",
              "    </tr>\n",
              "    <tr>\n",
              "      <th>13</th>\n",
              "      <td>Marcos Silva</td>\n",
              "      <td>7.0</td>\n",
              "    </tr>\n",
              "    <tr>\n",
              "      <th>10</th>\n",
              "      <td>Daniel Werneck</td>\n",
              "      <td>7.5</td>\n",
              "    </tr>\n",
              "    <tr>\n",
              "      <th>14</th>\n",
              "      <td>Gustavo Araujo</td>\n",
              "      <td>7.5</td>\n",
              "    </tr>\n",
              "    <tr>\n",
              "      <th>4</th>\n",
              "      <td>Renan</td>\n",
              "      <td>8.0</td>\n",
              "    </tr>\n",
              "    <tr>\n",
              "      <th>5</th>\n",
              "      <td>Daiana Sicuro</td>\n",
              "      <td>8.0</td>\n",
              "    </tr>\n",
              "    <tr>\n",
              "      <th>12</th>\n",
              "      <td>Jorge Junior</td>\n",
              "      <td>8.0</td>\n",
              "    </tr>\n",
              "  </tbody>\n",
              "</table>\n",
              "</div>"
            ],
            "text/plain": [
              "                Nome  horas\n",
              "15    Daniel Galdino    5.0\n",
              "1      Julia Potratz    5.5\n",
              "2      Cezar Augusto    6.0\n",
              "11      Hudson Diniz    6.0\n",
              "8   Graziela Machado    6.5\n",
              "0     Amanda Lemette    7.0\n",
              "3         Patrick G.    7.0\n",
              "6   Denis Nascimento    7.0\n",
              "7         Igor Rocha    7.0\n",
              "9       Filipe Faria    7.0\n",
              "13      Marcos Silva    7.0\n",
              "10    Daniel Werneck    7.5\n",
              "14    Gustavo Araujo    7.5\n",
              "4              Renan    8.0\n",
              "5      Daiana Sicuro    8.0\n",
              "12      Jorge Junior    8.0"
            ]
          },
          "metadata": {
            "tags": []
          },
          "execution_count": 131
        }
      ]
    },
    {
      "cell_type": "code",
      "metadata": {
        "id": "yb_ixaaNnNSr"
      },
      "source": [
        "dfsono.sort_values(by = 'horas')"
      ],
      "execution_count": null,
      "outputs": []
    },
    {
      "cell_type": "markdown",
      "metadata": {
        "id": "Hvd9hynMxTiG"
      },
      "source": [
        "### Remover linha do DataFrame"
      ]
    },
    {
      "cell_type": "markdown",
      "metadata": {
        "id": "IWjS_NMcxTiG"
      },
      "source": [
        "Geralmente, para a exclusão de uma linha do DataFrame, utilizamos o comando *drop* (https://bit.ly/3i5GiCj).\n",
        "\n",
        "Vamos excluir a linha de índice 4 do DataFrame *dfsono*."
      ]
    },
    {
      "cell_type": "code",
      "metadata": {
        "id": "V5nXyI95xTiG",
        "colab": {
          "base_uri": "https://localhost:8080/",
          "height": 204
        },
        "outputId": "8c9b946b-eb93-4c1e-c4b0-0c6a1e5fc883"
      },
      "source": [
        "dfsono.head()"
      ],
      "execution_count": 132,
      "outputs": [
        {
          "output_type": "execute_result",
          "data": {
            "text/html": [
              "<div>\n",
              "<style scoped>\n",
              "    .dataframe tbody tr th:only-of-type {\n",
              "        vertical-align: middle;\n",
              "    }\n",
              "\n",
              "    .dataframe tbody tr th {\n",
              "        vertical-align: top;\n",
              "    }\n",
              "\n",
              "    .dataframe thead th {\n",
              "        text-align: right;\n",
              "    }\n",
              "</style>\n",
              "<table border=\"1\" class=\"dataframe\">\n",
              "  <thead>\n",
              "    <tr style=\"text-align: right;\">\n",
              "      <th></th>\n",
              "      <th>Nome</th>\n",
              "      <th>horas</th>\n",
              "    </tr>\n",
              "  </thead>\n",
              "  <tbody>\n",
              "    <tr>\n",
              "      <th>0</th>\n",
              "      <td>Amanda Lemette</td>\n",
              "      <td>7.0</td>\n",
              "    </tr>\n",
              "    <tr>\n",
              "      <th>1</th>\n",
              "      <td>Julia Potratz</td>\n",
              "      <td>5.5</td>\n",
              "    </tr>\n",
              "    <tr>\n",
              "      <th>2</th>\n",
              "      <td>Cezar Augusto</td>\n",
              "      <td>6.0</td>\n",
              "    </tr>\n",
              "    <tr>\n",
              "      <th>3</th>\n",
              "      <td>Patrick G.</td>\n",
              "      <td>7.0</td>\n",
              "    </tr>\n",
              "    <tr>\n",
              "      <th>4</th>\n",
              "      <td>Renan</td>\n",
              "      <td>8.0</td>\n",
              "    </tr>\n",
              "  </tbody>\n",
              "</table>\n",
              "</div>"
            ],
            "text/plain": [
              "             Nome  horas\n",
              "0  Amanda Lemette    7.0\n",
              "1   Julia Potratz    5.5\n",
              "2   Cezar Augusto    6.0\n",
              "3      Patrick G.    7.0\n",
              "4           Renan    8.0"
            ]
          },
          "metadata": {
            "tags": []
          },
          "execution_count": 132
        }
      ]
    },
    {
      "cell_type": "code",
      "metadata": {
        "id": "yl0A7q8PxTiG",
        "colab": {
          "base_uri": "https://localhost:8080/",
          "height": 483
        },
        "outputId": "d4d4ffa3-5aa4-4404-b956-7bbf2f4b741b"
      },
      "source": [
        "dfsono.drop([3,4]) #. drop([linha ou linhas que queremos excluir])"
      ],
      "execution_count": 134,
      "outputs": [
        {
          "output_type": "execute_result",
          "data": {
            "text/html": [
              "<div>\n",
              "<style scoped>\n",
              "    .dataframe tbody tr th:only-of-type {\n",
              "        vertical-align: middle;\n",
              "    }\n",
              "\n",
              "    .dataframe tbody tr th {\n",
              "        vertical-align: top;\n",
              "    }\n",
              "\n",
              "    .dataframe thead th {\n",
              "        text-align: right;\n",
              "    }\n",
              "</style>\n",
              "<table border=\"1\" class=\"dataframe\">\n",
              "  <thead>\n",
              "    <tr style=\"text-align: right;\">\n",
              "      <th></th>\n",
              "      <th>Nome</th>\n",
              "      <th>horas</th>\n",
              "    </tr>\n",
              "  </thead>\n",
              "  <tbody>\n",
              "    <tr>\n",
              "      <th>0</th>\n",
              "      <td>Amanda Lemette</td>\n",
              "      <td>7.0</td>\n",
              "    </tr>\n",
              "    <tr>\n",
              "      <th>1</th>\n",
              "      <td>Julia Potratz</td>\n",
              "      <td>5.5</td>\n",
              "    </tr>\n",
              "    <tr>\n",
              "      <th>2</th>\n",
              "      <td>Cezar Augusto</td>\n",
              "      <td>6.0</td>\n",
              "    </tr>\n",
              "    <tr>\n",
              "      <th>5</th>\n",
              "      <td>Daiana Sicuro</td>\n",
              "      <td>8.0</td>\n",
              "    </tr>\n",
              "    <tr>\n",
              "      <th>6</th>\n",
              "      <td>Denis Nascimento</td>\n",
              "      <td>7.0</td>\n",
              "    </tr>\n",
              "    <tr>\n",
              "      <th>7</th>\n",
              "      <td>Igor Rocha</td>\n",
              "      <td>7.0</td>\n",
              "    </tr>\n",
              "    <tr>\n",
              "      <th>8</th>\n",
              "      <td>Graziela Machado</td>\n",
              "      <td>6.5</td>\n",
              "    </tr>\n",
              "    <tr>\n",
              "      <th>9</th>\n",
              "      <td>Filipe Faria</td>\n",
              "      <td>7.0</td>\n",
              "    </tr>\n",
              "    <tr>\n",
              "      <th>10</th>\n",
              "      <td>Daniel Werneck</td>\n",
              "      <td>7.5</td>\n",
              "    </tr>\n",
              "    <tr>\n",
              "      <th>11</th>\n",
              "      <td>Hudson Diniz</td>\n",
              "      <td>6.0</td>\n",
              "    </tr>\n",
              "    <tr>\n",
              "      <th>12</th>\n",
              "      <td>Jorge Junior</td>\n",
              "      <td>8.0</td>\n",
              "    </tr>\n",
              "    <tr>\n",
              "      <th>13</th>\n",
              "      <td>Marcos Silva</td>\n",
              "      <td>7.0</td>\n",
              "    </tr>\n",
              "    <tr>\n",
              "      <th>14</th>\n",
              "      <td>Gustavo Araujo</td>\n",
              "      <td>7.5</td>\n",
              "    </tr>\n",
              "    <tr>\n",
              "      <th>15</th>\n",
              "      <td>Daniel Galdino</td>\n",
              "      <td>5.0</td>\n",
              "    </tr>\n",
              "  </tbody>\n",
              "</table>\n",
              "</div>"
            ],
            "text/plain": [
              "                Nome  horas\n",
              "0     Amanda Lemette    7.0\n",
              "1      Julia Potratz    5.5\n",
              "2      Cezar Augusto    6.0\n",
              "5      Daiana Sicuro    8.0\n",
              "6   Denis Nascimento    7.0\n",
              "7         Igor Rocha    7.0\n",
              "8   Graziela Machado    6.5\n",
              "9       Filipe Faria    7.0\n",
              "10    Daniel Werneck    7.5\n",
              "11      Hudson Diniz    6.0\n",
              "12      Jorge Junior    8.0\n",
              "13      Marcos Silva    7.0\n",
              "14    Gustavo Araujo    7.5\n",
              "15    Daniel Galdino    5.0"
            ]
          },
          "metadata": {
            "tags": []
          },
          "execution_count": 134
        }
      ]
    },
    {
      "cell_type": "markdown",
      "metadata": {
        "id": "UW2GpSuMxTiG"
      },
      "source": [
        "### Adicionar nova coluna no DataFrame"
      ]
    },
    {
      "cell_type": "markdown",
      "metadata": {
        "id": "x-_gwznMxTiG"
      },
      "source": [
        "A adição de colunas no *DataFrame* é bem simples, na verdade, para isso basta escrevermos o nome do DataFrame e entre [ ], escrevemos o nome da nova coluna, vamos ver um exemplo."
      ]
    },
    {
      "cell_type": "code",
      "metadata": {
        "id": "GhujltMfxTiH"
      },
      "source": [
        "dfsono['ansiedade'] = ['alta','baixa','normal','alta','alta',\n",
        "                       'baixa','normal','alta','alta','baixa',\n",
        "                       'normal','alta','alta','baixa','normal','alta']"
      ],
      "execution_count": 135,
      "outputs": []
    },
    {
      "cell_type": "code",
      "metadata": {
        "id": "tL9s4ukAxTiH",
        "colab": {
          "base_uri": "https://localhost:8080/",
          "height": 111
        },
        "outputId": "9bf72c31-844e-4a32-afb8-3b2624980dd4"
      },
      "source": [
        "dfsono.head(2)"
      ],
      "execution_count": 136,
      "outputs": [
        {
          "output_type": "execute_result",
          "data": {
            "text/html": [
              "<div>\n",
              "<style scoped>\n",
              "    .dataframe tbody tr th:only-of-type {\n",
              "        vertical-align: middle;\n",
              "    }\n",
              "\n",
              "    .dataframe tbody tr th {\n",
              "        vertical-align: top;\n",
              "    }\n",
              "\n",
              "    .dataframe thead th {\n",
              "        text-align: right;\n",
              "    }\n",
              "</style>\n",
              "<table border=\"1\" class=\"dataframe\">\n",
              "  <thead>\n",
              "    <tr style=\"text-align: right;\">\n",
              "      <th></th>\n",
              "      <th>Nome</th>\n",
              "      <th>horas</th>\n",
              "      <th>ansiedade</th>\n",
              "    </tr>\n",
              "  </thead>\n",
              "  <tbody>\n",
              "    <tr>\n",
              "      <th>0</th>\n",
              "      <td>Amanda Lemette</td>\n",
              "      <td>7.0</td>\n",
              "      <td>alta</td>\n",
              "    </tr>\n",
              "    <tr>\n",
              "      <th>1</th>\n",
              "      <td>Julia Potratz</td>\n",
              "      <td>5.5</td>\n",
              "      <td>baixa</td>\n",
              "    </tr>\n",
              "  </tbody>\n",
              "</table>\n",
              "</div>"
            ],
            "text/plain": [
              "             Nome  horas ansiedade\n",
              "0  Amanda Lemette    7.0      alta\n",
              "1   Julia Potratz    5.5     baixa"
            ]
          },
          "metadata": {
            "tags": []
          },
          "execution_count": 136
        }
      ]
    },
    {
      "cell_type": "code",
      "metadata": {
        "id": "7XMB_S7xxTiH",
        "colab": {
          "base_uri": "https://localhost:8080/",
          "height": 111
        },
        "outputId": "2e1b9cd2-4c6e-47d5-85f9-4a5c25ead495"
      },
      "source": [
        "dfsono.tail(2)"
      ],
      "execution_count": 137,
      "outputs": [
        {
          "output_type": "execute_result",
          "data": {
            "text/html": [
              "<div>\n",
              "<style scoped>\n",
              "    .dataframe tbody tr th:only-of-type {\n",
              "        vertical-align: middle;\n",
              "    }\n",
              "\n",
              "    .dataframe tbody tr th {\n",
              "        vertical-align: top;\n",
              "    }\n",
              "\n",
              "    .dataframe thead th {\n",
              "        text-align: right;\n",
              "    }\n",
              "</style>\n",
              "<table border=\"1\" class=\"dataframe\">\n",
              "  <thead>\n",
              "    <tr style=\"text-align: right;\">\n",
              "      <th></th>\n",
              "      <th>Nome</th>\n",
              "      <th>horas</th>\n",
              "      <th>ansiedade</th>\n",
              "    </tr>\n",
              "  </thead>\n",
              "  <tbody>\n",
              "    <tr>\n",
              "      <th>14</th>\n",
              "      <td>Gustavo Araujo</td>\n",
              "      <td>7.5</td>\n",
              "      <td>normal</td>\n",
              "    </tr>\n",
              "    <tr>\n",
              "      <th>15</th>\n",
              "      <td>Daniel Galdino</td>\n",
              "      <td>5.0</td>\n",
              "      <td>alta</td>\n",
              "    </tr>\n",
              "  </tbody>\n",
              "</table>\n",
              "</div>"
            ],
            "text/plain": [
              "              Nome  horas ansiedade\n",
              "14  Gustavo Araujo    7.5    normal\n",
              "15  Daniel Galdino    5.0      alta"
            ]
          },
          "metadata": {
            "tags": []
          },
          "execution_count": 137
        }
      ]
    },
    {
      "cell_type": "markdown",
      "metadata": {
        "id": "ur3VqCgoxTiH"
      },
      "source": [
        "### Remover coluna no DataFrame"
      ]
    },
    {
      "cell_type": "markdown",
      "metadata": {
        "id": "3QuLu1zqxTiH"
      },
      "source": [
        "Agora, remova a coluna *ansiedade* do DataFrame *dfsono* utilizando *drop*. \n",
        "\n",
        "Lembrando que *drop* como default elimina a linha do *DataFrame*, para eliminar a coluna precisamos informar isso ao Python pelo comando **axis = 1**."
      ]
    },
    {
      "cell_type": "code",
      "metadata": {
        "id": "uhBTuRSkxTiH",
        "colab": {
          "base_uri": "https://localhost:8080/",
          "height": 545
        },
        "outputId": "111de5b6-dc77-4a7e-ebbf-07c68e1a6486"
      },
      "source": [
        "dfsono.drop('ansiedade',axis=1)"
      ],
      "execution_count": 138,
      "outputs": [
        {
          "output_type": "execute_result",
          "data": {
            "text/html": [
              "<div>\n",
              "<style scoped>\n",
              "    .dataframe tbody tr th:only-of-type {\n",
              "        vertical-align: middle;\n",
              "    }\n",
              "\n",
              "    .dataframe tbody tr th {\n",
              "        vertical-align: top;\n",
              "    }\n",
              "\n",
              "    .dataframe thead th {\n",
              "        text-align: right;\n",
              "    }\n",
              "</style>\n",
              "<table border=\"1\" class=\"dataframe\">\n",
              "  <thead>\n",
              "    <tr style=\"text-align: right;\">\n",
              "      <th></th>\n",
              "      <th>Nome</th>\n",
              "      <th>horas</th>\n",
              "    </tr>\n",
              "  </thead>\n",
              "  <tbody>\n",
              "    <tr>\n",
              "      <th>0</th>\n",
              "      <td>Amanda Lemette</td>\n",
              "      <td>7.0</td>\n",
              "    </tr>\n",
              "    <tr>\n",
              "      <th>1</th>\n",
              "      <td>Julia Potratz</td>\n",
              "      <td>5.5</td>\n",
              "    </tr>\n",
              "    <tr>\n",
              "      <th>2</th>\n",
              "      <td>Cezar Augusto</td>\n",
              "      <td>6.0</td>\n",
              "    </tr>\n",
              "    <tr>\n",
              "      <th>3</th>\n",
              "      <td>Patrick G.</td>\n",
              "      <td>7.0</td>\n",
              "    </tr>\n",
              "    <tr>\n",
              "      <th>4</th>\n",
              "      <td>Renan</td>\n",
              "      <td>8.0</td>\n",
              "    </tr>\n",
              "    <tr>\n",
              "      <th>5</th>\n",
              "      <td>Daiana Sicuro</td>\n",
              "      <td>8.0</td>\n",
              "    </tr>\n",
              "    <tr>\n",
              "      <th>6</th>\n",
              "      <td>Denis Nascimento</td>\n",
              "      <td>7.0</td>\n",
              "    </tr>\n",
              "    <tr>\n",
              "      <th>7</th>\n",
              "      <td>Igor Rocha</td>\n",
              "      <td>7.0</td>\n",
              "    </tr>\n",
              "    <tr>\n",
              "      <th>8</th>\n",
              "      <td>Graziela Machado</td>\n",
              "      <td>6.5</td>\n",
              "    </tr>\n",
              "    <tr>\n",
              "      <th>9</th>\n",
              "      <td>Filipe Faria</td>\n",
              "      <td>7.0</td>\n",
              "    </tr>\n",
              "    <tr>\n",
              "      <th>10</th>\n",
              "      <td>Daniel Werneck</td>\n",
              "      <td>7.5</td>\n",
              "    </tr>\n",
              "    <tr>\n",
              "      <th>11</th>\n",
              "      <td>Hudson Diniz</td>\n",
              "      <td>6.0</td>\n",
              "    </tr>\n",
              "    <tr>\n",
              "      <th>12</th>\n",
              "      <td>Jorge Junior</td>\n",
              "      <td>8.0</td>\n",
              "    </tr>\n",
              "    <tr>\n",
              "      <th>13</th>\n",
              "      <td>Marcos Silva</td>\n",
              "      <td>7.0</td>\n",
              "    </tr>\n",
              "    <tr>\n",
              "      <th>14</th>\n",
              "      <td>Gustavo Araujo</td>\n",
              "      <td>7.5</td>\n",
              "    </tr>\n",
              "    <tr>\n",
              "      <th>15</th>\n",
              "      <td>Daniel Galdino</td>\n",
              "      <td>5.0</td>\n",
              "    </tr>\n",
              "  </tbody>\n",
              "</table>\n",
              "</div>"
            ],
            "text/plain": [
              "                Nome  horas\n",
              "0     Amanda Lemette    7.0\n",
              "1      Julia Potratz    5.5\n",
              "2      Cezar Augusto    6.0\n",
              "3         Patrick G.    7.0\n",
              "4              Renan    8.0\n",
              "5      Daiana Sicuro    8.0\n",
              "6   Denis Nascimento    7.0\n",
              "7         Igor Rocha    7.0\n",
              "8   Graziela Machado    6.5\n",
              "9       Filipe Faria    7.0\n",
              "10    Daniel Werneck    7.5\n",
              "11      Hudson Diniz    6.0\n",
              "12      Jorge Junior    8.0\n",
              "13      Marcos Silva    7.0\n",
              "14    Gustavo Araujo    7.5\n",
              "15    Daniel Galdino    5.0"
            ]
          },
          "metadata": {
            "tags": []
          },
          "execution_count": 138
        }
      ]
    },
    {
      "cell_type": "code",
      "metadata": {
        "colab": {
          "base_uri": "https://localhost:8080/",
          "height": 545
        },
        "id": "UYC1_UNdqCy0",
        "outputId": "6ba99d7a-7b99-40d2-93df-c11095f8f7b9"
      },
      "source": [
        "dfsono.drop(columns = {'ansiedade'})"
      ],
      "execution_count": 139,
      "outputs": [
        {
          "output_type": "execute_result",
          "data": {
            "text/html": [
              "<div>\n",
              "<style scoped>\n",
              "    .dataframe tbody tr th:only-of-type {\n",
              "        vertical-align: middle;\n",
              "    }\n",
              "\n",
              "    .dataframe tbody tr th {\n",
              "        vertical-align: top;\n",
              "    }\n",
              "\n",
              "    .dataframe thead th {\n",
              "        text-align: right;\n",
              "    }\n",
              "</style>\n",
              "<table border=\"1\" class=\"dataframe\">\n",
              "  <thead>\n",
              "    <tr style=\"text-align: right;\">\n",
              "      <th></th>\n",
              "      <th>Nome</th>\n",
              "      <th>horas</th>\n",
              "    </tr>\n",
              "  </thead>\n",
              "  <tbody>\n",
              "    <tr>\n",
              "      <th>0</th>\n",
              "      <td>Amanda Lemette</td>\n",
              "      <td>7.0</td>\n",
              "    </tr>\n",
              "    <tr>\n",
              "      <th>1</th>\n",
              "      <td>Julia Potratz</td>\n",
              "      <td>5.5</td>\n",
              "    </tr>\n",
              "    <tr>\n",
              "      <th>2</th>\n",
              "      <td>Cezar Augusto</td>\n",
              "      <td>6.0</td>\n",
              "    </tr>\n",
              "    <tr>\n",
              "      <th>3</th>\n",
              "      <td>Patrick G.</td>\n",
              "      <td>7.0</td>\n",
              "    </tr>\n",
              "    <tr>\n",
              "      <th>4</th>\n",
              "      <td>Renan</td>\n",
              "      <td>8.0</td>\n",
              "    </tr>\n",
              "    <tr>\n",
              "      <th>5</th>\n",
              "      <td>Daiana Sicuro</td>\n",
              "      <td>8.0</td>\n",
              "    </tr>\n",
              "    <tr>\n",
              "      <th>6</th>\n",
              "      <td>Denis Nascimento</td>\n",
              "      <td>7.0</td>\n",
              "    </tr>\n",
              "    <tr>\n",
              "      <th>7</th>\n",
              "      <td>Igor Rocha</td>\n",
              "      <td>7.0</td>\n",
              "    </tr>\n",
              "    <tr>\n",
              "      <th>8</th>\n",
              "      <td>Graziela Machado</td>\n",
              "      <td>6.5</td>\n",
              "    </tr>\n",
              "    <tr>\n",
              "      <th>9</th>\n",
              "      <td>Filipe Faria</td>\n",
              "      <td>7.0</td>\n",
              "    </tr>\n",
              "    <tr>\n",
              "      <th>10</th>\n",
              "      <td>Daniel Werneck</td>\n",
              "      <td>7.5</td>\n",
              "    </tr>\n",
              "    <tr>\n",
              "      <th>11</th>\n",
              "      <td>Hudson Diniz</td>\n",
              "      <td>6.0</td>\n",
              "    </tr>\n",
              "    <tr>\n",
              "      <th>12</th>\n",
              "      <td>Jorge Junior</td>\n",
              "      <td>8.0</td>\n",
              "    </tr>\n",
              "    <tr>\n",
              "      <th>13</th>\n",
              "      <td>Marcos Silva</td>\n",
              "      <td>7.0</td>\n",
              "    </tr>\n",
              "    <tr>\n",
              "      <th>14</th>\n",
              "      <td>Gustavo Araujo</td>\n",
              "      <td>7.5</td>\n",
              "    </tr>\n",
              "    <tr>\n",
              "      <th>15</th>\n",
              "      <td>Daniel Galdino</td>\n",
              "      <td>5.0</td>\n",
              "    </tr>\n",
              "  </tbody>\n",
              "</table>\n",
              "</div>"
            ],
            "text/plain": [
              "                Nome  horas\n",
              "0     Amanda Lemette    7.0\n",
              "1      Julia Potratz    5.5\n",
              "2      Cezar Augusto    6.0\n",
              "3         Patrick G.    7.0\n",
              "4              Renan    8.0\n",
              "5      Daiana Sicuro    8.0\n",
              "6   Denis Nascimento    7.0\n",
              "7         Igor Rocha    7.0\n",
              "8   Graziela Machado    6.5\n",
              "9       Filipe Faria    7.0\n",
              "10    Daniel Werneck    7.5\n",
              "11      Hudson Diniz    6.0\n",
              "12      Jorge Junior    8.0\n",
              "13      Marcos Silva    7.0\n",
              "14    Gustavo Araujo    7.5\n",
              "15    Daniel Galdino    5.0"
            ]
          },
          "metadata": {
            "tags": []
          },
          "execution_count": 139
        }
      ]
    },
    {
      "cell_type": "code",
      "metadata": {
        "id": "mSPdPRw8qU3y"
      },
      "source": [
        "dfsono['nova_coluna'] = np.nan"
      ],
      "execution_count": 140,
      "outputs": []
    },
    {
      "cell_type": "markdown",
      "metadata": {
        "id": "sj_zUtYmxTiH"
      },
      "source": [
        "### Segmentar os dados de um DataFrame dentro de intervalos"
      ]
    },
    {
      "cell_type": "markdown",
      "metadata": {
        "id": "8A6ikU2wxTiI"
      },
      "source": [
        "Na última aula, conhecemos o comando .cut (https://bit.ly/3BKDdPQ).\n",
        "\n",
        "O que ele faz?\n",
        "\n",
        "Ele classifica determinada coluna (que contém dados numéricos) do DataFrame dentro de intervalos de números. Por exemplo:"
      ]
    },
    {
      "cell_type": "markdown",
      "metadata": {
        "id": "eMgeWWKCxTiI"
      },
      "source": [
        "Vamos criar uma lista, chamada *intervalos*, que contém os seguintes intervalos:"
      ]
    },
    {
      "cell_type": "code",
      "metadata": {
        "id": "6dVSdj_HxTiI"
      },
      "source": [
        "intervalos = ['0-5.5','5.5-6.5','6.5-7.5','> 7.5']\n",
        "intervalos"
      ],
      "execution_count": null,
      "outputs": []
    },
    {
      "cell_type": "markdown",
      "metadata": {
        "id": "ljD5FZyLxTiI"
      },
      "source": [
        "Contudo, essa lista é uma lista de strings e o Python não consegue entender que '0-5.5' significa números que são iguais ou maiores do que 0 e menores do que 5.5. Para que o Python faça essa interpretação corretamente, precisamos criar outra lista, mas que seja de números:"
      ]
    },
    {
      "cell_type": "code",
      "metadata": {
        "id": "3TDVuEbLxTiI"
      },
      "source": [
        "intervalos_num = [-1,5.5,6.5,7.5,24]\n",
        "intervalos_num"
      ],
      "execution_count": null,
      "outputs": []
    },
    {
      "cell_type": "markdown",
      "metadata": {
        "id": "4CA6EQcBxTiI"
      },
      "source": [
        "Agora sim, com a lista *intervalos_num*, o Python interpreta do seguinte modo:\n",
        "\n",
        "- O primeiro intervalo será entre 0 e 5.5, incluindo o 0 e excluindo o 5.5.\n",
        "- O segundo intervalo será entre 5.5 e 6.5, incluindo o 5.5 e excluindo o 6.5.\n",
        "- O terceiro intervalo será entre 6.5 e 7.5, incluindo o 6.5 e excluindo o 7.5.\n",
        "- O quarto intervalo será entre 7.5 e 24, incluindo o 7.5 e excluindo o 24.\n",
        "\n",
        "Matematicamente, os intervalos são: \n",
        "- intervalo 1: [0,5.5[\n",
        "- intervalo 2: [5.5,6.5[\n",
        "- intervalo 3: [6.5,7.5[\n",
        "- intervalo 7: [7.5,24["
      ]
    },
    {
      "cell_type": "markdown",
      "metadata": {
        "id": "peCSAg-2xTiJ"
      },
      "source": [
        "E a lista *intervalos* é a lista *label* que dá nome aos intervalos. \n",
        "Assim, temos:\n",
        "\n",
        "- intervalo 1: [0,5.5[ ; label: '0-5.5'\n",
        "- intervalo 2: [5.5,6.5[ ; label: '5.5-6.5'\n",
        "- intervalo 3: [6.5,7.5[ ; label: '6.5-7.5'\n",
        "- intervalo 7: [7.5,24[ ; label: '> 7.5\n"
      ]
    },
    {
      "cell_type": "markdown",
      "metadata": {
        "id": "RJLbvrC1xTiJ"
      },
      "source": [
        "O comando *cut* irá então receber como entrada:\n",
        "\n",
        "- coluna do DataFrame que irá ser classificada\n",
        "- lista intervalos_num\n",
        "- lista intervalos"
      ]
    },
    {
      "cell_type": "markdown",
      "metadata": {
        "id": "Pt-RD8isxTiJ"
      },
      "source": [
        "Vamos aplicar o cut na coluna *horas* do DataFrame *dfsono* para que as horas de sono de cada pessoas seja classificada dentro dos intervalos especificados na lista *intervalos_num*. O método *cut* irá identificar a qual intervalo aquela hora pertence e como resposta irá imprimir o label daquele intervalo. O resultado dessa classificação será salvo em uma nova coluna no DataFrame *dfsono* que iremos chamas de *duracao*."
      ]
    },
    {
      "cell_type": "code",
      "metadata": {
        "id": "veAhVn2TxTiJ"
      },
      "source": [
        "dfsono['duracao'] = pd.cut(dfsono['horas'],intervalos_num,labels = intervalos) "
      ],
      "execution_count": null,
      "outputs": []
    },
    {
      "cell_type": "code",
      "metadata": {
        "id": "kqhixVWUxTiJ"
      },
      "source": [
        "dfsono"
      ],
      "execution_count": null,
      "outputs": []
    },
    {
      "cell_type": "code",
      "metadata": {
        "id": "AYUKlDhmxTiJ"
      },
      "source": [
        ""
      ],
      "execution_count": null,
      "outputs": []
    }
  ]
}