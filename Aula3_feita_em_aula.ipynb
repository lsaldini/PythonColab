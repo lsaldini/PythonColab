{
  "nbformat": 4,
  "nbformat_minor": 0,
  "metadata": {
    "colab": {
      "name": "Aula3_feita_em_aula.ipynb",
      "provenance": [],
      "collapsed_sections": [
        "ZfwHcN6h0n-s",
        "5z8uGpMKxTho",
        "_hOfwkaaxThr",
        "mGUtVmOfxThs",
        "VeK--gBWxThv",
        "5UIwj70lxThw",
        "OrlyHNAUxThx",
        "nivAJTaqxThz",
        "ZdzvzsQbxThz",
        "p8WwqGPWxTh0",
        "6xNnfbhnxTh6",
        "1Lu-0i8MxTh8",
        "-aHXpQw7xTh8",
        "6SIRFRlpxTh_",
        "NEZIAPE7xTiA",
        "FDyFSGQZxTiA",
        "NL8jjVuxxTiE",
        "WFOddRjmxTiE",
        "Hvd9hynMxTiG",
        "UW2GpSuMxTiG",
        "ur3VqCgoxTiH",
        "sj_zUtYmxTiH"
      ],
      "toc_visible": true
    },
    "kernelspec": {
      "display_name": "Python 3",
      "language": "python",
      "name": "python3"
    },
    "language_info": {
      "codemirror_mode": {
        "name": "ipython",
        "version": 3
      },
      "file_extension": ".py",
      "mimetype": "text/x-python",
      "name": "python",
      "nbconvert_exporter": "python",
      "pygments_lexer": "ipython3",
      "version": "3.7.0"
    },
    "toc": {
      "base_numbering": 1,
      "nav_menu": {},
      "number_sections": true,
      "sideBar": true,
      "skip_h1_title": false,
      "title_cell": "Table of Contents",
      "title_sidebar": "Contents",
      "toc_cell": false,
      "toc_position": {
        "height": "calc(100% - 180px)",
        "left": "10px",
        "top": "150px",
        "width": "351px"
      },
      "toc_section_display": true,
      "toc_window_display": true
    }
  },
  "cells": [
    {
      "cell_type": "markdown",
      "metadata": {
        "id": "eKcBIH3-xThG"
      },
      "source": [
        "# Revisão do que vimos até agora nas aulas de Python"
      ]
    },
    {
      "cell_type": "markdown",
      "metadata": {
        "id": "VZKOLmJtxThJ"
      },
      "source": [
        "## Montagem do Drive no Google Colaboratory"
      ]
    },
    {
      "cell_type": "markdown",
      "metadata": {
        "id": "RfekTiChxThK"
      },
      "source": [
        "Ao escrevermos o código no *Google Colaboratory*, temos a grande vantagem de não precisamos instalar o Python no nosso computador pessoal, pois programamos tudo no servidor do próprio Google. Contudo, para que isso seja possível, é necessário que nossa internet seja estável. "
      ]
    },
    {
      "cell_type": "markdown",
      "metadata": {
        "id": "n43StqKwxThK"
      },
      "source": [
        "Quando começamos a usar o *Google Colaboratory*, precisamos fazer o login na nossa conta Google e, automaticamente, uma pasta de nome **Colab Notebooks** aparece no nosso Google Drive. \n",
        "\n",
        "Para facilitar a nossa vida, podemos deixar armazenado nessa pasta todos os códigos que programamos no *Google Colaboratory*. Além do notebook em si, muitas vezes precisamos salvar uma figura ou outro formato de arquivo, como csv, por exemplo. "
      ]
    },
    {
      "cell_type": "markdown",
      "metadata": {
        "id": "aDIYYdxZxThL"
      },
      "source": [
        "Para que você consiga acessar ou salvar qualquer tipo de arquivo na pasta **Colab Notebooks**, você precisa **antes** fazer a montagem do drive. Com esse procedimento, você consegue acessar a sua pasta **Colab Notebooks** pelo notebook que você está programando dentro do *Google Colaboratory*. "
      ]
    },
    {
      "cell_type": "markdown",
      "metadata": {
        "id": "30XwhID6xThL"
      },
      "source": [
        "Vamos ver agora como se faz esse procedimento."
      ]
    },
    {
      "cell_type": "markdown",
      "metadata": {
        "id": "2tqokLR9xThM"
      },
      "source": [
        "**1. Fazer a importação da biblioteca google.colab.**"
      ]
    },
    {
      "cell_type": "code",
      "metadata": {
        "id": "jAldxA3nxThM"
      },
      "source": [
        "from google.colab import drive "
      ],
      "execution_count": 1,
      "outputs": []
    },
    {
      "cell_type": "markdown",
      "metadata": {
        "id": "ly3TkLN-xThN"
      },
      "source": [
        "Se você estiver rodando o notebook no Jupyter Notebook, pule essa seção, pois resultará em erro ao rodar a célula acima. \n",
        "\n",
        "Repare que o código da importação está um pouco diferente do código que escrevemos para importar as bibliotecas em aula. Geralmente fazemos:\n",
        "- import *nome_da_biblioteca* as *abreviação_da_biblioteca*\n",
        "\n",
        "O que houve agora é que não queremos importar todo o conteúdo da biblioteca *google.colab*, mas apenas a função *drive* que está contida dentro dessa biblioteca, por isso o código foi escrito como:\n",
        "- from *nome_da_biblioteca* import *funcao_da_biblioteca*"
      ]
    },
    {
      "cell_type": "markdown",
      "metadata": {
        "id": "xf4Cf9jYxThN"
      },
      "source": [
        "**2. Solicitar a montagem do drive.**"
      ]
    },
    {
      "cell_type": "code",
      "metadata": {
        "id": "goNsWGjwxThO",
        "colab": {
          "base_uri": "https://localhost:8080/"
        },
        "outputId": "b6352cd1-c40c-41ec-f67b-46b649949034"
      },
      "source": [
        "drive.mount('/content/drive')"
      ],
      "execution_count": 2,
      "outputs": [
        {
          "output_type": "stream",
          "text": [
            "Mounted at /content/drive\n"
          ],
          "name": "stdout"
        }
      ]
    },
    {
      "cell_type": "markdown",
      "metadata": {
        "id": "LFu48KXJxThO"
      },
      "source": [
        "Ao rodar a célula acima, irá aparecer a mensagem para você acessar um link, você deve clicar no link e será redirecionado para outra aba do seu navegador. \n",
        "\n",
        "Nesse momento, possivelmente você precisará confirmar o seu login do Google a autorizar o Google a acessar o seu drive. Ao fazer isso, um código aparecerá para você copiar, você o copia clicando no \"quadradinho\" que aparece ao lado do código. \n",
        "\n",
        "Como último passo, você retorna a sua aba principal e cola esse código no espaço em branco que apareceu para você e aperte o ENTER do teclado. Pronto, a montagem do seu Drive será iniciada e você precisa aguardar. "
      ]
    },
    {
      "cell_type": "markdown",
      "metadata": {
        "id": "tJVnmVOoxThO"
      },
      "source": [
        "**3. Direcionar o Google Colaboratory para a sua pasta Colab Notebooks.**"
      ]
    },
    {
      "cell_type": "code",
      "metadata": {
        "id": "Dq7nTMd9xThP"
      },
      "source": [
        "import os"
      ],
      "execution_count": 3,
      "outputs": []
    },
    {
      "cell_type": "code",
      "metadata": {
        "id": "Cnby1FO6xThP"
      },
      "source": [
        "os.chdir('drive/MyDrive/Colab Notebooks')"
      ],
      "execution_count": 4,
      "outputs": []
    },
    {
      "cell_type": "code",
      "metadata": {
        "colab": {
          "base_uri": "https://localhost:8080/"
        },
        "id": "eRUysy2PLmJj",
        "outputId": "7a666b68-6b6b-4489-a358-b0d431611b7e"
      },
      "source": [
        "!ls # serve para mostrar os arquivos da pasta atual"
      ],
      "execution_count": 5,
      "outputs": [
        {
          "output_type": "stream",
          "text": [
            "'Aula3 (1).ipynb'   Aula3.ipynb\n"
          ],
          "name": "stdout"
        }
      ]
    },
    {
      "cell_type": "markdown",
      "metadata": {
        "id": "aHR325pTxThP"
      },
      "source": [
        "Nesse momento, o *Google Colaboratory* já está com acesso ao seu Drive, porém ao salvar alguma figura no seu notebook, a figura será sala na raíz do seu Drive. Para uma melhor organização, sugerimos que você direcione o *Google Colaboratory* para acessar a pasta *Colab Notebooks*. \n",
        "\n",
        "Para fazer isso, primeiro, é necessário importar a biblioteca *os*. Essa biblioteca é utilizada para lidar com informações e manipulação de diretórios e arquivos. Para mais informações, sobre essa biblioteca, ver o link https://docs.python.org/3/library/os.html.\n",
        "\n",
        "Como passo seguinte, utilizamos a função *chdir* da biblioteca *os* e o endereço da pasta *Colab Notebooks*. \n",
        "\n",
        "A função *chdir* é empregada para mudar o diretório de trabalho atual para outro. Basicamente, você vai mudar a execução do código da raiz do seu drive para uma pasta específica facilitando o acesso a documentos e localização de informações como gráficos que vão ser gerados.\n",
        "\n",
        "E pronto! =) ! Agora, você já consegue salvar e abrir arquivos que estão armazenados dentro da pasta *Colab Notebooks* do seu Google Drive. "
      ]
    },
    {
      "cell_type": "markdown",
      "metadata": {
        "id": "g6OTtb2rxThQ"
      },
      "source": [
        "Para mais informações sobre o *Google Colaboratory* veja o artigo:\n",
        "- https://bit.ly/2TErYr5"
      ]
    },
    {
      "cell_type": "markdown",
      "metadata": {
        "id": "a-tczivsxThQ"
      },
      "source": [
        "## Testando velocidade de processamento com GPU e sem GPU"
      ]
    },
    {
      "cell_type": "markdown",
      "metadata": {
        "id": "A0At_86_xThQ"
      },
      "source": [
        "Uma outra grande vantagem ao usarmos o Google Colaboratory é que ele permite que possamos usar o recurso de GPU para executar o seu programa, o que faz com que seu programa seja executado de modo muito mais rápido do que se estivesse usando o modo default. Para ativar essa opção, você precisa seguir o caminho:\n",
        "\n",
        "- Edit > Notebook settings > Modifique a opção Hardware accelerator para GPU\n",
        "\n",
        "Vamos testar se isso mesmo é verdade?"
      ]
    },
    {
      "cell_type": "markdown",
      "metadata": {
        "id": "21GzdvUXxThQ"
      },
      "source": [
        "Para comparar a execução do código, vamos utilizar a biblioteca *time*. Essa biblioteca provê o tempo de execução de certa célula."
      ]
    },
    {
      "cell_type": "code",
      "metadata": {
        "id": "MghEflocxThQ"
      },
      "source": [
        "import time "
      ],
      "execution_count": 2,
      "outputs": []
    },
    {
      "cell_type": "markdown",
      "metadata": {
        "id": "bpv8YnXjxThR"
      },
      "source": [
        "Para o teste, podemos usar um loop definido que vai de 0 até 1000. Para isso, vamos fazer uso do *for*. "
      ]
    },
    {
      "cell_type": "markdown",
      "metadata": {
        "id": "VzMBL6e0xThR"
      },
      "source": [
        "- Sem ativar o GPU:"
      ]
    },
    {
      "cell_type": "code",
      "metadata": {
        "id": "6r6KeUqdxThR",
        "scrolled": true,
        "colab": {
          "base_uri": "https://localhost:8080/"
        },
        "outputId": "85a66e6c-f69c-4db2-8b1c-e6a1678e0c3b"
      },
      "source": [
        "nn = 1000\n",
        "start = time.time() # inicializar o tempo inicial a ser levado em consideracao\n",
        "j = 0\n",
        "for i in range(nn):\n",
        "    j = j + 1\n",
        "end = time.time() # marca o tempo final a ser contabilizado\n",
        "print(end - start) # aqui o print ira fornecer o tempo total executado da linha do start ate a linha do end"
      ],
      "execution_count": 7,
      "outputs": [
        {
          "output_type": "stream",
          "text": [
            "0.0003540515899658203\n"
          ],
          "name": "stdout"
        }
      ]
    },
    {
      "cell_type": "markdown",
      "metadata": {
        "id": "sNDaLqySxThR"
      },
      "source": [
        "Na célula acima, primeio criamos a variável *nn* que recebe o valor de 1000. \n",
        "Na linha abaixo, criamos a variável *start* que irá armazenar o valor do tempo atual. Depois, a variável *j* foi declarada recebendo o valor 0. Finalmente, chegamos no loop definido com o *for* no qual tem o contador *i* que irá variar de 0 até *nn*. A cada iteração, o *j* é atualizado em 1 unidade pelo código: *j = j + 1*.\n",
        "\n",
        "Saindo do loop, ahhh como eu eu sei saímos do loop?\n",
        "\n",
        "Sabemos que esse loop tem apenas uma única linha, pois após a linha onde tem a atualização de *j* (*j=j+1*), a identação não existe mais, ou seja, a variável *end* é declarada no início da célula, alinhado com o *for*, não fazendo, então, parte do loop.  O *end* recebe o tempo atual e a contabilização do tempo é interrompida nesse momento. Por fim, o *print* irá imprimir para o usuário a duração total da execução do código desde a declaração do *start* até o *end*. "
      ]
    },
    {
      "cell_type": "markdown",
      "metadata": {
        "id": "04te-Os_xThS"
      },
      "source": [
        "Antes de ativar o GPU, vamos aumentar o *nn* para 100000000:"
      ]
    },
    {
      "cell_type": "code",
      "metadata": {
        "id": "JCDAzW_4xThS",
        "scrolled": true,
        "colab": {
          "base_uri": "https://localhost:8080/"
        },
        "outputId": "0f9464d8-4675-4255-af4c-edd4e50606a7"
      },
      "source": [
        "nn = 100000000\n",
        "start = time.time() # inicializar o tempo inicial a ser levado em consideracao\n",
        "j = 0\n",
        "for i in range(nn):\n",
        "    j = j + 1\n",
        "end = time.time() # marca o tempo final a ser contabilizado\n",
        "print(end - start) # aqui o print ira fornecer o tempo total executado da linha do start ate a linha do end"
      ],
      "execution_count": 8,
      "outputs": [
        {
          "output_type": "stream",
          "text": [
            "12.346805810928345\n"
          ],
          "name": "stdout"
        }
      ]
    },
    {
      "cell_type": "markdown",
      "metadata": {
        "id": "DqT5UqzoxThS"
      },
      "source": [
        "- Com o GPU ativado (Edit > Notebook settings > Modifique a opção Hardware accelerator para GPU):"
      ]
    },
    {
      "cell_type": "code",
      "metadata": {
        "id": "xUVoTNYuxThT",
        "scrolled": true,
        "colab": {
          "base_uri": "https://localhost:8080/"
        },
        "outputId": "5c9db113-2638-4adb-98e0-a65dcbc3c50e"
      },
      "source": [
        "nn = 1000\n",
        "start = time.time() # inicializar o tempo inicial a ser levado em consideracao\n",
        "j = 0\n",
        "for i in range(nn):\n",
        "    j = j + 1\n",
        "end = time.time() # marca o tempo final a ser contabilizado\n",
        "print(end - start) # aqui o print ira fornecer o tempo total executado da linha do start ate a linha do end"
      ],
      "execution_count": 3,
      "outputs": [
        {
          "output_type": "stream",
          "text": [
            "0.0002741813659667969\n"
          ],
          "name": "stdout"
        }
      ]
    },
    {
      "cell_type": "markdown",
      "metadata": {
        "id": "xn5HSOHMxThT"
      },
      "source": [
        "Antes de ativar o GPU, vamos aumentar o *nn* para 100000000:"
      ]
    },
    {
      "cell_type": "code",
      "metadata": {
        "id": "N_vhraDnxThT",
        "scrolled": true,
        "colab": {
          "base_uri": "https://localhost:8080/"
        },
        "outputId": "dbf2aa3d-8441-4e30-ec4b-e97a3cf30ab9"
      },
      "source": [
        "nn = 100000000\n",
        "start = time.time() # inicializar o tempo inicial a ser levado em consideracao\n",
        "j = 0\n",
        "for i in range(nn):\n",
        "    j = j + 1\n",
        "end = time.time() # marca o tempo final a ser contabilizado\n",
        "print(end - start) # aqui o print ira fornecer o tempo total executado da linha do start ate a linha do end"
      ],
      "execution_count": 4,
      "outputs": [
        {
          "output_type": "stream",
          "text": [
            "9.77730393409729\n"
          ],
          "name": "stdout"
        }
      ]
    },
    {
      "cell_type": "markdown",
      "metadata": {
        "id": "ZfwHcN6h0n-s"
      },
      "source": [
        "## Observação\n",
        "\n",
        "- No exemplo abordado conseguimos averiguar o ganho em termo de tempo de execução de uma aplicação simples. Porém sendo um código simples o ganho de performance não é tão evidente. Esse ganho é muito expressivo quando temos problemas mais complexos, sobretudo no treinamento de redes neurais que envolvem muitas operações. Nesses casos o processamento paralelo de uma GPU supera em proporções muito extraordinárias um processamento em série de uma CPU. "
      ]
    },
    {
      "cell_type": "markdown",
      "metadata": {
        "id": "DzgmDLiWxThU"
      },
      "source": [
        "# Declaração de variáveis"
      ]
    },
    {
      "cell_type": "markdown",
      "metadata": {
        "id": "_DGL5cWtxThU"
      },
      "source": [
        "Em Python, assim como em toda linguagem de programação, a declaração de variáveis se faz:\n",
        "\n",
        "- var = valor ou conjunto de valores\n",
        "\n",
        "onde *var* é o nome da variável que o usuário escolheu. "
      ]
    },
    {
      "cell_type": "markdown",
      "metadata": {
        "id": "w6RyooN5xThU"
      },
      "source": [
        "**1. Na célula a seguir, criamos a variável com nome *a* que recebe o número 10.**"
      ]
    },
    {
      "cell_type": "code",
      "metadata": {
        "id": "RjRHN1lHxThV"
      },
      "source": [
        "a = 10"
      ],
      "execution_count": 9,
      "outputs": []
    },
    {
      "cell_type": "code",
      "metadata": {
        "colab": {
          "base_uri": "https://localhost:8080/"
        },
        "id": "9HXzf07RPyad",
        "outputId": "6c69a3c3-38ad-4493-8f9d-1098162c54ba"
      },
      "source": [
        "a"
      ],
      "execution_count": 10,
      "outputs": [
        {
          "output_type": "execute_result",
          "data": {
            "text/plain": [
              "10"
            ]
          },
          "metadata": {
            "tags": []
          },
          "execution_count": 10
        }
      ]
    },
    {
      "cell_type": "markdown",
      "metadata": {
        "id": "ALMDe8C4xThV"
      },
      "source": [
        "Conseguimos saber que *a* é do tipo inteiro, pela função do Python *type*."
      ]
    },
    {
      "cell_type": "code",
      "metadata": {
        "id": "L6-fQtBAxThV",
        "colab": {
          "base_uri": "https://localhost:8080/"
        },
        "outputId": "238a0e02-e06b-44c9-b38e-eac4d538528e"
      },
      "source": [
        "type(a)"
      ],
      "execution_count": 11,
      "outputs": [
        {
          "output_type": "execute_result",
          "data": {
            "text/plain": [
              "int"
            ]
          },
          "metadata": {
            "tags": []
          },
          "execution_count": 11
        }
      ]
    },
    {
      "cell_type": "markdown",
      "metadata": {
        "id": "xtn9Aw5rxThV"
      },
      "source": [
        "**2. Crie, agora uma variável do tipo real, chamada *b*, que irá receber o valor 5.2.**"
      ]
    },
    {
      "cell_type": "code",
      "metadata": {
        "id": "YtsVRzyUxThV"
      },
      "source": [
        "b = 5.2"
      ],
      "execution_count": 12,
      "outputs": []
    },
    {
      "cell_type": "markdown",
      "metadata": {
        "id": "JW9xy5_sxThW"
      },
      "source": [
        "**3. Confirme o tipo de *b*.**"
      ]
    },
    {
      "cell_type": "code",
      "metadata": {
        "id": "AejfgB14xThW",
        "colab": {
          "base_uri": "https://localhost:8080/"
        },
        "outputId": "bc1cf632-b9ae-4ad1-a47e-bfe1556c2d2c"
      },
      "source": [
        "type(b),b"
      ],
      "execution_count": 13,
      "outputs": [
        {
          "output_type": "execute_result",
          "data": {
            "text/plain": [
              "(float, 5.2)"
            ]
          },
          "metadata": {
            "tags": []
          },
          "execution_count": 13
        }
      ]
    },
    {
      "cell_type": "markdown",
      "metadata": {
        "id": "BH1YSTolxThW"
      },
      "source": [
        "## Tipos de variáveis"
      ]
    },
    {
      "cell_type": "markdown",
      "metadata": {
        "id": "k0CX7HKMxThW"
      },
      "source": [
        "Com a Júlia, vocês foram apresentados aos diversos tipos que as variáveis em Python podem ser: \n",
        "- string --> *str*\n",
        "- inteiro --> *int*\n",
        "- real --> *float*\n",
        "- booleano --> *bool*\n",
        "- tupla --> *tuple*\n",
        "- lista --> *list*\n",
        "- vetor --> *array*\n",
        "- dicionário --> *dic*"
      ]
    },
    {
      "cell_type": "code",
      "metadata": {
        "id": "pmdyKadkQ8pv"
      },
      "source": [
        "a = '2'"
      ],
      "execution_count": 14,
      "outputs": []
    },
    {
      "cell_type": "code",
      "metadata": {
        "colab": {
          "base_uri": "https://localhost:8080/",
          "height": 35
        },
        "id": "wtV4jC1xQ_md",
        "outputId": "26ffd0c2-17f0-4ada-ebd6-14d4dc009d63"
      },
      "source": [
        "a*2"
      ],
      "execution_count": 15,
      "outputs": [
        {
          "output_type": "execute_result",
          "data": {
            "application/vnd.google.colaboratory.intrinsic+json": {
              "type": "string"
            },
            "text/plain": [
              "'22'"
            ]
          },
          "metadata": {
            "tags": []
          },
          "execution_count": 15
        }
      ]
    },
    {
      "cell_type": "code",
      "metadata": {
        "id": "BSxrQjLExThW",
        "colab": {
          "base_uri": "https://localhost:8080/"
        },
        "outputId": "ba906386-2143-4a82-e6d7-5f9affd615d1"
      },
      "source": [
        "type(True)"
      ],
      "execution_count": 16,
      "outputs": [
        {
          "output_type": "execute_result",
          "data": {
            "text/plain": [
              "bool"
            ]
          },
          "metadata": {
            "tags": []
          },
          "execution_count": 16
        }
      ]
    },
    {
      "cell_type": "markdown",
      "metadata": {
        "id": "efk1TNaNxThW"
      },
      "source": [
        "As variáveis do tipo *string* são variáveis que contém caracteres alfa-numéricos. Toda variável *string* que contém números, ela aparece entre aspas quando você a imprime na tela. Por exemplo:"
      ]
    },
    {
      "cell_type": "code",
      "metadata": {
        "id": "D4QHU_9RxThX"
      },
      "source": [
        "var = '5'"
      ],
      "execution_count": 17,
      "outputs": []
    },
    {
      "cell_type": "code",
      "metadata": {
        "id": "ZLsr79TbxThX",
        "colab": {
          "base_uri": "https://localhost:8080/",
          "height": 35
        },
        "outputId": "82dbc7c3-1cca-45c6-add4-21c8b4ddd997"
      },
      "source": [
        "var"
      ],
      "execution_count": 18,
      "outputs": [
        {
          "output_type": "execute_result",
          "data": {
            "application/vnd.google.colaboratory.intrinsic+json": {
              "type": "string"
            },
            "text/plain": [
              "'5'"
            ]
          },
          "metadata": {
            "tags": []
          },
          "execution_count": 18
        }
      ]
    },
    {
      "cell_type": "code",
      "metadata": {
        "id": "UW9TCeWrxThX",
        "colab": {
          "base_uri": "https://localhost:8080/"
        },
        "outputId": "1ca0250b-3272-43cd-8c6a-51baac2735eb"
      },
      "source": [
        "type(var)"
      ],
      "execution_count": 19,
      "outputs": [
        {
          "output_type": "execute_result",
          "data": {
            "text/plain": [
              "str"
            ]
          },
          "metadata": {
            "tags": []
          },
          "execution_count": 19
        }
      ]
    },
    {
      "cell_type": "markdown",
      "metadata": {
        "id": "j8XOwLasxThX"
      },
      "source": [
        "A variável *var* apesar de ser um número, ela é classificada como *string*. Como podemos fazer para convertê-la para uma variável do tipo *int*?"
      ]
    },
    {
      "cell_type": "code",
      "metadata": {
        "id": "4Eep7YUbxThX"
      },
      "source": [
        "var = int(var)"
      ],
      "execution_count": 20,
      "outputs": []
    },
    {
      "cell_type": "code",
      "metadata": {
        "colab": {
          "base_uri": "https://localhost:8080/"
        },
        "id": "mg7iVGHdRrxO",
        "outputId": "74f50e6c-81dc-4d29-a779-693898dc8db2"
      },
      "source": [
        "var,type(var)"
      ],
      "execution_count": 21,
      "outputs": [
        {
          "output_type": "execute_result",
          "data": {
            "text/plain": [
              "(5, int)"
            ]
          },
          "metadata": {
            "tags": []
          },
          "execution_count": 21
        }
      ]
    },
    {
      "cell_type": "code",
      "metadata": {
        "colab": {
          "base_uri": "https://localhost:8080/"
        },
        "id": "w4ZakNSPRv5M",
        "outputId": "6d51bbdd-8a4b-4963-aa53-c42eb16d2129"
      },
      "source": [
        "var*4"
      ],
      "execution_count": 26,
      "outputs": [
        {
          "output_type": "execute_result",
          "data": {
            "text/plain": [
              "20"
            ]
          },
          "metadata": {
            "tags": []
          },
          "execution_count": 26
        }
      ]
    },
    {
      "cell_type": "markdown",
      "metadata": {
        "id": "Ki8ooOj2xThY"
      },
      "source": [
        "Dica, para converter variáveis para inteiro, utiliza-se a função *int*. \n",
        "\n",
        "Já para converter variáveis para string, utiliza-se a função *str* e para converter para real, emprega-se a função *float*."
      ]
    },
    {
      "cell_type": "code",
      "metadata": {
        "id": "N6bS3I6SxThY",
        "colab": {
          "base_uri": "https://localhost:8080/"
        },
        "outputId": "250f43fd-8d4c-4585-af5e-f4e574833145"
      },
      "source": [
        "c = str(5)\n",
        "c, type(c)"
      ],
      "execution_count": 23,
      "outputs": [
        {
          "output_type": "execute_result",
          "data": {
            "text/plain": [
              "('5', str)"
            ]
          },
          "metadata": {
            "tags": []
          },
          "execution_count": 23
        }
      ]
    },
    {
      "cell_type": "code",
      "metadata": {
        "id": "dupDfFlOxThY",
        "colab": {
          "base_uri": "https://localhost:8080/"
        },
        "outputId": "7f040549-b05e-48a4-c858-a5aeca2ab491"
      },
      "source": [
        "nn = 4\n",
        "print(nn, type(nn))\n",
        "nn = float(nn)\n",
        "nn,type(nn)"
      ],
      "execution_count": 24,
      "outputs": [
        {
          "output_type": "stream",
          "text": [
            "4 <class 'int'>\n"
          ],
          "name": "stdout"
        },
        {
          "output_type": "execute_result",
          "data": {
            "text/plain": [
              "(4.0, float)"
            ]
          },
          "metadata": {
            "tags": []
          },
          "execution_count": 24
        }
      ]
    },
    {
      "cell_type": "markdown",
      "metadata": {
        "id": "KkMM1yp3xThZ"
      },
      "source": [
        "Na célula acima, utilizei o comando *print*, pois se não tivesse usado o mesmo, só seria impresso na tela a última linha da célula. \n",
        "\n",
        "Faça o teste."
      ]
    },
    {
      "cell_type": "code",
      "metadata": {
        "id": "3rMN-TK5xThZ",
        "colab": {
          "base_uri": "https://localhost:8080/"
        },
        "outputId": "cecde83e-e9ed-47fd-b879-16dde503353d"
      },
      "source": [
        "nn = 4\n",
        "nn, type(nn)\n",
        "nn = float(nn)\n",
        "nn,type(nn)"
      ],
      "execution_count": 25,
      "outputs": [
        {
          "output_type": "execute_result",
          "data": {
            "text/plain": [
              "(4.0, float)"
            ]
          },
          "metadata": {
            "tags": []
          },
          "execution_count": 25
        }
      ]
    },
    {
      "cell_type": "markdown",
      "metadata": {
        "id": "CD5tV_17xThZ"
      },
      "source": [
        "***"
      ]
    },
    {
      "cell_type": "markdown",
      "metadata": {
        "id": "BueUnUOHxTha"
      },
      "source": [
        "As listas são variáveis muito úteis em Python e que nos fornecem uma liberdade incrível, pois elas permitem que a gente armazene em uma única estrutura tipos diferentes de variáveis, vamos ver alguns exemplos. "
      ]
    },
    {
      "cell_type": "markdown",
      "metadata": {
        "id": "8U4hiMO6xTha"
      },
      "source": [
        "1. Lista de números inteiros"
      ]
    },
    {
      "cell_type": "code",
      "metadata": {
        "id": "EBMdI5kExTha"
      },
      "source": [
        "impares = [1,3,5,7,9,11,13,15,17,19,21]"
      ],
      "execution_count": 27,
      "outputs": []
    },
    {
      "cell_type": "code",
      "metadata": {
        "id": "bw0rKJQRxThb",
        "colab": {
          "base_uri": "https://localhost:8080/"
        },
        "outputId": "5749995d-7859-46cb-f9e1-88f5cd75c5c5"
      },
      "source": [
        "impares"
      ],
      "execution_count": 28,
      "outputs": [
        {
          "output_type": "execute_result",
          "data": {
            "text/plain": [
              "[1, 3, 5, 7, 9, 11, 13, 15, 17, 19, 21]"
            ]
          },
          "metadata": {
            "tags": []
          },
          "execution_count": 28
        }
      ]
    },
    {
      "cell_type": "code",
      "metadata": {
        "id": "I4jeLTwdxThb",
        "colab": {
          "base_uri": "https://localhost:8080/"
        },
        "outputId": "217284e4-30ec-4a16-967e-4dccf164f887"
      },
      "source": [
        "type(impares)"
      ],
      "execution_count": 29,
      "outputs": [
        {
          "output_type": "execute_result",
          "data": {
            "text/plain": [
              "list"
            ]
          },
          "metadata": {
            "tags": []
          },
          "execution_count": 29
        }
      ]
    },
    {
      "cell_type": "markdown",
      "metadata": {
        "id": "b372UuFHxThb"
      },
      "source": [
        "1.1. Imprima o número 17 da lista impares."
      ]
    },
    {
      "cell_type": "code",
      "metadata": {
        "id": "b_IRdRc6xThb",
        "colab": {
          "base_uri": "https://localhost:8080/"
        },
        "outputId": "be5f43de-39c8-4709-8823-fcab5cd725bb"
      },
      "source": [
        "impares[-3],impares[8], impares[impares.index(17)]"
      ],
      "execution_count": 37,
      "outputs": [
        {
          "output_type": "execute_result",
          "data": {
            "text/plain": [
              "(17, 17, 17)"
            ]
          },
          "metadata": {
            "tags": []
          },
          "execution_count": 37
        }
      ]
    },
    {
      "cell_type": "code",
      "metadata": {
        "colab": {
          "base_uri": "https://localhost:8080/"
        },
        "id": "C2_v8p8TTwS9",
        "outputId": "ce743627-fba8-4eca-f827-11fcc64a5a0e"
      },
      "source": [
        "impares.index(17)"
      ],
      "execution_count": 36,
      "outputs": [
        {
          "output_type": "execute_result",
          "data": {
            "text/plain": [
              "8"
            ]
          },
          "metadata": {
            "tags": []
          },
          "execution_count": 36
        }
      ]
    },
    {
      "cell_type": "markdown",
      "metadata": {
        "id": "EshZDYfSxThc"
      },
      "source": [
        "1.2. Imprima a posição do número 19 na lista impares."
      ]
    },
    {
      "cell_type": "code",
      "metadata": {
        "id": "u6LpJ2pDxThc",
        "colab": {
          "base_uri": "https://localhost:8080/"
        },
        "outputId": "1ca9efa9-cdcf-48ae-b720-10bf212eadbf"
      },
      "source": [
        "impares.index(19)"
      ],
      "execution_count": 38,
      "outputs": [
        {
          "output_type": "execute_result",
          "data": {
            "text/plain": [
              "9"
            ]
          },
          "metadata": {
            "tags": []
          },
          "execution_count": 38
        }
      ]
    },
    {
      "cell_type": "markdown",
      "metadata": {
        "id": "PvtpsmxRxThc"
      },
      "source": [
        "2. Lista de strings"
      ]
    },
    {
      "cell_type": "code",
      "metadata": {
        "id": "eLg4I2k7xThc"
      },
      "source": [
        "frutas = ['maca','pera','banana','abacaxi','goiaba','melao']"
      ],
      "execution_count": 39,
      "outputs": []
    },
    {
      "cell_type": "code",
      "metadata": {
        "id": "dWAdUqdqxThc",
        "colab": {
          "base_uri": "https://localhost:8080/"
        },
        "outputId": "752cc9d6-45c2-4db7-b001-73f76d2015f4"
      },
      "source": [
        "frutas"
      ],
      "execution_count": 40,
      "outputs": [
        {
          "output_type": "execute_result",
          "data": {
            "text/plain": [
              "['maca', 'pera', 'banana', 'abacaxi', 'goiaba', 'melao']"
            ]
          },
          "metadata": {
            "tags": []
          },
          "execution_count": 40
        }
      ]
    },
    {
      "cell_type": "code",
      "metadata": {
        "id": "nN2us_TWxThd",
        "scrolled": true,
        "colab": {
          "base_uri": "https://localhost:8080/"
        },
        "outputId": "5b45ca51-186d-460c-e23e-6626289ced57"
      },
      "source": [
        "type(frutas)"
      ],
      "execution_count": 41,
      "outputs": [
        {
          "output_type": "execute_result",
          "data": {
            "text/plain": [
              "list"
            ]
          },
          "metadata": {
            "tags": []
          },
          "execution_count": 41
        }
      ]
    },
    {
      "cell_type": "markdown",
      "metadata": {
        "id": "5D9LqqJYxThd"
      },
      "source": [
        "2.1. Imprima os elementos 'pera' e 'banana' da lista."
      ]
    },
    {
      "cell_type": "code",
      "metadata": {
        "id": "kmg4zzH1xThd",
        "colab": {
          "base_uri": "https://localhost:8080/"
        },
        "outputId": "5b9cf88a-89b3-4e6f-e8b6-0a64786c6153"
      },
      "source": [
        "frutas[1:3]"
      ],
      "execution_count": 42,
      "outputs": [
        {
          "output_type": "execute_result",
          "data": {
            "text/plain": [
              "['pera', 'banana']"
            ]
          },
          "metadata": {
            "tags": []
          },
          "execution_count": 42
        }
      ]
    },
    {
      "cell_type": "code",
      "metadata": {
        "colab": {
          "base_uri": "https://localhost:8080/"
        },
        "id": "gSRcaUCnUqHN",
        "outputId": "c60cef1f-5f0f-4067-e3fb-029caa76fe43"
      },
      "source": [
        "frutas[1:2]"
      ],
      "execution_count": 43,
      "outputs": [
        {
          "output_type": "execute_result",
          "data": {
            "text/plain": [
              "['pera']"
            ]
          },
          "metadata": {
            "tags": []
          },
          "execution_count": 43
        }
      ]
    },
    {
      "cell_type": "code",
      "metadata": {
        "colab": {
          "base_uri": "https://localhost:8080/"
        },
        "id": "QgyOzADdU-vQ",
        "outputId": "e0fb3ce4-5f7d-4a6b-f548-c93cc1ddad2f"
      },
      "source": [
        "print(f'{frutas[1]},{frutas[2]}')"
      ],
      "execution_count": 46,
      "outputs": [
        {
          "output_type": "stream",
          "text": [
            "pera,banana\n"
          ],
          "name": "stdout"
        }
      ]
    },
    {
      "cell_type": "markdown",
      "metadata": {
        "id": "2ctpq8hdxThd"
      },
      "source": [
        "2.2. Imprima todos os elementos de frutas com exceção do primeiro."
      ]
    },
    {
      "cell_type": "code",
      "metadata": {
        "colab": {
          "base_uri": "https://localhost:8080/"
        },
        "id": "hTRtAWsuVRSg",
        "outputId": "1c320cb1-da6a-44ab-ba16-8fd6eda42742"
      },
      "source": [
        "frutas"
      ],
      "execution_count": 47,
      "outputs": [
        {
          "output_type": "execute_result",
          "data": {
            "text/plain": [
              "['maca', 'pera', 'banana', 'abacaxi', 'goiaba', 'melao']"
            ]
          },
          "metadata": {
            "tags": []
          },
          "execution_count": 47
        }
      ]
    },
    {
      "cell_type": "code",
      "metadata": {
        "id": "zVnFBrTkxThd",
        "colab": {
          "base_uri": "https://localhost:8080/"
        },
        "outputId": "f2ebc233-b250-4950-9b9e-4871f4c4816e"
      },
      "source": [
        "frutas[1::],frutas[1:]"
      ],
      "execution_count": 49,
      "outputs": [
        {
          "output_type": "execute_result",
          "data": {
            "text/plain": [
              "(['pera', 'banana', 'abacaxi', 'goiaba', 'melao'],\n",
              " ['pera', 'banana', 'abacaxi', 'goiaba', 'melao'])"
            ]
          },
          "metadata": {
            "tags": []
          },
          "execution_count": 49
        }
      ]
    },
    {
      "cell_type": "markdown",
      "metadata": {
        "id": "49CLPe9LxThd"
      },
      "source": [
        "2.3. Imprima todos os elementos de frutas com exceção do primeiro e do último."
      ]
    },
    {
      "cell_type": "code",
      "metadata": {
        "id": "UByk_G9SxThe",
        "colab": {
          "base_uri": "https://localhost:8080/"
        },
        "outputId": "a0b17615-9a0a-4835-cbe0-6f1496890982"
      },
      "source": [
        "frutas[1:-1],frutas[1:5], frutas[1:len(frutas)-1]"
      ],
      "execution_count": 52,
      "outputs": [
        {
          "output_type": "execute_result",
          "data": {
            "text/plain": [
              "(['pera', 'banana', 'abacaxi', 'goiaba'],\n",
              " ['pera', 'banana', 'abacaxi', 'goiaba'],\n",
              " ['pera', 'banana', 'abacaxi', 'goiaba'])"
            ]
          },
          "metadata": {
            "tags": []
          },
          "execution_count": 52
        }
      ]
    },
    {
      "cell_type": "markdown",
      "metadata": {
        "id": "iARd47TLxThe"
      },
      "source": [
        "3. Tudo misturado..."
      ]
    },
    {
      "cell_type": "code",
      "metadata": {
        "id": "pYeG5nnsxThe"
      },
      "source": [
        "mistura = [1,2,'Python',[3.4,5,'a'],True]"
      ],
      "execution_count": 53,
      "outputs": []
    },
    {
      "cell_type": "code",
      "metadata": {
        "id": "U4PK273AxThf",
        "colab": {
          "base_uri": "https://localhost:8080/"
        },
        "outputId": "1fbec35d-21d8-4495-e494-46f3488ba8f9"
      },
      "source": [
        "mistura"
      ],
      "execution_count": 54,
      "outputs": [
        {
          "output_type": "execute_result",
          "data": {
            "text/plain": [
              "[1, 2, 'Python', [3.4, 5, 'a'], True]"
            ]
          },
          "metadata": {
            "tags": []
          },
          "execution_count": 54
        }
      ]
    },
    {
      "cell_type": "markdown",
      "metadata": {
        "id": "Iw4qtJaUxThf"
      },
      "source": [
        "3.1. Imprima o elemento 'a' de mistura"
      ]
    },
    {
      "cell_type": "code",
      "metadata": {
        "id": "lZW2NtA8xThf",
        "colab": {
          "base_uri": "https://localhost:8080/"
        },
        "outputId": "db70a9f5-8175-4a60-8335-ff58b4e27aa4"
      },
      "source": [
        "mistura[3][2], mistura[3][-1],mistura[-2][2],mistura[-2][-1]"
      ],
      "execution_count": 58,
      "outputs": [
        {
          "output_type": "execute_result",
          "data": {
            "text/plain": [
              "('a', 'a', 'a', 'a')"
            ]
          },
          "metadata": {
            "tags": []
          },
          "execution_count": 58
        }
      ]
    },
    {
      "cell_type": "code",
      "metadata": {
        "colab": {
          "base_uri": "https://localhost:8080/",
          "height": 35
        },
        "id": "YpZBSPrUW7eP",
        "outputId": "29fb9b77-0dfb-437a-8dee-0e5c4cde5718"
      },
      "source": [
        "mistura[2][1]"
      ],
      "execution_count": 59,
      "outputs": [
        {
          "output_type": "execute_result",
          "data": {
            "application/vnd.google.colaboratory.intrinsic+json": {
              "type": "string"
            },
            "text/plain": [
              "'y'"
            ]
          },
          "metadata": {
            "tags": []
          },
          "execution_count": 59
        }
      ]
    },
    {
      "cell_type": "markdown",
      "metadata": {
        "id": "jElyV9BoxThf"
      },
      "source": [
        "3.2. Troque *True* por *False* em mistura."
      ]
    },
    {
      "cell_type": "code",
      "metadata": {
        "id": "3bOkDoV0xThg",
        "colab": {
          "base_uri": "https://localhost:8080/"
        },
        "outputId": "05052083-b870-4102-df34-407f7bd5849b"
      },
      "source": [
        "mistura[4] = False\n",
        "mistura"
      ],
      "execution_count": 60,
      "outputs": [
        {
          "output_type": "execute_result",
          "data": {
            "text/plain": [
              "[1, 2, 'Python', [3.4, 5, 'a'], False]"
            ]
          },
          "metadata": {
            "tags": []
          },
          "execution_count": 60
        }
      ]
    },
    {
      "cell_type": "code",
      "metadata": {
        "id": "jIhjUCAwxThg"
      },
      "source": [
        ""
      ],
      "execution_count": null,
      "outputs": []
    },
    {
      "cell_type": "markdown",
      "metadata": {
        "id": "Or2YswlBxThg"
      },
      "source": [
        "## Funções aplicadas a listas"
      ]
    },
    {
      "cell_type": "markdown",
      "metadata": {
        "id": "YBjqHwHtxThg"
      },
      "source": [
        "### len"
      ]
    },
    {
      "cell_type": "markdown",
      "metadata": {
        "id": "XO6i2-fjxThh"
      },
      "source": [
        "Se eu quiser saber o tamanho total de uma lista, ou seja, quantos elementos a lista possui, eu uso a função *len*."
      ]
    },
    {
      "cell_type": "code",
      "metadata": {
        "id": "uCE478mtxThh",
        "colab": {
          "base_uri": "https://localhost:8080/"
        },
        "outputId": "9e121bb1-2690-445a-aeca-9d0a783d78ac"
      },
      "source": [
        "len(mistura)"
      ],
      "execution_count": 61,
      "outputs": [
        {
          "output_type": "execute_result",
          "data": {
            "text/plain": [
              "5"
            ]
          },
          "metadata": {
            "tags": []
          },
          "execution_count": 61
        }
      ]
    },
    {
      "cell_type": "code",
      "metadata": {
        "id": "Lo_NL6V4xThh",
        "colab": {
          "base_uri": "https://localhost:8080/"
        },
        "outputId": "597df2dc-6458-49f6-b343-298aa4cf696e"
      },
      "source": [
        "len(frutas)"
      ],
      "execution_count": 62,
      "outputs": [
        {
          "output_type": "execute_result",
          "data": {
            "text/plain": [
              "6"
            ]
          },
          "metadata": {
            "tags": []
          },
          "execution_count": 62
        }
      ]
    },
    {
      "cell_type": "code",
      "metadata": {
        "id": "5mdiWglXX-M4"
      },
      "source": [
        "lista = [1,2,3,4,5,6]"
      ],
      "execution_count": 68,
      "outputs": []
    },
    {
      "cell_type": "code",
      "metadata": {
        "colab": {
          "base_uri": "https://localhost:8080/"
        },
        "id": "6O_OIkAtYDpn",
        "outputId": "a51e685f-9536-43af-c5e1-8ecf22949a98"
      },
      "source": [
        "len(lista)"
      ],
      "execution_count": 69,
      "outputs": [
        {
          "output_type": "execute_result",
          "data": {
            "text/plain": [
              "6"
            ]
          },
          "metadata": {
            "tags": []
          },
          "execution_count": 69
        }
      ]
    },
    {
      "cell_type": "code",
      "metadata": {
        "colab": {
          "base_uri": "https://localhost:8080/"
        },
        "id": "QjB2t023YURy",
        "outputId": "b9849c09-a2ef-4afe-939f-94714a150182"
      },
      "source": [
        "tamanho = 0\n",
        "for i in lista:\n",
        "  #print(i)\n",
        "  tamanho = tamanho+1\n",
        "tamanho"
      ],
      "execution_count": 73,
      "outputs": [
        {
          "output_type": "execute_result",
          "data": {
            "text/plain": [
              "6"
            ]
          },
          "metadata": {
            "tags": []
          },
          "execution_count": 73
        }
      ]
    },
    {
      "cell_type": "code",
      "metadata": {
        "colab": {
          "base_uri": "https://localhost:8080/"
        },
        "id": "Azuaj9XpY-hZ",
        "outputId": "d33986cf-2237-4ee9-ccab-d53b52220f15"
      },
      "source": [
        "for i,j in enumerate(lista):\n",
        "  print(i,j)\n",
        "'''\n",
        "i --> posição dos elementos na lista\n",
        "j --> elementos da lista\n",
        "'''\n",
        "tamanho = i + 1\n",
        "tamanho "
      ],
      "execution_count": 75,
      "outputs": [
        {
          "output_type": "stream",
          "text": [
            "0 1\n",
            "1 2\n",
            "2 3\n",
            "3 4\n",
            "4 5\n",
            "5 6\n"
          ],
          "name": "stdout"
        },
        {
          "output_type": "execute_result",
          "data": {
            "text/plain": [
              "6"
            ]
          },
          "metadata": {
            "tags": []
          },
          "execution_count": 75
        }
      ]
    },
    {
      "cell_type": "code",
      "metadata": {
        "colab": {
          "base_uri": "https://localhost:8080/"
        },
        "id": "YfW873_oZb7Y",
        "outputId": "0cf96c6c-8a02-4c11-99f1-43826370bb54"
      },
      "source": [
        "for a in enumerate(lista):\n",
        "  print(a)"
      ],
      "execution_count": 76,
      "outputs": [
        {
          "output_type": "stream",
          "text": [
            "(0, 1)\n",
            "(1, 2)\n",
            "(2, 3)\n",
            "(3, 4)\n",
            "(4, 5)\n",
            "(5, 6)\n"
          ],
          "name": "stdout"
        }
      ]
    },
    {
      "cell_type": "code",
      "metadata": {
        "colab": {
          "base_uri": "https://localhost:8080/"
        },
        "id": "GPOhu2MhaKlC",
        "outputId": "0ac9960e-1c3e-46a6-fdd3-8ddea0c4de35"
      },
      "source": [
        "lista.index(lista[-1])+1"
      ],
      "execution_count": 84,
      "outputs": [
        {
          "output_type": "execute_result",
          "data": {
            "text/plain": [
              "6"
            ]
          },
          "metadata": {
            "tags": []
          },
          "execution_count": 84
        }
      ]
    },
    {
      "cell_type": "markdown",
      "metadata": {
        "id": "fnfjJnCRxThh"
      },
      "source": [
        "### sum"
      ]
    },
    {
      "cell_type": "markdown",
      "metadata": {
        "id": "EHvzZ9CPxThh"
      },
      "source": [
        "A função *sum* soma todos os elementos da lista, vamos testar?"
      ]
    },
    {
      "cell_type": "code",
      "metadata": {
        "id": "nAUiyNnHxThh",
        "colab": {
          "base_uri": "https://localhost:8080/",
          "height": 167
        },
        "outputId": "8b9de138-58e5-43fc-d2d1-74582f54d219"
      },
      "source": [
        "sum(frutas)"
      ],
      "execution_count": 63,
      "outputs": [
        {
          "output_type": "error",
          "ename": "TypeError",
          "evalue": "ignored",
          "traceback": [
            "\u001b[0;31m---------------------------------------------------------------------------\u001b[0m",
            "\u001b[0;31mTypeError\u001b[0m                                 Traceback (most recent call last)",
            "\u001b[0;32m<ipython-input-63-bea0dd4cf3c6>\u001b[0m in \u001b[0;36m<module>\u001b[0;34m()\u001b[0m\n\u001b[0;32m----> 1\u001b[0;31m \u001b[0msum\u001b[0m\u001b[0;34m(\u001b[0m\u001b[0mfrutas\u001b[0m\u001b[0;34m)\u001b[0m\u001b[0;34m\u001b[0m\u001b[0;34m\u001b[0m\u001b[0m\n\u001b[0m",
            "\u001b[0;31mTypeError\u001b[0m: unsupported operand type(s) for +: 'int' and 'str'"
          ]
        }
      ]
    },
    {
      "cell_type": "markdown",
      "metadata": {
        "id": "g5DKM0MMxThi"
      },
      "source": [
        "Sum somente pode ser aplicado a uma lista de números inteiros ou reais, se não, resultará em erro."
      ]
    },
    {
      "cell_type": "code",
      "metadata": {
        "id": "uTEeZpTqxThi",
        "colab": {
          "base_uri": "https://localhost:8080/"
        },
        "outputId": "2e67bc04-b002-498c-ab52-fa4e0870c681"
      },
      "source": [
        "sum(impares)"
      ],
      "execution_count": 64,
      "outputs": [
        {
          "output_type": "execute_result",
          "data": {
            "text/plain": [
              "121"
            ]
          },
          "metadata": {
            "tags": []
          },
          "execution_count": 64
        }
      ]
    },
    {
      "cell_type": "code",
      "metadata": {
        "id": "QeWLhHR7xThi",
        "colab": {
          "base_uri": "https://localhost:8080/"
        },
        "outputId": "a95bf262-140a-4c1b-bee1-83b8a1189457"
      },
      "source": [
        "sum([2.,3.,4,5,6,7])"
      ],
      "execution_count": 65,
      "outputs": [
        {
          "output_type": "execute_result",
          "data": {
            "text/plain": [
              "27.0"
            ]
          },
          "metadata": {
            "tags": []
          },
          "execution_count": 65
        }
      ]
    },
    {
      "cell_type": "code",
      "metadata": {
        "colab": {
          "base_uri": "https://localhost:8080/"
        },
        "id": "ZzWFtsWYbIK6",
        "outputId": "07c75257-f36f-4331-cd57-b280590442b8"
      },
      "source": [
        "lista"
      ],
      "execution_count": 85,
      "outputs": [
        {
          "output_type": "execute_result",
          "data": {
            "text/plain": [
              "[1, 2, 3, 4, 5, 6]"
            ]
          },
          "metadata": {
            "tags": []
          },
          "execution_count": 85
        }
      ]
    },
    {
      "cell_type": "code",
      "metadata": {
        "colab": {
          "base_uri": "https://localhost:8080/"
        },
        "id": "r5iqYhUEb-xB",
        "outputId": "a0c6057d-1398-4197-92a6-01043e2fdd31"
      },
      "source": [
        "sum(lista)"
      ],
      "execution_count": 88,
      "outputs": [
        {
          "output_type": "execute_result",
          "data": {
            "text/plain": [
              "21"
            ]
          },
          "metadata": {
            "tags": []
          },
          "execution_count": 88
        }
      ]
    },
    {
      "cell_type": "code",
      "metadata": {
        "colab": {
          "base_uri": "https://localhost:8080/"
        },
        "id": "T1PpdwlybK-P",
        "outputId": "27e08a8f-f1a4-4871-a116-0b87c01f58a6"
      },
      "source": [
        "soma = 0\n",
        "for i in lista:\n",
        "  soma = soma + i\n",
        "  print(i,soma)\n",
        "print(f'Somatório da lista:{soma}')"
      ],
      "execution_count": 87,
      "outputs": [
        {
          "output_type": "stream",
          "text": [
            "1 1\n",
            "2 3\n",
            "3 6\n",
            "4 10\n",
            "5 15\n",
            "6 21\n",
            "Somatório da lista:21\n"
          ],
          "name": "stdout"
        }
      ]
    },
    {
      "cell_type": "code",
      "metadata": {
        "colab": {
          "base_uri": "https://localhost:8080/"
        },
        "id": "Tj4vVTfgdWpi",
        "outputId": "4925faec-722d-48d6-cc09-4315584df944"
      },
      "source": [
        "lista"
      ],
      "execution_count": 92,
      "outputs": [
        {
          "output_type": "execute_result",
          "data": {
            "text/plain": [
              "[1, 2, 3, 4, 5, 6]"
            ]
          },
          "metadata": {
            "tags": []
          },
          "execution_count": 92
        }
      ]
    },
    {
      "cell_type": "code",
      "metadata": {
        "colab": {
          "base_uri": "https://localhost:8080/"
        },
        "id": "H1-QQdHpezaC",
        "outputId": "e6cf7dd5-7c6c-4e81-8c6c-3472882797a8"
      },
      "source": [
        "lista2 = lista.copy()\n",
        "lista2[0] = 6\n",
        "lista2"
      ],
      "execution_count": 101,
      "outputs": [
        {
          "output_type": "execute_result",
          "data": {
            "text/plain": [
              "[6, 2, 3, 4, 5, 6]"
            ]
          },
          "metadata": {
            "tags": []
          },
          "execution_count": 101
        }
      ]
    },
    {
      "cell_type": "code",
      "metadata": {
        "colab": {
          "base_uri": "https://localhost:8080/"
        },
        "id": "Qtoi5smIfRA6",
        "outputId": "6518a86f-3d28-460a-a557-981125247879"
      },
      "source": [
        "lista3 = lista\n",
        "lista3"
      ],
      "execution_count": 102,
      "outputs": [
        {
          "output_type": "execute_result",
          "data": {
            "text/plain": [
              "[1, 2, 3, 4, 5, 6]"
            ]
          },
          "metadata": {
            "tags": []
          },
          "execution_count": 102
        }
      ]
    },
    {
      "cell_type": "code",
      "metadata": {
        "colab": {
          "base_uri": "https://localhost:8080/"
        },
        "id": "dYd_Sg81fUYw",
        "outputId": "b92840b0-506e-4720-9f4c-b2eabf32af0c"
      },
      "source": [
        "lista3[1] = 10\n",
        "lista3"
      ],
      "execution_count": 103,
      "outputs": [
        {
          "output_type": "execute_result",
          "data": {
            "text/plain": [
              "[1, 10, 3, 4, 5, 6]"
            ]
          },
          "metadata": {
            "tags": []
          },
          "execution_count": 103
        }
      ]
    },
    {
      "cell_type": "code",
      "metadata": {
        "colab": {
          "base_uri": "https://localhost:8080/"
        },
        "id": "zxxqaBv6fX64",
        "outputId": "1e6d8b36-8d6b-4fc2-f1ae-dfd57920704b"
      },
      "source": [
        "lista"
      ],
      "execution_count": 104,
      "outputs": [
        {
          "output_type": "execute_result",
          "data": {
            "text/plain": [
              "[1, 10, 3, 4, 5, 6]"
            ]
          },
          "metadata": {
            "tags": []
          },
          "execution_count": 104
        }
      ]
    },
    {
      "cell_type": "code",
      "metadata": {
        "colab": {
          "base_uri": "https://localhost:8080/"
        },
        "id": "gifjdeEPcA9Y",
        "outputId": "530a6b6f-35ba-44be-fa74-8b54433c079e"
      },
      "source": [
        "soma = 0\n",
        "i = 0\n",
        "while i != len(lista2):\n",
        "  soma = soma + lista2[i]\n",
        "  i = i + 1\n",
        "print(f'Somatório da lista2:{soma}')"
      ],
      "execution_count": 100,
      "outputs": [
        {
          "output_type": "stream",
          "text": [
            "Somatório da lista2:26\n"
          ],
          "name": "stdout"
        }
      ]
    },
    {
      "cell_type": "markdown",
      "metadata": {
        "id": "AGPDO3wBxThi"
      },
      "source": [
        "### max, min"
      ]
    },
    {
      "cell_type": "markdown",
      "metadata": {
        "id": "jcxxrxQMxThi"
      },
      "source": [
        "As funções *max* e *min* são aplicadas para identificarmos os elementos máximo e mínimo de uma lista. "
      ]
    },
    {
      "cell_type": "code",
      "metadata": {
        "id": "DiXn_V_fxThj",
        "colab": {
          "base_uri": "https://localhost:8080/"
        },
        "outputId": "7559c775-2fad-4bc7-a8a3-4ff32a8aa1c8"
      },
      "source": [
        "max(impares)"
      ],
      "execution_count": 66,
      "outputs": [
        {
          "output_type": "execute_result",
          "data": {
            "text/plain": [
              "21"
            ]
          },
          "metadata": {
            "tags": []
          },
          "execution_count": 66
        }
      ]
    },
    {
      "cell_type": "code",
      "metadata": {
        "id": "bLjPBdg3xThj",
        "colab": {
          "base_uri": "https://localhost:8080/"
        },
        "outputId": "34300c70-1784-49d6-b918-04ad649fec00"
      },
      "source": [
        "min(impares)"
      ],
      "execution_count": 67,
      "outputs": [
        {
          "output_type": "execute_result",
          "data": {
            "text/plain": [
              "1"
            ]
          },
          "metadata": {
            "tags": []
          },
          "execution_count": 67
        }
      ]
    },
    {
      "cell_type": "code",
      "metadata": {
        "colab": {
          "base_uri": "https://localhost:8080/"
        },
        "id": "r1OrexO7kbGx",
        "outputId": "0078c566-65d4-42a5-eab2-9e30bace8393"
      },
      "source": [
        "impares"
      ],
      "execution_count": 105,
      "outputs": [
        {
          "output_type": "execute_result",
          "data": {
            "text/plain": [
              "[1, 3, 5, 7, 9, 11, 13, 15, 17, 19, 21]"
            ]
          },
          "metadata": {
            "tags": []
          },
          "execution_count": 105
        }
      ]
    },
    {
      "cell_type": "code",
      "metadata": {
        "id": "R1ux0xoIkZDT"
      },
      "source": [
        "maior_val = impares[0]\n",
        "for i in range(1,len(impares)):\n",
        "  if maior_val < impares[i]:\n",
        "    maior_val = impares[i]\n",
        "  print(i,maior_val)"
      ],
      "execution_count": null,
      "outputs": []
    },
    {
      "cell_type": "code",
      "metadata": {
        "colab": {
          "base_uri": "https://localhost:8080/"
        },
        "id": "oFs6ST70lbBM",
        "outputId": "64489478-275a-4b6c-d958-cd865628d6f5"
      },
      "source": [
        "maior_val = impares[0]\n",
        "for i in impares:\n",
        "  if i > maior_val:\n",
        "    maior_val = i\n",
        "print(f'maior valor:{maior_val}')"
      ],
      "execution_count": 111,
      "outputs": [
        {
          "output_type": "stream",
          "text": [
            "maior valor:21\n"
          ],
          "name": "stdout"
        }
      ]
    },
    {
      "cell_type": "code",
      "metadata": {
        "colab": {
          "base_uri": "https://localhost:8080/"
        },
        "id": "BxpwrULrmIyO",
        "outputId": "a7759b19-13dd-4198-c1f2-e18f0c82f689"
      },
      "source": [
        "menor = impares[0]\n",
        "maior = impares[0]\n",
        "\n",
        "for i in impares:\n",
        "  if i < menor:\n",
        "    menor = i\n",
        "  if i > maior:\n",
        "    maior = i\n",
        "print(f'maior valor:{maior}')\n",
        "print(f'menor valor:{menor}')"
      ],
      "execution_count": 112,
      "outputs": [
        {
          "output_type": "stream",
          "text": [
            "maior valor:21\n",
            "menor valor:1\n"
          ],
          "name": "stdout"
        }
      ]
    },
    {
      "cell_type": "code",
      "metadata": {
        "colab": {
          "base_uri": "https://localhost:8080/"
        },
        "id": "ARicEuXDmtGt",
        "outputId": "546a422e-bf58-486a-9b05-8fe7b6346951"
      },
      "source": [
        "menor = impares[0]\n",
        "maior = impares[0]\n",
        "\n",
        "for j,i in enumerate(impares):\n",
        "  if i < menor:\n",
        "    menor = i\n",
        "  if i > maior:\n",
        "    maior = i\n",
        "print(f'maior valor:{maior}')\n",
        "print(f'menor valor:{menor}')"
      ],
      "execution_count": 116,
      "outputs": [
        {
          "output_type": "stream",
          "text": [
            "maior valor:21\n",
            "menor valor:1\n"
          ],
          "name": "stdout"
        }
      ]
    },
    {
      "cell_type": "code",
      "metadata": {
        "id": "_05mqA9znEC9"
      },
      "source": [
        "import sys"
      ],
      "execution_count": 114,
      "outputs": []
    },
    {
      "cell_type": "code",
      "metadata": {
        "colab": {
          "base_uri": "https://localhost:8080/"
        },
        "id": "GJLtE6gbnF0D",
        "outputId": "e54a7bde-29f8-4509-a656-7458908d584b"
      },
      "source": [
        "maior = sys.float_info.max \n",
        "menor = sys.float_info.min\n",
        "print(maior,menor) "
      ],
      "execution_count": 115,
      "outputs": [
        {
          "output_type": "stream",
          "text": [
            "1.7976931348623157e+308 2.2250738585072014e-308\n"
          ],
          "name": "stdout"
        }
      ]
    },
    {
      "cell_type": "code",
      "metadata": {
        "colab": {
          "base_uri": "https://localhost:8080/"
        },
        "id": "xgBXXBqmn9Bd",
        "outputId": "5c26ec8b-6657-4fd4-fcb8-4c747ec0dc15"
      },
      "source": [
        "lista2 = [-10,-300,-20,-5]\n",
        "lista2"
      ],
      "execution_count": 118,
      "outputs": [
        {
          "output_type": "execute_result",
          "data": {
            "text/plain": [
              "[-10, -300, -20, -5]"
            ]
          },
          "metadata": {
            "tags": []
          },
          "execution_count": 118
        }
      ]
    },
    {
      "cell_type": "code",
      "metadata": {
        "colab": {
          "base_uri": "https://localhost:8080/"
        },
        "id": "EwPTTmxMnezd",
        "outputId": "15851096-0f02-47a7-f188-73ba10304602"
      },
      "source": [
        "menor = sys.float_info.max\n",
        "maior = -sys.float_info.max\n",
        "\n",
        "for j,i in enumerate(lista2):\n",
        "  if i < menor:\n",
        "    print('loop1',i,menor)\n",
        "    menor = i\n",
        "    print('loop1',i,menor)\n",
        "  if i > maior:\n",
        "    print('loop2',i,maior)\n",
        "    maior = i\n",
        "    print('loop2',i,maior)\n",
        "  input()\n",
        "print(f'maior valor:{maior}')\n",
        "print(f'menor valor:{menor}')"
      ],
      "execution_count": 121,
      "outputs": [
        {
          "output_type": "stream",
          "text": [
            "loop1 -10 1.7976931348623157e+308\n",
            "loop1 -10 -10\n",
            "loop2 -10 -1.7976931348623157e+308\n",
            "loop2 -10 -10\n",
            "\n",
            "loop1 -300 -10\n",
            "loop1 -300 -300\n",
            "\n",
            "\n",
            "loop2 -5 -10\n",
            "loop2 -5 -5\n",
            "\n",
            "maior valor:-5\n",
            "menor valor:-300\n"
          ],
          "name": "stdout"
        }
      ]
    },
    {
      "cell_type": "markdown",
      "metadata": {
        "id": "BDzqC1bTxThj"
      },
      "source": [
        "## Métodos aplicados a listas"
      ]
    },
    {
      "cell_type": "markdown",
      "metadata": {
        "id": "MlfQnklpxThj"
      },
      "source": [
        "Bom, temos as funções aplicadas a listas (que acabamos de ver) e temos os métodos aplicados a listas.\n",
        "\n",
        "**Qual é a diferença entre métodos e listas?**\n",
        "\n",
        "Na função, usamos o nome da função e entre ( ) escrevemos a lista na qual queremos que a função seja aplicada. Já em métodos, escrevemos o nome da lista ponto o método que queremos aplicar nessa lista. Vamos ver um exemplo:\n",
        "\n"
      ]
    },
    {
      "cell_type": "markdown",
      "metadata": {
        "id": "IuDKpQ4NxThj"
      },
      "source": [
        "### append"
      ]
    },
    {
      "cell_type": "markdown",
      "metadata": {
        "id": "ypqdwn39xThk"
      },
      "source": [
        "O *append* é um método usado para adicionar elementos na última posição da lista. Vamos adicionar a palavra \"melancia\" na lista frutas."
      ]
    },
    {
      "cell_type": "code",
      "metadata": {
        "id": "jnl6f78sxThk",
        "colab": {
          "base_uri": "https://localhost:8080/"
        },
        "outputId": "b9e39f96-ef10-4055-e8dd-8426e9636ce9"
      },
      "source": [
        "frutas"
      ],
      "execution_count": 122,
      "outputs": [
        {
          "output_type": "execute_result",
          "data": {
            "text/plain": [
              "['maca', 'pera', 'banana', 'abacaxi', 'goiaba', 'melao']"
            ]
          },
          "metadata": {
            "tags": []
          },
          "execution_count": 122
        }
      ]
    },
    {
      "cell_type": "code",
      "metadata": {
        "id": "ZJzbK5IMxThk"
      },
      "source": [
        "frutas.append('melancia')"
      ],
      "execution_count": 123,
      "outputs": []
    },
    {
      "cell_type": "code",
      "metadata": {
        "id": "MelKR24MxThk",
        "scrolled": true,
        "colab": {
          "base_uri": "https://localhost:8080/"
        },
        "outputId": "9b503571-3399-4576-a9d2-184e3b91d426"
      },
      "source": [
        "frutas"
      ],
      "execution_count": 124,
      "outputs": [
        {
          "output_type": "execute_result",
          "data": {
            "text/plain": [
              "['maca', 'pera', 'banana', 'abacaxi', 'goiaba', 'melao', 'melancia']"
            ]
          },
          "metadata": {
            "tags": []
          },
          "execution_count": 124
        }
      ]
    },
    {
      "cell_type": "markdown",
      "metadata": {
        "id": "CKNLuvGkxThk"
      },
      "source": [
        "Contudo, não podemos fazer a adição de mais de um elemento de modo simultâneo usando o *append*."
      ]
    },
    {
      "cell_type": "code",
      "metadata": {
        "id": "7Ejv9xwhrbDO"
      },
      "source": [
        "frutas.append(['morango','abacate'])"
      ],
      "execution_count": 126,
      "outputs": []
    },
    {
      "cell_type": "code",
      "metadata": {
        "colab": {
          "base_uri": "https://localhost:8080/"
        },
        "id": "I_AEajrrrhk1",
        "outputId": "74ea3842-60b4-4b5e-effc-3b45cf36d0e6"
      },
      "source": [
        "frutas"
      ],
      "execution_count": 127,
      "outputs": [
        {
          "output_type": "execute_result",
          "data": {
            "text/plain": [
              "['maca',\n",
              " 'pera',\n",
              " 'banana',\n",
              " 'abacaxi',\n",
              " 'goiaba',\n",
              " 'melao',\n",
              " 'melancia',\n",
              " ['morango', 'abacate']]"
            ]
          },
          "metadata": {
            "tags": []
          },
          "execution_count": 127
        }
      ]
    },
    {
      "cell_type": "code",
      "metadata": {
        "colab": {
          "base_uri": "https://localhost:8080/"
        },
        "id": "kiFN6Y8srlQg",
        "outputId": "c2a53ff4-008d-490d-a8c0-0ca30ed0d807"
      },
      "source": [
        "frutas[-1]"
      ],
      "execution_count": 128,
      "outputs": [
        {
          "output_type": "execute_result",
          "data": {
            "text/plain": [
              "['morango', 'abacate']"
            ]
          },
          "metadata": {
            "tags": []
          },
          "execution_count": 128
        }
      ]
    },
    {
      "cell_type": "markdown",
      "metadata": {
        "id": "TL4VRSnbxThl"
      },
      "source": [
        "### extend"
      ]
    },
    {
      "cell_type": "markdown",
      "metadata": {
        "id": "SLBXXnD7xThl"
      },
      "source": [
        "Para adicionar mais de um elemento de modo simultâneo dentro de uma lista, podemos usar o *extend*."
      ]
    },
    {
      "cell_type": "markdown",
      "metadata": {
        "id": "-GvDlCjuxThl"
      },
      "source": [
        "Adicionando 'morango' e 'limao' com um único comando na lista *frutas*:"
      ]
    },
    {
      "cell_type": "code",
      "metadata": {
        "colab": {
          "base_uri": "https://localhost:8080/"
        },
        "id": "TRTj_8nsrQma",
        "outputId": "a93d8303-2e41-4f24-ef53-1be6d8321cbf"
      },
      "source": [
        "frutas"
      ],
      "execution_count": 125,
      "outputs": [
        {
          "output_type": "execute_result",
          "data": {
            "text/plain": [
              "['maca', 'pera', 'banana', 'abacaxi', 'goiaba', 'melao', 'melancia']"
            ]
          },
          "metadata": {
            "tags": []
          },
          "execution_count": 125
        }
      ]
    },
    {
      "cell_type": "code",
      "metadata": {
        "id": "3KcchdI1xThl"
      },
      "source": [
        "frutas.extend(['morango','limao'])"
      ],
      "execution_count": 129,
      "outputs": []
    },
    {
      "cell_type": "code",
      "metadata": {
        "colab": {
          "base_uri": "https://localhost:8080/"
        },
        "id": "UeI9wZNuxThl",
        "outputId": "fb59d7e0-6416-4274-f868-be92b9c81d44"
      },
      "source": [
        "frutas"
      ],
      "execution_count": 130,
      "outputs": [
        {
          "output_type": "execute_result",
          "data": {
            "text/plain": [
              "['maca',\n",
              " 'pera',\n",
              " 'banana',\n",
              " 'abacaxi',\n",
              " 'goiaba',\n",
              " 'melao',\n",
              " 'melancia',\n",
              " ['morango', 'abacate'],\n",
              " 'morango',\n",
              " 'limao']"
            ]
          },
          "metadata": {
            "tags": []
          },
          "execution_count": 130
        }
      ]
    },
    {
      "cell_type": "code",
      "metadata": {
        "colab": {
          "base_uri": "https://localhost:8080/"
        },
        "id": "2AHoMedFr-mE",
        "outputId": "0a0d6e51-8a8b-401e-a050-373e7d374f4c"
      },
      "source": [
        "frutas = frutas + ['morango','limao']\n",
        "frutas"
      ],
      "execution_count": 131,
      "outputs": [
        {
          "output_type": "execute_result",
          "data": {
            "text/plain": [
              "['maca',\n",
              " 'pera',\n",
              " 'banana',\n",
              " 'abacaxi',\n",
              " 'goiaba',\n",
              " 'melao',\n",
              " 'melancia',\n",
              " ['morango', 'abacate'],\n",
              " 'morango',\n",
              " 'limao',\n",
              " 'morango',\n",
              " 'limao']"
            ]
          },
          "metadata": {
            "tags": []
          },
          "execution_count": 131
        }
      ]
    },
    {
      "cell_type": "markdown",
      "metadata": {
        "id": "8loTFEDSxThm"
      },
      "source": [
        "### pop"
      ]
    },
    {
      "cell_type": "markdown",
      "metadata": {
        "id": "kDB5zuzlxThm"
      },
      "source": [
        "lista.pop(idx) remove e retorna o elemento de index igual a idx da lista:"
      ]
    },
    {
      "cell_type": "code",
      "metadata": {
        "colab": {
          "base_uri": "https://localhost:8080/"
        },
        "id": "G4btF9SmtXLH",
        "outputId": "7db16a60-7d0c-4690-8380-c854891236cf"
      },
      "source": [
        "frutas"
      ],
      "execution_count": 132,
      "outputs": [
        {
          "output_type": "execute_result",
          "data": {
            "text/plain": [
              "['maca',\n",
              " 'pera',\n",
              " 'banana',\n",
              " 'abacaxi',\n",
              " 'goiaba',\n",
              " 'melao',\n",
              " 'melancia',\n",
              " ['morango', 'abacate'],\n",
              " 'morango',\n",
              " 'limao',\n",
              " 'morango',\n",
              " 'limao']"
            ]
          },
          "metadata": {
            "tags": []
          },
          "execution_count": 132
        }
      ]
    },
    {
      "cell_type": "code",
      "metadata": {
        "colab": {
          "base_uri": "https://localhost:8080/"
        },
        "id": "816oZrHOthjd",
        "outputId": "fbfc62a8-2b93-4477-f1fd-25b0ec8a50e6"
      },
      "source": [
        "frutas.pop(-5)"
      ],
      "execution_count": 133,
      "outputs": [
        {
          "output_type": "execute_result",
          "data": {
            "text/plain": [
              "['morango', 'abacate']"
            ]
          },
          "metadata": {
            "tags": []
          },
          "execution_count": 133
        }
      ]
    },
    {
      "cell_type": "code",
      "metadata": {
        "colab": {
          "base_uri": "https://localhost:8080/"
        },
        "id": "O2J_DL-btlk_",
        "outputId": "373c61e3-4545-4b91-f1f0-d38e48c6a854"
      },
      "source": [
        "frutas "
      ],
      "execution_count": 134,
      "outputs": [
        {
          "output_type": "execute_result",
          "data": {
            "text/plain": [
              "['maca',\n",
              " 'pera',\n",
              " 'banana',\n",
              " 'abacaxi',\n",
              " 'goiaba',\n",
              " 'melao',\n",
              " 'melancia',\n",
              " 'morango',\n",
              " 'limao',\n",
              " 'morango',\n",
              " 'limao']"
            ]
          },
          "metadata": {
            "tags": []
          },
          "execution_count": 134
        }
      ]
    },
    {
      "cell_type": "code",
      "metadata": {
        "colab": {
          "base_uri": "https://localhost:8080/",
          "height": 35
        },
        "id": "ai-K5lGBxThm",
        "outputId": "a40fc1cc-6a93-4128-af6f-9a11c5b8556a"
      },
      "source": [
        "frutas.pop(2)"
      ],
      "execution_count": 135,
      "outputs": [
        {
          "output_type": "execute_result",
          "data": {
            "application/vnd.google.colaboratory.intrinsic+json": {
              "type": "string"
            },
            "text/plain": [
              "'banana'"
            ]
          },
          "metadata": {
            "tags": []
          },
          "execution_count": 135
        }
      ]
    },
    {
      "cell_type": "markdown",
      "metadata": {
        "id": "sE3Z3aE5xThm"
      },
      "source": [
        "Repare que a célula anterior imprimiu a palavra 'banana', indicando que esse elemento foi eliminado da lista *frutas*. Banana foi eliminada pois ocupava o index 2 da lista *frutas*."
      ]
    },
    {
      "cell_type": "code",
      "metadata": {
        "colab": {
          "base_uri": "https://localhost:8080/"
        },
        "id": "_ADQU8kHxThm",
        "outputId": "68ab0858-8bbd-4a1c-8405-b9f11834b2e2"
      },
      "source": [
        "frutas"
      ],
      "execution_count": 137,
      "outputs": [
        {
          "output_type": "execute_result",
          "data": {
            "text/plain": [
              "['maca',\n",
              " 'pera',\n",
              " 'abacaxi',\n",
              " 'goiaba',\n",
              " 'melao',\n",
              " 'melancia',\n",
              " 'morango',\n",
              " 'limao',\n",
              " 'morango',\n",
              " 'limao']"
            ]
          },
          "metadata": {
            "tags": []
          },
          "execution_count": 137
        }
      ]
    },
    {
      "cell_type": "code",
      "metadata": {
        "colab": {
          "base_uri": "https://localhost:8080/",
          "height": 35
        },
        "id": "qNoFLrJJt5C3",
        "outputId": "0210b16f-19b6-4db2-ea3d-0ad627dbe887"
      },
      "source": [
        "elem_eliminado = frutas.pop(-1)\n",
        "elem_eliminado "
      ],
      "execution_count": 138,
      "outputs": [
        {
          "output_type": "execute_result",
          "data": {
            "application/vnd.google.colaboratory.intrinsic+json": {
              "type": "string"
            },
            "text/plain": [
              "'limao'"
            ]
          },
          "metadata": {
            "tags": []
          },
          "execution_count": 138
        }
      ]
    },
    {
      "cell_type": "markdown",
      "metadata": {
        "id": "b3LPh8JnxThm"
      },
      "source": [
        "## Identificação de elementos pertencentes a lista"
      ]
    },
    {
      "cell_type": "markdown",
      "metadata": {
        "id": "Va4iGN5TxThn"
      },
      "source": [
        "Para checarmos se um elemento pertence ou não a uma lista, podemos fazer uso da palavra *in*. Por exemplo, na lista *frutas* vamos perguntar se 'goiaba' está presente:"
      ]
    },
    {
      "cell_type": "code",
      "metadata": {
        "colab": {
          "base_uri": "https://localhost:8080/"
        },
        "id": "2LkTUNoJuOsY",
        "outputId": "1ba59c96-2eae-4fe9-a577-39298995c028"
      },
      "source": [
        "frutas"
      ],
      "execution_count": 139,
      "outputs": [
        {
          "output_type": "execute_result",
          "data": {
            "text/plain": [
              "['maca',\n",
              " 'pera',\n",
              " 'abacaxi',\n",
              " 'goiaba',\n",
              " 'melao',\n",
              " 'melancia',\n",
              " 'morango',\n",
              " 'limao',\n",
              " 'morango']"
            ]
          },
          "metadata": {
            "tags": []
          },
          "execution_count": 139
        }
      ]
    },
    {
      "cell_type": "code",
      "metadata": {
        "id": "hvB0mk18xThn",
        "colab": {
          "base_uri": "https://localhost:8080/"
        },
        "outputId": "4356e3d4-066b-4ae6-981e-415a85c85cec"
      },
      "source": [
        "'goiaba' in frutas"
      ],
      "execution_count": 140,
      "outputs": [
        {
          "output_type": "execute_result",
          "data": {
            "text/plain": [
              "True"
            ]
          },
          "metadata": {
            "tags": []
          },
          "execution_count": 140
        }
      ]
    },
    {
      "cell_type": "markdown",
      "metadata": {
        "id": "-9xnf6oXxThn"
      },
      "source": [
        "E uva?"
      ]
    },
    {
      "cell_type": "code",
      "metadata": {
        "id": "JvDnaTpYxThn",
        "colab": {
          "base_uri": "https://localhost:8080/"
        },
        "outputId": "c29f92a3-c5b0-4ba2-9a3c-ec8957e267c2"
      },
      "source": [
        "'uva' in frutas"
      ],
      "execution_count": 141,
      "outputs": [
        {
          "output_type": "execute_result",
          "data": {
            "text/plain": [
              "False"
            ]
          },
          "metadata": {
            "tags": []
          },
          "execution_count": 141
        }
      ]
    },
    {
      "cell_type": "code",
      "metadata": {
        "colab": {
          "base_uri": "https://localhost:8080/"
        },
        "id": "sEIHF337uoT9",
        "outputId": "7a629244-8ecd-4b51-cf21-806c79968e0b"
      },
      "source": [
        "elemento = 'uva'\n",
        "if elemento in frutas:\n",
        "  print(elemento,frutas.index(elemento))\n",
        "else:\n",
        "  print(f'{elemento} nao pertence a frutas')"
      ],
      "execution_count": 144,
      "outputs": [
        {
          "output_type": "stream",
          "text": [
            "uva nao pertence a frutas\n"
          ],
          "name": "stdout"
        }
      ]
    },
    {
      "cell_type": "markdown",
      "metadata": {
        "id": "xLLBYXL7xThn"
      },
      "source": [
        "## Exercício"
      ]
    },
    {
      "cell_type": "markdown",
      "metadata": {
        "id": "Mr8lLz8GxThn"
      },
      "source": [
        "Quais são os comprimentos das seguintes listas?\n",
        "\n",
        "Preencha na variável *comp* as suas respostas. Tente fazer a previsão do comprimento de cada lista sem utilizar a função *len*."
      ]
    },
    {
      "cell_type": "code",
      "metadata": {
        "id": "JucLJ9eyxTho"
      },
      "source": [
        "a = [1, 2, 3]\n",
        "b = [1, [2, 3]]\n",
        "c = []\n",
        "d = [1, 2, 3][1:]"
      ],
      "execution_count": 145,
      "outputs": []
    },
    {
      "cell_type": "code",
      "metadata": {
        "id": "M-vkJz4pvx1Z"
      },
      "source": [
        " def compr(x):\n",
        "   if x == []:\n",
        "     compr = 0\n",
        "   else:\n",
        "     compr = x.index(x[-1])+1\n",
        "   return compr"
      ],
      "execution_count": 151,
      "outputs": []
    },
    {
      "cell_type": "code",
      "metadata": {
        "id": "VEqO0001xTho",
        "colab": {
          "base_uri": "https://localhost:8080/"
        },
        "outputId": "1e8d5408-257f-439d-8762-c23c9b90ff13"
      },
      "source": [
        "comp = [compr(a),compr(b),compr(c),compr(d)]\n",
        "comp "
      ],
      "execution_count": 155,
      "outputs": [
        {
          "output_type": "execute_result",
          "data": {
            "text/plain": [
              "[3, 2, 0, 2]"
            ]
          },
          "metadata": {
            "tags": []
          },
          "execution_count": 155
        }
      ]
    },
    {
      "cell_type": "code",
      "metadata": {
        "id": "TuxdkTm4w81f"
      },
      "source": [
        "def compr2(x):\n",
        "  if x == []:\n",
        "    return 0\n",
        "  else:\n",
        "    for i,j in enumerate(x):\n",
        "      pass\n",
        "    return i+1"
      ],
      "execution_count": 174,
      "outputs": []
    },
    {
      "cell_type": "code",
      "metadata": {
        "colab": {
          "base_uri": "https://localhost:8080/"
        },
        "id": "1J2gvEe1xMUZ",
        "outputId": "330d47bd-44d4-4674-ab68-a2ccf1dc385c"
      },
      "source": [
        "comp = [compr2(a),compr2(b),compr2(c),compr2(d)]\n",
        "comp "
      ],
      "execution_count": 175,
      "outputs": [
        {
          "output_type": "execute_result",
          "data": {
            "text/plain": [
              "[3, 2, 0, 2]"
            ]
          },
          "metadata": {
            "tags": []
          },
          "execution_count": 175
        }
      ]
    },
    {
      "cell_type": "code",
      "metadata": {
        "id": "yZms3myqxsha"
      },
      "source": [
        "def tamanho(lista):\n",
        "  x = 0\n",
        "  for i in lista:\n",
        "    x += 1 # x = x + 1\n",
        "  return x"
      ],
      "execution_count": 167,
      "outputs": []
    },
    {
      "cell_type": "code",
      "metadata": {
        "colab": {
          "base_uri": "https://localhost:8080/"
        },
        "id": "0ZeKqpTyxyWJ",
        "outputId": "5da63387-a987-40c7-acab-ee551d83bdf3"
      },
      "source": [
        "comp = [tamanho(a),tamanho(b),tamanho(c),tamanho(d)]\n",
        "comp "
      ],
      "execution_count": 169,
      "outputs": [
        {
          "output_type": "execute_result",
          "data": {
            "text/plain": [
              "[3, 2, 0, 2]"
            ]
          },
          "metadata": {
            "tags": []
          },
          "execution_count": 169
        }
      ]
    },
    {
      "cell_type": "markdown",
      "metadata": {
        "id": "2pe4xxOlxTho"
      },
      "source": [
        "***"
      ]
    },
    {
      "cell_type": "markdown",
      "metadata": {
        "id": "5z8uGpMKxTho"
      },
      "source": [
        "## Dicionários"
      ]
    },
    {
      "cell_type": "markdown",
      "metadata": {
        "id": "0d_I9jQ-xTho"
      },
      "source": [
        "Os dicionários são uma estrutura de dados em Python integrada para mapear chaves para valores."
      ]
    },
    {
      "cell_type": "code",
      "metadata": {
        "id": "FJ9TaYqSxThp"
      },
      "source": [
        "numeros = {'um':1, 'dois':2, 'tres':3}"
      ],
      "execution_count": null,
      "outputs": []
    },
    {
      "cell_type": "code",
      "metadata": {
        "id": "8OW9JwXAxThp"
      },
      "source": [
        "numeros"
      ],
      "execution_count": null,
      "outputs": []
    },
    {
      "cell_type": "code",
      "metadata": {
        "id": "-ZgH3h3QxThp"
      },
      "source": [
        "type(numeros)"
      ],
      "execution_count": null,
      "outputs": []
    },
    {
      "cell_type": "markdown",
      "metadata": {
        "id": "21-yhA6NxThp"
      },
      "source": [
        "Nesse caso, 'um', 'dois' e 'tres' são as chaves e 1, 2 e 3 são seus valores correspondentes. "
      ]
    },
    {
      "cell_type": "code",
      "metadata": {
        "id": "krSIsxfAxThp"
      },
      "source": [
        "numeros.keys()"
      ],
      "execution_count": null,
      "outputs": []
    },
    {
      "cell_type": "code",
      "metadata": {
        "id": "N3mUl4p7xThp"
      },
      "source": [
        "numeros.values()"
      ],
      "execution_count": null,
      "outputs": []
    },
    {
      "cell_type": "markdown",
      "metadata": {
        "id": "Hw3A4Oz_xThq"
      },
      "source": [
        "Os valores são acessados por meio de uma sintaxe de colchetes semelhante à indexação em listas. Outra forma é utilizar o método .get()"
      ]
    },
    {
      "cell_type": "markdown",
      "metadata": {
        "id": "NkBiWuj9xThq"
      },
      "source": [
        "Imprimindo o número 3:"
      ]
    },
    {
      "cell_type": "code",
      "metadata": {
        "id": "zU2xQKD8xThq"
      },
      "source": [
        "numeros['tres']"
      ],
      "execution_count": null,
      "outputs": []
    },
    {
      "cell_type": "code",
      "metadata": {
        "id": "w4spTGo-0csW"
      },
      "source": [
        "numeros.get('tres')"
      ],
      "execution_count": null,
      "outputs": []
    },
    {
      "cell_type": "markdown",
      "metadata": {
        "id": "-ir6X52qxThq"
      },
      "source": [
        "Podemos usar a mesma sintaxe para adicionar outra chave e valor:"
      ]
    },
    {
      "cell_type": "code",
      "metadata": {
        "id": "12TjJQ43xThq"
      },
      "source": [
        "numeros['quatro'] = 4"
      ],
      "execution_count": null,
      "outputs": []
    },
    {
      "cell_type": "code",
      "metadata": {
        "id": "NA3vXwdexThq"
      },
      "source": [
        "numeros"
      ],
      "execution_count": null,
      "outputs": []
    },
    {
      "cell_type": "markdown",
      "metadata": {
        "id": "hdLioHbkxThr"
      },
      "source": [
        "Ou para alterar o valor associado a uma chave existente"
      ]
    },
    {
      "cell_type": "code",
      "metadata": {
        "id": "-3FpkS3XxThr"
      },
      "source": [
        "numeros['dois'] = 'Marte'"
      ],
      "execution_count": null,
      "outputs": []
    },
    {
      "cell_type": "code",
      "metadata": {
        "id": "9feEEoBCxThr"
      },
      "source": [
        "numeros"
      ],
      "execution_count": null,
      "outputs": []
    },
    {
      "cell_type": "markdown",
      "metadata": {
        "id": "txQ6c-LIxThr"
      },
      "source": [
        "***"
      ]
    },
    {
      "cell_type": "markdown",
      "metadata": {
        "id": "_hOfwkaaxThr"
      },
      "source": [
        "## Vetores"
      ]
    },
    {
      "cell_type": "markdown",
      "metadata": {
        "id": "Bp8t9W12xThs"
      },
      "source": [
        "Vetores em Python são declarados com a biblioteca Numpy. Então, para trabalharmos com eles, precisamos fazer a importação dessa biblioteca."
      ]
    },
    {
      "cell_type": "markdown",
      "metadata": {
        "id": "P7NrZT8exThs"
      },
      "source": [
        "Diferente das listas, os vetores só são capazes de armazenar números e do mesmo tipo. Você nunca terá um vetor com elementos inteiros e reais. Todos os elementos do vetor serão inteiros ou todos serão reais. "
      ]
    },
    {
      "cell_type": "code",
      "metadata": {
        "id": "xm5yvjgJxThs"
      },
      "source": [
        "import numpy as np"
      ],
      "execution_count": null,
      "outputs": []
    },
    {
      "cell_type": "markdown",
      "metadata": {
        "id": "vPvY3HJSxThs"
      },
      "source": [
        "Geralmente, a biblioteca *numpy* leva a abreviação *np*. Mas isso é uma convenção, você pode, se quiser, colocar qualquer abreviação. "
      ]
    },
    {
      "cell_type": "markdown",
      "metadata": {
        "id": "mGUtVmOfxThs"
      },
      "source": [
        "### Declaração de vetores"
      ]
    },
    {
      "cell_type": "code",
      "metadata": {
        "id": "abR3F1VFxThs"
      },
      "source": [
        "pares = [0,2,4,6,8,10,12,14,16,18]"
      ],
      "execution_count": null,
      "outputs": []
    },
    {
      "cell_type": "code",
      "metadata": {
        "colab": {
          "base_uri": "https://localhost:8080/",
          "height": 165
        },
        "id": "jp2xLKatxTht",
        "outputId": "93333e93-c0c7-40b2-c5dc-974d98003d4d"
      },
      "source": [
        "vet0 = np.array(pares)"
      ],
      "execution_count": null,
      "outputs": [
        {
          "output_type": "error",
          "ename": "NameError",
          "evalue": "ignored",
          "traceback": [
            "\u001b[0;31m---------------------------------------------------------------------------\u001b[0m",
            "\u001b[0;31mNameError\u001b[0m                                 Traceback (most recent call last)",
            "\u001b[0;32m<ipython-input-8-af1b54add706>\u001b[0m in \u001b[0;36m<module>\u001b[0;34m()\u001b[0m\n\u001b[0;32m----> 1\u001b[0;31m \u001b[0mvet0\u001b[0m \u001b[0;34m=\u001b[0m \u001b[0mnp\u001b[0m\u001b[0;34m.\u001b[0m\u001b[0marray\u001b[0m\u001b[0;34m(\u001b[0m\u001b[0mpares\u001b[0m\u001b[0;34m)\u001b[0m\u001b[0;34m\u001b[0m\u001b[0;34m\u001b[0m\u001b[0m\n\u001b[0m",
            "\u001b[0;31mNameError\u001b[0m: name 'np' is not defined"
          ]
        }
      ]
    },
    {
      "cell_type": "code",
      "metadata": {
        "id": "gsnTtZ0GxTht"
      },
      "source": [
        "vet0"
      ],
      "execution_count": null,
      "outputs": []
    },
    {
      "cell_type": "code",
      "metadata": {
        "id": "ycTO5JwBxTht"
      },
      "source": [
        "type(vet0)"
      ],
      "execution_count": null,
      "outputs": []
    },
    {
      "cell_type": "markdown",
      "metadata": {
        "id": "9yp6MdJ7xTht"
      },
      "source": [
        "Acabamos de criar um vetor chamado *vet0* que contém números pares de 0 até 18. Na hora de criamos esse vetor, utilizamos a função *array* da biblioteca *numpy* e dentro dos ( ) incluímos uma lista chamada *pares*. "
      ]
    },
    {
      "cell_type": "markdown",
      "metadata": {
        "id": "OfFGsDw5xTht"
      },
      "source": [
        "Outro modo de criar um vetor do zero..."
      ]
    },
    {
      "cell_type": "code",
      "metadata": {
        "id": "jNalKTNjxTht"
      },
      "source": [
        "vet1 = np.random.randint(0,20,10)"
      ],
      "execution_count": null,
      "outputs": []
    },
    {
      "cell_type": "code",
      "metadata": {
        "id": "-R2EgqATxThu"
      },
      "source": [
        "vet1"
      ],
      "execution_count": null,
      "outputs": []
    },
    {
      "cell_type": "markdown",
      "metadata": {
        "id": "kSfDk0dNxThu"
      },
      "source": [
        "Acabamos de criar um vetor chamado *vet1* de números inteiros que foi criado a partir da função random.randint. Essa função recebe como variáveis de entrada **obrigatórias**: \n",
        "\n",
        "- limite inferior (incluído), \n",
        "- limite superior (não incluído),\n",
        "- tamanho do vetor. \n",
        "\n",
        "os elementos desse vetor podem ser iguais ao limite inferior, porém não podem ser iguais ao limite superior. "
      ]
    },
    {
      "cell_type": "markdown",
      "metadata": {
        "id": "hskdsCCfxThu"
      },
      "source": [
        "Um outro modo semelhante de criar um vetor através de números aleatórios, porém reais é:"
      ]
    },
    {
      "cell_type": "code",
      "metadata": {
        "id": "v754ANI7xThu"
      },
      "source": [
        "vet2 = np.random.uniform(0,20,10)"
      ],
      "execution_count": null,
      "outputs": []
    },
    {
      "cell_type": "code",
      "metadata": {
        "id": "2MelzvyIxThu"
      },
      "source": [
        "vet2"
      ],
      "execution_count": null,
      "outputs": []
    },
    {
      "cell_type": "markdown",
      "metadata": {
        "id": "bL9uur-YxThv"
      },
      "source": [
        "A função *random.uniform* funciona de modo bem similar à função *random.randint*, porém a *random.uniform* gera números reais. Ambas as funções geram números aleatórios que seguem a distribuição uniforme, ou seja, cada valor dentro do intervalo especificado tem a mesma probabilidade de ser sorteado. "
      ]
    },
    {
      "cell_type": "markdown",
      "metadata": {
        "id": "VeK--gBWxThv"
      },
      "source": [
        "### Funções aplicadas a vetores"
      ]
    },
    {
      "cell_type": "markdown",
      "metadata": {
        "id": "Y42Wi9tJxThv"
      },
      "source": [
        "Existem funções prontas para:\n",
        "\n",
        "- somatório: **np.sum( )**\n",
        "- média: **np.mean( )**\n",
        "- desvio padrão: **np.std( )**\n",
        "- variância: **np.var( )**"
      ]
    },
    {
      "cell_type": "markdown",
      "metadata": {
        "id": "5UIwj70lxThw"
      },
      "source": [
        "#### Exercício: Aplique as 4 funções mostradas acima no vetor *vet2*."
      ]
    },
    {
      "cell_type": "code",
      "metadata": {
        "id": "pTP8sUTpxThw"
      },
      "source": [
        ""
      ],
      "execution_count": null,
      "outputs": []
    },
    {
      "cell_type": "code",
      "metadata": {
        "id": "MhcJw_hwxThw"
      },
      "source": [
        ""
      ],
      "execution_count": null,
      "outputs": []
    },
    {
      "cell_type": "code",
      "metadata": {
        "id": "59p68-t-xThw"
      },
      "source": [
        ""
      ],
      "execution_count": null,
      "outputs": []
    },
    {
      "cell_type": "code",
      "metadata": {
        "id": "3BbJgHO3xThw"
      },
      "source": [
        ""
      ],
      "execution_count": null,
      "outputs": []
    },
    {
      "cell_type": "markdown",
      "metadata": {
        "id": "ZoJuSL-bxThw"
      },
      "source": [
        "# Funções"
      ]
    },
    {
      "cell_type": "markdown",
      "metadata": {
        "id": "CTyXtvzyxThw"
      },
      "source": [
        "Bom, nós já vimos várias funções que existem em Python e que, para usá-las, não precisamos fazer a importação de nenhuma biblioteca. Porém, nós, como usuários, muitas vezes sentimos a necessidade de criarmos funções para facilitar nossa vida. "
      ]
    },
    {
      "cell_type": "markdown",
      "metadata": {
        "id": "dEURxuBmxThx"
      },
      "source": [
        "O Python reconhece funções pela palavra **def**. \n",
        "\n",
        "A sintaxe da função é:\n",
        "```bash\n",
        "def nome_função(variáveis de entrada): --> Não esquecer os dois pontos ao final. \n",
        "    - código aqui linha 1\n",
        "    - código aqui linha 2\n",
        "    - código aqui linha 3\n",
        "    return (variáveis de saída)\n",
        "```\n",
        "Depois de você pressionar o *ENTER* ao final dos :, todo código que estiver com ao menos 4 espaços afastados do *def* fará parte da função declarada. 4 espaços do teclado equivale a 1 TAB (1 identação). \n",
        "\n",
        "A função, se precisar retornar variáveis para o programa principal, termina com o *return* e ao lado do return as variáveis de saída. "
      ]
    },
    {
      "cell_type": "markdown",
      "metadata": {
        "id": "K7eD65XrxThx"
      },
      "source": [
        "Vamos ver alguns exemplos de funções."
      ]
    },
    {
      "cell_type": "markdown",
      "metadata": {
        "id": "OrlyHNAUxThx"
      },
      "source": [
        "## Função maior_dif"
      ]
    },
    {
      "cell_type": "code",
      "metadata": {
        "id": "ix5JLzRjxThx"
      },
      "source": [
        "def maior_dif(a, b, c):\n",
        "    dif1 = abs(a - b)\n",
        "    dif2 = abs(b - c)\n",
        "    dif3 = abs(a - c)\n",
        "    return min(dif1, dif2, dif3)"
      ],
      "execution_count": null,
      "outputs": []
    },
    {
      "cell_type": "markdown",
      "metadata": {
        "id": "HV7jgesCxThx"
      },
      "source": [
        "Criamos uma função chamada *maior_dif* que recebe três argumentos, *a*, *b* e *c*.\n",
        "\n",
        "Pode-se notar que a função começou com o cabeçalho introduzido pela palavra-chave *def*. O bloco recuado de código após: é executado quando a função é chamada.\n",
        "\n",
        "*return* é outra palavra-chave associada exclusivamente a funções. Quando o Python encontra uma instrução de retorno, ele sai da função imediatamente e passa o valor do lado direito para o contexto de chamada.\n",
        "\n",
        "Está claro o que *maior_dif()* faz? Se não tivermos certeza, podemos sempre experimentar com alguns exemplos:"
      ]
    },
    {
      "cell_type": "code",
      "metadata": {
        "id": "5x2o_ZtaxThx"
      },
      "source": [
        "maior_dif(1, 10, 100)"
      ],
      "execution_count": null,
      "outputs": []
    },
    {
      "cell_type": "code",
      "metadata": {
        "id": "48yI8hRExThy"
      },
      "source": [
        "maior_dif(1, 10, 10)"
      ],
      "execution_count": null,
      "outputs": []
    },
    {
      "cell_type": "code",
      "metadata": {
        "id": "cTqIXZl6xThy"
      },
      "source": [
        "maior_dif(5, 6, 7)"
      ],
      "execution_count": null,
      "outputs": []
    },
    {
      "cell_type": "code",
      "metadata": {
        "id": "usVbTldTxThy"
      },
      "source": [
        "help(maior_dif)"
      ],
      "execution_count": null,
      "outputs": []
    },
    {
      "cell_type": "markdown",
      "metadata": {
        "id": "5qzascB4xThy"
      },
      "source": [
        "Infelizmente o Python não é inteligente o suficiente para ler o meu código e transformá-lo em uma boa descrição em inglês. \n",
        "\n",
        "No entanto, quando escrevo uma função, posso fornecer uma descrição que é chamada de *docstring*. Nada mais é do que a documentação da função (descrição dos argumentos, exemplos de resultados, etc)."
      ]
    },
    {
      "cell_type": "code",
      "metadata": {
        "id": "bk2eQMjlxThy"
      },
      "source": [
        "def maior_dif(a, b, c):\n",
        "    '''\n",
        "    Retorna a menor diferença entre dois números quaisquer entre três números a, b e c.\n",
        "    exemplo: \n",
        "    >>> maior_dif(1,10,100):\n",
        "    9\n",
        "    '''\n",
        "    dif1 = abs(a - b)\n",
        "    dif2 = abs(b - c)\n",
        "    dif3 = abs(a - c)\n",
        "    return min(dif1, dif2, dif3)"
      ],
      "execution_count": null,
      "outputs": []
    },
    {
      "cell_type": "code",
      "metadata": {
        "id": "4n2MZ6ThxThy"
      },
      "source": [
        "help(maior_dif)"
      ],
      "execution_count": null,
      "outputs": []
    },
    {
      "cell_type": "markdown",
      "metadata": {
        "id": "pvxWKqC4xThz"
      },
      "source": [
        "O *help* pode sempre ser usado:"
      ]
    },
    {
      "cell_type": "code",
      "metadata": {
        "id": "LEFeRZmhxThz"
      },
      "source": [
        "help(np.random.randint)"
      ],
      "execution_count": null,
      "outputs": []
    },
    {
      "cell_type": "markdown",
      "metadata": {
        "id": "nivAJTaqxThz"
      },
      "source": [
        "## Exercício"
      ]
    },
    {
      "cell_type": "markdown",
      "metadata": {
        "id": "ZdzvzsQbxThz"
      },
      "source": [
        "### Crie uma função chamada arredonda2 que recebe um número real e retorna esse número com apenas 2 casas decimais"
      ]
    },
    {
      "cell_type": "code",
      "metadata": {
        "id": "Z6yDf13YxThz"
      },
      "source": [
        "def arredonda2(num):\n",
        "    '''\n",
        "    escreva aqui seu codigo\n",
        "    '''    "
      ],
      "execution_count": null,
      "outputs": []
    },
    {
      "cell_type": "markdown",
      "metadata": {
        "id": "EqTsjqm4xThz"
      },
      "source": [
        "Para essa função estamos assumindo que *num* é um número real. "
      ]
    },
    {
      "cell_type": "markdown",
      "metadata": {
        "id": "p8WwqGPWxTh0"
      },
      "source": [
        "### Crie uma função que receba uma lista de números e retorne somente os números pares contidos na lista. "
      ]
    },
    {
      "cell_type": "markdown",
      "metadata": {
        "id": "-gydTxutxTh0"
      },
      "source": [
        "Vamos assumir que a lista tem ao menos 10 elementos."
      ]
    },
    {
      "cell_type": "code",
      "metadata": {
        "id": "iE1AHDvzxTh0"
      },
      "source": [
        "def retorna_par(lista):\n",
        "    '''\n",
        "    escreva aqui seu codigo\n",
        "    ''' "
      ],
      "execution_count": null,
      "outputs": []
    },
    {
      "cell_type": "markdown",
      "metadata": {
        "id": "OHK8ChPCxTh0"
      },
      "source": [
        "# DataFrame"
      ]
    },
    {
      "cell_type": "markdown",
      "metadata": {
        "id": "3FAMVharxTh0"
      },
      "source": [
        "Chegou a vez de falarmos da biblioteca **pandas**, que é a biblioteca mais popular para análise de dados. "
      ]
    },
    {
      "cell_type": "markdown",
      "metadata": {
        "id": "_8f90wtrxTh0"
      },
      "source": [
        "Para começarmos a usar *pandas*, primeiro precisamos importar essa biblioteca. Geralmente, a abreviação dada a *pandas* é *pd*. Contudo, como disse para a biblioteca *numpy*, as abreviações podem ser outras, somente convencionaram-se esses nomes e todo mundo sempre respeita isso. "
      ]
    },
    {
      "cell_type": "code",
      "metadata": {
        "id": "3GyEh6sNxTh1"
      },
      "source": [
        "import pandas as pd "
      ],
      "execution_count": null,
      "outputs": []
    },
    {
      "cell_type": "markdown",
      "metadata": {
        "id": "hNV6szimxTh1"
      },
      "source": [
        "Existem dois tipos de objetos em *pandas*:\n",
        "- Dataframe\n",
        "- Series"
      ]
    },
    {
      "cell_type": "markdown",
      "metadata": {
        "id": "-hSasBlcxTh1"
      },
      "source": [
        "Um DataFrame é uma tabela. Ele contém uma matriz de entradas individuais, cada uma com um determinado valor. Cada entrada corresponde a uma linha (ou registro) e uma coluna.\n",
        "\n",
        "Por exemplo, considere o seguinte DataFrame:"
      ]
    },
    {
      "cell_type": "code",
      "metadata": {
        "id": "KJbDq3QWxTh1"
      },
      "source": [
        "pd.DataFrame({'Sim': [50, 21,12], 'Nao': [131, 2,5]})"
      ],
      "execution_count": null,
      "outputs": []
    },
    {
      "cell_type": "markdown",
      "metadata": {
        "id": "KA7-qkktxTh1"
      },
      "source": [
        "Neste exemplo, a entrada \"0, Não\" tem o valor 131. A entrada \"0, Sim\" tem o valor 50 e assim por diante.\n",
        "\n",
        "As entradas de DataFrame não são limitadas a inteiros. Por exemplo, aqui está um DataFrame cujos valores são strings:"
      ]
    },
    {
      "cell_type": "code",
      "metadata": {
        "id": "oLPW9V-QxTh1"
      },
      "source": [
        "pd.DataFrame({'Bruno': ['Eu gostei.', 'Foi terrível.'], 'Suzana': ['Maravilhoso.', 'Sem graça.']})"
      ],
      "execution_count": null,
      "outputs": []
    },
    {
      "cell_type": "markdown",
      "metadata": {
        "id": "OGzQ9oGBxTh2"
      },
      "source": [
        "Estamos usando o construtor *pd.DataFrame( )* para gerar esses objetos *DataFrame*. \n",
        "\n",
        "A sintaxe para declarar um novo é um dicionário cujas chaves são os nomes das colunas (Buno e Suzana neste exemplo) e cujos valores são uma lista de entradas. Essa é a maneira padrão de construir um novo DataFrame."
      ]
    },
    {
      "cell_type": "markdown",
      "metadata": {
        "id": "gwJWvjE0xTh2"
      },
      "source": [
        "O construtor de lista de dicionário atribui valores aos rótulos de coluna, mas usa apenas uma contagem crescente de 0 (0, 1, 2, 3, ...) para os rótulos de linha. Às vezes, isso é normal, mas muitas vezes queremos atribuir esses rótulos nós mesmos.\n",
        "\n",
        "A lista de rótulos de linha usada em um *DataFrame* é conhecida como **índice**. Podemos atribuir valores a ele usando um parâmetro de índice em nosso construtor:"
      ]
    },
    {
      "cell_type": "code",
      "metadata": {
        "id": "LStA87B8xTh2"
      },
      "source": [
        "pd.DataFrame({'Bruno': ['Eu gostei.', 'Foi terrível.'], 'Suzana': ['Maravilhoso.', 'Sem graça.']}, \n",
        "             index=['Produto A', 'Produto B'])"
      ],
      "execution_count": null,
      "outputs": []
    },
    {
      "cell_type": "markdown",
      "metadata": {
        "id": "PWd27uDgxTh2"
      },
      "source": [
        "Em contraste, uma série é uma sequência de valores de dados. Se um *DataFrame* for uma tabela, *Series* é uma lista. E, na verdade, você pode criar uma série com nada mais do que uma lista:"
      ]
    },
    {
      "cell_type": "code",
      "metadata": {
        "id": "iDcwFr7hxTh2"
      },
      "source": [
        "pd.Series([1, 2, 3, 4, 5])"
      ],
      "execution_count": null,
      "outputs": []
    },
    {
      "cell_type": "code",
      "metadata": {
        "id": "yyIIryNWxTh2"
      },
      "source": [
        "type(pd.Series([1, 2, 3, 4, 5]))"
      ],
      "execution_count": null,
      "outputs": []
    },
    {
      "cell_type": "markdown",
      "metadata": {
        "id": "Cs7uDgxOxTh3"
      },
      "source": [
        "Uma série é, em essência, uma única coluna de um *DataFrame*. \n",
        "\n",
        "Portanto, você pode atribuir valores de coluna à série da mesma maneira que antes, usando um parâmetro de índice. No entanto, uma série não tem um nome de coluna: "
      ]
    },
    {
      "cell_type": "code",
      "metadata": {
        "id": "5I5yN-RaxTh3"
      },
      "source": [
        "pd.Series([30, 35, 40], index=['2021 vendas', '2020 vendas', '2019 vendas'])"
      ],
      "execution_count": null,
      "outputs": []
    },
    {
      "cell_type": "markdown",
      "metadata": {
        "id": "f9MICRyIxTh3"
      },
      "source": [
        "A série e o DataFrame estão intimamente relacionados. É útil pensar em um DataFrame como sendo apenas um monte de Séries \"coladas\"."
      ]
    },
    {
      "cell_type": "markdown",
      "metadata": {
        "id": "M6RrpXDBxTh4"
      },
      "source": [
        "Vamos revisitar o *DataFrame* que criamos na aula passada..."
      ]
    },
    {
      "cell_type": "code",
      "metadata": {
        "id": "s8DVZf8bxTh5"
      },
      "source": [
        "dfsono = pd.DataFrame({'Nome':['Amanda Lemette','Julia Potratz','Cezar Augusto','Patrick G.','Renan','Daiana Sicuro',\n",
        "                     'Denis Nascimento','Igor Rocha','Graziela Machado','Filipe Faria','Daniel Werneck',\n",
        "                     'Hudson Diniz','Jorge Junior','Marcos Silva','Gustavo Araujo','Daniel Galdino'],              \n",
        "              'horas':[7,5.5,6,7,8,8,7,7,6.5,7,7.5,6,8,7,7.5,5]})"
      ],
      "execution_count": null,
      "outputs": []
    },
    {
      "cell_type": "code",
      "metadata": {
        "id": "s8-u3O9BxTh5"
      },
      "source": [
        "dfsono"
      ],
      "execution_count": null,
      "outputs": []
    },
    {
      "cell_type": "markdown",
      "metadata": {
        "id": "6xNnfbhnxTh6"
      },
      "source": [
        "## Visualização das primeiras 5 linhas do DataFrame"
      ]
    },
    {
      "cell_type": "code",
      "metadata": {
        "id": "jcLH1p4bxTh6"
      },
      "source": [
        "dfsono.head()"
      ],
      "execution_count": null,
      "outputs": []
    },
    {
      "cell_type": "markdown",
      "metadata": {
        "id": "phqIPYEvxTh7"
      },
      "source": [
        "- E se quisermos visualizar somente 3 linhas, como fazer?"
      ]
    },
    {
      "cell_type": "code",
      "metadata": {
        "id": "Ed5ghwoxxTh7"
      },
      "source": [
        ""
      ],
      "execution_count": null,
      "outputs": []
    },
    {
      "cell_type": "markdown",
      "metadata": {
        "id": "1Lu-0i8MxTh8"
      },
      "source": [
        "## Visualização das últimas 5 linhas do DataFrame"
      ]
    },
    {
      "cell_type": "code",
      "metadata": {
        "id": "ZVW_Y-ajxTh8"
      },
      "source": [
        "dfsono.tail()"
      ],
      "execution_count": null,
      "outputs": []
    },
    {
      "cell_type": "markdown",
      "metadata": {
        "id": "7MdMDS74xTh8"
      },
      "source": [
        "## Adição de novas entradas no DataFrame"
      ]
    },
    {
      "cell_type": "markdown",
      "metadata": {
        "id": "-aHXpQw7xTh8"
      },
      "source": [
        "### Adição de registro único: append"
      ]
    },
    {
      "cell_type": "code",
      "metadata": {
        "id": "9dDuSNZZxTh9"
      },
      "source": [
        "dfsono.append({'Nome':'Ana Maria','horas':5},ignore_index = True)"
      ],
      "execution_count": null,
      "outputs": []
    },
    {
      "cell_type": "markdown",
      "metadata": {
        "id": "sPM7iXGixTh-"
      },
      "source": [
        "Repare que foi preciso escrever o comando *ignore_index = True*. Se ele for removido, ao rodar a célula, dá erro. O *ignore_index = True* irá permitir com que o novo registro receba como índice o número seguinte ao último índice do DataFrame dfsono. \n",
        "\n",
        "Se o *ignore_index = True* não for usado, ele resulta em erro, pois o registro que estamos adicionando nesse caso não tem índice nenhum associado a ele, o que faz com que o Python fique perdido aqui. \n",
        "\n",
        "Contudo, se formos fazer a adição de um outro DataFrame, o *ignore_index = True* já não se faz mais obrigatório, vamos testar. "
      ]
    },
    {
      "cell_type": "markdown",
      "metadata": {
        "id": "6SIRFRlpxTh_"
      },
      "source": [
        "### Adição de registros de modo simultâneo: "
      ]
    },
    {
      "cell_type": "code",
      "metadata": {
        "id": "on1by6JexTh_"
      },
      "source": [
        "dic = {'Nome':['Pedro Humberto','Leonardo Dantas'], 'horas':[4.5,7.5]}"
      ],
      "execution_count": null,
      "outputs": []
    },
    {
      "cell_type": "code",
      "metadata": {
        "id": "9-JG8E1XxTh_"
      },
      "source": [
        "dic "
      ],
      "execution_count": null,
      "outputs": []
    },
    {
      "cell_type": "markdown",
      "metadata": {
        "id": "46XoiwUXxTh_"
      },
      "source": [
        "Criado o dicionário com nome *dic*, agora, precisamos converter esse dicionário em um novo *DataFrame*:"
      ]
    },
    {
      "cell_type": "code",
      "metadata": {
        "id": "SG-42C27xTh_"
      },
      "source": [
        "df_dic = pd.DataFrame(dic)\n",
        "df_dic"
      ],
      "execution_count": null,
      "outputs": []
    },
    {
      "cell_type": "markdown",
      "metadata": {
        "id": "1bTae4cKxTh_"
      },
      "source": [
        "Agora, podemos adicionar o *DataFrame* *df_dic* em *dfsono*:"
      ]
    },
    {
      "cell_type": "code",
      "metadata": {
        "id": "SaTMAuwOxTiA"
      },
      "source": [
        "dfsono.append(df_dic)"
      ],
      "execution_count": null,
      "outputs": []
    },
    {
      "cell_type": "markdown",
      "metadata": {
        "id": "VucXWvIVxTiA"
      },
      "source": [
        "Como o *ignore_index = True* não foi usado, os novos registros adicionados reinicializaram a numeração dos índices de *dfsono*."
      ]
    },
    {
      "cell_type": "markdown",
      "metadata": {
        "id": "NEZIAPE7xTiA"
      },
      "source": [
        "### Reinicialização dos índices de um DataFrame"
      ]
    },
    {
      "cell_type": "markdown",
      "metadata": {
        "id": "pUiZglqvxTiA"
      },
      "source": [
        "Para reincializar os índices do DataFrame, fazemos uso de: .reset_index(drop = True). \n",
        "\n",
        "O *drop=True* não é obrigatório, porém ao não incluí-lo, os índices antigos passarão a compor a primeira coluna do *DataFrame* atualizado. "
      ]
    },
    {
      "cell_type": "code",
      "metadata": {
        "id": "4UxC3--CxTiA"
      },
      "source": [
        ""
      ],
      "execution_count": null,
      "outputs": []
    },
    {
      "cell_type": "code",
      "metadata": {
        "id": "1HteBaOOxTiA"
      },
      "source": [
        ""
      ],
      "execution_count": null,
      "outputs": []
    },
    {
      "cell_type": "markdown",
      "metadata": {
        "id": "FDyFSGQZxTiA"
      },
      "source": [
        "### Uso do LOC & ILOC"
      ]
    },
    {
      "cell_type": "markdown",
      "metadata": {
        "id": "sCkk6wCFxTiB"
      },
      "source": [
        "Os comandos *loc* e *iloc* se diferenciam quando os índices do DataFrame são diferentes das posições. Por exemplo:"
      ]
    },
    {
      "cell_type": "code",
      "metadata": {
        "id": "IEllmW5oxTiB"
      },
      "source": [
        "df = pd.DataFrame({'a':[23,24,25],'b':[54,53,52],'c':[65,64,67]})"
      ],
      "execution_count": null,
      "outputs": []
    },
    {
      "cell_type": "code",
      "metadata": {
        "id": "g0G9oTGPxTiB"
      },
      "source": [
        "df"
      ],
      "execution_count": null,
      "outputs": []
    },
    {
      "cell_type": "markdown",
      "metadata": {
        "id": "7zcHIeKFxTiB"
      },
      "source": [
        "Nesse caso, se quisermos imprimir o número 64 da coluna c, fazemos:"
      ]
    },
    {
      "cell_type": "code",
      "metadata": {
        "id": "MQ-sdIM-xTiB"
      },
      "source": [
        "df['c'].loc[1]"
      ],
      "execution_count": null,
      "outputs": []
    },
    {
      "cell_type": "code",
      "metadata": {
        "id": "zUE56GxOxTiC"
      },
      "source": [
        "df['c'].iloc[1]"
      ],
      "execution_count": null,
      "outputs": []
    },
    {
      "cell_type": "code",
      "metadata": {
        "id": "_z1ce3aKxTiC"
      },
      "source": [
        "df['c'][1] "
      ],
      "execution_count": null,
      "outputs": []
    },
    {
      "cell_type": "code",
      "metadata": {
        "id": "mAqqElIYxTiC"
      },
      "source": [
        "df.iloc[1][2] # [1] = linha e [2] = posição da coluna "
      ],
      "execution_count": null,
      "outputs": []
    },
    {
      "cell_type": "code",
      "metadata": {
        "id": "SDdKuFjaxTiC",
        "scrolled": true
      },
      "source": [
        "df.loc[1][2] # [1] = linha e [2] = posição da coluna "
      ],
      "execution_count": null,
      "outputs": []
    },
    {
      "cell_type": "markdown",
      "metadata": {
        "id": "_blghsCUxTiC"
      },
      "source": [
        "Como você pôde ver, não houve diferença entre o *loc* e *iloc. Agora, vamos modificar o *DataFrame* df:"
      ]
    },
    {
      "cell_type": "code",
      "metadata": {
        "id": "M9g4p8oExTiC"
      },
      "source": [
        "df = pd.DataFrame({'a':[23,24,25],'b':[54,53,52],'c':[65,64,67]}, index = ['A','B','C'])"
      ],
      "execution_count": null,
      "outputs": []
    },
    {
      "cell_type": "code",
      "metadata": {
        "id": "b3EqXuXExTiC"
      },
      "source": [
        "df"
      ],
      "execution_count": null,
      "outputs": []
    },
    {
      "cell_type": "markdown",
      "metadata": {
        "id": "BZI_ZLJ3xTiD"
      },
      "source": [
        "Como imprimimos o valor 64 da coluna c?"
      ]
    },
    {
      "cell_type": "code",
      "metadata": {
        "id": "ScXLvHzPxTiD"
      },
      "source": [
        "df['c'].loc['B']"
      ],
      "execution_count": null,
      "outputs": []
    },
    {
      "cell_type": "code",
      "metadata": {
        "id": "l9Q7S9SPxTiD"
      },
      "source": [
        "df['c'].iloc[1]"
      ],
      "execution_count": null,
      "outputs": []
    },
    {
      "cell_type": "code",
      "metadata": {
        "id": "Ls-kI7UJxTiD"
      },
      "source": [
        "df['c'][1] "
      ],
      "execution_count": null,
      "outputs": []
    },
    {
      "cell_type": "code",
      "metadata": {
        "id": "Phf0R-YBxTiD"
      },
      "source": [
        "df.iloc[1][2] # [1] = linha e [2] = posição da coluna "
      ],
      "execution_count": null,
      "outputs": []
    },
    {
      "cell_type": "code",
      "metadata": {
        "id": "hRMvvlyoxTiD",
        "scrolled": true
      },
      "source": [
        "df.loc['B'][2] # [1] = linha e [2] = posição da coluna "
      ],
      "execution_count": null,
      "outputs": []
    },
    {
      "cell_type": "markdown",
      "metadata": {
        "id": "xcUo6xBtxTiE"
      },
      "source": [
        "O comando **loc** exige que você forneça o nome do índice, já o comando **iloc** pede a posição do índice daquele elemento que você procura. No caso, 64 se encontra na linha com índice 'B' que está na posição **1**. "
      ]
    },
    {
      "cell_type": "markdown",
      "metadata": {
        "id": "NL8jjVuxxTiE"
      },
      "source": [
        "#### Exercício: Usando o loc e o iloc também imprima o número 52 que está na coluna b."
      ]
    },
    {
      "cell_type": "code",
      "metadata": {
        "id": "PKZp9S7NxTiE"
      },
      "source": [
        ""
      ],
      "execution_count": null,
      "outputs": []
    },
    {
      "cell_type": "code",
      "metadata": {
        "id": "lx5bOL8ixTiE"
      },
      "source": [
        ""
      ],
      "execution_count": null,
      "outputs": []
    },
    {
      "cell_type": "markdown",
      "metadata": {
        "id": "WFOddRjmxTiE"
      },
      "source": [
        "### Mudança de algum elemento dentro de um DataFrame"
      ]
    },
    {
      "cell_type": "markdown",
      "metadata": {
        "id": "B5WsalqgxTiE"
      },
      "source": [
        "Vamos, agora, retornar ao DataFrame *dfsono*:"
      ]
    },
    {
      "cell_type": "code",
      "metadata": {
        "id": "BUwQX4D0xTiE"
      },
      "source": [
        "dfsono.head()"
      ],
      "execution_count": null,
      "outputs": []
    },
    {
      "cell_type": "markdown",
      "metadata": {
        "id": "IfwDSB6NxTiF"
      },
      "source": [
        "Vamos alterar o nome Patrick G. para João Neto:"
      ]
    },
    {
      "cell_type": "code",
      "metadata": {
        "id": "l51oEAcmxTiF"
      },
      "source": [
        "dfsono['Nome'].iloc[3] = 'João Neto'"
      ],
      "execution_count": null,
      "outputs": []
    },
    {
      "cell_type": "code",
      "metadata": {
        "id": "7IPRHq7kxTiF"
      },
      "source": [
        "dfsono.head()"
      ],
      "execution_count": null,
      "outputs": []
    },
    {
      "cell_type": "markdown",
      "metadata": {
        "id": "sM_ISeXJxTiF"
      },
      "source": [
        "### Ordenação do DataFrame"
      ]
    },
    {
      "cell_type": "markdown",
      "metadata": {
        "id": "z8oaEmq3xTiF"
      },
      "source": [
        "Para ordenar o *DataFrame* fazemos uso de *sort_values*.\n",
        "\n",
        "https://bit.ly/3i490U6"
      ]
    },
    {
      "cell_type": "code",
      "metadata": {
        "id": "MEBnzEVVxTiG"
      },
      "source": [
        ""
      ],
      "execution_count": null,
      "outputs": []
    },
    {
      "cell_type": "markdown",
      "metadata": {
        "id": "Hvd9hynMxTiG"
      },
      "source": [
        "### Remover linha do DataFrame"
      ]
    },
    {
      "cell_type": "markdown",
      "metadata": {
        "id": "IWjS_NMcxTiG"
      },
      "source": [
        "Geralmente, para a exclusão de uma linha do DataFrame, utilizamos o comando *drop* (https://bit.ly/3i5GiCj).\n",
        "\n",
        "Vamos excluir a linha de índice 4 do DataFrame *dfsono*."
      ]
    },
    {
      "cell_type": "code",
      "metadata": {
        "id": "V5nXyI95xTiG"
      },
      "source": [
        ""
      ],
      "execution_count": null,
      "outputs": []
    },
    {
      "cell_type": "code",
      "metadata": {
        "id": "yl0A7q8PxTiG"
      },
      "source": [
        ""
      ],
      "execution_count": null,
      "outputs": []
    },
    {
      "cell_type": "markdown",
      "metadata": {
        "id": "UW2GpSuMxTiG"
      },
      "source": [
        "### Adicionar nova coluna no DataFrame"
      ]
    },
    {
      "cell_type": "markdown",
      "metadata": {
        "id": "x-_gwznMxTiG"
      },
      "source": [
        "A adição de colunas no *DataFrame* é bem simples, na verdade, para isso basta escrevermos o nome do DataFrame e entre [ ], escrevemos o nome da nova coluna, vamos ver um exemplo."
      ]
    },
    {
      "cell_type": "code",
      "metadata": {
        "id": "GhujltMfxTiH"
      },
      "source": [
        "dfsono['ansiedade'] = ['alta','baixa','normal','alta','alta',\n",
        "                       'baixa','normal','alta','alta','baixa',\n",
        "                       'normal','alta','alta','baixa','normal','alta']"
      ],
      "execution_count": null,
      "outputs": []
    },
    {
      "cell_type": "code",
      "metadata": {
        "id": "tL9s4ukAxTiH"
      },
      "source": [
        "dfsono.head(2)"
      ],
      "execution_count": null,
      "outputs": []
    },
    {
      "cell_type": "code",
      "metadata": {
        "id": "7XMB_S7xxTiH"
      },
      "source": [
        "dfsono.tail(2)"
      ],
      "execution_count": null,
      "outputs": []
    },
    {
      "cell_type": "markdown",
      "metadata": {
        "id": "ur3VqCgoxTiH"
      },
      "source": [
        "### Remover coluna no DataFrame"
      ]
    },
    {
      "cell_type": "markdown",
      "metadata": {
        "id": "3QuLu1zqxTiH"
      },
      "source": [
        "Agora, remova a coluna *ansiedade* do DataFrame *dfsono* utilizando *drop*. \n",
        "\n",
        "Lembrando que *drop* como default elimina a linha do *DataFrame*, para eliminar a coluna precisamos informar isso ao Python pelo comando **axis = 1**."
      ]
    },
    {
      "cell_type": "code",
      "metadata": {
        "id": "uhBTuRSkxTiH"
      },
      "source": [
        ""
      ],
      "execution_count": null,
      "outputs": []
    },
    {
      "cell_type": "markdown",
      "metadata": {
        "id": "sj_zUtYmxTiH"
      },
      "source": [
        "### Segmentar os dados de um DataFrame dentro de intervalos"
      ]
    },
    {
      "cell_type": "markdown",
      "metadata": {
        "id": "8A6ikU2wxTiI"
      },
      "source": [
        "Na última aula, conhecemos o comando .cut (https://bit.ly/3BKDdPQ).\n",
        "\n",
        "O que ele faz?\n",
        "\n",
        "Ele classifica determinada coluna (que contém dados numéricos) do DataFrame dentro de intervalos de números. Por exemplo:"
      ]
    },
    {
      "cell_type": "markdown",
      "metadata": {
        "id": "eMgeWWKCxTiI"
      },
      "source": [
        "Vamos criar uma lista, chamada *intervalos*, que contém os seguintes intervalos:"
      ]
    },
    {
      "cell_type": "code",
      "metadata": {
        "id": "6dVSdj_HxTiI"
      },
      "source": [
        "intervalos = ['0-5.5','5.5-6.5','6.5-7.5','> 7.5']\n",
        "intervalos"
      ],
      "execution_count": null,
      "outputs": []
    },
    {
      "cell_type": "markdown",
      "metadata": {
        "id": "ljD5FZyLxTiI"
      },
      "source": [
        "Contudo, essa lista é uma lista de strings e o Python não consegue entender que '0-5.5' significa números que são iguais ou maiores do que 0 e menores do que 5.5. Para que o Python faça essa interpretação corretamente, precisamos criar outra lista, mas que seja de números:"
      ]
    },
    {
      "cell_type": "code",
      "metadata": {
        "id": "3TDVuEbLxTiI"
      },
      "source": [
        "intervalos_num = [-1,5.5,6.5,7.5,24]\n",
        "intervalos_num"
      ],
      "execution_count": null,
      "outputs": []
    },
    {
      "cell_type": "markdown",
      "metadata": {
        "id": "4CA6EQcBxTiI"
      },
      "source": [
        "Agora sim, com a lista *intervalos_num*, o Python interpreta do seguinte modo:\n",
        "\n",
        "- O primeiro intervalo será entre 0 e 5.5, incluindo o 0 e excluindo o 5.5.\n",
        "- O segundo intervalo será entre 5.5 e 6.5, incluindo o 5.5 e excluindo o 6.5.\n",
        "- O terceiro intervalo será entre 6.5 e 7.5, incluindo o 6.5 e excluindo o 7.5.\n",
        "- O quarto intervalo será entre 7.5 e 24, incluindo o 7.5 e excluindo o 24.\n",
        "\n",
        "Matematicamente, os intervalos são: \n",
        "- intervalo 1: [0,5.5[\n",
        "- intervalo 2: [5.5,6.5[\n",
        "- intervalo 3: [6.5,7.5[\n",
        "- intervalo 7: [7.5,24["
      ]
    },
    {
      "cell_type": "markdown",
      "metadata": {
        "id": "peCSAg-2xTiJ"
      },
      "source": [
        "E a lista *intervalos* é a lista *label* que dá nome aos intervalos. \n",
        "Assim, temos:\n",
        "\n",
        "- intervalo 1: [0,5.5[ ; label: '0-5.5'\n",
        "- intervalo 2: [5.5,6.5[ ; label: '5.5-6.5'\n",
        "- intervalo 3: [6.5,7.5[ ; label: '6.5-7.5'\n",
        "- intervalo 7: [7.5,24[ ; label: '> 7.5\n"
      ]
    },
    {
      "cell_type": "markdown",
      "metadata": {
        "id": "RJLbvrC1xTiJ"
      },
      "source": [
        "O comando *cut* irá então receber como entrada:\n",
        "\n",
        "- coluna do DataFrame que irá ser classificada\n",
        "- lista intervalos_num\n",
        "- lista intervalos"
      ]
    },
    {
      "cell_type": "markdown",
      "metadata": {
        "id": "Pt-RD8isxTiJ"
      },
      "source": [
        "Vamos aplicar o cut na coluna *horas* do DataFrame *dfsono* para que as horas de sono de cada pessoas seja classificada dentro dos intervalos especificados na lista *intervalos_num*. O método *cut* irá identificar a qual intervalo aquela hora pertence e como resposta irá imprimir o label daquele intervalo. O resultado dessa classificação será salvo em uma nova coluna no DataFrame *dfsono* que iremos chamas de *duracao*."
      ]
    },
    {
      "cell_type": "code",
      "metadata": {
        "id": "veAhVn2TxTiJ"
      },
      "source": [
        "dfsono['duracao'] = pd.cut(dfsono['horas'],intervalos_num,labels = intervalos) "
      ],
      "execution_count": null,
      "outputs": []
    },
    {
      "cell_type": "code",
      "metadata": {
        "id": "kqhixVWUxTiJ"
      },
      "source": [
        "dfsono"
      ],
      "execution_count": null,
      "outputs": []
    },
    {
      "cell_type": "code",
      "metadata": {
        "id": "AYUKlDhmxTiJ"
      },
      "source": [
        ""
      ],
      "execution_count": null,
      "outputs": []
    }
  ]
}