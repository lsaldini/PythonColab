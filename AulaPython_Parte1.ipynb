{
  "nbformat": 4,
  "nbformat_minor": 0,
  "metadata": {
    "colab": {
      "name": "AulaPython-Parte1.ipynb",
      "provenance": []
    },
    "kernelspec": {
      "name": "python3",
      "display_name": "Python 3"
    },
    "language_info": {
      "name": "python"
    }
  },
  "cells": [
    {
      "cell_type": "code",
      "metadata": {
        "colab": {
          "base_uri": "https://localhost:8080/"
        },
        "id": "a0ozaV1RECoD",
        "outputId": "1c932f89-efbe-48a4-9045-c631dd6a8d59"
      },
      "source": [
        "2+2"
      ],
      "execution_count": 1,
      "outputs": [
        {
          "output_type": "execute_result",
          "data": {
            "text/plain": [
              "4"
            ]
          },
          "metadata": {
            "tags": []
          },
          "execution_count": 1
        }
      ]
    },
    {
      "cell_type": "code",
      "metadata": {
        "id": "lL4SLFN2EugE"
      },
      "source": [
        "def converte_int():\n",
        "  while(True):\n",
        "    idade = input('Digite sua idade:')\n",
        "    if idade.isnumeric()==True:\n",
        "      break\n",
        "  return int(idade)"
      ],
      "execution_count": null,
      "outputs": []
    },
    {
      "cell_type": "code",
      "metadata": {
        "id": "gG6uaNLwOX1u"
      },
      "source": [
        "def fatorial(num):\n",
        "  fat = 1\n",
        "  for i in range(num):\n",
        "    fat = fat*(num-i)\n",
        "    print(i,num,fat)\n",
        "    return fat\n"
      ],
      "execution_count": null,
      "outputs": []
    }
  ]
}