{
  "nbformat": 4,
  "nbformat_minor": 0,
  "metadata": {
    "colab": {
      "name": "AulaPython_Parte1.ipynb",
      "provenance": [],
      "collapsed_sections": [],
      "include_colab_link": true
    },
    "kernelspec": {
      "name": "python3",
      "display_name": "Python 3"
    },
    "language_info": {
      "name": "python"
    }
  },
  "cells": [
    {
      "cell_type": "markdown",
      "metadata": {
        "id": "view-in-github",
        "colab_type": "text"
      },
      "source": [
        "<a href=\"https://colab.research.google.com/github/lsaldini/PythonColab/blob/main/AulaPython_Parte1.ipynb\" target=\"_parent\"><img src=\"https://colab.research.google.com/assets/colab-badge.svg\" alt=\"Open In Colab\"/></a>"
      ]
    },
    {
      "cell_type": "code",
      "metadata": {
        "id": "a0ozaV1RECoD"
      },
      "source": [
        "2+5"
      ],
      "execution_count": null,
      "outputs": []
    },
    {
      "cell_type": "code",
      "metadata": {
        "id": "lL4SLFN2EugE"
      },
      "source": [
        "def converte_int():\n",
        "  while(True):\n",
        "    idade = input('Digite sua idade:')\n",
        "    if idade.isnumeric()==True:\n",
        "      break\n",
        "  return int(idade)"
      ],
      "execution_count": null,
      "outputs": []
    },
    {
      "cell_type": "code",
      "metadata": {
        "id": "gG6uaNLwOX1u"
      },
      "source": [
        "def fatorial(num):\n",
        "  fat = 1\n",
        "  for i in range(num):\n",
        "    fat = fat*(num-i)\n",
        "    print(i,num,fat)\n",
        "    return fat\n"
      ],
      "execution_count": null,
      "outputs": []
    }
  ]
}