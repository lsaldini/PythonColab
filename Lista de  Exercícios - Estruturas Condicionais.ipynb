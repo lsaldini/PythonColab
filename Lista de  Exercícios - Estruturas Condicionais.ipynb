{
 "cells": [
  {
   "cell_type": "markdown",
   "metadata": {},
   "source": [
    "# Exercício 1\n",
    "\n",
    "Faça um Programa que leia 2 números e em seguida pergunte ao usuário qual operação ele deseja realizar. O resultado da operação deve ser acompanhado de uma frase que diga se o número é:\n",
    "\n",
    "    a. par ou ímpar;\n",
    "    b. positivo ou negativo;\n",
    "    c. inteiro ou decimal."
   ]
  },
  {
   "cell_type": "code",
   "execution_count": 8,
   "metadata": {},
   "outputs": [
    {
     "name": "stdout",
     "output_type": "stream",
     "text": [
      "Entre com o primeiro número: 6\n",
      "Entre com o segundo número: 4\n"
     ]
    }
   ],
   "source": [
    "num1 = float(input('Entre com o primeiro número: '))\n",
    "num2 = float(input('Entre com o segundo número: ')) \n",
    "operacao = input('Qual operção você deseja fazer\\n1 - Soma\\n2 - Subtração\\n3 - Multiplicação\\n4 - Divisão\\nNúmero escolhido: ')\n",
    "\n",
    "if operacao == '1':\n",
    "    result = num1 + num2\n",
    "elif operacao == '2':\n",
    "    result = num1 - num2\n",
    "elif operacao == '3':\n",
    "    result = num1 * num2\n",
    "else:\n",
    "    result = num1/num2\n",
    "\n",
    "# Verifiando se o número é positivo ou negativo\n",
    "if result > 0:\n",
    "    positivo_negativo = 'positivo'\n",
    "else:\n",
    "    positivo_negativo = 'negativo'\n",
    "    \n",
    "# Verificando se é um númemro inteiro ou decimal\n",
    "if result % int(result) == 0:\n",
    "    inteiro_decimal = 'inteiro'\n",
    "else:\n",
    "    inteiro_decimal = 'decimal'\n",
    "    \n",
    "# Verificando se o número é par ou impar\n",
    "if inteiro_decimal == 'decimal':\n",
    "    par_impra = ''\n",
    "elif result % 2 == 0:\n",
    "    par_impra = 'par'\n",
    "else:\n",
    "    par_impra = 'impar'\n",
    "    \n",
    "# imprimindo os resultados\n",
    "if inteiro_decimal == 'decimal':\n",
    "    print('Resultado: ', result)\n",
    "    print('Número '+inteiro_decimal+' e '+positivo_negativo)\n",
    "\n",
    "else:\n",
    "    print('Resultado: ', result)\n",
    "    print('Número '+inteiro_decimal+', '+positivo_negativo+' e '+par_impra)"
   ]
  },
  {
   "cell_type": "markdown",
   "metadata": {},
   "source": [
    "# Exercício 2\n",
    "\n",
    "Faça um programa que faça 5 perguntas para uma pessoa sobre um crime. As perguntas são:\n",
    "\n",
    "    a. \"Telefonou para a vítima?\"\n",
    "    b. \"Esteve no local do crime?\"\n",
    "    c. \"Mora perto da vítima?\"\n",
    "    d. \"Devia para a vítima?\"\n",
    "    e. \"Já trabalhou com a vítima?\"\n",
    "    \n",
    "O programa deve no final emitir uma classificação sobre a participação da pessoa no crime. Se a pessoa responder positivamente a 2 questões ela deve ser classificada como \"Suspeita\", entre 3 e 4 como \"Cúmplice\" e 5 como \"Assassino\". Caso contrário, ele será classificado como \"Inocente\"."
   ]
  },
  {
   "cell_type": "code",
   "execution_count": 30,
   "metadata": {},
   "outputs": [
    {
     "name": "stdout",
     "output_type": "stream",
     "text": [
      "Para todas as perguntas a seguir, responda sim ou não\n",
      "=======================================================\n",
      "Telefonou para a vítima? sim\n",
      "Esteve no local do crime? não\n",
      "Esteve no local do crime?nao\n",
      "Devia para a vítima? sim\n",
      "Já trabalhou com a vítima? sim\n",
      "\n",
      "=======================================================\n",
      "Possível cúmplice!\n"
     ]
    }
   ],
   "source": [
    "print('Para todas as perguntas a seguir, responda sim ou não\\n=======================================================')\n",
    "\n",
    "lista_perguntas = [input(\"Telefonou para a vítima? \").upper(),input(\"Esteve no local do crime? \").upper(),\n",
    "                   input(\"Esteve no local do crime?\").upper(),input(\"Devia para a vítima? \").upper(),\n",
    "                   input(\"Já trabalhou com a vítima? \").upper()]\n",
    "print('\\n=======================================================')\n",
    "\n",
    "cont_sim = 0\n",
    "for item in lista_perguntas:\n",
    "    if item == 'SIM':\n",
    "        cont_sim += 1\n",
    "\n",
    "\n",
    "# Printando as respostas\n",
    "if cont_sim == 2:\n",
    "    print('Pessoa suspeita!')\n",
    "elif (cont_sim == 2) or (cont_sim == 3):\n",
    "    print('Possível cúmplice!')\n",
    "elif cont_sim == 5:\n",
    "    print('Pessoa culpada!')\n",
    "else:\n",
    "    print('Inocente')"
   ]
  },
  {
   "cell_type": "markdown",
   "metadata": {},
   "source": [
    "# Exercício 3\n",
    "\n",
    "Um posto está vendendo combustíveis com a seguinte tabela de descontos:\n",
    "\n",
    "    a. Álcool:\n",
    "        1. até 20 litros, desconto de 3% por litro\n",
    "        2. acima de 20 litros, desconto de 5% por litro\n",
    "    b. Gasolina:\n",
    "        1. até 20 litros, desconto de 4% por litro\n",
    "        2. acima de 20 litros, desconto de 6% por litro \n",
    "        \n",
    "Escreva um algoritmo que leia o número de litros vendidos, o tipo de combustível (codificado da seguinte forma: A-álcool, G-gasolina), calcule e imprima o valor a ser pago pelo cliente sabendo-se que o preço do litro da gasolina é 2.50 o preço do litro do álcool é 1.90."
   ]
  },
  {
   "cell_type": "code",
   "execution_count": 36,
   "metadata": {},
   "outputs": [
    {
     "name": "stdout",
     "output_type": "stream",
     "text": [
      "Quantos litros você deseja abastecer? 50\n",
      "Qual o combustível que você deseja?\n",
      "G - Gasolina\n",
      "A - Álcool\n",
      "Combustível escolhido: A\n",
      "\n",
      "O valor a ser pago é: R$  89.3\n"
     ]
    }
   ],
   "source": [
    "quantidade_litros = int(input('Quantos litros você deseja abastecer? ')) \n",
    "combustivel = input('Qual o combustível que você deseja?\\nG - Gasolina\\nA - Álcool\\nCombustível escolhido: ').upper()\n",
    "\n",
    "valor_G = 2.5\n",
    "valor_A = 1.9\n",
    "\n",
    "if combustivel == 'G':\n",
    "    valor = valor_G\n",
    "    desconto1 = 0.03\n",
    "    desconto2 = 0.05\n",
    "else:\n",
    "    valor = valor_A\n",
    "    desconto1 = 0.04\n",
    "    desconto2 = 0.06\n",
    "\n",
    "    \n",
    "if quantidade_litros > 20:\n",
    "    preco = quantidade_litros * valor * (1-desconto2)\n",
    "else:\n",
    "    preco = quantidade_litros * valor * (1-desconto1)\n",
    "    \n",
    "print('\\nO valor a ser pago é: R$ ',preco)"
   ]
  },
  {
   "cell_type": "markdown",
   "metadata": {},
   "source": [
    "# Exercício 4\n",
    "\n",
    "Uma fruteira está vendendo frutas com a seguinte tabela de preços: \n",
    "\n",
    "|    -    | Até 5 Kg       |  Acima de 5 Kg |\n",
    "|---------|----------------|----------------|\n",
    "|Morango  |  3,50 por Kg | 3,20 por Kg |\n",
    "|Maçã     |  2,80 por Kg | 2,50 por Kg |\n",
    "\n",
    "\n",
    "\n",
    "Obs.: Se o cliente comprar mais de 8 Kg em frutas ou o valor total da compra ultrapassar 25,00 reais, receberá ainda um desconto de 10\\% sobre este total. \n",
    "\n",
    "Escreva um algoritmo para ler a quantidade (em Kg) de morangos e a quantidade (em Kg) de maças adquiridas e escreva o valor a ser pago pelo cliente.Se o cliente comprar mais de 8 Kg em frutas ou o valor total da compra ultrapassar  25.00 reais, receberá ainda um desconto de 10\\% sobre este total. Escreva um algoritmo para ler a quantidade (em Kg) de morangos e a quantidade"
   ]
  },
  {
   "cell_type": "code",
   "execution_count": 37,
   "metadata": {},
   "outputs": [
    {
     "name": "stdout",
     "output_type": "stream",
     "text": [
      "Quantos Kg de morangos você deseja? 5.6\n",
      "Quantos Kg de maça você deseja? 4.5\n"
     ]
    }
   ],
   "source": [
    "quant_morangos = float(input('Quantos Kg de morangos você deseja? '))\n",
    "quant_macas = float(input('Quantos Kg de maça você deseja? '))\n",
    "\n",
    "preco1_morango = 3.5\n",
    "preco2_morango = 3.2\n",
    "preco1_maca = 2.8\n",
    "preco2_maca = 2.5\n",
    "\n",
    "peso_total = quant_macas + quant_morangos\n",
    "\n",
    "# Preço dos morango\n",
    "if quant_morangos > 5:\n",
    "    morangos = preco2_morango * quant_morangos\n",
    "else:\n",
    "    morangos = preco1_morango * quant_morangos\n",
    "\n",
    "# Preço das maças\n",
    "if quant_macas> 5:\n",
    "    macas = preco2_maca * quant_macas\n",
    "else:\n",
    "    macas = preco1_maca * quant_macas\n",
    "    \n",
    "# Preço final\n",
    "preco_final = morangos + macas\n",
    "\n",
    "if preco_final > 25 or peso_total >8:\n",
    "    print('Preço final: R$', preco_final*0.9)\n",
    "else:\n",
    "    print('Preço final: R$', preco_final)"
   ]
  },
  {
   "cell_type": "markdown",
   "metadata": {},
   "source": [
    "# Exercício 5\n",
    "\n",
    "O Hipermercado Guanabara está com uma promoção de carnes que é imperdível. Confira:\n",
    "\n",
    "\n",
    "|     -      | Até 5 Kg        | Acima de 5 Kg   | \n",
    "|------------|-----------------|-----------------|\n",
    "|File Bovino | 10,90 por Kg | 9,80 por Kg  | \n",
    "|Alcatra     | 15,90 por Kg | 13,80 por Kg | \n",
    "|Picanha     | 20,90 por Kg | 17,80 por Kg |\n",
    "\n",
    "\n",
    "Para atender a todos os clientes, cada cliente poderá levar apenas um dos tipos de carne da promoção, porém não há limites para a quantidade de carne por cliente. Se compra for feita no cartão Tabajara o cliente receberá ainda um desconto de 5% sobre o total da compra. Escreva um programa que peça o tipo e a quantidade de carne comprada pelo usuário e gere um cupom fiscal, contendo as informações da compra: tipo e quantidade de carne, preço total, tipo de pagamento, valor do desconto e valor a pagar.\n"
   ]
  },
  {
   "cell_type": "code",
   "execution_count": 50,
   "metadata": {},
   "outputs": [
    {
     "name": "stdout",
     "output_type": "stream",
     "text": [
      "Qual tipo de carne você deseja:\n",
      "1 - File Bovino\n",
      "2 - Alcatra\n",
      "3 - Picanha\n",
      "Carne escolhida: 1\n",
      "Quantos Kg dessa carne você deseja? 10\n",
      "Você possui cartão Tabajara (sim ou não)? sim\n",
      "\n",
      "\n",
      "============== Nota Fiscal ==============\n",
      "\n",
      "Supermercados Tabajara\n",
      "\n",
      "\n",
      "Picanha 10.0 Kg\n",
      "Preço: R$ 89.3\n",
      "Desconto: R$ 8.455\n",
      "\n",
      "\n",
      "==========================================\n"
     ]
    }
   ],
   "source": [
    "tipo_carne = float(input('Qual tipo de carne você deseja:\\n1 - File Bovino\\n2 - Alcatra\\n3 - Picanha\\nCarne escolhida: '))\n",
    "quant_carne = float(input('Quantos Kg dessa carne você deseja? '))\n",
    "cartao = input('Você possui cartão Tabajara (sim ou não)? ').upper()\n",
    "\n",
    "# Lista com os valores de cada produo de acordo com a tabela\n",
    "file = [10.9,9.8]\n",
    "alcatra = [15.9,13.8]\n",
    "picanha = [20.9,17.8]\n",
    "\n",
    "dicionario = {'1':'File Bovino',\n",
    "              '2':'Alcatra',\n",
    "              '3':'Picanha'}\n",
    "\n",
    "# Definindo o preço de acordo com a quantidade de carne\n",
    "if quant_carne > 5:\n",
    "    file = file[1]\n",
    "    alcatra = alcatra[1]\n",
    "    picanha = picanha[1]\n",
    "else:\n",
    "    file = file[0]\n",
    "    alcatra = alcatra[0]\n",
    "    picanha = picanha[0]\n",
    "\n",
    "# Calculando o preço de acordo com o tipo de carne\n",
    "if tipo_carne == '1':\n",
    "    tipo = dicionario['1']\n",
    "    preço = file*quant_carne\n",
    "elif tipo_carne == '2':\n",
    "    tipo = dicionario['2']\n",
    "    preço = alcatra*quant_carne    \n",
    "else:\n",
    "    tipo = dicionario['3']\n",
    "    preço = picanha*quant_carne\n",
    "\n",
    "  \n",
    "    \n",
    "if cartao == 'SIM':\n",
    "    preço = preço * 0.95\n",
    "    desconto = preço *0.05\n",
    "else:\n",
    "    desconto = 0\n",
    "\n",
    "print('\\n\\n============== Nota Fiscal ==============\\n')\n",
    "\n",
    "print('Supermercados Tabajara\\n\\n')\n",
    "print(tipo+' '+str(quant_carne)+' Kg')\n",
    "print('Preço: R$ '+str(preco))\n",
    "print('Desconto: R$ '+str(desconto))\n",
    "print('\\n\\n==========================================')"
   ]
  },
  {
   "cell_type": "markdown",
   "metadata": {},
   "source": [
    "# Exercício 6\n",
    "\n",
    "Faça um programa que lê as duas notas parciais obtidas por um aluno numa disciplina ao longo de um semestre, e calcule a sua média. A atribuição de conceitos obedece à tabela abaixo:\n",
    "\n",
    "|-                | Média de Aproveitamento Conceito|\n",
    "|-----------------|---|\n",
    "|Entre 9.0 e 10.0 | A | \n",
    "|Entre 7.5 e 9.0  | B |\n",
    "|Entre 6.0 e 7.5  | C |\n",
    "|Entre 4.0 e 6.0  | D | \n",
    "|Entre 4.0 e zero | E |\n",
    "\n",
    "\n",
    "O algoritmo deve mostrar na tela as notas, a média, o conceito correspondente e a mensagem “APROVADO” se o conceito for A, B ou C ou “REPROVADO” se o conceito for D ou E."
   ]
  },
  {
   "cell_type": "code",
   "execution_count": 51,
   "metadata": {},
   "outputs": [
    {
     "name": "stdout",
     "output_type": "stream",
     "text": [
      "Informe a primeira nota: 6.5\n",
      "Informe a segunda nota: 7.5\n",
      "Informe a terceira nota: 4.3\n",
      "Informe a quarta nota: 10\n"
     ]
    }
   ],
   "source": [
    "nota_1 = float(input('Informe a primeira nota: '))\n",
    "nota_2 = float(input('Informe a segunda nota: '))\n",
    "nota_3 = float(input('Informe a terceira nota: '))\n",
    "nota_4 = float(input('Informe a quarta nota: '))\n",
    "\n",
    "media = (nota_1+nota_2+nota_3+nota_4)/4\n",
    "\n",
    "if media < 4:\n",
    "    conceito = 'E'\n",
    "elif (media >= 4) and (media < 6):\n",
    "    conceito = 'D'\n",
    "elif (media >= 6) and (media < 7.5):\n",
    "    conceito = 'C'\n",
    "elif (media >= 7.5) and (media < 9):\n",
    "    conceito = 'B'\n",
    "else:\n",
    "    conceito = 'A'\n",
    "    \n",
    "print('Nota 1: ',nota_1)\n",
    "print('Nota 2: ',nota_2)\n",
    "print('Nota 3: ',nota_3)\n",
    "print('Nota 4: ',nota_4)\n",
    "\n",
    "print('Média final: ',media)\n",
    "print('Conceito: ',conceito)"
   ]
  },
  {
   "cell_type": "markdown",
   "metadata": {},
   "source": [
    "# Exercício 7\n",
    "\n",
    "Faça um Programa que peça os 3 lados de um triângulo. O programa deverá informar se os valores podem ser um triângulo. Indique, caso os lados formem um triângulo, se o mesmo é: equilátero, isósceles ou escaleno.\n",
    "\n",
    "Dicas:\n",
    "   - Três lados formam um triângulo quando a soma de quaisquer dois lados for maior que o terceiro;\n",
    "   - Triângulo Equilátero: três lados iguais;\n",
    "   - Triângulo Isósceles: quaisquer dois lados iguais;\n",
    "   - Triângulo Escaleno: três lados diferentes;"
   ]
  },
  {
   "cell_type": "code",
   "execution_count": 54,
   "metadata": {},
   "outputs": [
    {
     "name": "stdout",
     "output_type": "stream",
     "text": [
      "Qual o valor do primeiro lado: 10\n",
      "Qual o valor do segundo lado: 15\n",
      "Qual o valor do terceiro lado: 10\n"
     ]
    }
   ],
   "source": [
    "l1 = int(input('Qual o valor do primeiro lado: '))\n",
    "l2 = int(input('Qual o valor do segundo lado: '))\n",
    "l3 = int(input('Qual o valor do terceiro lado: '))\n",
    "\n",
    "if l1 > (l2 + l3) or l2 > (l1 + l3) or l3 > (l1 + l2):\n",
    "    print(\"Não pode ser um triangulo\")\n",
    "elif l1 == l2 == l3:\n",
    "    print(\"Equilatero\")\n",
    "elif l1 == l2 or l1 == l3 or l2 == l3:\n",
    "    print(\"Isósceles\")\n",
    "else:\n",
    "    print(\"Escaleno\")"
   ]
  },
  {
   "cell_type": "markdown",
   "metadata": {},
   "source": [
    "# Exercício 8\n",
    "\n",
    "Faça um programa que calcule as raízes de uma equação do segundo grau, na forma ax2 + bx + c. O programa deverá pedir os valores de a, b e c e fazer as consistências, informando ao usuário nas seguintes situações:\n",
    "\n",
    "\n",
    "Formula de Bhaskara:  $x =\\frac{-b\\mp\\sqrt{\\Delta}}{2a}$\n",
    "\n",
    "\n",
    "$\\Delta = b^2-4ac$\n",
    "\n",
    "    a. Se o usuário informar o valor de A igual a zero, a equação não é do segundo grau e o programa não deve fazer pedir os demais valores, sendo encerrado;\n",
    "    b. Se o delta calculado for negativo, a equação não possui raizes reais. Informe ao usuário e encerre o programa;\n",
    "    c. Se o delta calculado for igual a zero a equação possui apenas uma raiz real; informe-a ao usuário;\n",
    "    d. Se o delta for positivo, a equação possui duas raiz reais; informe-as ao usuário;"
   ]
  },
  {
   "cell_type": "code",
   "execution_count": 6,
   "metadata": {},
   "outputs": [
    {
     "name": "stdout",
     "output_type": "stream",
     "text": [
      "Qual o valor de a da equação de segundo grau? 1\n",
      "Qual o valor de b da equação de segundo grau? 2\n",
      "Qual o valor de c da equação de segundo grau? 3\n",
      "\n",
      "A equação não possui raizes reais!\n"
     ]
    }
   ],
   "source": [
    "import math\n",
    "a = float(input('Qual o valor de a da equação de segundo grau? '))\n",
    "\n",
    "if a == 0:\n",
    "    print('Valor inválido!')\n",
    "\n",
    "else:    \n",
    "    b = float(input('Qual o valor de b da equação de segundo grau? '))\n",
    "    c = float(input('Qual o valor de c da equação de segundo grau? '))\n",
    "    delta = ((b**2)-(4*a*c))\n",
    "    \n",
    "    \n",
    "    if delta < 0:\n",
    "        print('\\nA equação não possui raizes reais!')\n",
    "    elif delta == 0:\n",
    "        x = -b/(2*a)\n",
    "        print('A equação possui uma rai real igual a ',x)\n",
    "    else:\n",
    "        print('A equação possui duas raizes reais!')\n",
    "        print('x_1 = ',(-b+math.sqrt(delta))/(2*a))\n",
    "        print('x_2 = ',(-b-math.sqrt(delta))/(2*a))\n",
    "    "
   ]
  }
 ],
 "metadata": {
  "kernelspec": {
   "display_name": "Python 3",
   "language": "python",
   "name": "python3"
  },
  "language_info": {
   "codemirror_mode": {
    "name": "ipython",
    "version": 3
   },
   "file_extension": ".py",
   "mimetype": "text/x-python",
   "name": "python",
   "nbconvert_exporter": "python",
   "pygments_lexer": "ipython3",
   "version": "3.7.0"
  },
  "toc": {
   "base_numbering": 1,
   "nav_menu": {},
   "number_sections": true,
   "sideBar": true,
   "skip_h1_title": false,
   "title_cell": "Table of Contents",
   "title_sidebar": "Contents",
   "toc_cell": false,
   "toc_position": {},
   "toc_section_display": true,
   "toc_window_display": false
  }
 },
 "nbformat": 4,
 "nbformat_minor": 2
}
